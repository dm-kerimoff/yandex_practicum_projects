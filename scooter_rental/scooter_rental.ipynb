{
  "cells": [
    {
      "cell_type": "markdown",
      "id": "891a7d89",
      "metadata": {
        "toc": true,
        "id": "891a7d89"
      },
      "source": [
        "<h1>Содержание<span class=\"tocSkip\"></span></h1>\n",
        "<div class=\"toc\"><ul class=\"toc-item\"><li><span><a href=\"#Выполнение-проекта\" data-toc-modified-id=\"Выполнение-проекта-1\"><span class=\"toc-item-num\">1&nbsp;&nbsp;</span>Выполнение проекта</a></span></li><li><span><a href=\"#Изучение-общей-информации\" data-toc-modified-id=\"Изучение-общей-информации-2\"><span class=\"toc-item-num\">2&nbsp;&nbsp;</span>Изучение общей информации</a></span></li><li><span><a href=\"#Предобработка-данных\" data-toc-modified-id=\"Предобработка-данных-3\"><span class=\"toc-item-num\">3&nbsp;&nbsp;</span>Предобработка данных</a></span></li><li><span><a href=\"#Исследовательский-анализ-данных\" data-toc-modified-id=\"Исследовательский-анализ-данных-4\"><span class=\"toc-item-num\">4&nbsp;&nbsp;</span>Исследовательский анализ данных</a></span></li><li><span><a href=\"#Подсчёт-выручки\" data-toc-modified-id=\"Подсчёт-выручки-5\"><span class=\"toc-item-num\">5&nbsp;&nbsp;</span>Подсчёт выручки</a></span></li><li><span><a href=\"#Проверка-гипотез\" data-toc-modified-id=\"Проверка-гипотез-6\"><span class=\"toc-item-num\">6&nbsp;&nbsp;</span>Проверка гипотез</a></span><ul class=\"toc-item\"><li><span><a href=\"#I-гипотеза\" data-toc-modified-id=\"I-гипотеза-6.1\"><span class=\"toc-item-num\">6.1&nbsp;&nbsp;</span>I гипотеза</a></span></li><li><span><a href=\"#II-гипотеза\" data-toc-modified-id=\"II-гипотеза-6.2\"><span class=\"toc-item-num\">6.2&nbsp;&nbsp;</span>II гипотеза</a></span></li><li><span><a href=\"#III-гипотеза\" data-toc-modified-id=\"III-гипотеза-6.3\"><span class=\"toc-item-num\">6.3&nbsp;&nbsp;</span>III гипотеза</a></span></li><li><span><a href=\"#Задача\" data-toc-modified-id=\"Задача-6.4\"><span class=\"toc-item-num\">6.4&nbsp;&nbsp;</span>Задача</a></span></li></ul></li><li><span><a href=\"#Дополнительный-анализ:-Распределения\" data-toc-modified-id=\"Дополнительный-анализ:-Распределения-7\"><span class=\"toc-item-num\">7&nbsp;&nbsp;</span>Дополнительный анализ: Распределения</a></span><ul class=\"toc-item\"><li><span><a href=\"#Задача-№1:\" data-toc-modified-id=\"Задача-№1:-7.1\"><span class=\"toc-item-num\">7.1&nbsp;&nbsp;</span>Задача №1:</a></span></li><li><span><a href=\"#Задача-№2:\" data-toc-modified-id=\"Задача-№2:-7.2\"><span class=\"toc-item-num\">7.2&nbsp;&nbsp;</span>Задача №2:</a></span></li></ul></li><li><span><a href=\"#Общий-вывод\" data-toc-modified-id=\"Общий-вывод-8\"><span class=\"toc-item-num\">8&nbsp;&nbsp;</span>Общий вывод</a></span></li></ul></div>"
      ]
    },
    {
      "cell_type": "markdown",
      "id": "ef3edc02",
      "metadata": {
        "id": "ef3edc02"
      },
      "source": [
        "# Аналитика сервиса аренды самокатов GoFast"
      ]
    },
    {
      "cell_type": "markdown",
      "id": "f0b38f99",
      "metadata": {
        "id": "f0b38f99"
      },
      "source": [
        "Имеются данные о некоторых пользователях из нескольких городов, а также об их поездках. Необходимо проанализировать данные и проверить некоторые гипотезы, которые могут помочь бизнесу вырасти.\n",
        "Чтобы совершать поездки по городу, пользователи сервиса GoFast пользуются мобильным приложением. Сервисом можно пользоваться:\n",
        "1. Без подписки\n",
        "\n",
        "   - абонентская плата отсутствует;\n",
        "   - стоимость одной минуты поездки — 8 рублей;\n",
        "   - стоимость старта (начала поездки) — 50 рублей;\n",
        "   \n",
        "   \n",
        "2. С подпиской Ultra\n",
        "\n",
        "   - абонентская плата — 199 рублей в месяц;\n",
        "   - стоимость одной минуты поездки — 6 рублей;\n",
        "   - стоимость старта — бесплатно."
      ]
    },
    {
      "cell_type": "markdown",
      "id": "94e4ff0d",
      "metadata": {
        "id": "94e4ff0d"
      },
      "source": [
        "**ОПИСАНИЕ ДАННЫХ**"
      ]
    },
    {
      "cell_type": "markdown",
      "id": "02123a34",
      "metadata": {
        "id": "02123a34"
      },
      "source": [
        "**Пользователи — users_go.csv**\n",
        "\n",
        "- user_id — уникальный идентификатор пользователя\n",
        "- name — имя пользователя\n",
        "- age — возраст\n",
        "- city — город\n",
        "- subscription_type — тип подписки (free, ultra)\n",
        "\n",
        "**Поeздки — rides_go.csv**\n",
        "\n",
        "- user_id — уникальный идентификатор пользователя\n",
        "- distance — расстояние, которое пользователь проехал в текущей сессии (в метрах)\n",
        "- duration — продолжительность сессии (в минутах) — время с того момента, как пользователь нажал кнопку «Начать поездку» до момента, как он нажал кнопку «Завершить поездку»\n",
        "- date — дата совершения поездки\n",
        "\n",
        "**Подписки — subscriptions_go.csv**\n",
        "\n",
        "- subscription_type — тип подписки\n",
        "- minute_price — стоимость одной минуты поездки по данной подписке\n",
        "- start_ride_price — стоимость начала поездки\n",
        "- subscription_fee — стоимость ежемесячного платежа"
      ]
    },
    {
      "cell_type": "markdown",
      "id": "18b937cd",
      "metadata": {
        "id": "18b937cd"
      },
      "source": [
        "## Выполнение проекта"
      ]
    },
    {
      "cell_type": "markdown",
      "id": "93f309d8",
      "metadata": {
        "id": "93f309d8"
      },
      "source": [
        "- Шаг 1. Загрузка данных\n",
        "  - Считать CSV-файлы с данными с помощью библиотеки pandas и сохраните их в датафреймы;\n",
        "  - Вывести первые строки каждого набора данных;\n",
        "  - Изучить общую информацию о каждом датафрейме.\n",
        "- Шаг 2. Предобработка данных\n",
        "  - Привести столбец `date` к типу даты `pandas`;\n",
        "  - Создать новый столбец с номером месяца на основе столбца `date`;\n",
        "  - Проверить наличие пропущенных значений и дубликатов в датафреймах. Обработать их, если такие значения присутствуют.\n",
        "- Шаг 3. Исследовательский анализ данных\n",
        "  - Опиcать и визуализировать общую информацию о пользователях и поездках:\n",
        "    частота встречаемости городов, соотношение пользователей с подпиской и без подписки,возраст пользователей, расстояние, которое пользователь преодолел за одну поездку, продолжительность поездок.\n",
        "- Шаг 4. Объединение данных\n",
        "  - Объединить данные о пользователях, поездках и подписках в один датафрейм;\n",
        "  - Создать ещё два датафрейма c данными о пользователях без подписки и с данными о пользователях с подпиской;\n",
        "  - Визуализировать информацию о расстоянии и времени поездок для пользователей обеих категорий.\n",
        "- Шаг 5. Подсчёт выручки\n",
        "  - Создать датафрейм с агрегированными данными о поездках на основе датафрейма с объединёнными данными из шага 4: найти суммарное расстояние, количество поездок и суммарное время для каждого пользователя за каждый месяц. В этот же датафрейм добавить столбец с помесячной выручкой, которую принёс каждый пользователь.\n",
        "- Шаг 6. Проверка гипотез\n",
        "  - 1 гипотеза: \"Длительность поездок пользователей с подписками больше, чем у пользователей без подписки\";\n",
        "  - 2 гипотеза: \"Расстояние, которое проезжают пользователи с подпиской за одну поездку, не превышает 3130 метров\";\n",
        "  - 3 гипотеза: \"Помесячная выручка от пользователей с подпиской по месяцам выше, чем выручка от пользователей без подписки\"\n",
        "\n",
        "- Шаг 7. Распределения\n",
        "  - Задача №1: Нужно провести акцию с раздачей промокодов на один бесплатный месяц подписки, в рамках которой как минимум 100 существующих клиентов должны продлить эту подписку. То есть по завершении периода действия подписки пользователь может либо отказаться от неё, либо продлить, совершив соответствующий платёж. Эта акция уже проводилась ранее и по итогу выяснилось, что после бесплатного пробного периода подписку продлевают 10 % пользователей. Выясните, какое минимальное количество промокодов нужно разослать, чтобы вероятность не выполнить план была примерно 5 %. Подберите параметры распределения, описывающего эту ситуацию, постройте график распределения и сформулируйте ответ на вопрос о количестве промокодов.\n",
        "  \n",
        "  - Задача №2: Отдел маркетинга рассылает клиентам push-уведомления в мобильном приложении. Клиенты могут открыть его или не открывать. Известно, что уведомления открывают около 40 % получивших клиентов. Отдел планирует разослать 1 млн уведомлений. С помощью аппроксимации постройте примерный график распределения и оцените вероятность того, что уведомление откроют не более 399,5 тыс. пользователей."
      ]
    },
    {
      "cell_type": "markdown",
      "id": "178c9adc",
      "metadata": {
        "id": "178c9adc"
      },
      "source": [
        "## Изучение общей информации"
      ]
    },
    {
      "cell_type": "markdown",
      "id": "9afa02b4",
      "metadata": {
        "id": "9afa02b4"
      },
      "source": [
        "**ШАГ 1: Загрузка данных**"
      ]
    },
    {
      "cell_type": "code",
      "execution_count": null,
      "id": "652bfb91",
      "metadata": {
        "id": "652bfb91"
      },
      "outputs": [],
      "source": [
        "import pandas as pd\n",
        "import numpy as np\n",
        "import matplotlib.pyplot as plt\n",
        "from scipy import stats as st\n",
        "from scipy.stats import binom"
      ]
    },
    {
      "cell_type": "code",
      "execution_count": null,
      "id": "0c45a1cf",
      "metadata": {
        "id": "0c45a1cf"
      },
      "outputs": [],
      "source": [
        "# считаем csv-файлы и сохраним в датафреймы\n",
        "users_go = pd.read_csv('/datasets/users_go.csv')\n",
        "rides_go = pd.read_csv('/datasets/rides_go.csv')\n",
        "subscriptions_go = pd.read_csv('/datasets/subscriptions_go.csv')"
      ]
    },
    {
      "cell_type": "markdown",
      "id": "d145b6a8",
      "metadata": {
        "id": "d145b6a8"
      },
      "source": [
        "**Выведем для наглядности первые 10 строк датафреймов на экран**"
      ]
    },
    {
      "cell_type": "code",
      "execution_count": null,
      "id": "fc8e63e8",
      "metadata": {
        "id": "fc8e63e8",
        "outputId": "8202cf94-69c2-41e2-9c5d-65ad46aa5d7e"
      },
      "outputs": [
        {
          "data": {
            "text/html": [
              "<div>\n",
              "<style scoped>\n",
              "    .dataframe tbody tr th:only-of-type {\n",
              "        vertical-align: middle;\n",
              "    }\n",
              "\n",
              "    .dataframe tbody tr th {\n",
              "        vertical-align: top;\n",
              "    }\n",
              "\n",
              "    .dataframe thead th {\n",
              "        text-align: right;\n",
              "    }\n",
              "</style>\n",
              "<table border=\"1\" class=\"dataframe\">\n",
              "  <thead>\n",
              "    <tr style=\"text-align: right;\">\n",
              "      <th></th>\n",
              "      <th>user_id</th>\n",
              "      <th>name</th>\n",
              "      <th>age</th>\n",
              "      <th>city</th>\n",
              "      <th>subscription_type</th>\n",
              "    </tr>\n",
              "  </thead>\n",
              "  <tbody>\n",
              "    <tr>\n",
              "      <th>0</th>\n",
              "      <td>1</td>\n",
              "      <td>Кира</td>\n",
              "      <td>22</td>\n",
              "      <td>Тюмень</td>\n",
              "      <td>ultra</td>\n",
              "    </tr>\n",
              "    <tr>\n",
              "      <th>1</th>\n",
              "      <td>2</td>\n",
              "      <td>Станислав</td>\n",
              "      <td>31</td>\n",
              "      <td>Омск</td>\n",
              "      <td>ultra</td>\n",
              "    </tr>\n",
              "    <tr>\n",
              "      <th>2</th>\n",
              "      <td>3</td>\n",
              "      <td>Алексей</td>\n",
              "      <td>20</td>\n",
              "      <td>Москва</td>\n",
              "      <td>ultra</td>\n",
              "    </tr>\n",
              "    <tr>\n",
              "      <th>3</th>\n",
              "      <td>4</td>\n",
              "      <td>Константин</td>\n",
              "      <td>26</td>\n",
              "      <td>Ростов-на-Дону</td>\n",
              "      <td>ultra</td>\n",
              "    </tr>\n",
              "    <tr>\n",
              "      <th>4</th>\n",
              "      <td>5</td>\n",
              "      <td>Адель</td>\n",
              "      <td>28</td>\n",
              "      <td>Омск</td>\n",
              "      <td>ultra</td>\n",
              "    </tr>\n",
              "    <tr>\n",
              "      <th>5</th>\n",
              "      <td>6</td>\n",
              "      <td>Регина</td>\n",
              "      <td>25</td>\n",
              "      <td>Краснодар</td>\n",
              "      <td>ultra</td>\n",
              "    </tr>\n",
              "    <tr>\n",
              "      <th>6</th>\n",
              "      <td>7</td>\n",
              "      <td>Игорь</td>\n",
              "      <td>23</td>\n",
              "      <td>Омск</td>\n",
              "      <td>ultra</td>\n",
              "    </tr>\n",
              "    <tr>\n",
              "      <th>7</th>\n",
              "      <td>8</td>\n",
              "      <td>Юрий</td>\n",
              "      <td>23</td>\n",
              "      <td>Краснодар</td>\n",
              "      <td>ultra</td>\n",
              "    </tr>\n",
              "    <tr>\n",
              "      <th>8</th>\n",
              "      <td>9</td>\n",
              "      <td>Ян</td>\n",
              "      <td>21</td>\n",
              "      <td>Пятигорск</td>\n",
              "      <td>ultra</td>\n",
              "    </tr>\n",
              "    <tr>\n",
              "      <th>9</th>\n",
              "      <td>10</td>\n",
              "      <td>Валерий</td>\n",
              "      <td>18</td>\n",
              "      <td>Екатеринбург</td>\n",
              "      <td>ultra</td>\n",
              "    </tr>\n",
              "  </tbody>\n",
              "</table>\n",
              "</div>"
            ],
            "text/plain": [
              "   user_id        name  age            city subscription_type\n",
              "0        1        Кира   22          Тюмень             ultra\n",
              "1        2   Станислав   31            Омск             ultra\n",
              "2        3     Алексей   20          Москва             ultra\n",
              "3        4  Константин   26  Ростов-на-Дону             ultra\n",
              "4        5       Адель   28            Омск             ultra\n",
              "5        6      Регина   25       Краснодар             ultra\n",
              "6        7       Игорь   23            Омск             ultra\n",
              "7        8        Юрий   23       Краснодар             ultra\n",
              "8        9          Ян   21       Пятигорск             ultra\n",
              "9       10     Валерий   18    Екатеринбург             ultra"
            ]
          },
          "execution_count": 3,
          "metadata": {},
          "output_type": "execute_result"
        }
      ],
      "source": [
        "users_go.head(10)"
      ]
    },
    {
      "cell_type": "code",
      "execution_count": null,
      "id": "8324d7bb",
      "metadata": {
        "id": "8324d7bb",
        "outputId": "335fb56f-c6c4-4911-fd2e-451b355a388d"
      },
      "outputs": [
        {
          "data": {
            "text/html": [
              "<div>\n",
              "<style scoped>\n",
              "    .dataframe tbody tr th:only-of-type {\n",
              "        vertical-align: middle;\n",
              "    }\n",
              "\n",
              "    .dataframe tbody tr th {\n",
              "        vertical-align: top;\n",
              "    }\n",
              "\n",
              "    .dataframe thead th {\n",
              "        text-align: right;\n",
              "    }\n",
              "</style>\n",
              "<table border=\"1\" class=\"dataframe\">\n",
              "  <thead>\n",
              "    <tr style=\"text-align: right;\">\n",
              "      <th></th>\n",
              "      <th>user_id</th>\n",
              "      <th>distance</th>\n",
              "      <th>duration</th>\n",
              "      <th>date</th>\n",
              "    </tr>\n",
              "  </thead>\n",
              "  <tbody>\n",
              "    <tr>\n",
              "      <th>0</th>\n",
              "      <td>1</td>\n",
              "      <td>4409.919140</td>\n",
              "      <td>25.599769</td>\n",
              "      <td>2021-01-01</td>\n",
              "    </tr>\n",
              "    <tr>\n",
              "      <th>1</th>\n",
              "      <td>1</td>\n",
              "      <td>2617.592153</td>\n",
              "      <td>15.816871</td>\n",
              "      <td>2021-01-18</td>\n",
              "    </tr>\n",
              "    <tr>\n",
              "      <th>2</th>\n",
              "      <td>1</td>\n",
              "      <td>754.159807</td>\n",
              "      <td>6.232113</td>\n",
              "      <td>2021-04-20</td>\n",
              "    </tr>\n",
              "    <tr>\n",
              "      <th>3</th>\n",
              "      <td>1</td>\n",
              "      <td>2694.783254</td>\n",
              "      <td>18.511000</td>\n",
              "      <td>2021-08-11</td>\n",
              "    </tr>\n",
              "    <tr>\n",
              "      <th>4</th>\n",
              "      <td>1</td>\n",
              "      <td>4028.687306</td>\n",
              "      <td>26.265803</td>\n",
              "      <td>2021-08-28</td>\n",
              "    </tr>\n",
              "    <tr>\n",
              "      <th>5</th>\n",
              "      <td>1</td>\n",
              "      <td>2770.890808</td>\n",
              "      <td>16.650138</td>\n",
              "      <td>2021-10-09</td>\n",
              "    </tr>\n",
              "    <tr>\n",
              "      <th>6</th>\n",
              "      <td>1</td>\n",
              "      <td>3039.020292</td>\n",
              "      <td>14.927879</td>\n",
              "      <td>2021-10-19</td>\n",
              "    </tr>\n",
              "    <tr>\n",
              "      <th>7</th>\n",
              "      <td>1</td>\n",
              "      <td>2842.118050</td>\n",
              "      <td>23.117468</td>\n",
              "      <td>2021-11-06</td>\n",
              "    </tr>\n",
              "    <tr>\n",
              "      <th>8</th>\n",
              "      <td>1</td>\n",
              "      <td>3412.690668</td>\n",
              "      <td>15.238072</td>\n",
              "      <td>2021-11-14</td>\n",
              "    </tr>\n",
              "    <tr>\n",
              "      <th>9</th>\n",
              "      <td>1</td>\n",
              "      <td>748.690645</td>\n",
              "      <td>15.041884</td>\n",
              "      <td>2021-11-22</td>\n",
              "    </tr>\n",
              "  </tbody>\n",
              "</table>\n",
              "</div>"
            ],
            "text/plain": [
              "   user_id     distance   duration        date\n",
              "0        1  4409.919140  25.599769  2021-01-01\n",
              "1        1  2617.592153  15.816871  2021-01-18\n",
              "2        1   754.159807   6.232113  2021-04-20\n",
              "3        1  2694.783254  18.511000  2021-08-11\n",
              "4        1  4028.687306  26.265803  2021-08-28\n",
              "5        1  2770.890808  16.650138  2021-10-09\n",
              "6        1  3039.020292  14.927879  2021-10-19\n",
              "7        1  2842.118050  23.117468  2021-11-06\n",
              "8        1  3412.690668  15.238072  2021-11-14\n",
              "9        1   748.690645  15.041884  2021-11-22"
            ]
          },
          "execution_count": 4,
          "metadata": {},
          "output_type": "execute_result"
        }
      ],
      "source": [
        "rides_go.head(10)"
      ]
    },
    {
      "cell_type": "code",
      "execution_count": null,
      "id": "5c9853bc",
      "metadata": {
        "id": "5c9853bc",
        "outputId": "0c32d97b-d871-4dbf-bc43-4ad97eb3c9b1"
      },
      "outputs": [
        {
          "data": {
            "text/html": [
              "<div>\n",
              "<style scoped>\n",
              "    .dataframe tbody tr th:only-of-type {\n",
              "        vertical-align: middle;\n",
              "    }\n",
              "\n",
              "    .dataframe tbody tr th {\n",
              "        vertical-align: top;\n",
              "    }\n",
              "\n",
              "    .dataframe thead th {\n",
              "        text-align: right;\n",
              "    }\n",
              "</style>\n",
              "<table border=\"1\" class=\"dataframe\">\n",
              "  <thead>\n",
              "    <tr style=\"text-align: right;\">\n",
              "      <th></th>\n",
              "      <th>subscription_type</th>\n",
              "      <th>minute_price</th>\n",
              "      <th>start_ride_price</th>\n",
              "      <th>subscription_fee</th>\n",
              "    </tr>\n",
              "  </thead>\n",
              "  <tbody>\n",
              "    <tr>\n",
              "      <th>0</th>\n",
              "      <td>free</td>\n",
              "      <td>8</td>\n",
              "      <td>50</td>\n",
              "      <td>0</td>\n",
              "    </tr>\n",
              "    <tr>\n",
              "      <th>1</th>\n",
              "      <td>ultra</td>\n",
              "      <td>6</td>\n",
              "      <td>0</td>\n",
              "      <td>199</td>\n",
              "    </tr>\n",
              "  </tbody>\n",
              "</table>\n",
              "</div>"
            ],
            "text/plain": [
              "  subscription_type  minute_price  start_ride_price  subscription_fee\n",
              "0              free             8                50                 0\n",
              "1             ultra             6                 0               199"
            ]
          },
          "execution_count": 5,
          "metadata": {},
          "output_type": "execute_result"
        }
      ],
      "source": [
        "subscriptions_go.head()"
      ]
    },
    {
      "cell_type": "markdown",
      "id": "5f00ad0d",
      "metadata": {
        "id": "5f00ad0d"
      },
      "source": [
        "**Выведем основную информацию о датафрейме**"
      ]
    },
    {
      "cell_type": "code",
      "execution_count": null,
      "id": "782acc6c",
      "metadata": {
        "id": "782acc6c",
        "outputId": "46bc7ed0-6bcc-4460-9be7-1eed191029d1"
      },
      "outputs": [
        {
          "name": "stdout",
          "output_type": "stream",
          "text": [
            "<class 'pandas.core.frame.DataFrame'>\n",
            "RangeIndex: 1565 entries, 0 to 1564\n",
            "Data columns (total 5 columns):\n",
            " #   Column             Non-Null Count  Dtype \n",
            "---  ------             --------------  ----- \n",
            " 0   user_id            1565 non-null   int64 \n",
            " 1   name               1565 non-null   object\n",
            " 2   age                1565 non-null   int64 \n",
            " 3   city               1565 non-null   object\n",
            " 4   subscription_type  1565 non-null   object\n",
            "dtypes: int64(2), object(3)\n",
            "memory usage: 61.3+ KB\n"
          ]
        }
      ],
      "source": [
        "#просмотр общей информации о данных\n",
        "users_go.info()"
      ]
    },
    {
      "cell_type": "code",
      "execution_count": null,
      "id": "5f3be89b",
      "metadata": {
        "id": "5f3be89b",
        "outputId": "66d26234-f303-49ad-d9d6-c5c2d983e68d"
      },
      "outputs": [
        {
          "name": "stdout",
          "output_type": "stream",
          "text": [
            "<class 'pandas.core.frame.DataFrame'>\n",
            "RangeIndex: 18068 entries, 0 to 18067\n",
            "Data columns (total 4 columns):\n",
            " #   Column    Non-Null Count  Dtype  \n",
            "---  ------    --------------  -----  \n",
            " 0   user_id   18068 non-null  int64  \n",
            " 1   distance  18068 non-null  float64\n",
            " 2   duration  18068 non-null  float64\n",
            " 3   date      18068 non-null  object \n",
            "dtypes: float64(2), int64(1), object(1)\n",
            "memory usage: 564.8+ KB\n"
          ]
        }
      ],
      "source": [
        "#просмотр общей информации о данных\n",
        "rides_go.info()"
      ]
    },
    {
      "cell_type": "code",
      "execution_count": null,
      "id": "d27299ea",
      "metadata": {
        "id": "d27299ea",
        "outputId": "87edd4c5-92ae-4747-9110-afe4edbe18f4"
      },
      "outputs": [
        {
          "name": "stdout",
          "output_type": "stream",
          "text": [
            "<class 'pandas.core.frame.DataFrame'>\n",
            "RangeIndex: 2 entries, 0 to 1\n",
            "Data columns (total 4 columns):\n",
            " #   Column             Non-Null Count  Dtype \n",
            "---  ------             --------------  ----- \n",
            " 0   subscription_type  2 non-null      object\n",
            " 1   minute_price       2 non-null      int64 \n",
            " 2   start_ride_price   2 non-null      int64 \n",
            " 3   subscription_fee   2 non-null      int64 \n",
            "dtypes: int64(3), object(1)\n",
            "memory usage: 192.0+ bytes\n"
          ]
        }
      ],
      "source": [
        "#просмотр общей информации о данных\n",
        "subscriptions_go.info()"
      ]
    },
    {
      "cell_type": "markdown",
      "id": "b1528b74",
      "metadata": {
        "id": "b1528b74"
      },
      "source": [
        "**Выводы**\n",
        "\n",
        "- Были прочитаны csv файлы и сохранены в соответствующие датафреймы.\n",
        "- Столбец `date` в `rides_go` необходимо привести в тип `datetime64`"
      ]
    },
    {
      "cell_type": "markdown",
      "id": "acf85cd2",
      "metadata": {
        "id": "acf85cd2"
      },
      "source": [
        "## Предобработка данных"
      ]
    },
    {
      "cell_type": "markdown",
      "id": "c012b523",
      "metadata": {
        "id": "c012b523"
      },
      "source": [
        "**ШАГ 2: Предобработка данных**"
      ]
    },
    {
      "cell_type": "markdown",
      "id": "04f1bc9e",
      "metadata": {
        "id": "04f1bc9e"
      },
      "source": [
        "**Приведём столбец date к типу даты в `rides_go`**"
      ]
    },
    {
      "cell_type": "code",
      "execution_count": null,
      "id": "e347c14e",
      "metadata": {
        "id": "e347c14e"
      },
      "outputs": [],
      "source": [
        "rides_go['date'] = pd.to_datetime(rides_go['date'], format='%Y-%m-%d')"
      ]
    },
    {
      "cell_type": "code",
      "execution_count": null,
      "id": "f4026505",
      "metadata": {
        "id": "f4026505",
        "outputId": "ae3c3d37-3b8b-4d39-b048-656e40f5320b"
      },
      "outputs": [
        {
          "name": "stdout",
          "output_type": "stream",
          "text": [
            "<class 'pandas.core.frame.DataFrame'>\n",
            "RangeIndex: 18068 entries, 0 to 18067\n",
            "Data columns (total 4 columns):\n",
            " #   Column    Non-Null Count  Dtype         \n",
            "---  ------    --------------  -----         \n",
            " 0   user_id   18068 non-null  int64         \n",
            " 1   distance  18068 non-null  float64       \n",
            " 2   duration  18068 non-null  float64       \n",
            " 3   date      18068 non-null  datetime64[ns]\n",
            "dtypes: datetime64[ns](1), float64(2), int64(1)\n",
            "memory usage: 564.8 KB\n"
          ]
        }
      ],
      "source": [
        "# проверим,что изменилась дата\n",
        "rides_go.info()"
      ]
    },
    {
      "cell_type": "markdown",
      "id": "519c606d",
      "metadata": {
        "id": "519c606d"
      },
      "source": [
        "**Проверим, за какой период предоставлены данные**"
      ]
    },
    {
      "cell_type": "code",
      "execution_count": null,
      "id": "a37de8b2",
      "metadata": {
        "id": "a37de8b2",
        "outputId": "df8616c0-c974-4133-d2fc-c15515682ee5"
      },
      "outputs": [
        {
          "data": {
            "text/plain": [
              "array([2021])"
            ]
          },
          "execution_count": 11,
          "metadata": {},
          "output_type": "execute_result"
        }
      ],
      "source": [
        "rides_go['date'].dt.year.unique()"
      ]
    },
    {
      "cell_type": "markdown",
      "id": "fbcf7fc7",
      "metadata": {
        "id": "fbcf7fc7"
      },
      "source": [
        "**Создадим новый столбец с номером месяца на основе столбца `date`**"
      ]
    },
    {
      "cell_type": "code",
      "execution_count": null,
      "id": "c563e9a2",
      "metadata": {
        "id": "c563e9a2"
      },
      "outputs": [],
      "source": [
        "rides_go['month'] = rides_go['date'].dt.month"
      ]
    },
    {
      "cell_type": "markdown",
      "id": "e32f7fe7",
      "metadata": {
        "id": "e32f7fe7"
      },
      "source": [
        "**Рассмотрим пропуски в датафреймах**"
      ]
    },
    {
      "cell_type": "code",
      "execution_count": null,
      "id": "33860b2d",
      "metadata": {
        "id": "33860b2d",
        "outputId": "71a58507-d7b5-4c47-f0fc-335b5638b0c1"
      },
      "outputs": [
        {
          "data": {
            "text/plain": [
              "user_id              0\n",
              "name                 0\n",
              "age                  0\n",
              "city                 0\n",
              "subscription_type    0\n",
              "dtype: int64"
            ]
          },
          "execution_count": 13,
          "metadata": {},
          "output_type": "execute_result"
        }
      ],
      "source": [
        "# пропуски в столбцах датафрейма `users_go`\n",
        "users_go.isna().sum()"
      ]
    },
    {
      "cell_type": "code",
      "execution_count": null,
      "id": "7be7af55",
      "metadata": {
        "id": "7be7af55",
        "outputId": "ae150d65-33fd-441b-ce22-3cb0b4cd2d98"
      },
      "outputs": [
        {
          "data": {
            "text/plain": [
              "user_id     0\n",
              "distance    0\n",
              "duration    0\n",
              "date        0\n",
              "month       0\n",
              "dtype: int64"
            ]
          },
          "execution_count": 14,
          "metadata": {},
          "output_type": "execute_result"
        }
      ],
      "source": [
        "# пропуски в столбцах датафрейма `rides_go`\n",
        "rides_go.isna().sum()"
      ]
    },
    {
      "cell_type": "code",
      "execution_count": null,
      "id": "78e88ffd",
      "metadata": {
        "scrolled": true,
        "id": "78e88ffd",
        "outputId": "c9210e91-ecf3-40ef-ec8a-9c2980402747"
      },
      "outputs": [
        {
          "data": {
            "text/plain": [
              "subscription_type    0\n",
              "minute_price         0\n",
              "start_ride_price     0\n",
              "subscription_fee     0\n",
              "dtype: int64"
            ]
          },
          "execution_count": 15,
          "metadata": {},
          "output_type": "execute_result"
        }
      ],
      "source": [
        "# пропуски в столбцах датафрейма `subscriptions_go`\n",
        "subscriptions_go.isna().sum()"
      ]
    },
    {
      "cell_type": "markdown",
      "id": "10d56834",
      "metadata": {
        "id": "10d56834"
      },
      "source": [
        "**Рассмотрим дубликаты в датафреймах**"
      ]
    },
    {
      "cell_type": "code",
      "execution_count": null,
      "id": "0093f048",
      "metadata": {
        "id": "0093f048",
        "outputId": "47a41716-bd2e-44ad-b9d5-772816b631d6"
      },
      "outputs": [
        {
          "data": {
            "text/plain": [
              "31"
            ]
          },
          "execution_count": 16,
          "metadata": {},
          "output_type": "execute_result"
        }
      ],
      "source": [
        "users_go.duplicated().sum()"
      ]
    },
    {
      "cell_type": "code",
      "execution_count": null,
      "id": "d1f653c7",
      "metadata": {
        "id": "d1f653c7",
        "outputId": "4195bc05-5f88-4b00-8498-b1df62589b21"
      },
      "outputs": [
        {
          "data": {
            "text/plain": [
              "0"
            ]
          },
          "execution_count": 17,
          "metadata": {},
          "output_type": "execute_result"
        }
      ],
      "source": [
        "rides_go.duplicated().sum()"
      ]
    },
    {
      "cell_type": "code",
      "execution_count": null,
      "id": "ad3b4152",
      "metadata": {
        "id": "ad3b4152",
        "outputId": "82b49c58-7d45-4804-bb0a-077595c2759c"
      },
      "outputs": [
        {
          "data": {
            "text/plain": [
              "0"
            ]
          },
          "execution_count": 18,
          "metadata": {},
          "output_type": "execute_result"
        }
      ],
      "source": [
        "subscriptions_go.duplicated().sum()"
      ]
    },
    {
      "cell_type": "markdown",
      "id": "a0e07929",
      "metadata": {
        "id": "a0e07929"
      },
      "source": [
        "**В датафрейме `users_go` обнаружены дубликаты. Удалим строки с дубликатами**"
      ]
    },
    {
      "cell_type": "code",
      "execution_count": null,
      "id": "641d3c69",
      "metadata": {
        "id": "641d3c69"
      },
      "outputs": [],
      "source": [
        "users_go = users_go.drop_duplicates().reset_index(drop=True)"
      ]
    },
    {
      "cell_type": "code",
      "execution_count": null,
      "id": "5353ab6d",
      "metadata": {
        "id": "5353ab6d",
        "outputId": "e2df0a58-e231-4375-e889-aeb18ce4c66f"
      },
      "outputs": [
        {
          "data": {
            "text/plain": [
              "0"
            ]
          },
          "execution_count": 20,
          "metadata": {},
          "output_type": "execute_result"
        }
      ],
      "source": [
        "# проверим отсутствие пропусков\n",
        "users_go.duplicated().sum()"
      ]
    },
    {
      "cell_type": "markdown",
      "id": "10466034",
      "metadata": {
        "id": "10466034"
      },
      "source": [
        "**Выводы**\n",
        "- Пропущенных данных в столбцах отсутствуют\n",
        "- Были обнаружены и удалены дубликаты в датафрейме `users_go`\n",
        "- Был добавлен столбец `month` - номер месяца\n"
      ]
    },
    {
      "cell_type": "markdown",
      "id": "7aef7e17",
      "metadata": {
        "id": "7aef7e17"
      },
      "source": [
        "## Исследовательский анализ данных"
      ]
    },
    {
      "cell_type": "markdown",
      "id": "420c857e",
      "metadata": {
        "id": "420c857e"
      },
      "source": [
        "**ШАГ 3: Исследовательский анализ данных**"
      ]
    },
    {
      "cell_type": "markdown",
      "id": "c7c622b2",
      "metadata": {
        "id": "c7c622b2"
      },
      "source": [
        "Опишите и визуализируйте общую информацию о пользователях и поездках:\n",
        "- 3.1 частота встречаемости городов;\n",
        "- 3.2 соотношение пользователей с подпиской и без подписки;\n",
        "- 3.3 возраст пользователей;\n",
        "- 3.4 расстояние, которое пользователь преодолел за одну поездку;\n",
        "- 3.5 продолжительность поездок."
      ]
    },
    {
      "cell_type": "markdown",
      "id": "072dc231",
      "metadata": {
        "id": "072dc231"
      },
      "source": [
        "**Частота встречаемости городов**"
      ]
    },
    {
      "cell_type": "code",
      "execution_count": null,
      "id": "fad1a349",
      "metadata": {
        "scrolled": false,
        "id": "fad1a349",
        "outputId": "a22cd4aa-fe8e-427f-95c5-b1240249b177"
      },
      "outputs": [
        {
          "data": {
            "image/png": "[encoded data removed]",
            "text/plain": [
              "<Figure size 504x504 with 1 Axes>"
            ]
          },
          "metadata": {
            "needs_background": "light"
          },
          "output_type": "display_data"
        }
      ],
      "source": [
        "users_go['city'].value_counts().sort_values(ascending=False).plot.bar(rot=90,grid=True, figsize=(7,7), xlabel='Города', ylabel='Количество пользователей', title='Частота встречаемости городов');"
      ]
    },
    {
      "cell_type": "code",
      "execution_count": null,
      "id": "b588dd1c",
      "metadata": {
        "id": "b588dd1c",
        "outputId": "472994ad-1062-43cf-d9c0-b878dd2bd39d"
      },
      "outputs": [
        {
          "data": {
            "image/png": "[encoded data removed]",
            "text/plain": [
              "<Figure size 720x720 with 1 Axes>"
            ]
          },
          "metadata": {},
          "output_type": "display_data"
        }
      ],
      "source": [
        "users_go['city'].value_counts().plot(kind='pie', figsize=(10,10), fontsize = 12, autopct=\"%.2f%%\", title='Распределение пользователей по городам');"
      ]
    },
    {
      "cell_type": "code",
      "execution_count": null,
      "id": "31d8ee8b",
      "metadata": {
        "id": "31d8ee8b",
        "outputId": "760150c8-5212-4a3a-9e85-c7e3b0d5d8cd"
      },
      "outputs": [
        {
          "data": {
            "text/plain": [
              "Пятигорск         219\n",
              "Екатеринбург      204\n",
              "Ростов-на-Дону    198\n",
              "Краснодар         193\n",
              "Сочи              189\n",
              "Омск              183\n",
              "Тюмень            180\n",
              "Москва            168\n",
              "Name: city, dtype: int64"
            ]
          },
          "execution_count": 23,
          "metadata": {},
          "output_type": "execute_result"
        }
      ],
      "source": [
        "users_go['city'].value_counts()"
      ]
    },
    {
      "cell_type": "markdown",
      "id": "c9dd1d25",
      "metadata": {
        "id": "c9dd1d25"
      },
      "source": [
        "**Вывод**\n",
        "\n",
        "По столбчатой и круговой диаграммам видно, что наиболее встречающийся город - **Пятигорск**"
      ]
    },
    {
      "cell_type": "markdown",
      "id": "9b1edc70",
      "metadata": {
        "id": "9b1edc70"
      },
      "source": [
        "**Соотношение пользователей с подпиской и без подписки**"
      ]
    },
    {
      "cell_type": "code",
      "execution_count": null,
      "id": "090e800e",
      "metadata": {
        "id": "090e800e",
        "outputId": "fd4ce233-b7fb-46b2-9bb1-efb35bdfca6d"
      },
      "outputs": [
        {
          "data": {
            "text/plain": [
              "free     835\n",
              "ultra    699\n",
              "Name: subscription_type, dtype: int64"
            ]
          },
          "execution_count": 24,
          "metadata": {},
          "output_type": "execute_result"
        }
      ],
      "source": [
        "users_go['subscription_type'].value_counts()"
      ]
    },
    {
      "cell_type": "code",
      "execution_count": null,
      "id": "15dd195d",
      "metadata": {
        "id": "15dd195d",
        "outputId": "f4338507-1175-4733-a532-b7460872068a"
      },
      "outputs": [
        {
          "data": {
            "image/png": "[encoded data removed]",
            "text/plain": [
              "<Figure size 432x288 with 1 Axes>"
            ]
          },
          "metadata": {
            "needs_background": "light"
          },
          "output_type": "display_data"
        }
      ],
      "source": [
        "users_go['subscription_type'].hist();"
      ]
    },
    {
      "cell_type": "code",
      "execution_count": null,
      "id": "c37e5207",
      "metadata": {
        "id": "c37e5207",
        "outputId": "dd1fc8ec-6814-458a-df88-36e7a02b191e"
      },
      "outputs": [
        {
          "data": {
            "image/png": "[encoded data removed]",
            "text/plain": [
              "<Figure size 504x504 with 1 Axes>"
            ]
          },
          "metadata": {},
          "output_type": "display_data"
        }
      ],
      "source": [
        "users_go['subscription_type'].value_counts().plot(kind='pie', ylabel='Тип подписки', figsize=(7,7), fontsize = 14, autopct=\"%.2f%%\",\n",
        "                                                 title='Процентное отношение пользователей с платной подпиской и без');"
      ]
    },
    {
      "cell_type": "markdown",
      "id": "ba4dcb01",
      "metadata": {
        "id": "ba4dcb01"
      },
      "source": [
        "**Возраст пользователей**"
      ]
    },
    {
      "cell_type": "code",
      "execution_count": null,
      "id": "2f6c9d3f",
      "metadata": {
        "id": "2f6c9d3f",
        "outputId": "12039e41-153b-45b1-e991-906542f06cbf"
      },
      "outputs": [
        {
          "data": {
            "text/plain": [
              "12"
            ]
          },
          "execution_count": 27,
          "metadata": {},
          "output_type": "execute_result"
        }
      ],
      "source": [
        "users_go['age'].min()"
      ]
    },
    {
      "cell_type": "code",
      "execution_count": null,
      "id": "bbb93d7d",
      "metadata": {
        "id": "bbb93d7d",
        "outputId": "1043f31e-c433-4ea7-98eb-1edacc8f30e4"
      },
      "outputs": [
        {
          "data": {
            "text/plain": [
              "43"
            ]
          },
          "execution_count": 28,
          "metadata": {},
          "output_type": "execute_result"
        }
      ],
      "source": [
        "users_go['age'].max()"
      ]
    },
    {
      "cell_type": "code",
      "execution_count": null,
      "id": "27288a18",
      "metadata": {
        "id": "27288a18",
        "outputId": "a822cc60-697c-49cf-9908-7ef30bf44692"
      },
      "outputs": [
        {
          "data": {
            "text/plain": [
              "count    1534.000000\n",
              "mean       24.903520\n",
              "std         4.572367\n",
              "min        12.000000\n",
              "25%        22.000000\n",
              "50%        25.000000\n",
              "75%        28.000000\n",
              "max        43.000000\n",
              "Name: age, dtype: float64"
            ]
          },
          "execution_count": 29,
          "metadata": {},
          "output_type": "execute_result"
        }
      ],
      "source": [
        "users_go['age'].describe()"
      ]
    },
    {
      "cell_type": "code",
      "execution_count": null,
      "id": "6ab5a57a",
      "metadata": {
        "id": "6ab5a57a",
        "outputId": "05d83b6e-0f54-4250-993c-12be24bd55cf"
      },
      "outputs": [
        {
          "data": {
            "image/png": "[encoded data removed]",
            "text/plain": [
              "<Figure size 504x504 with 1 Axes>"
            ]
          },
          "metadata": {
            "needs_background": "light"
          },
          "output_type": "display_data"
        }
      ],
      "source": [
        "users_go['age'].plot(kind='hist', grid=True, figsize=(7,7),bins=20, title='Распределение пользователей по возрастам').set(\n",
        "xlabel='Возраст', ylabel='Число пользователей');"
      ]
    },
    {
      "cell_type": "markdown",
      "id": "f3b7e0d7",
      "metadata": {
        "id": "f3b7e0d7"
      },
      "source": [
        "**Вывод**\n",
        "\n",
        "- По гистограмме видно, что чаще всего пользователи сервиса в возрасте в пределах 20-30 лет\n",
        "- Самому младшему пользователю 12 лет, старшему - 43 года"
      ]
    },
    {
      "cell_type": "markdown",
      "id": "9472b121",
      "metadata": {
        "id": "9472b121"
      },
      "source": [
        "**Расстояние, которое пользователь преодолел за одну поездку**"
      ]
    },
    {
      "cell_type": "code",
      "execution_count": null,
      "id": "8cc27177",
      "metadata": {
        "id": "8cc27177",
        "outputId": "1d6f63ca-c7a3-4ca1-ee8c-f64b29bc0d25"
      },
      "outputs": [
        {
          "data": {
            "text/plain": [
              "count    18068.000000\n",
              "mean      3070.659976\n",
              "std       1116.831209\n",
              "min          0.855683\n",
              "25%       2543.226360\n",
              "50%       3133.609994\n",
              "75%       3776.222735\n",
              "max       7211.007745\n",
              "Name: distance, dtype: float64"
            ]
          },
          "execution_count": 31,
          "metadata": {},
          "output_type": "execute_result"
        }
      ],
      "source": [
        "rides_go['distance'].describe()"
      ]
    },
    {
      "cell_type": "code",
      "execution_count": null,
      "id": "caf54532",
      "metadata": {
        "id": "caf54532",
        "outputId": "aea79b46-72ba-49d6-cb0c-7ddd081ba824"
      },
      "outputs": [
        {
          "data": {
            "text/plain": [
              "16309    7211.007745\n",
              "16484    7066.003772\n",
              "15580    6908.491343\n",
              "17171    6760.940067\n",
              "17242    6724.932981\n",
              "            ...     \n",
              "7841        7.097072\n",
              "8658        6.784447\n",
              "13690       4.329506\n",
              "9541        2.570787\n",
              "11555       0.855683\n",
              "Name: distance, Length: 18068, dtype: float64"
            ]
          },
          "execution_count": 32,
          "metadata": {},
          "output_type": "execute_result"
        }
      ],
      "source": [
        "rides_go['distance'].sort_values(ascending=False)"
      ]
    },
    {
      "cell_type": "code",
      "execution_count": null,
      "id": "16da4a03",
      "metadata": {
        "scrolled": false,
        "id": "16da4a03",
        "outputId": "6850f169-57a8-458a-9cfa-b8c3a20e86e4"
      },
      "outputs": [
        {
          "data": {
            "image/png": "[encoded data removed]",
            "text/plain": [
              "<Figure size 504x504 with 1 Axes>"
            ]
          },
          "metadata": {
            "needs_background": "light"
          },
          "output_type": "display_data"
        }
      ],
      "source": [
        "rides_go.boxplot('distance', grid=True, figsize=(7,7), vert=False).set(xlabel='Дистанция',title='Распределение дистанции');"
      ]
    },
    {
      "cell_type": "markdown",
      "id": "4d56299d",
      "metadata": {
        "id": "4d56299d"
      },
      "source": [
        "**Выводы**\n",
        "\n",
        "- Медианное значение расстояния за одну поездку - чуть более 3 км\n",
        "- Самая короткий путь за одну поездку составляет 0.85м, а самый длинный - более 7км."
      ]
    },
    {
      "cell_type": "code",
      "execution_count": null,
      "id": "bdb956b0",
      "metadata": {
        "id": "bdb956b0",
        "outputId": "df9db3f7-8d32-4c0e-daff-d9e23f1b7b08"
      },
      "outputs": [
        {
          "data": {
            "image/png": "[encoded data removed]",
            "text/plain": [
              "<Figure size 504x504 with 1 Axes>"
            ]
          },
          "metadata": {
            "needs_background": "light"
          },
          "output_type": "display_data"
        }
      ],
      "source": [
        "rides_go['distance'].plot(kind='hist', bins=20, grid=True, figsize=(7,7)).set(xlabel='Дистанция', ylabel='Количество поездок', title='Распределение количества поездок по дистанции');"
      ]
    },
    {
      "cell_type": "markdown",
      "id": "c8e8f10f",
      "metadata": {
        "id": "c8e8f10f"
      },
      "source": [
        "**Продолжительность поездки**"
      ]
    },
    {
      "cell_type": "code",
      "execution_count": null,
      "id": "eab24287",
      "metadata": {
        "id": "eab24287",
        "outputId": "c5cffe34-9bb5-41b4-88aa-b58c55734709"
      },
      "outputs": [
        {
          "data": {
            "image/png": "[encoded data removed]",
            "text/plain": [
              "<Figure size 504x504 with 1 Axes>"
            ]
          },
          "metadata": {
            "needs_background": "light"
          },
          "output_type": "display_data"
        }
      ],
      "source": [
        "rides_go['duration'].plot(kind='hist', grid='True', figsize=(7,7), bins=100, title='Продолжительность поездки').set(\n",
        "xlabel='Продолжительность поездки(мин)', ylabel='Количество поездок');"
      ]
    },
    {
      "cell_type": "markdown",
      "id": "05a33fad",
      "metadata": {
        "id": "05a33fad"
      },
      "source": [
        "**Выводы**\n",
        "\n",
        "Отметим, что видна аномалия значений около 0. Рассмотрим их подробнее"
      ]
    },
    {
      "cell_type": "code",
      "execution_count": null,
      "id": "d823b599",
      "metadata": {
        "scrolled": true,
        "id": "d823b599",
        "outputId": "10461500-003c-4bfa-c934-56024cf1f3e8"
      },
      "outputs": [
        {
          "data": {
            "text/html": [
              "<div>\n",
              "<style scoped>\n",
              "    .dataframe tbody tr th:only-of-type {\n",
              "        vertical-align: middle;\n",
              "    }\n",
              "\n",
              "    .dataframe tbody tr th {\n",
              "        vertical-align: top;\n",
              "    }\n",
              "\n",
              "    .dataframe thead th {\n",
              "        text-align: right;\n",
              "    }\n",
              "</style>\n",
              "<table border=\"1\" class=\"dataframe\">\n",
              "  <thead>\n",
              "    <tr style=\"text-align: right;\">\n",
              "      <th></th>\n",
              "      <th>user_id</th>\n",
              "      <th>distance</th>\n",
              "      <th>duration</th>\n",
              "      <th>date</th>\n",
              "      <th>month</th>\n",
              "    </tr>\n",
              "  </thead>\n",
              "  <tbody>\n",
              "    <tr>\n",
              "      <th>6531</th>\n",
              "      <td>701</td>\n",
              "      <td>4196.445201</td>\n",
              "      <td>0.5</td>\n",
              "      <td>2021-08-31</td>\n",
              "      <td>8</td>\n",
              "    </tr>\n",
              "    <tr>\n",
              "      <th>6570</th>\n",
              "      <td>704</td>\n",
              "      <td>4830.824371</td>\n",
              "      <td>0.5</td>\n",
              "      <td>2021-10-14</td>\n",
              "      <td>10</td>\n",
              "    </tr>\n",
              "    <tr>\n",
              "      <th>6680</th>\n",
              "      <td>712</td>\n",
              "      <td>4684.004397</td>\n",
              "      <td>0.5</td>\n",
              "      <td>2021-03-04</td>\n",
              "      <td>3</td>\n",
              "    </tr>\n",
              "    <tr>\n",
              "      <th>6695</th>\n",
              "      <td>713</td>\n",
              "      <td>5215.642710</td>\n",
              "      <td>0.5</td>\n",
              "      <td>2021-02-25</td>\n",
              "      <td>2</td>\n",
              "    </tr>\n",
              "    <tr>\n",
              "      <th>6768</th>\n",
              "      <td>718</td>\n",
              "      <td>5197.436649</td>\n",
              "      <td>0.5</td>\n",
              "      <td>2021-02-11</td>\n",
              "      <td>2</td>\n",
              "    </tr>\n",
              "    <tr>\n",
              "      <th>...</th>\n",
              "      <td>...</td>\n",
              "      <td>...</td>\n",
              "      <td>...</td>\n",
              "      <td>...</td>\n",
              "      <td>...</td>\n",
              "    </tr>\n",
              "    <tr>\n",
              "      <th>17004</th>\n",
              "      <td>1460</td>\n",
              "      <td>5531.335845</td>\n",
              "      <td>0.5</td>\n",
              "      <td>2021-01-19</td>\n",
              "      <td>1</td>\n",
              "    </tr>\n",
              "    <tr>\n",
              "      <th>17242</th>\n",
              "      <td>1477</td>\n",
              "      <td>6724.932981</td>\n",
              "      <td>0.5</td>\n",
              "      <td>2021-01-12</td>\n",
              "      <td>1</td>\n",
              "    </tr>\n",
              "    <tr>\n",
              "      <th>17314</th>\n",
              "      <td>1483</td>\n",
              "      <td>4445.481070</td>\n",
              "      <td>0.5</td>\n",
              "      <td>2021-03-06</td>\n",
              "      <td>3</td>\n",
              "    </tr>\n",
              "    <tr>\n",
              "      <th>17505</th>\n",
              "      <td>1496</td>\n",
              "      <td>5722.551787</td>\n",
              "      <td>0.5</td>\n",
              "      <td>2021-02-14</td>\n",
              "      <td>2</td>\n",
              "    </tr>\n",
              "    <tr>\n",
              "      <th>17909</th>\n",
              "      <td>1524</td>\n",
              "      <td>4103.998874</td>\n",
              "      <td>0.5</td>\n",
              "      <td>2021-06-18</td>\n",
              "      <td>6</td>\n",
              "    </tr>\n",
              "  </tbody>\n",
              "</table>\n",
              "<p>95 rows × 5 columns</p>\n",
              "</div>"
            ],
            "text/plain": [
              "       user_id     distance  duration       date  month\n",
              "6531       701  4196.445201       0.5 2021-08-31      8\n",
              "6570       704  4830.824371       0.5 2021-10-14     10\n",
              "6680       712  4684.004397       0.5 2021-03-04      3\n",
              "6695       713  5215.642710       0.5 2021-02-25      2\n",
              "6768       718  5197.436649       0.5 2021-02-11      2\n",
              "...        ...          ...       ...        ...    ...\n",
              "17004     1460  5531.335845       0.5 2021-01-19      1\n",
              "17242     1477  6724.932981       0.5 2021-01-12      1\n",
              "17314     1483  4445.481070       0.5 2021-03-06      3\n",
              "17505     1496  5722.551787       0.5 2021-02-14      2\n",
              "17909     1524  4103.998874       0.5 2021-06-18      6\n",
              "\n",
              "[95 rows x 5 columns]"
            ]
          },
          "execution_count": 36,
          "metadata": {},
          "output_type": "execute_result"
        }
      ],
      "source": [
        "rides_go.query('duration < 1')"
      ]
    },
    {
      "cell_type": "markdown",
      "id": "9ad509be",
      "metadata": {
        "id": "9ad509be"
      },
      "source": [
        "**Выводы**\n",
        "\n",
        "Стоит отметить, что эти строки представляют аномальные значения, т.к проехать 4-5 км за 0,5 минуты невозможно. Удалим эти строки"
      ]
    },
    {
      "cell_type": "code",
      "execution_count": null,
      "id": "7673b8f7",
      "metadata": {
        "id": "7673b8f7"
      },
      "outputs": [],
      "source": [
        "rides_go = rides_go.drop(rides_go.query('duration < 1').index).reset_index(drop=True)"
      ]
    },
    {
      "cell_type": "markdown",
      "id": "adcece6e",
      "metadata": {
        "id": "adcece6e"
      },
      "source": [
        "**Самые короткие поездки и самые длительные поездки**"
      ]
    },
    {
      "cell_type": "code",
      "execution_count": null,
      "id": "9aef13f4",
      "metadata": {
        "id": "9aef13f4",
        "outputId": "40e8442f-64c0-4fe7-8c2d-7d214f17072b"
      },
      "outputs": [
        {
          "data": {
            "text/plain": [
              "17.896480405340395"
            ]
          },
          "execution_count": 38,
          "metadata": {},
          "output_type": "execute_result"
        }
      ],
      "source": [
        "# среднее значение\n",
        "rides_go['duration'].mean()"
      ]
    },
    {
      "cell_type": "markdown",
      "id": "1eb90f33",
      "metadata": {
        "id": "1eb90f33"
      },
      "source": [
        "**Выводы**\n",
        "\n",
        "- Самая короткая поездка составляет 0.5 минут, самая длинная - чуть более 40 минут;\n",
        "- Средняя длительность поездки составляет около 17 минут"
      ]
    },
    {
      "cell_type": "markdown",
      "id": "cb6a918d",
      "metadata": {
        "id": "cb6a918d"
      },
      "source": [
        "**ОБЩИЕ ВЫВОДЫ**"
      ]
    },
    {
      "cell_type": "markdown",
      "id": "6c99efa5",
      "metadata": {
        "id": "6c99efa5"
      },
      "source": [
        "**Частота встречаемости городов**\n",
        "\n",
        "- Доля пользователей сопоставима одинакова по каждому городу, но больше всего пользователей зафиксировано в Пятигорске, меньше всего - в Москве.\n",
        "\n",
        "**Соотношение пользователей с подпиской и без подписки**\n",
        "\n",
        "- Пользователей без платной подписки - 835 человек(примерно 54% пользователей)\n",
        "- Доля пользователей с платной подпиской составляет примерно 46%.\n",
        "\n",
        "**Возраст пользователей**\n",
        "\n",
        "- Самыми младшими являются пользователи 12 лет, а самыми старшими - 43 лет.\n",
        "- В целом, основной контингент пользователей возраста 20-30 лет\n",
        "\n",
        "**Расстояние, которое пользователь преодолел за одну поездку**\n",
        "\n",
        "- Самая короткая дистанция - 0.85 км, а самая длинная - 7.2 км\n",
        "- В основном пользователи проезжают от 2.5 км до 4 км.\n",
        "\n",
        "**Продолжительность поездок**\n",
        "\n",
        "- Самые короткие поездки - 0.5 мин. Выглядят крайне странно, возможно пользователи просто передумали пользоваться самокатом. Либо же техническая неинсправность самого самоката.\n",
        "- Самая длинная поездка заняла порядка 40 минут.\n",
        "- В основном же длительность поездки составляет 12 - 20 минут."
      ]
    },
    {
      "cell_type": "markdown",
      "id": "a322c687",
      "metadata": {
        "id": "a322c687"
      },
      "source": [
        "**Шаг 4. Объединение данных**"
      ]
    },
    {
      "cell_type": "markdown",
      "id": "1878f4bc",
      "metadata": {
        "id": "1878f4bc"
      },
      "source": [
        "**Объединим данные о пользователях, поездках и подписках в один датафрейм. Для этого воспользуемся методом merge()**"
      ]
    },
    {
      "cell_type": "code",
      "execution_count": null,
      "id": "ed5ee6c8",
      "metadata": {
        "id": "ed5ee6c8",
        "outputId": "7843eff9-cc78-40b9-a832-e7200e39a46d"
      },
      "outputs": [
        {
          "data": {
            "text/html": [
              "<div>\n",
              "<style scoped>\n",
              "    .dataframe tbody tr th:only-of-type {\n",
              "        vertical-align: middle;\n",
              "    }\n",
              "\n",
              "    .dataframe tbody tr th {\n",
              "        vertical-align: top;\n",
              "    }\n",
              "\n",
              "    .dataframe thead th {\n",
              "        text-align: right;\n",
              "    }\n",
              "</style>\n",
              "<table border=\"1\" class=\"dataframe\">\n",
              "  <thead>\n",
              "    <tr style=\"text-align: right;\">\n",
              "      <th></th>\n",
              "      <th>user_id</th>\n",
              "      <th>name</th>\n",
              "      <th>age</th>\n",
              "      <th>city</th>\n",
              "      <th>subscription_type</th>\n",
              "      <th>distance</th>\n",
              "      <th>duration</th>\n",
              "      <th>date</th>\n",
              "      <th>month</th>\n",
              "      <th>minute_price</th>\n",
              "      <th>start_ride_price</th>\n",
              "      <th>subscription_fee</th>\n",
              "    </tr>\n",
              "  </thead>\n",
              "  <tbody>\n",
              "    <tr>\n",
              "      <th>0</th>\n",
              "      <td>1</td>\n",
              "      <td>Кира</td>\n",
              "      <td>22</td>\n",
              "      <td>Тюмень</td>\n",
              "      <td>ultra</td>\n",
              "      <td>4409.919140</td>\n",
              "      <td>25.599769</td>\n",
              "      <td>2021-01-01</td>\n",
              "      <td>1</td>\n",
              "      <td>6</td>\n",
              "      <td>0</td>\n",
              "      <td>199</td>\n",
              "    </tr>\n",
              "    <tr>\n",
              "      <th>1</th>\n",
              "      <td>1</td>\n",
              "      <td>Кира</td>\n",
              "      <td>22</td>\n",
              "      <td>Тюмень</td>\n",
              "      <td>ultra</td>\n",
              "      <td>2617.592153</td>\n",
              "      <td>15.816871</td>\n",
              "      <td>2021-01-18</td>\n",
              "      <td>1</td>\n",
              "      <td>6</td>\n",
              "      <td>0</td>\n",
              "      <td>199</td>\n",
              "    </tr>\n",
              "    <tr>\n",
              "      <th>2</th>\n",
              "      <td>1</td>\n",
              "      <td>Кира</td>\n",
              "      <td>22</td>\n",
              "      <td>Тюмень</td>\n",
              "      <td>ultra</td>\n",
              "      <td>754.159807</td>\n",
              "      <td>6.232113</td>\n",
              "      <td>2021-04-20</td>\n",
              "      <td>4</td>\n",
              "      <td>6</td>\n",
              "      <td>0</td>\n",
              "      <td>199</td>\n",
              "    </tr>\n",
              "    <tr>\n",
              "      <th>3</th>\n",
              "      <td>1</td>\n",
              "      <td>Кира</td>\n",
              "      <td>22</td>\n",
              "      <td>Тюмень</td>\n",
              "      <td>ultra</td>\n",
              "      <td>2694.783254</td>\n",
              "      <td>18.511000</td>\n",
              "      <td>2021-08-11</td>\n",
              "      <td>8</td>\n",
              "      <td>6</td>\n",
              "      <td>0</td>\n",
              "      <td>199</td>\n",
              "    </tr>\n",
              "    <tr>\n",
              "      <th>4</th>\n",
              "      <td>1</td>\n",
              "      <td>Кира</td>\n",
              "      <td>22</td>\n",
              "      <td>Тюмень</td>\n",
              "      <td>ultra</td>\n",
              "      <td>4028.687306</td>\n",
              "      <td>26.265803</td>\n",
              "      <td>2021-08-28</td>\n",
              "      <td>8</td>\n",
              "      <td>6</td>\n",
              "      <td>0</td>\n",
              "      <td>199</td>\n",
              "    </tr>\n",
              "    <tr>\n",
              "      <th>...</th>\n",
              "      <td>...</td>\n",
              "      <td>...</td>\n",
              "      <td>...</td>\n",
              "      <td>...</td>\n",
              "      <td>...</td>\n",
              "      <td>...</td>\n",
              "      <td>...</td>\n",
              "      <td>...</td>\n",
              "      <td>...</td>\n",
              "      <td>...</td>\n",
              "      <td>...</td>\n",
              "      <td>...</td>\n",
              "    </tr>\n",
              "    <tr>\n",
              "      <th>17968</th>\n",
              "      <td>1534</td>\n",
              "      <td>Альберт</td>\n",
              "      <td>25</td>\n",
              "      <td>Краснодар</td>\n",
              "      <td>free</td>\n",
              "      <td>3781.098080</td>\n",
              "      <td>19.822962</td>\n",
              "      <td>2021-11-04</td>\n",
              "      <td>11</td>\n",
              "      <td>8</td>\n",
              "      <td>50</td>\n",
              "      <td>0</td>\n",
              "    </tr>\n",
              "    <tr>\n",
              "      <th>17969</th>\n",
              "      <td>1534</td>\n",
              "      <td>Альберт</td>\n",
              "      <td>25</td>\n",
              "      <td>Краснодар</td>\n",
              "      <td>free</td>\n",
              "      <td>2840.423057</td>\n",
              "      <td>21.409799</td>\n",
              "      <td>2021-11-16</td>\n",
              "      <td>11</td>\n",
              "      <td>8</td>\n",
              "      <td>50</td>\n",
              "      <td>0</td>\n",
              "    </tr>\n",
              "    <tr>\n",
              "      <th>17970</th>\n",
              "      <td>1534</td>\n",
              "      <td>Альберт</td>\n",
              "      <td>25</td>\n",
              "      <td>Краснодар</td>\n",
              "      <td>free</td>\n",
              "      <td>3826.185507</td>\n",
              "      <td>18.435051</td>\n",
              "      <td>2021-11-18</td>\n",
              "      <td>11</td>\n",
              "      <td>8</td>\n",
              "      <td>50</td>\n",
              "      <td>0</td>\n",
              "    </tr>\n",
              "    <tr>\n",
              "      <th>17971</th>\n",
              "      <td>1534</td>\n",
              "      <td>Альберт</td>\n",
              "      <td>25</td>\n",
              "      <td>Краснодар</td>\n",
              "      <td>free</td>\n",
              "      <td>2902.308661</td>\n",
              "      <td>16.674362</td>\n",
              "      <td>2021-11-27</td>\n",
              "      <td>11</td>\n",
              "      <td>8</td>\n",
              "      <td>50</td>\n",
              "      <td>0</td>\n",
              "    </tr>\n",
              "    <tr>\n",
              "      <th>17972</th>\n",
              "      <td>1534</td>\n",
              "      <td>Альберт</td>\n",
              "      <td>25</td>\n",
              "      <td>Краснодар</td>\n",
              "      <td>free</td>\n",
              "      <td>2371.711192</td>\n",
              "      <td>15.893917</td>\n",
              "      <td>2021-12-29</td>\n",
              "      <td>12</td>\n",
              "      <td>8</td>\n",
              "      <td>50</td>\n",
              "      <td>0</td>\n",
              "    </tr>\n",
              "  </tbody>\n",
              "</table>\n",
              "<p>17973 rows × 12 columns</p>\n",
              "</div>"
            ],
            "text/plain": [
              "       user_id     name  age       city subscription_type     distance  \\\n",
              "0            1     Кира   22     Тюмень             ultra  4409.919140   \n",
              "1            1     Кира   22     Тюмень             ultra  2617.592153   \n",
              "2            1     Кира   22     Тюмень             ultra   754.159807   \n",
              "3            1     Кира   22     Тюмень             ultra  2694.783254   \n",
              "4            1     Кира   22     Тюмень             ultra  4028.687306   \n",
              "...        ...      ...  ...        ...               ...          ...   \n",
              "17968     1534  Альберт   25  Краснодар              free  3781.098080   \n",
              "17969     1534  Альберт   25  Краснодар              free  2840.423057   \n",
              "17970     1534  Альберт   25  Краснодар              free  3826.185507   \n",
              "17971     1534  Альберт   25  Краснодар              free  2902.308661   \n",
              "17972     1534  Альберт   25  Краснодар              free  2371.711192   \n",
              "\n",
              "        duration       date  month  minute_price  start_ride_price  \\\n",
              "0      25.599769 2021-01-01      1             6                 0   \n",
              "1      15.816871 2021-01-18      1             6                 0   \n",
              "2       6.232113 2021-04-20      4             6                 0   \n",
              "3      18.511000 2021-08-11      8             6                 0   \n",
              "4      26.265803 2021-08-28      8             6                 0   \n",
              "...          ...        ...    ...           ...               ...   \n",
              "17968  19.822962 2021-11-04     11             8                50   \n",
              "17969  21.409799 2021-11-16     11             8                50   \n",
              "17970  18.435051 2021-11-18     11             8                50   \n",
              "17971  16.674362 2021-11-27     11             8                50   \n",
              "17972  15.893917 2021-12-29     12             8                50   \n",
              "\n",
              "       subscription_fee  \n",
              "0                   199  \n",
              "1                   199  \n",
              "2                   199  \n",
              "3                   199  \n",
              "4                   199  \n",
              "...                 ...  \n",
              "17968                 0  \n",
              "17969                 0  \n",
              "17970                 0  \n",
              "17971                 0  \n",
              "17972                 0  \n",
              "\n",
              "[17973 rows x 12 columns]"
            ]
          },
          "execution_count": 39,
          "metadata": {},
          "output_type": "execute_result"
        }
      ],
      "source": [
        "df = users_go.merge(rides_go, on='user_id')\n",
        "df = df.merge(subscriptions_go, on='subscription_type')\n",
        "df"
      ]
    },
    {
      "cell_type": "code",
      "execution_count": null,
      "id": "8ca8dd7d",
      "metadata": {
        "id": "8ca8dd7d",
        "outputId": "7587d73b-956b-44a5-affe-2ebec36d9e6c"
      },
      "outputs": [
        {
          "data": {
            "text/html": [
              "<div>\n",
              "<style scoped>\n",
              "    .dataframe tbody tr th:only-of-type {\n",
              "        vertical-align: middle;\n",
              "    }\n",
              "\n",
              "    .dataframe tbody tr th {\n",
              "        vertical-align: top;\n",
              "    }\n",
              "\n",
              "    .dataframe thead th {\n",
              "        text-align: right;\n",
              "    }\n",
              "</style>\n",
              "<table border=\"1\" class=\"dataframe\">\n",
              "  <thead>\n",
              "    <tr style=\"text-align: right;\">\n",
              "      <th></th>\n",
              "      <th>user_id</th>\n",
              "      <th>name</th>\n",
              "      <th>age</th>\n",
              "      <th>city</th>\n",
              "      <th>subscription_type</th>\n",
              "      <th>distance</th>\n",
              "      <th>duration</th>\n",
              "      <th>date</th>\n",
              "      <th>month</th>\n",
              "      <th>minute_price</th>\n",
              "      <th>start_ride_price</th>\n",
              "      <th>subscription_fee</th>\n",
              "    </tr>\n",
              "  </thead>\n",
              "  <tbody>\n",
              "    <tr>\n",
              "      <th>0</th>\n",
              "      <td>1</td>\n",
              "      <td>Кира</td>\n",
              "      <td>22</td>\n",
              "      <td>Тюмень</td>\n",
              "      <td>ultra</td>\n",
              "      <td>4409.919140</td>\n",
              "      <td>25.599769</td>\n",
              "      <td>2021-01-01</td>\n",
              "      <td>1</td>\n",
              "      <td>6</td>\n",
              "      <td>0</td>\n",
              "      <td>199</td>\n",
              "    </tr>\n",
              "    <tr>\n",
              "      <th>1</th>\n",
              "      <td>1</td>\n",
              "      <td>Кира</td>\n",
              "      <td>22</td>\n",
              "      <td>Тюмень</td>\n",
              "      <td>ultra</td>\n",
              "      <td>2617.592153</td>\n",
              "      <td>15.816871</td>\n",
              "      <td>2021-01-18</td>\n",
              "      <td>1</td>\n",
              "      <td>6</td>\n",
              "      <td>0</td>\n",
              "      <td>199</td>\n",
              "    </tr>\n",
              "    <tr>\n",
              "      <th>2</th>\n",
              "      <td>1</td>\n",
              "      <td>Кира</td>\n",
              "      <td>22</td>\n",
              "      <td>Тюмень</td>\n",
              "      <td>ultra</td>\n",
              "      <td>754.159807</td>\n",
              "      <td>6.232113</td>\n",
              "      <td>2021-04-20</td>\n",
              "      <td>4</td>\n",
              "      <td>6</td>\n",
              "      <td>0</td>\n",
              "      <td>199</td>\n",
              "    </tr>\n",
              "    <tr>\n",
              "      <th>3</th>\n",
              "      <td>1</td>\n",
              "      <td>Кира</td>\n",
              "      <td>22</td>\n",
              "      <td>Тюмень</td>\n",
              "      <td>ultra</td>\n",
              "      <td>2694.783254</td>\n",
              "      <td>18.511000</td>\n",
              "      <td>2021-08-11</td>\n",
              "      <td>8</td>\n",
              "      <td>6</td>\n",
              "      <td>0</td>\n",
              "      <td>199</td>\n",
              "    </tr>\n",
              "    <tr>\n",
              "      <th>4</th>\n",
              "      <td>1</td>\n",
              "      <td>Кира</td>\n",
              "      <td>22</td>\n",
              "      <td>Тюмень</td>\n",
              "      <td>ultra</td>\n",
              "      <td>4028.687306</td>\n",
              "      <td>26.265803</td>\n",
              "      <td>2021-08-28</td>\n",
              "      <td>8</td>\n",
              "      <td>6</td>\n",
              "      <td>0</td>\n",
              "      <td>199</td>\n",
              "    </tr>\n",
              "    <tr>\n",
              "      <th>...</th>\n",
              "      <td>...</td>\n",
              "      <td>...</td>\n",
              "      <td>...</td>\n",
              "      <td>...</td>\n",
              "      <td>...</td>\n",
              "      <td>...</td>\n",
              "      <td>...</td>\n",
              "      <td>...</td>\n",
              "      <td>...</td>\n",
              "      <td>...</td>\n",
              "      <td>...</td>\n",
              "      <td>...</td>\n",
              "    </tr>\n",
              "    <tr>\n",
              "      <th>6495</th>\n",
              "      <td>699</td>\n",
              "      <td>Оксана</td>\n",
              "      <td>22</td>\n",
              "      <td>Москва</td>\n",
              "      <td>ultra</td>\n",
              "      <td>3973.046497</td>\n",
              "      <td>24.671163</td>\n",
              "      <td>2021-08-29</td>\n",
              "      <td>8</td>\n",
              "      <td>6</td>\n",
              "      <td>0</td>\n",
              "      <td>199</td>\n",
              "    </tr>\n",
              "    <tr>\n",
              "      <th>6496</th>\n",
              "      <td>699</td>\n",
              "      <td>Оксана</td>\n",
              "      <td>22</td>\n",
              "      <td>Москва</td>\n",
              "      <td>ultra</td>\n",
              "      <td>3288.702563</td>\n",
              "      <td>15.892886</td>\n",
              "      <td>2021-09-12</td>\n",
              "      <td>9</td>\n",
              "      <td>6</td>\n",
              "      <td>0</td>\n",
              "      <td>199</td>\n",
              "    </tr>\n",
              "    <tr>\n",
              "      <th>6497</th>\n",
              "      <td>699</td>\n",
              "      <td>Оксана</td>\n",
              "      <td>22</td>\n",
              "      <td>Москва</td>\n",
              "      <td>ultra</td>\n",
              "      <td>3076.159348</td>\n",
              "      <td>14.389525</td>\n",
              "      <td>2021-09-26</td>\n",
              "      <td>9</td>\n",
              "      <td>6</td>\n",
              "      <td>0</td>\n",
              "      <td>199</td>\n",
              "    </tr>\n",
              "    <tr>\n",
              "      <th>6498</th>\n",
              "      <td>699</td>\n",
              "      <td>Оксана</td>\n",
              "      <td>22</td>\n",
              "      <td>Москва</td>\n",
              "      <td>ultra</td>\n",
              "      <td>4707.845501</td>\n",
              "      <td>15.839579</td>\n",
              "      <td>2021-10-17</td>\n",
              "      <td>10</td>\n",
              "      <td>6</td>\n",
              "      <td>0</td>\n",
              "      <td>199</td>\n",
              "    </tr>\n",
              "    <tr>\n",
              "      <th>6499</th>\n",
              "      <td>699</td>\n",
              "      <td>Оксана</td>\n",
              "      <td>22</td>\n",
              "      <td>Москва</td>\n",
              "      <td>ultra</td>\n",
              "      <td>3202.890770</td>\n",
              "      <td>25.217345</td>\n",
              "      <td>2021-12-03</td>\n",
              "      <td>12</td>\n",
              "      <td>6</td>\n",
              "      <td>0</td>\n",
              "      <td>199</td>\n",
              "    </tr>\n",
              "  </tbody>\n",
              "</table>\n",
              "<p>6500 rows × 12 columns</p>\n",
              "</div>"
            ],
            "text/plain": [
              "      user_id    name  age    city subscription_type     distance   duration  \\\n",
              "0           1    Кира   22  Тюмень             ultra  4409.919140  25.599769   \n",
              "1           1    Кира   22  Тюмень             ultra  2617.592153  15.816871   \n",
              "2           1    Кира   22  Тюмень             ultra   754.159807   6.232113   \n",
              "3           1    Кира   22  Тюмень             ultra  2694.783254  18.511000   \n",
              "4           1    Кира   22  Тюмень             ultra  4028.687306  26.265803   \n",
              "...       ...     ...  ...     ...               ...          ...        ...   \n",
              "6495      699  Оксана   22  Москва             ultra  3973.046497  24.671163   \n",
              "6496      699  Оксана   22  Москва             ultra  3288.702563  15.892886   \n",
              "6497      699  Оксана   22  Москва             ultra  3076.159348  14.389525   \n",
              "6498      699  Оксана   22  Москва             ultra  4707.845501  15.839579   \n",
              "6499      699  Оксана   22  Москва             ultra  3202.890770  25.217345   \n",
              "\n",
              "           date  month  minute_price  start_ride_price  subscription_fee  \n",
              "0    2021-01-01      1             6                 0               199  \n",
              "1    2021-01-18      1             6                 0               199  \n",
              "2    2021-04-20      4             6                 0               199  \n",
              "3    2021-08-11      8             6                 0               199  \n",
              "4    2021-08-28      8             6                 0               199  \n",
              "...         ...    ...           ...               ...               ...  \n",
              "6495 2021-08-29      8             6                 0               199  \n",
              "6496 2021-09-12      9             6                 0               199  \n",
              "6497 2021-09-26      9             6                 0               199  \n",
              "6498 2021-10-17     10             6                 0               199  \n",
              "6499 2021-12-03     12             6                 0               199  \n",
              "\n",
              "[6500 rows x 12 columns]"
            ]
          },
          "execution_count": 40,
          "metadata": {},
          "output_type": "execute_result"
        }
      ],
      "source": [
        "df.query('subscription_type == \"ultra\"')"
      ]
    },
    {
      "cell_type": "markdown",
      "id": "e5ac7418",
      "metadata": {
        "id": "e5ac7418"
      },
      "source": [
        "**Создадим ещё два датафрейма из датафрейма, созданного на предыдущем этапе: c данными о пользователях без подписки; с данными о пользователях с подпиской**"
      ]
    },
    {
      "cell_type": "code",
      "execution_count": null,
      "id": "bf95a3ae",
      "metadata": {
        "id": "bf95a3ae"
      },
      "outputs": [],
      "source": [
        "df_ultra = df.merge(df.query('subscription_type == \"ultra\"'))"
      ]
    },
    {
      "cell_type": "code",
      "execution_count": null,
      "id": "a5a9ed4a",
      "metadata": {
        "id": "a5a9ed4a",
        "outputId": "ea89efb1-a166-4943-9f27-5f920f5ddc29"
      },
      "outputs": [
        {
          "data": {
            "text/html": [
              "<div>\n",
              "<style scoped>\n",
              "    .dataframe tbody tr th:only-of-type {\n",
              "        vertical-align: middle;\n",
              "    }\n",
              "\n",
              "    .dataframe tbody tr th {\n",
              "        vertical-align: top;\n",
              "    }\n",
              "\n",
              "    .dataframe thead th {\n",
              "        text-align: right;\n",
              "    }\n",
              "</style>\n",
              "<table border=\"1\" class=\"dataframe\">\n",
              "  <thead>\n",
              "    <tr style=\"text-align: right;\">\n",
              "      <th></th>\n",
              "      <th>user_id</th>\n",
              "      <th>name</th>\n",
              "      <th>age</th>\n",
              "      <th>city</th>\n",
              "      <th>subscription_type</th>\n",
              "      <th>distance</th>\n",
              "      <th>duration</th>\n",
              "      <th>date</th>\n",
              "      <th>month</th>\n",
              "      <th>minute_price</th>\n",
              "      <th>start_ride_price</th>\n",
              "      <th>subscription_fee</th>\n",
              "    </tr>\n",
              "  </thead>\n",
              "  <tbody>\n",
              "    <tr>\n",
              "      <th>0</th>\n",
              "      <td>1</td>\n",
              "      <td>Кира</td>\n",
              "      <td>22</td>\n",
              "      <td>Тюмень</td>\n",
              "      <td>ultra</td>\n",
              "      <td>4409.919140</td>\n",
              "      <td>25.599769</td>\n",
              "      <td>2021-01-01</td>\n",
              "      <td>1</td>\n",
              "      <td>6</td>\n",
              "      <td>0</td>\n",
              "      <td>199</td>\n",
              "    </tr>\n",
              "    <tr>\n",
              "      <th>1</th>\n",
              "      <td>1</td>\n",
              "      <td>Кира</td>\n",
              "      <td>22</td>\n",
              "      <td>Тюмень</td>\n",
              "      <td>ultra</td>\n",
              "      <td>2617.592153</td>\n",
              "      <td>15.816871</td>\n",
              "      <td>2021-01-18</td>\n",
              "      <td>1</td>\n",
              "      <td>6</td>\n",
              "      <td>0</td>\n",
              "      <td>199</td>\n",
              "    </tr>\n",
              "    <tr>\n",
              "      <th>2</th>\n",
              "      <td>1</td>\n",
              "      <td>Кира</td>\n",
              "      <td>22</td>\n",
              "      <td>Тюмень</td>\n",
              "      <td>ultra</td>\n",
              "      <td>754.159807</td>\n",
              "      <td>6.232113</td>\n",
              "      <td>2021-04-20</td>\n",
              "      <td>4</td>\n",
              "      <td>6</td>\n",
              "      <td>0</td>\n",
              "      <td>199</td>\n",
              "    </tr>\n",
              "    <tr>\n",
              "      <th>3</th>\n",
              "      <td>1</td>\n",
              "      <td>Кира</td>\n",
              "      <td>22</td>\n",
              "      <td>Тюмень</td>\n",
              "      <td>ultra</td>\n",
              "      <td>2694.783254</td>\n",
              "      <td>18.511000</td>\n",
              "      <td>2021-08-11</td>\n",
              "      <td>8</td>\n",
              "      <td>6</td>\n",
              "      <td>0</td>\n",
              "      <td>199</td>\n",
              "    </tr>\n",
              "    <tr>\n",
              "      <th>4</th>\n",
              "      <td>1</td>\n",
              "      <td>Кира</td>\n",
              "      <td>22</td>\n",
              "      <td>Тюмень</td>\n",
              "      <td>ultra</td>\n",
              "      <td>4028.687306</td>\n",
              "      <td>26.265803</td>\n",
              "      <td>2021-08-28</td>\n",
              "      <td>8</td>\n",
              "      <td>6</td>\n",
              "      <td>0</td>\n",
              "      <td>199</td>\n",
              "    </tr>\n",
              "    <tr>\n",
              "      <th>...</th>\n",
              "      <td>...</td>\n",
              "      <td>...</td>\n",
              "      <td>...</td>\n",
              "      <td>...</td>\n",
              "      <td>...</td>\n",
              "      <td>...</td>\n",
              "      <td>...</td>\n",
              "      <td>...</td>\n",
              "      <td>...</td>\n",
              "      <td>...</td>\n",
              "      <td>...</td>\n",
              "      <td>...</td>\n",
              "    </tr>\n",
              "    <tr>\n",
              "      <th>6495</th>\n",
              "      <td>699</td>\n",
              "      <td>Оксана</td>\n",
              "      <td>22</td>\n",
              "      <td>Москва</td>\n",
              "      <td>ultra</td>\n",
              "      <td>3973.046497</td>\n",
              "      <td>24.671163</td>\n",
              "      <td>2021-08-29</td>\n",
              "      <td>8</td>\n",
              "      <td>6</td>\n",
              "      <td>0</td>\n",
              "      <td>199</td>\n",
              "    </tr>\n",
              "    <tr>\n",
              "      <th>6496</th>\n",
              "      <td>699</td>\n",
              "      <td>Оксана</td>\n",
              "      <td>22</td>\n",
              "      <td>Москва</td>\n",
              "      <td>ultra</td>\n",
              "      <td>3288.702563</td>\n",
              "      <td>15.892886</td>\n",
              "      <td>2021-09-12</td>\n",
              "      <td>9</td>\n",
              "      <td>6</td>\n",
              "      <td>0</td>\n",
              "      <td>199</td>\n",
              "    </tr>\n",
              "    <tr>\n",
              "      <th>6497</th>\n",
              "      <td>699</td>\n",
              "      <td>Оксана</td>\n",
              "      <td>22</td>\n",
              "      <td>Москва</td>\n",
              "      <td>ultra</td>\n",
              "      <td>3076.159348</td>\n",
              "      <td>14.389525</td>\n",
              "      <td>2021-09-26</td>\n",
              "      <td>9</td>\n",
              "      <td>6</td>\n",
              "      <td>0</td>\n",
              "      <td>199</td>\n",
              "    </tr>\n",
              "    <tr>\n",
              "      <th>6498</th>\n",
              "      <td>699</td>\n",
              "      <td>Оксана</td>\n",
              "      <td>22</td>\n",
              "      <td>Москва</td>\n",
              "      <td>ultra</td>\n",
              "      <td>4707.845501</td>\n",
              "      <td>15.839579</td>\n",
              "      <td>2021-10-17</td>\n",
              "      <td>10</td>\n",
              "      <td>6</td>\n",
              "      <td>0</td>\n",
              "      <td>199</td>\n",
              "    </tr>\n",
              "    <tr>\n",
              "      <th>6499</th>\n",
              "      <td>699</td>\n",
              "      <td>Оксана</td>\n",
              "      <td>22</td>\n",
              "      <td>Москва</td>\n",
              "      <td>ultra</td>\n",
              "      <td>3202.890770</td>\n",
              "      <td>25.217345</td>\n",
              "      <td>2021-12-03</td>\n",
              "      <td>12</td>\n",
              "      <td>6</td>\n",
              "      <td>0</td>\n",
              "      <td>199</td>\n",
              "    </tr>\n",
              "  </tbody>\n",
              "</table>\n",
              "<p>6500 rows × 12 columns</p>\n",
              "</div>"
            ],
            "text/plain": [
              "      user_id    name  age    city subscription_type     distance   duration  \\\n",
              "0           1    Кира   22  Тюмень             ultra  4409.919140  25.599769   \n",
              "1           1    Кира   22  Тюмень             ultra  2617.592153  15.816871   \n",
              "2           1    Кира   22  Тюмень             ultra   754.159807   6.232113   \n",
              "3           1    Кира   22  Тюмень             ultra  2694.783254  18.511000   \n",
              "4           1    Кира   22  Тюмень             ultra  4028.687306  26.265803   \n",
              "...       ...     ...  ...     ...               ...          ...        ...   \n",
              "6495      699  Оксана   22  Москва             ultra  3973.046497  24.671163   \n",
              "6496      699  Оксана   22  Москва             ultra  3288.702563  15.892886   \n",
              "6497      699  Оксана   22  Москва             ultra  3076.159348  14.389525   \n",
              "6498      699  Оксана   22  Москва             ultra  4707.845501  15.839579   \n",
              "6499      699  Оксана   22  Москва             ultra  3202.890770  25.217345   \n",
              "\n",
              "           date  month  minute_price  start_ride_price  subscription_fee  \n",
              "0    2021-01-01      1             6                 0               199  \n",
              "1    2021-01-18      1             6                 0               199  \n",
              "2    2021-04-20      4             6                 0               199  \n",
              "3    2021-08-11      8             6                 0               199  \n",
              "4    2021-08-28      8             6                 0               199  \n",
              "...         ...    ...           ...               ...               ...  \n",
              "6495 2021-08-29      8             6                 0               199  \n",
              "6496 2021-09-12      9             6                 0               199  \n",
              "6497 2021-09-26      9             6                 0               199  \n",
              "6498 2021-10-17     10             6                 0               199  \n",
              "6499 2021-12-03     12             6                 0               199  \n",
              "\n",
              "[6500 rows x 12 columns]"
            ]
          },
          "execution_count": 42,
          "metadata": {},
          "output_type": "execute_result"
        }
      ],
      "source": [
        "df_ultra"
      ]
    },
    {
      "cell_type": "code",
      "execution_count": null,
      "id": "36ad2275",
      "metadata": {
        "id": "36ad2275"
      },
      "outputs": [],
      "source": [
        "df_free = df.merge(df.query('subscription_type == \"free\"'))"
      ]
    },
    {
      "cell_type": "code",
      "execution_count": null,
      "id": "16ee11f8",
      "metadata": {
        "id": "16ee11f8",
        "outputId": "71a103f5-0010-4ee4-c863-951c79af56a2"
      },
      "outputs": [
        {
          "data": {
            "text/html": [
              "<div>\n",
              "<style scoped>\n",
              "    .dataframe tbody tr th:only-of-type {\n",
              "        vertical-align: middle;\n",
              "    }\n",
              "\n",
              "    .dataframe tbody tr th {\n",
              "        vertical-align: top;\n",
              "    }\n",
              "\n",
              "    .dataframe thead th {\n",
              "        text-align: right;\n",
              "    }\n",
              "</style>\n",
              "<table border=\"1\" class=\"dataframe\">\n",
              "  <thead>\n",
              "    <tr style=\"text-align: right;\">\n",
              "      <th></th>\n",
              "      <th>user_id</th>\n",
              "      <th>name</th>\n",
              "      <th>age</th>\n",
              "      <th>city</th>\n",
              "      <th>subscription_type</th>\n",
              "      <th>distance</th>\n",
              "      <th>duration</th>\n",
              "      <th>date</th>\n",
              "      <th>month</th>\n",
              "      <th>minute_price</th>\n",
              "      <th>start_ride_price</th>\n",
              "      <th>subscription_fee</th>\n",
              "    </tr>\n",
              "  </thead>\n",
              "  <tbody>\n",
              "    <tr>\n",
              "      <th>0</th>\n",
              "      <td>700</td>\n",
              "      <td>Айдар</td>\n",
              "      <td>22</td>\n",
              "      <td>Омск</td>\n",
              "      <td>free</td>\n",
              "      <td>2515.690719</td>\n",
              "      <td>14.944286</td>\n",
              "      <td>2021-01-02</td>\n",
              "      <td>1</td>\n",
              "      <td>8</td>\n",
              "      <td>50</td>\n",
              "      <td>0</td>\n",
              "    </tr>\n",
              "    <tr>\n",
              "      <th>1</th>\n",
              "      <td>700</td>\n",
              "      <td>Айдар</td>\n",
              "      <td>22</td>\n",
              "      <td>Омск</td>\n",
              "      <td>free</td>\n",
              "      <td>846.932642</td>\n",
              "      <td>16.234663</td>\n",
              "      <td>2021-02-01</td>\n",
              "      <td>2</td>\n",
              "      <td>8</td>\n",
              "      <td>50</td>\n",
              "      <td>0</td>\n",
              "    </tr>\n",
              "    <tr>\n",
              "      <th>2</th>\n",
              "      <td>700</td>\n",
              "      <td>Айдар</td>\n",
              "      <td>22</td>\n",
              "      <td>Омск</td>\n",
              "      <td>free</td>\n",
              "      <td>4004.434142</td>\n",
              "      <td>20.016628</td>\n",
              "      <td>2021-02-04</td>\n",
              "      <td>2</td>\n",
              "      <td>8</td>\n",
              "      <td>50</td>\n",
              "      <td>0</td>\n",
              "    </tr>\n",
              "    <tr>\n",
              "      <th>3</th>\n",
              "      <td>700</td>\n",
              "      <td>Айдар</td>\n",
              "      <td>22</td>\n",
              "      <td>Омск</td>\n",
              "      <td>free</td>\n",
              "      <td>1205.911290</td>\n",
              "      <td>9.782872</td>\n",
              "      <td>2021-02-10</td>\n",
              "      <td>2</td>\n",
              "      <td>8</td>\n",
              "      <td>50</td>\n",
              "      <td>0</td>\n",
              "    </tr>\n",
              "    <tr>\n",
              "      <th>4</th>\n",
              "      <td>700</td>\n",
              "      <td>Айдар</td>\n",
              "      <td>22</td>\n",
              "      <td>Омск</td>\n",
              "      <td>free</td>\n",
              "      <td>3047.379435</td>\n",
              "      <td>17.427673</td>\n",
              "      <td>2021-02-14</td>\n",
              "      <td>2</td>\n",
              "      <td>8</td>\n",
              "      <td>50</td>\n",
              "      <td>0</td>\n",
              "    </tr>\n",
              "    <tr>\n",
              "      <th>...</th>\n",
              "      <td>...</td>\n",
              "      <td>...</td>\n",
              "      <td>...</td>\n",
              "      <td>...</td>\n",
              "      <td>...</td>\n",
              "      <td>...</td>\n",
              "      <td>...</td>\n",
              "      <td>...</td>\n",
              "      <td>...</td>\n",
              "      <td>...</td>\n",
              "      <td>...</td>\n",
              "      <td>...</td>\n",
              "    </tr>\n",
              "    <tr>\n",
              "      <th>11468</th>\n",
              "      <td>1534</td>\n",
              "      <td>Альберт</td>\n",
              "      <td>25</td>\n",
              "      <td>Краснодар</td>\n",
              "      <td>free</td>\n",
              "      <td>3781.098080</td>\n",
              "      <td>19.822962</td>\n",
              "      <td>2021-11-04</td>\n",
              "      <td>11</td>\n",
              "      <td>8</td>\n",
              "      <td>50</td>\n",
              "      <td>0</td>\n",
              "    </tr>\n",
              "    <tr>\n",
              "      <th>11469</th>\n",
              "      <td>1534</td>\n",
              "      <td>Альберт</td>\n",
              "      <td>25</td>\n",
              "      <td>Краснодар</td>\n",
              "      <td>free</td>\n",
              "      <td>2840.423057</td>\n",
              "      <td>21.409799</td>\n",
              "      <td>2021-11-16</td>\n",
              "      <td>11</td>\n",
              "      <td>8</td>\n",
              "      <td>50</td>\n",
              "      <td>0</td>\n",
              "    </tr>\n",
              "    <tr>\n",
              "      <th>11470</th>\n",
              "      <td>1534</td>\n",
              "      <td>Альберт</td>\n",
              "      <td>25</td>\n",
              "      <td>Краснодар</td>\n",
              "      <td>free</td>\n",
              "      <td>3826.185507</td>\n",
              "      <td>18.435051</td>\n",
              "      <td>2021-11-18</td>\n",
              "      <td>11</td>\n",
              "      <td>8</td>\n",
              "      <td>50</td>\n",
              "      <td>0</td>\n",
              "    </tr>\n",
              "    <tr>\n",
              "      <th>11471</th>\n",
              "      <td>1534</td>\n",
              "      <td>Альберт</td>\n",
              "      <td>25</td>\n",
              "      <td>Краснодар</td>\n",
              "      <td>free</td>\n",
              "      <td>2902.308661</td>\n",
              "      <td>16.674362</td>\n",
              "      <td>2021-11-27</td>\n",
              "      <td>11</td>\n",
              "      <td>8</td>\n",
              "      <td>50</td>\n",
              "      <td>0</td>\n",
              "    </tr>\n",
              "    <tr>\n",
              "      <th>11472</th>\n",
              "      <td>1534</td>\n",
              "      <td>Альберт</td>\n",
              "      <td>25</td>\n",
              "      <td>Краснодар</td>\n",
              "      <td>free</td>\n",
              "      <td>2371.711192</td>\n",
              "      <td>15.893917</td>\n",
              "      <td>2021-12-29</td>\n",
              "      <td>12</td>\n",
              "      <td>8</td>\n",
              "      <td>50</td>\n",
              "      <td>0</td>\n",
              "    </tr>\n",
              "  </tbody>\n",
              "</table>\n",
              "<p>11473 rows × 12 columns</p>\n",
              "</div>"
            ],
            "text/plain": [
              "       user_id     name  age       city subscription_type     distance  \\\n",
              "0          700    Айдар   22       Омск              free  2515.690719   \n",
              "1          700    Айдар   22       Омск              free   846.932642   \n",
              "2          700    Айдар   22       Омск              free  4004.434142   \n",
              "3          700    Айдар   22       Омск              free  1205.911290   \n",
              "4          700    Айдар   22       Омск              free  3047.379435   \n",
              "...        ...      ...  ...        ...               ...          ...   \n",
              "11468     1534  Альберт   25  Краснодар              free  3781.098080   \n",
              "11469     1534  Альберт   25  Краснодар              free  2840.423057   \n",
              "11470     1534  Альберт   25  Краснодар              free  3826.185507   \n",
              "11471     1534  Альберт   25  Краснодар              free  2902.308661   \n",
              "11472     1534  Альберт   25  Краснодар              free  2371.711192   \n",
              "\n",
              "        duration       date  month  minute_price  start_ride_price  \\\n",
              "0      14.944286 2021-01-02      1             8                50   \n",
              "1      16.234663 2021-02-01      2             8                50   \n",
              "2      20.016628 2021-02-04      2             8                50   \n",
              "3       9.782872 2021-02-10      2             8                50   \n",
              "4      17.427673 2021-02-14      2             8                50   \n",
              "...          ...        ...    ...           ...               ...   \n",
              "11468  19.822962 2021-11-04     11             8                50   \n",
              "11469  21.409799 2021-11-16     11             8                50   \n",
              "11470  18.435051 2021-11-18     11             8                50   \n",
              "11471  16.674362 2021-11-27     11             8                50   \n",
              "11472  15.893917 2021-12-29     12             8                50   \n",
              "\n",
              "       subscription_fee  \n",
              "0                     0  \n",
              "1                     0  \n",
              "2                     0  \n",
              "3                     0  \n",
              "4                     0  \n",
              "...                 ...  \n",
              "11468                 0  \n",
              "11469                 0  \n",
              "11470                 0  \n",
              "11471                 0  \n",
              "11472                 0  \n",
              "\n",
              "[11473 rows x 12 columns]"
            ]
          },
          "execution_count": 44,
          "metadata": {},
          "output_type": "execute_result"
        }
      ],
      "source": [
        "df_free"
      ]
    },
    {
      "cell_type": "markdown",
      "id": "b8f10f05",
      "metadata": {
        "id": "b8f10f05"
      },
      "source": [
        "**Визуализируем информацию о расстоянии и времени поездок для пользователей платной подписки `ultra`**"
      ]
    },
    {
      "cell_type": "code",
      "execution_count": null,
      "id": "e3a86aa8",
      "metadata": {
        "id": "e3a86aa8",
        "outputId": "b3af276c-b406-4b1f-de58-e0616bd0726f"
      },
      "outputs": [
        {
          "data": {
            "image/png": "[encoded data removed]",
            "text/plain": [
              "<Figure size 504x504 with 1 Axes>"
            ]
          },
          "metadata": {
            "needs_background": "light"
          },
          "output_type": "display_data"
        }
      ],
      "source": [
        "df_ultra['distance'].plot(kind='hist', grid=True, figsize=(7,7), bins=30).set(\n",
        "xlabel='Расстояние',ylabel='Количество поездок', title='Распределение расстояния(с подпиской)');"
      ]
    },
    {
      "cell_type": "code",
      "execution_count": null,
      "id": "6ea848fb",
      "metadata": {
        "id": "6ea848fb",
        "outputId": "e730f4d6-9eea-4ba0-9328-55d6338bbdcf"
      },
      "outputs": [
        {
          "data": {
            "image/png": "[encoded data removed]",
            "text/plain": [
              "<Figure size 504x504 with 1 Axes>"
            ]
          },
          "metadata": {
            "needs_background": "light"
          },
          "output_type": "display_data"
        }
      ],
      "source": [
        "df_ultra['duration'].plot(kind='hist', grid=True, figsize=(7,7), bins=30).set(\n",
        "xlabel='Продолжительность поездки',ylabel='Количество поездок', title='Распределение длительности поездок(с подпиской)');"
      ]
    },
    {
      "cell_type": "markdown",
      "id": "c966903c",
      "metadata": {
        "id": "c966903c"
      },
      "source": [
        "**Визуализируем информацию о расстоянии и времени поездок для пользователей без подписки**"
      ]
    },
    {
      "cell_type": "code",
      "execution_count": null,
      "id": "3acfcc09",
      "metadata": {
        "id": "3acfcc09",
        "outputId": "b87cd9f4-65eb-4044-ceb8-30e5f03d1133"
      },
      "outputs": [
        {
          "data": {
            "image/png": "[encoded data removed]",
            "text/plain": [
              "<Figure size 504x504 with 1 Axes>"
            ]
          },
          "metadata": {
            "needs_background": "light"
          },
          "output_type": "display_data"
        }
      ],
      "source": [
        "df_free['distance'].plot(kind='hist', grid=True, figsize=(7,7), bins=30).set(\n",
        "xlabel='Расстояние',ylabel='Количество поездок', title='Распределение расстояния(без подписки)');"
      ]
    },
    {
      "cell_type": "code",
      "execution_count": null,
      "id": "eb6bc433",
      "metadata": {
        "id": "eb6bc433",
        "outputId": "3ee1feb1-1420-4688-90f7-b4f5d2465078"
      },
      "outputs": [
        {
          "data": {
            "image/png": "[encoded data removed]",
            "text/plain": [
              "<Figure size 504x504 with 1 Axes>"
            ]
          },
          "metadata": {
            "needs_background": "light"
          },
          "output_type": "display_data"
        }
      ],
      "source": [
        "df_free['duration'].plot(kind='hist', grid=True, figsize=(7,7), bins=30).set(\n",
        "xlabel='Продолжительность поездки',ylabel='Количество поездок', title='Распределение длительности поездок(без подписки)');"
      ]
    },
    {
      "cell_type": "markdown",
      "id": "32025604",
      "metadata": {
        "id": "32025604"
      },
      "source": [
        "**Покажем распределения количества поездок по дистанции для обеих групп пользователей, наложив их друг на друга**"
      ]
    },
    {
      "cell_type": "code",
      "execution_count": null,
      "id": "fb7b1d07",
      "metadata": {
        "id": "fb7b1d07",
        "outputId": "de607e8c-e631-4589-8d84-cbd082174b91"
      },
      "outputs": [
        {
          "data": {
            "image/png": "[encoded data removed]",
            "text/plain": [
              "<Figure size 432x288 with 1 Axes>"
            ]
          },
          "metadata": {
            "needs_background": "light"
          },
          "output_type": "display_data"
        }
      ],
      "source": [
        "plt.hist(df_free['distance'], bins=20, edgecolor='yellow', alpha=0.7, label='free')\n",
        "plt.hist(df_ultra['distance'], bins=20, edgecolor='red', alpha=0.7, label='ultra')\n",
        "plt.legend()\n",
        "plt.show()"
      ]
    },
    {
      "cell_type": "markdown",
      "id": "5f89c6df",
      "metadata": {
        "id": "5f89c6df"
      },
      "source": [
        "<div class=\"alert alert-block alert-warning\">\n",
        "<b>🔁Комментарий ревьюера 2:</b>\n",
        "\n",
        "Не забывай подписывать графики и оси.</div>"
      ]
    },
    {
      "cell_type": "markdown",
      "id": "41e4e5ae",
      "metadata": {
        "id": "41e4e5ae"
      },
      "source": [
        "**Покажем распределения количества поездок по длительности поездок для обеих групп пользователей, наложив их друг на друга**"
      ]
    },
    {
      "cell_type": "code",
      "execution_count": null,
      "id": "ab896595",
      "metadata": {
        "id": "ab896595",
        "outputId": "91aa5b1b-3660-4fde-a934-c548655596b9"
      },
      "outputs": [
        {
          "data": {
            "image/png": "[encoded data removed]",
            "text/plain": [
              "<Figure size 432x288 with 1 Axes>"
            ]
          },
          "metadata": {
            "needs_background": "light"
          },
          "output_type": "display_data"
        }
      ],
      "source": [
        "plt.hist(df_free['duration'], bins=20, edgecolor='yellow', alpha=0.7, label='free')\n",
        "plt.hist(df_ultra['duration'], bins=20, edgecolor='red', alpha=0.7, label='ultra')\n",
        "plt.legend()\n",
        "plt.show()"
      ]
    },
    {
      "cell_type": "markdown",
      "id": "9bd0bed2",
      "metadata": {
        "id": "9bd0bed2"
      },
      "source": [
        "**Выводы**\n",
        "\n",
        "Мы объединили данные о пользователях, поездках и тарифах в один датафрейм - df.\n",
        "\n",
        "Также получили отдельно 2 датафрейма из df:\n",
        "\n",
        "- df_free - пользователи с бесплатным тарифом\n",
        "- df_ultra - пользователи с платным тарифом\n",
        "\n",
        "Визуализировали информацию о расстоянии и времени для каждого из тарифов.\n",
        "\n",
        "- У пользователей без подписки время поездки составляет от 10 до 30 минут, они проезжают 2 - 5 км. Некоторые проезжают и большие расстояния\n",
        "\n",
        "- У пользователей по платному тарифу время поездки составляет от 15 до 25 минут, они проезжают примерно 2 - 4 км. В подавляющем большинстве - около 3 км.\n",
        "\n",
        "- Таким образом, можно сделать вывод, что пользователи с бесплатным тарифом и по подписке в целом совершают поездки с сопоставимыми длительностью поездок и расстоянием"
      ]
    },
    {
      "cell_type": "markdown",
      "id": "825169cc",
      "metadata": {
        "id": "825169cc"
      },
      "source": [
        "## Подсчёт выручки"
      ]
    },
    {
      "cell_type": "markdown",
      "id": "db5c982b",
      "metadata": {
        "id": "db5c982b"
      },
      "source": [
        "**Создадим датафрейм с агрегированными данными о поездках на основе датафрейма с объединёнными данными: найдём суммарное расстояние, количество поездок и суммарное время для каждого пользователя за каждый месяц**"
      ]
    },
    {
      "cell_type": "markdown",
      "id": "18faab26",
      "metadata": {
        "id": "18faab26"
      },
      "source": [
        "**Примечание**\n",
        "\n",
        "- Продолжительность каждой поездки в каждой строке исходного датафрейма для подсчёта стоимости округляется до следующего целого числа: например, значения 25.3, 25.5 и 26.0 должны быть преобразованы к 26."
      ]
    },
    {
      "cell_type": "code",
      "execution_count": null,
      "id": "0079785d",
      "metadata": {
        "id": "0079785d"
      },
      "outputs": [],
      "source": [
        "df['duration'] = np.ceil(df['duration'])"
      ]
    },
    {
      "cell_type": "code",
      "execution_count": null,
      "id": "358f1146",
      "metadata": {
        "id": "358f1146",
        "outputId": "403ce2dc-5454-49dd-cecd-bbfddd571bb3"
      },
      "outputs": [
        {
          "data": {
            "text/html": [
              "<div>\n",
              "<style scoped>\n",
              "    .dataframe tbody tr th:only-of-type {\n",
              "        vertical-align: middle;\n",
              "    }\n",
              "\n",
              "    .dataframe tbody tr th {\n",
              "        vertical-align: top;\n",
              "    }\n",
              "\n",
              "    .dataframe thead th {\n",
              "        text-align: right;\n",
              "    }\n",
              "</style>\n",
              "<table border=\"1\" class=\"dataframe\">\n",
              "  <thead>\n",
              "    <tr style=\"text-align: right;\">\n",
              "      <th></th>\n",
              "      <th>user_id</th>\n",
              "      <th>name</th>\n",
              "      <th>age</th>\n",
              "      <th>city</th>\n",
              "      <th>subscription_type</th>\n",
              "      <th>distance</th>\n",
              "      <th>duration</th>\n",
              "      <th>date</th>\n",
              "      <th>month</th>\n",
              "      <th>minute_price</th>\n",
              "      <th>start_ride_price</th>\n",
              "      <th>subscription_fee</th>\n",
              "    </tr>\n",
              "  </thead>\n",
              "  <tbody>\n",
              "    <tr>\n",
              "      <th>0</th>\n",
              "      <td>1</td>\n",
              "      <td>Кира</td>\n",
              "      <td>22</td>\n",
              "      <td>Тюмень</td>\n",
              "      <td>ultra</td>\n",
              "      <td>4409.919140</td>\n",
              "      <td>26.0</td>\n",
              "      <td>2021-01-01</td>\n",
              "      <td>1</td>\n",
              "      <td>6</td>\n",
              "      <td>0</td>\n",
              "      <td>199</td>\n",
              "    </tr>\n",
              "    <tr>\n",
              "      <th>1</th>\n",
              "      <td>1</td>\n",
              "      <td>Кира</td>\n",
              "      <td>22</td>\n",
              "      <td>Тюмень</td>\n",
              "      <td>ultra</td>\n",
              "      <td>2617.592153</td>\n",
              "      <td>16.0</td>\n",
              "      <td>2021-01-18</td>\n",
              "      <td>1</td>\n",
              "      <td>6</td>\n",
              "      <td>0</td>\n",
              "      <td>199</td>\n",
              "    </tr>\n",
              "    <tr>\n",
              "      <th>2</th>\n",
              "      <td>1</td>\n",
              "      <td>Кира</td>\n",
              "      <td>22</td>\n",
              "      <td>Тюмень</td>\n",
              "      <td>ultra</td>\n",
              "      <td>754.159807</td>\n",
              "      <td>7.0</td>\n",
              "      <td>2021-04-20</td>\n",
              "      <td>4</td>\n",
              "      <td>6</td>\n",
              "      <td>0</td>\n",
              "      <td>199</td>\n",
              "    </tr>\n",
              "    <tr>\n",
              "      <th>3</th>\n",
              "      <td>1</td>\n",
              "      <td>Кира</td>\n",
              "      <td>22</td>\n",
              "      <td>Тюмень</td>\n",
              "      <td>ultra</td>\n",
              "      <td>2694.783254</td>\n",
              "      <td>19.0</td>\n",
              "      <td>2021-08-11</td>\n",
              "      <td>8</td>\n",
              "      <td>6</td>\n",
              "      <td>0</td>\n",
              "      <td>199</td>\n",
              "    </tr>\n",
              "    <tr>\n",
              "      <th>4</th>\n",
              "      <td>1</td>\n",
              "      <td>Кира</td>\n",
              "      <td>22</td>\n",
              "      <td>Тюмень</td>\n",
              "      <td>ultra</td>\n",
              "      <td>4028.687306</td>\n",
              "      <td>27.0</td>\n",
              "      <td>2021-08-28</td>\n",
              "      <td>8</td>\n",
              "      <td>6</td>\n",
              "      <td>0</td>\n",
              "      <td>199</td>\n",
              "    </tr>\n",
              "    <tr>\n",
              "      <th>...</th>\n",
              "      <td>...</td>\n",
              "      <td>...</td>\n",
              "      <td>...</td>\n",
              "      <td>...</td>\n",
              "      <td>...</td>\n",
              "      <td>...</td>\n",
              "      <td>...</td>\n",
              "      <td>...</td>\n",
              "      <td>...</td>\n",
              "      <td>...</td>\n",
              "      <td>...</td>\n",
              "      <td>...</td>\n",
              "    </tr>\n",
              "    <tr>\n",
              "      <th>17968</th>\n",
              "      <td>1534</td>\n",
              "      <td>Альберт</td>\n",
              "      <td>25</td>\n",
              "      <td>Краснодар</td>\n",
              "      <td>free</td>\n",
              "      <td>3781.098080</td>\n",
              "      <td>20.0</td>\n",
              "      <td>2021-11-04</td>\n",
              "      <td>11</td>\n",
              "      <td>8</td>\n",
              "      <td>50</td>\n",
              "      <td>0</td>\n",
              "    </tr>\n",
              "    <tr>\n",
              "      <th>17969</th>\n",
              "      <td>1534</td>\n",
              "      <td>Альберт</td>\n",
              "      <td>25</td>\n",
              "      <td>Краснодар</td>\n",
              "      <td>free</td>\n",
              "      <td>2840.423057</td>\n",
              "      <td>22.0</td>\n",
              "      <td>2021-11-16</td>\n",
              "      <td>11</td>\n",
              "      <td>8</td>\n",
              "      <td>50</td>\n",
              "      <td>0</td>\n",
              "    </tr>\n",
              "    <tr>\n",
              "      <th>17970</th>\n",
              "      <td>1534</td>\n",
              "      <td>Альберт</td>\n",
              "      <td>25</td>\n",
              "      <td>Краснодар</td>\n",
              "      <td>free</td>\n",
              "      <td>3826.185507</td>\n",
              "      <td>19.0</td>\n",
              "      <td>2021-11-18</td>\n",
              "      <td>11</td>\n",
              "      <td>8</td>\n",
              "      <td>50</td>\n",
              "      <td>0</td>\n",
              "    </tr>\n",
              "    <tr>\n",
              "      <th>17971</th>\n",
              "      <td>1534</td>\n",
              "      <td>Альберт</td>\n",
              "      <td>25</td>\n",
              "      <td>Краснодар</td>\n",
              "      <td>free</td>\n",
              "      <td>2902.308661</td>\n",
              "      <td>17.0</td>\n",
              "      <td>2021-11-27</td>\n",
              "      <td>11</td>\n",
              "      <td>8</td>\n",
              "      <td>50</td>\n",
              "      <td>0</td>\n",
              "    </tr>\n",
              "    <tr>\n",
              "      <th>17972</th>\n",
              "      <td>1534</td>\n",
              "      <td>Альберт</td>\n",
              "      <td>25</td>\n",
              "      <td>Краснодар</td>\n",
              "      <td>free</td>\n",
              "      <td>2371.711192</td>\n",
              "      <td>16.0</td>\n",
              "      <td>2021-12-29</td>\n",
              "      <td>12</td>\n",
              "      <td>8</td>\n",
              "      <td>50</td>\n",
              "      <td>0</td>\n",
              "    </tr>\n",
              "  </tbody>\n",
              "</table>\n",
              "<p>17973 rows × 12 columns</p>\n",
              "</div>"
            ],
            "text/plain": [
              "       user_id     name  age       city subscription_type     distance  \\\n",
              "0            1     Кира   22     Тюмень             ultra  4409.919140   \n",
              "1            1     Кира   22     Тюмень             ultra  2617.592153   \n",
              "2            1     Кира   22     Тюмень             ultra   754.159807   \n",
              "3            1     Кира   22     Тюмень             ultra  2694.783254   \n",
              "4            1     Кира   22     Тюмень             ultra  4028.687306   \n",
              "...        ...      ...  ...        ...               ...          ...   \n",
              "17968     1534  Альберт   25  Краснодар              free  3781.098080   \n",
              "17969     1534  Альберт   25  Краснодар              free  2840.423057   \n",
              "17970     1534  Альберт   25  Краснодар              free  3826.185507   \n",
              "17971     1534  Альберт   25  Краснодар              free  2902.308661   \n",
              "17972     1534  Альберт   25  Краснодар              free  2371.711192   \n",
              "\n",
              "       duration       date  month  minute_price  start_ride_price  \\\n",
              "0          26.0 2021-01-01      1             6                 0   \n",
              "1          16.0 2021-01-18      1             6                 0   \n",
              "2           7.0 2021-04-20      4             6                 0   \n",
              "3          19.0 2021-08-11      8             6                 0   \n",
              "4          27.0 2021-08-28      8             6                 0   \n",
              "...         ...        ...    ...           ...               ...   \n",
              "17968      20.0 2021-11-04     11             8                50   \n",
              "17969      22.0 2021-11-16     11             8                50   \n",
              "17970      19.0 2021-11-18     11             8                50   \n",
              "17971      17.0 2021-11-27     11             8                50   \n",
              "17972      16.0 2021-12-29     12             8                50   \n",
              "\n",
              "       subscription_fee  \n",
              "0                   199  \n",
              "1                   199  \n",
              "2                   199  \n",
              "3                   199  \n",
              "4                   199  \n",
              "...                 ...  \n",
              "17968                 0  \n",
              "17969                 0  \n",
              "17970                 0  \n",
              "17971                 0  \n",
              "17972                 0  \n",
              "\n",
              "[17973 rows x 12 columns]"
            ]
          },
          "execution_count": 52,
          "metadata": {},
          "output_type": "execute_result"
        }
      ],
      "source": [
        "df"
      ]
    },
    {
      "cell_type": "code",
      "execution_count": null,
      "id": "e8f2f17b",
      "metadata": {
        "id": "e8f2f17b",
        "outputId": "d6a3c36e-5ca2-4c97-efcc-29662f379cd2"
      },
      "outputs": [
        {
          "data": {
            "text/html": [
              "<div>\n",
              "<style scoped>\n",
              "    .dataframe tbody tr th:only-of-type {\n",
              "        vertical-align: middle;\n",
              "    }\n",
              "\n",
              "    .dataframe tbody tr th {\n",
              "        vertical-align: top;\n",
              "    }\n",
              "\n",
              "    .dataframe thead th {\n",
              "        text-align: right;\n",
              "    }\n",
              "</style>\n",
              "<table border=\"1\" class=\"dataframe\">\n",
              "  <thead>\n",
              "    <tr style=\"text-align: right;\">\n",
              "      <th></th>\n",
              "      <th></th>\n",
              "      <th>distance</th>\n",
              "      <th>duration</th>\n",
              "      <th>minute_price</th>\n",
              "      <th>trips_count</th>\n",
              "      <th>start_ride_price</th>\n",
              "      <th>subscription_fee</th>\n",
              "      <th>subscription_type</th>\n",
              "    </tr>\n",
              "    <tr>\n",
              "      <th>user_id</th>\n",
              "      <th>month</th>\n",
              "      <th></th>\n",
              "      <th></th>\n",
              "      <th></th>\n",
              "      <th></th>\n",
              "      <th></th>\n",
              "      <th></th>\n",
              "      <th></th>\n",
              "    </tr>\n",
              "  </thead>\n",
              "  <tbody>\n",
              "    <tr>\n",
              "      <th rowspan=\"5\" valign=\"top\">1</th>\n",
              "      <th>1</th>\n",
              "      <td>7027.511294</td>\n",
              "      <td>42.0</td>\n",
              "      <td>6</td>\n",
              "      <td>2</td>\n",
              "      <td>0</td>\n",
              "      <td>199</td>\n",
              "      <td>ultra</td>\n",
              "    </tr>\n",
              "    <tr>\n",
              "      <th>4</th>\n",
              "      <td>754.159807</td>\n",
              "      <td>7.0</td>\n",
              "      <td>6</td>\n",
              "      <td>1</td>\n",
              "      <td>0</td>\n",
              "      <td>199</td>\n",
              "      <td>ultra</td>\n",
              "    </tr>\n",
              "    <tr>\n",
              "      <th>8</th>\n",
              "      <td>6723.470560</td>\n",
              "      <td>46.0</td>\n",
              "      <td>6</td>\n",
              "      <td>2</td>\n",
              "      <td>0</td>\n",
              "      <td>199</td>\n",
              "      <td>ultra</td>\n",
              "    </tr>\n",
              "    <tr>\n",
              "      <th>10</th>\n",
              "      <td>5809.911100</td>\n",
              "      <td>32.0</td>\n",
              "      <td>6</td>\n",
              "      <td>2</td>\n",
              "      <td>0</td>\n",
              "      <td>199</td>\n",
              "      <td>ultra</td>\n",
              "    </tr>\n",
              "    <tr>\n",
              "      <th>11</th>\n",
              "      <td>7003.499363</td>\n",
              "      <td>56.0</td>\n",
              "      <td>6</td>\n",
              "      <td>3</td>\n",
              "      <td>0</td>\n",
              "      <td>199</td>\n",
              "      <td>ultra</td>\n",
              "    </tr>\n",
              "    <tr>\n",
              "      <th>...</th>\n",
              "      <th>...</th>\n",
              "      <td>...</td>\n",
              "      <td>...</td>\n",
              "      <td>...</td>\n",
              "      <td>...</td>\n",
              "      <td>...</td>\n",
              "      <td>...</td>\n",
              "      <td>...</td>\n",
              "    </tr>\n",
              "    <tr>\n",
              "      <th rowspan=\"5\" valign=\"top\">1534</th>\n",
              "      <th>6</th>\n",
              "      <td>3409.468534</td>\n",
              "      <td>26.0</td>\n",
              "      <td>8</td>\n",
              "      <td>2</td>\n",
              "      <td>50</td>\n",
              "      <td>0</td>\n",
              "      <td>free</td>\n",
              "    </tr>\n",
              "    <tr>\n",
              "      <th>8</th>\n",
              "      <td>7622.453034</td>\n",
              "      <td>48.0</td>\n",
              "      <td>8</td>\n",
              "      <td>2</td>\n",
              "      <td>50</td>\n",
              "      <td>0</td>\n",
              "      <td>free</td>\n",
              "    </tr>\n",
              "    <tr>\n",
              "      <th>9</th>\n",
              "      <td>4928.173852</td>\n",
              "      <td>23.0</td>\n",
              "      <td>8</td>\n",
              "      <td>1</td>\n",
              "      <td>50</td>\n",
              "      <td>0</td>\n",
              "      <td>free</td>\n",
              "    </tr>\n",
              "    <tr>\n",
              "      <th>11</th>\n",
              "      <td>13350.015305</td>\n",
              "      <td>78.0</td>\n",
              "      <td>8</td>\n",
              "      <td>4</td>\n",
              "      <td>50</td>\n",
              "      <td>0</td>\n",
              "      <td>free</td>\n",
              "    </tr>\n",
              "    <tr>\n",
              "      <th>12</th>\n",
              "      <td>2371.711192</td>\n",
              "      <td>16.0</td>\n",
              "      <td>8</td>\n",
              "      <td>1</td>\n",
              "      <td>50</td>\n",
              "      <td>0</td>\n",
              "      <td>free</td>\n",
              "    </tr>\n",
              "  </tbody>\n",
              "</table>\n",
              "<p>11300 rows × 7 columns</p>\n",
              "</div>"
            ],
            "text/plain": [
              "                   distance  duration  minute_price  trips_count  \\\n",
              "user_id month                                                      \n",
              "1       1       7027.511294      42.0             6            2   \n",
              "        4        754.159807       7.0             6            1   \n",
              "        8       6723.470560      46.0             6            2   \n",
              "        10      5809.911100      32.0             6            2   \n",
              "        11      7003.499363      56.0             6            3   \n",
              "...                     ...       ...           ...          ...   \n",
              "1534    6       3409.468534      26.0             8            2   \n",
              "        8       7622.453034      48.0             8            2   \n",
              "        9       4928.173852      23.0             8            1   \n",
              "        11     13350.015305      78.0             8            4   \n",
              "        12      2371.711192      16.0             8            1   \n",
              "\n",
              "               start_ride_price  subscription_fee subscription_type  \n",
              "user_id month                                                        \n",
              "1       1                     0               199             ultra  \n",
              "        4                     0               199             ultra  \n",
              "        8                     0               199             ultra  \n",
              "        10                    0               199             ultra  \n",
              "        11                    0               199             ultra  \n",
              "...                         ...               ...               ...  \n",
              "1534    6                    50                 0              free  \n",
              "        8                    50                 0              free  \n",
              "        9                    50                 0              free  \n",
              "        11                   50                 0              free  \n",
              "        12                   50                 0              free  \n",
              "\n",
              "[11300 rows x 7 columns]"
            ]
          },
          "execution_count": 53,
          "metadata": {},
          "output_type": "execute_result"
        }
      ],
      "source": [
        "# создание сводной таблицы\n",
        "df_pivot = df.pivot_table(index=['user_id','month'],\n",
        "               values = ['distance', 'duration', 'name', 'subscription_type', 'minute_price','start_ride_price','subscription_fee'],\n",
        "               aggfunc = {'distance': 'sum', 'duration': 'sum', 'name': 'count','subscription_type': 'min', 'minute_price':'first','start_ride_price':'first','subscription_fee':'first'})\n",
        "\n",
        "df_pivot.columns = ['distance', 'duration','minute_price','trips_count','start_ride_price','subscription_fee','subscription_type']\n",
        "df_pivot"
      ]
    },
    {
      "cell_type": "markdown",
      "id": "73a88ad2",
      "metadata": {
        "id": "73a88ad2"
      },
      "source": [
        "**Добавим столбец с помесячной выручкой, которую принёс каждый пользователь. Для этого воспользуемся информацией об условиях оплаты для подписчиков и тех, у кого нет подписки**"
      ]
    },
    {
      "cell_type": "markdown",
      "id": "4472aa74",
      "metadata": {
        "id": "4472aa74"
      },
      "source": [
        "**Примечание**\n",
        "\n",
        "- Помесячная выручка считается по формуле:\n",
        "\n",
        "**(стоимость старта поездки ×  количество поездок) + стоимость одной минуты поездки × общая продолжительность всех поездок в минутах) + стоимость подписки**"
      ]
    },
    {
      "cell_type": "code",
      "execution_count": null,
      "id": "4a73c8c1",
      "metadata": {
        "id": "4a73c8c1"
      },
      "outputs": [],
      "source": [
        "# функция для создания столбца помесячной выручки\n",
        "def revenue(row):\n",
        "    return row['start_ride_price'] * row['trips_count'] + row['minute_price'] * row['duration'] + row['subscription_fee']\n",
        ""
      ]
    },
    {
      "cell_type": "code",
      "execution_count": null,
      "id": "e2ec2a16",
      "metadata": {
        "id": "e2ec2a16"
      },
      "outputs": [],
      "source": [
        "# воспользуемся функцией apply\n",
        "df_pivot['revenue_per_month'] = df_pivot.apply(revenue, axis=1)"
      ]
    },
    {
      "cell_type": "code",
      "execution_count": null,
      "id": "642db6f8",
      "metadata": {
        "id": "642db6f8",
        "outputId": "5922e3bc-60e1-48dd-8c96-865127b3ca09"
      },
      "outputs": [
        {
          "data": {
            "text/html": [
              "<div>\n",
              "<style scoped>\n",
              "    .dataframe tbody tr th:only-of-type {\n",
              "        vertical-align: middle;\n",
              "    }\n",
              "\n",
              "    .dataframe tbody tr th {\n",
              "        vertical-align: top;\n",
              "    }\n",
              "\n",
              "    .dataframe thead th {\n",
              "        text-align: right;\n",
              "    }\n",
              "</style>\n",
              "<table border=\"1\" class=\"dataframe\">\n",
              "  <thead>\n",
              "    <tr style=\"text-align: right;\">\n",
              "      <th></th>\n",
              "      <th></th>\n",
              "      <th>distance</th>\n",
              "      <th>duration</th>\n",
              "      <th>minute_price</th>\n",
              "      <th>trips_count</th>\n",
              "      <th>start_ride_price</th>\n",
              "      <th>subscription_fee</th>\n",
              "      <th>subscription_type</th>\n",
              "      <th>revenue_per_month</th>\n",
              "    </tr>\n",
              "    <tr>\n",
              "      <th>user_id</th>\n",
              "      <th>month</th>\n",
              "      <th></th>\n",
              "      <th></th>\n",
              "      <th></th>\n",
              "      <th></th>\n",
              "      <th></th>\n",
              "      <th></th>\n",
              "      <th></th>\n",
              "      <th></th>\n",
              "    </tr>\n",
              "  </thead>\n",
              "  <tbody>\n",
              "    <tr>\n",
              "      <th rowspan=\"5\" valign=\"top\">1</th>\n",
              "      <th>1</th>\n",
              "      <td>7027.511294</td>\n",
              "      <td>42.0</td>\n",
              "      <td>6</td>\n",
              "      <td>2</td>\n",
              "      <td>0</td>\n",
              "      <td>199</td>\n",
              "      <td>ultra</td>\n",
              "      <td>451.0</td>\n",
              "    </tr>\n",
              "    <tr>\n",
              "      <th>4</th>\n",
              "      <td>754.159807</td>\n",
              "      <td>7.0</td>\n",
              "      <td>6</td>\n",
              "      <td>1</td>\n",
              "      <td>0</td>\n",
              "      <td>199</td>\n",
              "      <td>ultra</td>\n",
              "      <td>241.0</td>\n",
              "    </tr>\n",
              "    <tr>\n",
              "      <th>8</th>\n",
              "      <td>6723.470560</td>\n",
              "      <td>46.0</td>\n",
              "      <td>6</td>\n",
              "      <td>2</td>\n",
              "      <td>0</td>\n",
              "      <td>199</td>\n",
              "      <td>ultra</td>\n",
              "      <td>475.0</td>\n",
              "    </tr>\n",
              "    <tr>\n",
              "      <th>10</th>\n",
              "      <td>5809.911100</td>\n",
              "      <td>32.0</td>\n",
              "      <td>6</td>\n",
              "      <td>2</td>\n",
              "      <td>0</td>\n",
              "      <td>199</td>\n",
              "      <td>ultra</td>\n",
              "      <td>391.0</td>\n",
              "    </tr>\n",
              "    <tr>\n",
              "      <th>11</th>\n",
              "      <td>7003.499363</td>\n",
              "      <td>56.0</td>\n",
              "      <td>6</td>\n",
              "      <td>3</td>\n",
              "      <td>0</td>\n",
              "      <td>199</td>\n",
              "      <td>ultra</td>\n",
              "      <td>535.0</td>\n",
              "    </tr>\n",
              "    <tr>\n",
              "      <th>...</th>\n",
              "      <th>...</th>\n",
              "      <td>...</td>\n",
              "      <td>...</td>\n",
              "      <td>...</td>\n",
              "      <td>...</td>\n",
              "      <td>...</td>\n",
              "      <td>...</td>\n",
              "      <td>...</td>\n",
              "      <td>...</td>\n",
              "    </tr>\n",
              "    <tr>\n",
              "      <th rowspan=\"5\" valign=\"top\">1534</th>\n",
              "      <th>6</th>\n",
              "      <td>3409.468534</td>\n",
              "      <td>26.0</td>\n",
              "      <td>8</td>\n",
              "      <td>2</td>\n",
              "      <td>50</td>\n",
              "      <td>0</td>\n",
              "      <td>free</td>\n",
              "      <td>308.0</td>\n",
              "    </tr>\n",
              "    <tr>\n",
              "      <th>8</th>\n",
              "      <td>7622.453034</td>\n",
              "      <td>48.0</td>\n",
              "      <td>8</td>\n",
              "      <td>2</td>\n",
              "      <td>50</td>\n",
              "      <td>0</td>\n",
              "      <td>free</td>\n",
              "      <td>484.0</td>\n",
              "    </tr>\n",
              "    <tr>\n",
              "      <th>9</th>\n",
              "      <td>4928.173852</td>\n",
              "      <td>23.0</td>\n",
              "      <td>8</td>\n",
              "      <td>1</td>\n",
              "      <td>50</td>\n",
              "      <td>0</td>\n",
              "      <td>free</td>\n",
              "      <td>234.0</td>\n",
              "    </tr>\n",
              "    <tr>\n",
              "      <th>11</th>\n",
              "      <td>13350.015305</td>\n",
              "      <td>78.0</td>\n",
              "      <td>8</td>\n",
              "      <td>4</td>\n",
              "      <td>50</td>\n",
              "      <td>0</td>\n",
              "      <td>free</td>\n",
              "      <td>824.0</td>\n",
              "    </tr>\n",
              "    <tr>\n",
              "      <th>12</th>\n",
              "      <td>2371.711192</td>\n",
              "      <td>16.0</td>\n",
              "      <td>8</td>\n",
              "      <td>1</td>\n",
              "      <td>50</td>\n",
              "      <td>0</td>\n",
              "      <td>free</td>\n",
              "      <td>178.0</td>\n",
              "    </tr>\n",
              "  </tbody>\n",
              "</table>\n",
              "<p>11300 rows × 8 columns</p>\n",
              "</div>"
            ],
            "text/plain": [
              "                   distance  duration  minute_price  trips_count  \\\n",
              "user_id month                                                      \n",
              "1       1       7027.511294      42.0             6            2   \n",
              "        4        754.159807       7.0             6            1   \n",
              "        8       6723.470560      46.0             6            2   \n",
              "        10      5809.911100      32.0             6            2   \n",
              "        11      7003.499363      56.0             6            3   \n",
              "...                     ...       ...           ...          ...   \n",
              "1534    6       3409.468534      26.0             8            2   \n",
              "        8       7622.453034      48.0             8            2   \n",
              "        9       4928.173852      23.0             8            1   \n",
              "        11     13350.015305      78.0             8            4   \n",
              "        12      2371.711192      16.0             8            1   \n",
              "\n",
              "               start_ride_price  subscription_fee subscription_type  \\\n",
              "user_id month                                                         \n",
              "1       1                     0               199             ultra   \n",
              "        4                     0               199             ultra   \n",
              "        8                     0               199             ultra   \n",
              "        10                    0               199             ultra   \n",
              "        11                    0               199             ultra   \n",
              "...                         ...               ...               ...   \n",
              "1534    6                    50                 0              free   \n",
              "        8                    50                 0              free   \n",
              "        9                    50                 0              free   \n",
              "        11                   50                 0              free   \n",
              "        12                   50                 0              free   \n",
              "\n",
              "               revenue_per_month  \n",
              "user_id month                     \n",
              "1       1                  451.0  \n",
              "        4                  241.0  \n",
              "        8                  475.0  \n",
              "        10                 391.0  \n",
              "        11                 535.0  \n",
              "...                          ...  \n",
              "1534    6                  308.0  \n",
              "        8                  484.0  \n",
              "        9                  234.0  \n",
              "        11                 824.0  \n",
              "        12                 178.0  \n",
              "\n",
              "[11300 rows x 8 columns]"
            ]
          },
          "execution_count": 56,
          "metadata": {},
          "output_type": "execute_result"
        }
      ],
      "source": [
        "# проверим появление нового столбца\n",
        "df_pivot"
      ]
    },
    {
      "cell_type": "markdown",
      "id": "e824a8ed",
      "metadata": {
        "id": "e824a8ed"
      },
      "source": [
        "**Выводы**\n",
        "\n",
        "- Создали датафрейм с агрегированными данными (df_pivot) на основе датафрейма с объединенными данными (df).\n",
        "\n",
        "- Нашли суммарное расстояние, количество поездок и суммарное время для каждого пользователя за каждый месяц. Также добавили столбец с помесячной выручкой"
      ]
    },
    {
      "cell_type": "code",
      "execution_count": null,
      "id": "1ba9c066",
      "metadata": {
        "id": "1ba9c066",
        "outputId": "f778c8ad-2934-4ac6-da36-2023ec608368"
      },
      "outputs": [
        {
          "data": {
            "text/plain": [
              "user_id  month\n",
              "1        1        42.0\n",
              "         4         7.0\n",
              "         8        46.0\n",
              "         10       32.0\n",
              "         11       56.0\n",
              "                  ... \n",
              "699      6        17.0\n",
              "         8        45.0\n",
              "         9        31.0\n",
              "         10       16.0\n",
              "         12       26.0\n",
              "Name: duration, Length: 4533, dtype: float64"
            ]
          },
          "execution_count": 57,
          "metadata": {},
          "output_type": "execute_result"
        }
      ],
      "source": [
        "df_pivot[df_pivot['subscription_type'] == 'ultra']['duration']"
      ]
    },
    {
      "cell_type": "markdown",
      "id": "202cef8b",
      "metadata": {
        "id": "202cef8b"
      },
      "source": [
        "## Проверка гипотез"
      ]
    },
    {
      "cell_type": "markdown",
      "id": "27edc457",
      "metadata": {
        "id": "27edc457"
      },
      "source": [
        "### I гипотеза"
      ]
    },
    {
      "cell_type": "markdown",
      "id": "daa487dd",
      "metadata": {
        "id": "daa487dd"
      },
      "source": [
        "**Важно понять, тратят ли пользователи с подпиской больше времени на поездки? Если да, то пользователи с подпиской могут быть «выгоднее» для компании**"
      ]
    },
    {
      "cell_type": "markdown",
      "id": "ff3afb8c",
      "metadata": {
        "id": "ff3afb8c"
      },
      "source": [
        "Проверим гипотезу: пользователи с подпиской тратят больше времени на поездки, чем пользователи на бесплатном тарифе.\n",
        "\n",
        "**H0: Время (`duration`) пользователей с подпиской `ultra` = время (`duration`) пользователей без подписки `free`**\n",
        "\n",
        "**H1: Время (`duration`) пользователей с подпиской `ultra` > время (`duration`) пользователей без подписки `free`**\n",
        "\n",
        "Уровень статистической значимости зададим: 5%\n",
        "\n",
        "**alpha = 0.05**"
      ]
    },
    {
      "cell_type": "code",
      "execution_count": null,
      "id": "0b11864a",
      "metadata": {
        "id": "0b11864a",
        "outputId": "d4de27a7-944e-4498-9d86-498f33b38728"
      },
      "outputs": [
        {
          "name": "stdout",
          "output_type": "stream",
          "text": [
            "4.704468074453899e-28\n",
            "Отвергаем нулевую гипотезу\n"
          ]
        }
      ],
      "source": [
        "ultra = df_ultra['duration'] # данные о длительности поездок пользователей с подпиской\n",
        "free = df_free['duration'] # данные о длительности поездок пользователей без подписки\n",
        "\n",
        "results = st.ttest_ind(ultra, free, alternative = 'greater') # гипотеза о среднем двух ген.совокупностей\n",
        "\n",
        "alpha = 0.05 # уровень статистической значимости\n",
        "\n",
        "print(results.pvalue) # p-value\n",
        "\n",
        "if results.pvalue < alpha:\n",
        "    print('Отвергаем нулевую гипотезу')\n",
        "else:\n",
        "    print('Не удалось отвергнуть нулевую гипотезу')"
      ]
    },
    {
      "cell_type": "markdown",
      "id": "5a90586b",
      "metadata": {
        "id": "5a90586b"
      },
      "source": [
        "**Также выведем средние значения продолжительности поездок для каждой категории пользователей**"
      ]
    },
    {
      "cell_type": "code",
      "execution_count": null,
      "id": "5d19e249",
      "metadata": {
        "id": "5d19e249",
        "outputId": "15f1ae19-1099-4572-b0f0-a9ab77326c58"
      },
      "outputs": [
        {
          "data": {
            "text/plain": [
              "18.54198516280583"
            ]
          },
          "execution_count": 59,
          "metadata": {},
          "output_type": "execute_result"
        }
      ],
      "source": [
        "df_ultra['duration'].mean()"
      ]
    },
    {
      "cell_type": "code",
      "execution_count": null,
      "id": "f7192ffd",
      "metadata": {
        "id": "f7192ffd",
        "outputId": "d7ede385-2b2c-4de0-e952-54302ae597a8"
      },
      "outputs": [
        {
          "data": {
            "text/plain": [
              "17.530771268800226"
            ]
          },
          "execution_count": 60,
          "metadata": {},
          "output_type": "execute_result"
        }
      ],
      "source": [
        "df_free['duration'].mean()"
      ]
    },
    {
      "cell_type": "markdown",
      "id": "9fe3b193",
      "metadata": {
        "id": "9fe3b193"
      },
      "source": [
        "**Мы отвергаем нулевую гипотезу о равенстве времени длительности поездок у людей с подпиской и без в пользу альтернативной**"
      ]
    },
    {
      "cell_type": "markdown",
      "id": "7d7d54f9",
      "metadata": {
        "id": "7d7d54f9"
      },
      "source": [
        "**Вывод**\n",
        "\n",
        "Следовательно, мы склоняемся к гипотезе о том, что время длительности поездок у людей с подпиской выше. Этот вывод компания может взять на вооружение: люди с подпиской действительно могут быть \"выгоднее\" компании"
      ]
    },
    {
      "cell_type": "markdown",
      "id": "562bc9f4",
      "metadata": {
        "id": "562bc9f4"
      },
      "source": [
        "### II гипотеза"
      ]
    },
    {
      "cell_type": "markdown",
      "id": "3e725f41",
      "metadata": {
        "id": "3e725f41"
      },
      "source": [
        "**Расстояние одной поездки в 3130 метров — оптимальное с точки зрения износа самоката. Можно ли сказать, что расстояние, которое проезжают пользователи с подпиской за одну поездку, не превышает 3130 метров? Проверьте гипотезу и сделайте выводы**"
      ]
    },
    {
      "cell_type": "markdown",
      "id": "d33ab413",
      "metadata": {
        "id": "d33ab413"
      },
      "source": [
        "Проверим гипотезу: пользователи с подпиской проезжают расстояние, не превышающее 3130 метров за одну поездку.\n",
        "\n",
        "**H0: Расстояние (distance) пользователей на подписке ultra = 3130 метров**\n",
        "\n",
        "**H1: Расстояние (distance) пользователей на подписке ultra > 3130 метров**\n",
        "\n",
        "Уровень статистической значимости также примем 5%"
      ]
    },
    {
      "cell_type": "code",
      "execution_count": null,
      "id": "ae3fee47",
      "metadata": {
        "id": "ae3fee47",
        "outputId": "1e44f0a8-6c1c-472e-cc2e-6650e2148323"
      },
      "outputs": [
        {
          "name": "stdout",
          "output_type": "stream",
          "text": [
            "0.9195368847849785\n",
            "Не удалось отвергнуть нулевую гипотезу\n"
          ]
        }
      ],
      "source": [
        "ultra_dis = df_ultra['distance'] # данные о расстоянии одной поездки пользователей с подпиской\n",
        "interested_value = 3130\n",
        "\n",
        "results = st.ttest_1samp(ultra_dis, interested_value, alternative = 'greater') # гипотеза о равенстве среднего ген.совокупности числу\n",
        "\n",
        "alpha = 0.05 # уровень статистической значимости\n",
        "\n",
        "print(results.pvalue) # p-value\n",
        "\n",
        "if results.pvalue < alpha:\n",
        "    print('Отвергаем нулевую гипотезу')\n",
        "else:\n",
        "    print('Не удалось отвергнуть нулевую гипотезу')"
      ]
    },
    {
      "cell_type": "markdown",
      "id": "e929ca37",
      "metadata": {
        "id": "e929ca37"
      },
      "source": [
        "**Мы не отвергаем нулевую гипотезу о том, что проезжаемое расстояние пользователей по подписке равно 3130 м**"
      ]
    },
    {
      "cell_type": "markdown",
      "id": "37935a44",
      "metadata": {
        "id": "37935a44"
      },
      "source": [
        "**Вывод**\n",
        "\n",
        "Мы не отвергаем нулевую гипотезу в пользу альтернативной.\n",
        "p-value - почти 92%, что говорит о том, что мы получили значение даже меньше предполагаемого среднего(3130 м). А значит, расстояние, проходимое клиентами, можно считать оптимальным с точки зрения износа самоката"
      ]
    },
    {
      "cell_type": "markdown",
      "id": "e706be26",
      "metadata": {
        "id": "e706be26"
      },
      "source": [
        "### III гипотеза"
      ]
    },
    {
      "cell_type": "markdown",
      "id": "25d2689c",
      "metadata": {
        "id": "25d2689c"
      },
      "source": [
        "Проверим гипотезу: помесячная выручка от пользователей с подпиской выше, чем выручка от пользователей без подписки\n",
        "\n",
        "**H0: Выручка (`revenue_per_month`) пользователей на подписке `ultra` = выручка (`revenue_per_month`) пользователей на подписке `free`**\n",
        "\n",
        "**H1: Выручка ( `revenue_per_month` ) пользователей на подписке `ultra` > выручка (`revenue_per_month`) пользователей на подписке `free`**\n",
        "\n",
        "**alpha = 0.05**"
      ]
    },
    {
      "cell_type": "code",
      "execution_count": null,
      "id": "79eec62e",
      "metadata": {
        "id": "79eec62e",
        "outputId": "122c2567-a007-49f7-f2d7-32da45d2351c"
      },
      "outputs": [
        {
          "name": "stdout",
          "output_type": "stream",
          "text": [
            "2.0314113674863288e-30\n",
            "Отвергаем нулевую гипотезу\n"
          ]
        }
      ],
      "source": [
        "ultra_month = df_pivot[df_pivot['subscription_type'] == 'ultra']['revenue_per_month']\n",
        "free_month = df_pivot[df_pivot['subscription_type'] == 'free']['revenue_per_month']\n",
        "\n",
        "results = st.ttest_ind(ultra_month, free_month, alternative = 'greater')\n",
        "\n",
        "alpha = 0.05\n",
        "\n",
        "print(results.pvalue)\n",
        "\n",
        "if results.pvalue < alpha:\n",
        "    print('Отвергаем нулевую гипотезу')\n",
        "else:\n",
        "    print('Не удалось отвергнуть нулевую гипотезу')"
      ]
    },
    {
      "cell_type": "markdown",
      "id": "10dafae2",
      "metadata": {
        "id": "10dafae2"
      },
      "source": [
        "**Также выведем средние значения выручки для каждой категории пользователей**"
      ]
    },
    {
      "cell_type": "code",
      "execution_count": null,
      "id": "2680e4b9",
      "metadata": {
        "id": "2680e4b9",
        "outputId": "37b2af2b-0a18-4fce-8154-dd70d36d13fe"
      },
      "outputs": [
        {
          "data": {
            "text/plain": [
              "362.7921906022502"
            ]
          },
          "execution_count": 63,
          "metadata": {},
          "output_type": "execute_result"
        }
      ],
      "source": [
        "ultra_month.mean()"
      ]
    },
    {
      "cell_type": "code",
      "execution_count": null,
      "id": "0929c672",
      "metadata": {
        "id": "0929c672",
        "outputId": "cc73c853-16b1-432c-ec76-5cac54c854ea"
      },
      "outputs": [
        {
          "data": {
            "text/plain": [
              "329.3326437121324"
            ]
          },
          "execution_count": 64,
          "metadata": {},
          "output_type": "execute_result"
        }
      ],
      "source": [
        "free_month.mean()"
      ]
    },
    {
      "cell_type": "markdown",
      "id": "fe7ddae5",
      "metadata": {
        "id": "fe7ddae5"
      },
      "source": [
        "**Выводы**\n",
        "\n",
        "Мы отвергаем гипотезу о том, что среднемесячные выручки (`revenue_per_month`) пользователей с подпиской и без равны в пользу гипотезы, что выручка с пользователей на подписке `ultra` **превышает выручку** с пользователей на подписке `free`"
      ]
    },
    {
      "cell_type": "markdown",
      "id": "e4d140ce",
      "metadata": {
        "id": "e4d140ce"
      },
      "source": [
        "### Задача"
      ]
    },
    {
      "cell_type": "markdown",
      "id": "82938085",
      "metadata": {
        "id": "82938085"
      },
      "source": [
        "Представьте такую ситуацию: техническая команда сервиса обновила сервера, с которыми взаимодействует мобильное приложение. Она надеется, что из-за этого количество обращений в техподдержку значимо снизилось. Некоторый файл содержит для каждого пользователя данные о количестве обращений до обновления и после него. Какой тест вам понадобился бы для проверки этой гипотезы"
      ]
    },
    {
      "cell_type": "markdown",
      "id": "9779ae99",
      "metadata": {
        "id": "9779ae99"
      },
      "source": [
        "**ОТВЕТ:**\n",
        "\n",
        "Речь идёт о гипотезе о равенстве средних для зависимых(парных) выборок, поскольку мы анализируем одну генеральную совокупностью, с которой прошли изменения\n",
        "\n",
        "Нулевая и альтернативная гипотезы:\n",
        "\n",
        "**H0 : μ1 = μ2**\n",
        "\n",
        "**H1 : μ1 < μ2**\n",
        "\n",
        "где μ1 и μ2 - средние значения обращений до и после изменения для одних и тех же людей.\n",
        "\n",
        "Используемый метод: **scipy.stats.ttest_rel()**"
      ]
    },
    {
      "cell_type": "markdown",
      "id": "4cb2824b",
      "metadata": {
        "id": "4cb2824b"
      },
      "source": [
        "## Дополнительный анализ: Распределения"
      ]
    },
    {
      "cell_type": "markdown",
      "id": "c8948841",
      "metadata": {
        "id": "c8948841"
      },
      "source": [
        "### Задача №1:"
      ]
    },
    {
      "cell_type": "markdown",
      "id": "8bdb5fa9",
      "metadata": {
        "id": "8bdb5fa9"
      },
      "source": [
        "Необходимо провести акцию с раздачей промокодов на один бесплатный месяц подписки, в рамках которой как минимум 100 существующих клиентов должны продлить эту подписку. То есть по завершении периода действия подписки пользователь может либо отказаться от неё, либо продлить, совершив соответствующий платёж. Эта акция уже проводилась ранее и по итогу выяснилось, что после бесплатного пробного периода подписку продлевают 10% пользователей. Выяснить, какое минимальное количество промокодов нужно разослать, чтобы вероятность не выполнить план была примерно 5%. Подобрать параметры распределения, описывающего эту ситуацию, построить график распределения и сформулировать ответ на вопрос о количестве промокодов."
      ]
    },
    {
      "cell_type": "markdown",
      "id": "95fed80b",
      "metadata": {
        "id": "95fed80b"
      },
      "source": [
        "**РЕШЕНИЕ**\n",
        "\n",
        "Рассмотрим случайную величину \"Количество продлений подписки после бесплатного периода\".\n",
        "Эксперимент Бернулли - отправленный промокод, в котором успех - продление подписки по промокоду, неудача - отказ от подписки.\n",
        "\n",
        "Известно, что подписку продлевают в среднем 10% пользователей после бесплатной подписки:\n",
        "\n",
        "**Значит, вероятность успеха p = 0.1**\n",
        "\n",
        "По плану продлить подписку должны 100 человек\n",
        "\n",
        "**Количество успехов k = 100**\n",
        "\n",
        "**Необходимо найти n, при котором вероятность не выполнить план была бы равна 5%**"
      ]
    },
    {
      "cell_type": "markdown",
      "id": "d23142bb",
      "metadata": {
        "id": "d23142bb"
      },
      "source": [
        "Методом подбора, используя функцию `binom.cdf()`, найдём тот показатель n, при котором вероятность получения меньше k успехов, равна около 5%"
      ]
    },
    {
      "cell_type": "code",
      "execution_count": null,
      "id": "46899fa0",
      "metadata": {
        "id": "46899fa0",
        "outputId": "33c0b0c9-b178-4e14-ce04-552bb68cdd52"
      },
      "outputs": [
        {
          "data": {
            "text/plain": [
              "0.0507443655394362"
            ]
          },
          "execution_count": 65,
          "metadata": {},
          "output_type": "execute_result"
        }
      ],
      "source": [
        "binom.cdf(k=99, n=1160 , p=0.1)"
      ]
    },
    {
      "cell_type": "code",
      "execution_count": null,
      "id": "871cfcda",
      "metadata": {
        "id": "871cfcda",
        "outputId": "60530a2b-042b-4fc6-c01b-b7278b5e5b1d"
      },
      "outputs": [
        {
          "name": "stderr",
          "output_type": "stream",
          "text": [
            "/opt/conda/lib/python3.9/site-packages/scipy/stats/_discrete_distns.py:78: RuntimeWarning: divide by zero encountered in _binom_pdf\n",
            "  return _boost._binom_pdf(x, n, p)\n"
          ]
        },
        {
          "data": {
            "image/png": "[encoded data removed]",
            "text/plain": [
              "<Figure size 432x288 with 1 Axes>"
            ]
          },
          "metadata": {
            "needs_background": "light"
          },
          "output_type": "display_data"
        }
      ],
      "source": [
        "from matplotlib import pyplot as plt\n",
        "\n",
        "n = 1160 # количество попыток\n",
        "p = 0.1 # вероятность успеха\n",
        "\n",
        "distr = []\n",
        "\n",
        "for k in range(0, n+1):\n",
        "    current_value = binom.pmf(k, n, p)\n",
        "    distr.append(current_value)\n",
        "\n",
        "plt.xlim([80,160]) # зададим пределы для количества успехов\n",
        "plt.bar(range(0, n + 1), distr);"
      ]
    },
    {
      "cell_type": "markdown",
      "id": "e1f5d83f",
      "metadata": {
        "id": "e1f5d83f"
      },
      "source": [
        "**Выводы**\n",
        "\n",
        "Таким образом, вероятность не выполнить план, то есть получить менее 100 платных подписок будет равна 5% при количестве промодоков, разосланных около 1160 раз."
      ]
    },
    {
      "cell_type": "markdown",
      "id": "f950d7a8",
      "metadata": {
        "id": "f950d7a8"
      },
      "source": [
        "### Задача №2:"
      ]
    },
    {
      "cell_type": "markdown",
      "id": "3bf03d0c",
      "metadata": {
        "id": "3bf03d0c"
      },
      "source": [
        "Отдел маркетинга рассылает клиентам push-уведомления в мобильном приложении. Клиенты могут открыть его или не открывать. Известно, что уведомления открывают около 40 % получивших клиентов. Отдел планирует разослать 1 млн уведомлений. С помощью аппроксимации постройте примерный график распределения и оцените вероятность того, что уведомление откроют не более 399,5 тыс. пользователей."
      ]
    },
    {
      "cell_type": "markdown",
      "id": "917b9188",
      "metadata": {
        "id": "917b9188"
      },
      "source": [
        "**РЕШЕНИЕ**\n",
        "\n",
        "Рассмотрим случайную величину \"Количество открытых push-уведомлений\".\n",
        "Эксперимент Бернулли - отправленное push-уведомление, в котором успех - открыть уведомления, неудача - не открыть уведомление.\n",
        "\n",
        "Известно, что около 40% клиентов открывают push-уведомления:\n",
        "\n",
        "**Значит, вероятность успеха p = 0.4**\n",
        "\n",
        "Отдел планирует разослать около 1000000 уведомлений\n",
        "\n",
        "**Значит, кол-во испытаний = 1000000**"
      ]
    },
    {
      "cell_type": "markdown",
      "id": "655450a1",
      "metadata": {
        "id": "655450a1"
      },
      "source": [
        "**УСЛОВИЕ АППРОКСИМАЦИИ БИНОМАЛЬНОГО РАСПРЕДЕЛЕНИЯ НОРМАЛЬНЫМ**"
      ]
    },
    {
      "cell_type": "markdown",
      "id": "fbb6c915",
      "metadata": {
        "id": "fbb6c915"
      },
      "source": [
        "Нужно найти такой промежуток, в котором лежат все отличные от нуля значения вероятности биномиального распределения.\n",
        "\n",
        "Это промежуток **n * p +- 3 * sqrt(n * p * (1-p))**\n",
        "\n",
        "Он должен лежать внутри промежутка значений, на которых определено биномиальное распределение: [0;n]. Проверим это"
      ]
    },
    {
      "cell_type": "markdown",
      "id": "536507ce",
      "metadata": {
        "id": "536507ce"
      },
      "source": [
        "**Проверим условие аппроксимации. В случае выполнения - аппроксимируем биномиальное распределение нормальным и посчитаем\n",
        "Также построим график**"
      ]
    },
    {
      "cell_type": "code",
      "execution_count": null,
      "id": "64bce02c",
      "metadata": {
        "id": "64bce02c",
        "outputId": "f0086fde-af33-4467-e571-58da8ceff68e"
      },
      "outputs": [
        {
          "data": {
            "image/png": "[encoded data removed]",
            "text/plain": [
              "<Figure size 432x288 with 1 Axes>"
            ]
          },
          "metadata": {
            "needs_background": "light"
          },
          "output_type": "display_data"
        },
        {
          "name": "stdout",
          "output_type": "stream",
          "text": [
            "Условие аппроксимации выполняется\n",
            "0.15371708296369768\n"
          ]
        }
      ],
      "source": [
        "from math import sqrt\n",
        "import matplotlib.pyplot as plt\n",
        "from scipy.stats import binom, norm\n",
        "\n",
        "# зададим функцию, которая выдаёт <num> чисел,\n",
        "# равномерно распределённых от <start> до <stop>\n",
        "# (понадобится для визуализации нормального распределения)\n",
        "def linspace(start, stop, num):\n",
        "    step = (stop - start) / (num - 1)\n",
        "    result = []\n",
        "    for i in range(num):\n",
        "        result.append(start + step * i)\n",
        "    return result\n",
        "\n",
        "# задаём параметры биномиального распределения\n",
        "n = 1000000\n",
        "p = 0.4\n",
        "\n",
        "# границы промежутка, в котором будем строить аппроксимацию -\n",
        "# от n*p минус 4 ст.отклонения бином.распределения\n",
        "# до n*p плюс 4 ст.отклонения бином.распределения\n",
        "# (там, где вероятности значений почти не равны нулю)\n",
        "\n",
        "left = int(n * p - 4 * sqrt(n * p * (1 - p)))\n",
        "right = int(n * p + 4 * sqrt(n * p * (1 - p)))\n",
        "\n",
        "# зададим набор значений биномиальной величины на выбранном промежутке:\n",
        "# все неотрицательные целые числа от left до right\n",
        "x = list(range(max(0, left), right, 100))\n",
        "\n",
        "# рисуем график биномиального распределения\n",
        "ax = plt.subplot()\n",
        "\n",
        "# используем синие о-образные маркеры и размер маркера 5\n",
        "ax.plot(x, binom.pmf(x, n, p), 'bo', ms=5,\n",
        "      label='вероятности биномиального распределения')\n",
        "\n",
        "# зададим параметры нормального распределения равными\n",
        "# мат.ожиданию и дисперсии биномиального распределения\n",
        "mu = n * p\n",
        "sigma = sqrt(n * p * (1 - p))\n",
        "\n",
        "# рисуем график нормального распределения:\n",
        "# получим список из 100 чисел от left до right\n",
        "x = linspace(left, right, 100)\n",
        "# используем красную линию ширины 5 и прозрачности 0.3\n",
        "ax.plot(x, norm.pdf(x, mu, sigma), 'r-', lw=5, alpha=0.3, label='плотность вероятности нормального распределения')\n",
        "\n",
        "# зададим подписи по оси x в пределах ± 3 ст.отклонений от мат.ожидания\n",
        "# (последний аргумент в методе range - интервал между подписями)\n",
        " #x_ticks = list(range(int(mu - 3 * sigma), int(mu + 3 * sigma), 1))\n",
        " #ax.set_xticks(x_ticks)\n",
        "\n",
        "# настраиваем оптимальное расположение легенды и выводим график\n",
        "ax.legend(loc='best')\n",
        "plt.show()\n",
        "\n",
        "# выводим, выполняется ли наше условие аппроксимации:\n",
        "# лежит ли mu ± 3 sigma в промежутке от 0 до n:\n",
        "if (mu - (3 * sigma) >= 0) and ((mu + (3 * sigma) <= n)):\n",
        "    print('Условие аппроксимации выполняется')\n",
        "else:\n",
        "    print('Условие аппроксимации не выполняется')\n",
        "\n",
        "# задаём нормальное распределение\n",
        "distr = st.norm(mu, sigma)\n",
        "\n",
        "# считаем вероятность хвоста слева от 43 тысяч\n",
        "result = distr.cdf(399500)\n",
        "print(result)"
      ]
    },
    {
      "cell_type": "markdown",
      "id": "505a50a9",
      "metadata": {
        "id": "505a50a9"
      },
      "source": [
        "**Вывод**\n",
        "\n",
        "Мы аппроксимировали биномиальное распределение(n;p) нормальным распределением(mu, sigma), где n - количество отправленных push-уведомлений; p - вероятность открыть уведомление, mu - математическое ожидание, sigma - стандратное отклонение.\n",
        "\n",
        "**В результате получили, что вероятность того, что уведомления откроют не более 399,5 тыс. человек равна чуть более 15%**"
      ]
    },
    {
      "cell_type": "markdown",
      "id": "c55915bb",
      "metadata": {
        "id": "c55915bb"
      },
      "source": [
        "## Общий вывод"
      ]
    },
    {
      "cell_type": "markdown",
      "id": "89a6fe8e",
      "metadata": {
        "id": "89a6fe8e"
      },
      "source": [
        "В ходе работы мы загрузили 3 csv-файла и сохранили их в датафреймы: пользователи(`users_go`), поездки(`rides_go`), подписки(`subscriptions_go`).\n",
        "\n",
        "Была осуществлена предобработка данных:\n",
        "- Пропусков не было найдено;\n",
        "- Смена типа данных у столбца `date` из `rides_go` к типу `datetime64`;\n",
        "- Добавили столбец `month`с номером месяца;\n",
        "- Удаление дубликатов строк из датафрейма `users_go`\n",
        "\n",
        "Также осуществили исследовательский анализ данных и получили следующие выводы:\n",
        "\n",
        "- Количество пользователей по городам распределено примерно одинаково.\n",
        "- Доля пользователей сопоставима одинакова по каждому городу, но больше всего пользователей зафиксировано в Пятигорске, меньше всего - в Москве.\n",
        "- Пользователей без платной подписки - 835 человек(примерно 54% пользователей)\n",
        "- Доля пользователей с платной подпиской составляет примерно 46%.\n",
        "- Самыми младшими являются пользователи 12 лет, а самыми старшими - 43 лет.\n",
        "- В целом, основной контингент пользователей возраста 20-30 лет\n",
        "- Самая короткая дистанция - 0.85 км, а самая длинная - 7.2 км\n",
        "- В основном пользователи проезжают от 2.5 км до 4 км.\n",
        "\n",
        "Мы объединили данные о пользователях, поездках и тарифах в один датафрейм - df.\n",
        "\n",
        "Также получили отдельно 2 датафрейма из df:\n",
        "\n",
        "- df_free - пользователи с бесплатным тарифом\n",
        "- df_ultra - пользователи с платным тарифом\n",
        "\n",
        "Визуализировали информацию о расстоянии и времени для каждого из тарифов.\n",
        "\n",
        "- У пользователей без подписки время поездки составляет от 10 до 30 минут, они проезжают 2 - 5 км. Некоторые проезжают и большие расстояния\n",
        "\n",
        "- У пользователей по платному тарифу время поездки составляет от 15 до 25 минут, они проезжают примерно 2 - 4 км. В подавляющем большинстве - около 3 км.\n",
        "\n",
        "- Таким образом, можно сделать вывод, что пользователи с бесплатным тарифом и по подписке в целом совершают поездки с сопоставимыми длительностью поездок и расстоянием\n",
        "\n",
        "Мы проверили следующие гипотезы:\n",
        "\n",
        "- 1 гипотеза: \"Длительность поездок пользователей с подписками больше, чем у пользователей без подписки\";\n",
        "  - Отвегаем нулевую гипотезу\n",
        "- 2 гипотеза: \"Расстояние, которое проезжают пользователи с подпиской за одну поездку, не превышает 3130 метров\";\n",
        "  - Не отвергаем нулевую гипотезу\n",
        "- 3 гипотеза: \"Помесячная выручка от пользователей с подпиской по месяцам выше, чем выручка от пользователей без подписки\"\n",
        "  - Отвергаем нулевую гипотезу\n",
        "\n",
        "Также были проведены дополнительные исследования и решены задачи:\n",
        "\n",
        "1) Мы исследовали случайную величину \"Количество продлений подписки по промокоду после бесплатного периода\". Эксперимент Бернулли - отправленный промокод, в котором успех - продление подписки по промокоду, неудача - отказ от подписки. Также известна вероятность продление подписки от отправленного промокода - 10%. Цель k -  100 подписок. Мы нашли необходимое количество отправленных промокодов(n), при котором вероятность не выполнить план будет около 5%.\n",
        "**Это примерно 1160 промокодов**\n",
        "\n",
        "2) Мы исследовали случайную величину \"Количество открытых push-уведомлений\". Эксперимент Бернулли - отправленное push-уведомление, в котором успех - открыть уведомление, неудача - не открыть уведомление. Это биномиальное распределение, но мы его аппроксимировали нормальным распределением. Также построили примерный график распределения и нашли вероятность того, что push-уведомление откроют не более 399,5 тыс. человек.\n",
        "**Эта вероятность составляет около 15%**"
      ]
    }
  ],
  "metadata": {
    "ExecuteTimeLog": [
      {
        "duration": 115,
        "start_time": "2023-07-29T14:32:16.411Z"
      },
      {
        "duration": 456,
        "start_time": "2023-07-29T15:17:26.007Z"
      },
      {
        "duration": 3,
        "start_time": "2023-07-29T15:17:29.932Z"
      },
      {
        "duration": 297,
        "start_time": "2023-07-29T15:17:32.450Z"
      },
      {
        "duration": 25,
        "start_time": "2023-07-29T15:17:45.039Z"
      },
      {
        "duration": 98,
        "start_time": "2023-07-29T15:18:03.060Z"
      },
      {
        "duration": 96,
        "start_time": "2023-07-29T15:18:10.380Z"
      },
      {
        "duration": 82,
        "start_time": "2023-07-29T15:18:19.780Z"
      },
      {
        "duration": 12,
        "start_time": "2023-07-29T15:18:23.718Z"
      },
      {
        "duration": 13,
        "start_time": "2023-07-29T15:18:27.419Z"
      },
      {
        "duration": 13,
        "start_time": "2023-07-29T15:18:37.622Z"
      },
      {
        "duration": 89,
        "start_time": "2023-07-29T15:19:24.235Z"
      },
      {
        "duration": 11,
        "start_time": "2023-07-29T15:21:45.356Z"
      },
      {
        "duration": 9,
        "start_time": "2023-07-29T15:21:53.619Z"
      },
      {
        "duration": 8,
        "start_time": "2023-07-29T15:22:03.343Z"
      },
      {
        "duration": 7,
        "start_time": "2023-07-29T15:22:07.114Z"
      },
      {
        "duration": 3,
        "start_time": "2023-07-29T15:22:40.051Z"
      },
      {
        "duration": 12,
        "start_time": "2023-07-29T15:24:37.310Z"
      },
      {
        "duration": 15,
        "start_time": "2023-07-29T15:24:48.914Z"
      },
      {
        "duration": 15,
        "start_time": "2023-07-29T15:25:07.910Z"
      },
      {
        "duration": 6,
        "start_time": "2023-07-29T15:32:10.441Z"
      },
      {
        "duration": 8,
        "start_time": "2023-07-29T15:32:22.038Z"
      },
      {
        "duration": 7,
        "start_time": "2023-07-29T15:32:51.100Z"
      },
      {
        "duration": 10,
        "start_time": "2023-07-29T15:52:49.407Z"
      },
      {
        "duration": 10,
        "start_time": "2023-07-29T15:53:41.465Z"
      },
      {
        "duration": 12,
        "start_time": "2023-07-29T15:54:00.307Z"
      },
      {
        "duration": 13,
        "start_time": "2023-07-29T15:58:45.855Z"
      },
      {
        "duration": 6,
        "start_time": "2023-07-29T16:04:36.126Z"
      },
      {
        "duration": 15,
        "start_time": "2023-07-29T16:04:42.428Z"
      },
      {
        "duration": 6,
        "start_time": "2023-07-29T16:08:39.528Z"
      },
      {
        "duration": 6,
        "start_time": "2023-07-29T16:08:42.099Z"
      },
      {
        "duration": 6,
        "start_time": "2023-07-29T16:09:09.548Z"
      },
      {
        "duration": 7,
        "start_time": "2023-07-29T16:10:40.103Z"
      },
      {
        "duration": 24,
        "start_time": "2023-07-29T16:10:56.882Z"
      },
      {
        "duration": 8,
        "start_time": "2023-07-29T16:11:19.661Z"
      },
      {
        "duration": 6,
        "start_time": "2023-07-29T16:11:43.710Z"
      },
      {
        "duration": 6,
        "start_time": "2023-07-29T16:11:55.510Z"
      },
      {
        "duration": 15,
        "start_time": "2023-07-29T16:13:24.699Z"
      },
      {
        "duration": 21,
        "start_time": "2023-07-29T16:15:40.219Z"
      },
      {
        "duration": 12,
        "start_time": "2023-07-29T16:19:06.499Z"
      },
      {
        "duration": 118,
        "start_time": "2023-07-29T16:19:19.700Z"
      },
      {
        "duration": 12,
        "start_time": "2023-07-29T16:26:03.735Z"
      },
      {
        "duration": 6,
        "start_time": "2023-07-29T16:30:07.130Z"
      },
      {
        "duration": 14,
        "start_time": "2023-07-29T16:31:19.912Z"
      },
      {
        "duration": 6,
        "start_time": "2023-07-29T16:36:22.303Z"
      },
      {
        "duration": 8,
        "start_time": "2023-07-29T16:40:54.464Z"
      },
      {
        "duration": 73,
        "start_time": "2023-07-29T16:41:14.975Z"
      },
      {
        "duration": 409,
        "start_time": "2023-07-29T16:41:34.009Z"
      },
      {
        "duration": 78,
        "start_time": "2023-07-29T16:41:34.420Z"
      },
      {
        "duration": 17,
        "start_time": "2023-07-29T16:41:34.502Z"
      },
      {
        "duration": 47,
        "start_time": "2023-07-29T16:41:34.521Z"
      },
      {
        "duration": 77,
        "start_time": "2023-07-29T16:41:34.570Z"
      },
      {
        "duration": 52,
        "start_time": "2023-07-29T16:41:34.648Z"
      },
      {
        "duration": 14,
        "start_time": "2023-07-29T16:41:34.708Z"
      },
      {
        "duration": 12,
        "start_time": "2023-07-29T16:41:34.723Z"
      },
      {
        "duration": 9,
        "start_time": "2023-07-29T16:41:34.737Z"
      },
      {
        "duration": 41,
        "start_time": "2023-07-29T16:41:34.748Z"
      },
      {
        "duration": 6,
        "start_time": "2023-07-29T16:41:34.805Z"
      },
      {
        "duration": 8,
        "start_time": "2023-07-29T16:41:34.813Z"
      },
      {
        "duration": 12,
        "start_time": "2023-07-29T16:41:34.823Z"
      },
      {
        "duration": 9,
        "start_time": "2023-07-29T16:41:34.838Z"
      },
      {
        "duration": 9,
        "start_time": "2023-07-29T16:41:34.850Z"
      },
      {
        "duration": 47,
        "start_time": "2023-07-29T16:41:34.862Z"
      },
      {
        "duration": 8,
        "start_time": "2023-07-29T16:41:34.911Z"
      },
      {
        "duration": 10,
        "start_time": "2023-07-29T16:41:34.921Z"
      },
      {
        "duration": 20,
        "start_time": "2023-07-29T16:41:34.934Z"
      },
      {
        "duration": 6,
        "start_time": "2023-07-29T16:42:19.031Z"
      },
      {
        "duration": 7,
        "start_time": "2023-07-29T16:44:50.510Z"
      },
      {
        "duration": 9,
        "start_time": "2023-07-29T16:46:01.194Z"
      },
      {
        "duration": 8,
        "start_time": "2023-07-29T16:46:03.548Z"
      },
      {
        "duration": 6,
        "start_time": "2023-07-29T16:47:28.501Z"
      },
      {
        "duration": 13,
        "start_time": "2023-07-29T16:51:26.512Z"
      },
      {
        "duration": 7,
        "start_time": "2023-07-29T16:51:39.811Z"
      },
      {
        "duration": 505,
        "start_time": "2023-07-29T16:55:03.103Z"
      },
      {
        "duration": 177,
        "start_time": "2023-07-29T17:08:02.473Z"
      },
      {
        "duration": 215,
        "start_time": "2023-07-29T17:08:28.349Z"
      },
      {
        "duration": 166,
        "start_time": "2023-07-29T17:08:33.961Z"
      },
      {
        "duration": 208,
        "start_time": "2023-07-29T17:08:41.771Z"
      },
      {
        "duration": 236,
        "start_time": "2023-07-29T17:08:46.769Z"
      },
      {
        "duration": 146,
        "start_time": "2023-07-29T17:08:54.209Z"
      },
      {
        "duration": 215,
        "start_time": "2023-07-29T17:09:03.986Z"
      },
      {
        "duration": 206,
        "start_time": "2023-07-29T17:09:08.440Z"
      },
      {
        "duration": 192,
        "start_time": "2023-07-29T17:09:16.951Z"
      },
      {
        "duration": 157,
        "start_time": "2023-07-29T17:09:23.712Z"
      },
      {
        "duration": 17,
        "start_time": "2023-07-29T17:13:09.250Z"
      },
      {
        "duration": 22,
        "start_time": "2023-07-29T17:13:55.551Z"
      },
      {
        "duration": 151,
        "start_time": "2023-07-29T17:14:25.565Z"
      },
      {
        "duration": 142,
        "start_time": "2023-07-29T17:14:34.273Z"
      },
      {
        "duration": 97,
        "start_time": "2023-07-29T17:15:04.050Z"
      },
      {
        "duration": 184,
        "start_time": "2023-07-29T17:17:51.652Z"
      },
      {
        "duration": 138,
        "start_time": "2023-07-29T17:17:54.215Z"
      },
      {
        "duration": 20,
        "start_time": "2023-07-29T17:21:01.037Z"
      },
      {
        "duration": 16,
        "start_time": "2023-07-29T17:42:31.043Z"
      },
      {
        "duration": 17,
        "start_time": "2023-07-29T17:42:43.634Z"
      },
      {
        "duration": 14,
        "start_time": "2023-07-29T17:43:03.056Z"
      },
      {
        "duration": 229,
        "start_time": "2023-07-29T17:43:21.942Z"
      },
      {
        "duration": 174,
        "start_time": "2023-07-29T17:43:26.080Z"
      },
      {
        "duration": 149,
        "start_time": "2023-07-29T17:49:45.036Z"
      },
      {
        "duration": 133,
        "start_time": "2023-07-29T17:49:50.943Z"
      },
      {
        "duration": 136,
        "start_time": "2023-07-29T17:50:10.825Z"
      },
      {
        "duration": 167,
        "start_time": "2023-07-29T17:50:18.491Z"
      },
      {
        "duration": 181,
        "start_time": "2023-07-29T17:50:22.138Z"
      },
      {
        "duration": 251,
        "start_time": "2023-07-29T17:52:09.634Z"
      },
      {
        "duration": 205,
        "start_time": "2023-07-29T17:52:58.836Z"
      },
      {
        "duration": 655,
        "start_time": "2023-07-29T17:55:00.687Z"
      },
      {
        "duration": 115,
        "start_time": "2023-07-29T17:55:39.343Z"
      },
      {
        "duration": 113,
        "start_time": "2023-07-29T17:55:52.520Z"
      },
      {
        "duration": 286,
        "start_time": "2023-07-29T17:56:36.574Z"
      },
      {
        "duration": 154,
        "start_time": "2023-07-29T17:57:50.687Z"
      },
      {
        "duration": 126,
        "start_time": "2023-07-29T17:58:28.534Z"
      },
      {
        "duration": 16,
        "start_time": "2023-07-29T18:00:07.187Z"
      },
      {
        "duration": 123,
        "start_time": "2023-07-29T18:00:18.031Z"
      },
      {
        "duration": 137,
        "start_time": "2023-07-29T18:00:48.218Z"
      },
      {
        "duration": 115,
        "start_time": "2023-07-29T18:03:52.690Z"
      },
      {
        "duration": 154,
        "start_time": "2023-07-29T18:03:59.083Z"
      },
      {
        "duration": 178,
        "start_time": "2023-07-29T18:04:04.882Z"
      },
      {
        "duration": 191,
        "start_time": "2023-07-29T18:05:09.664Z"
      },
      {
        "duration": 139,
        "start_time": "2023-07-29T18:06:51.342Z"
      },
      {
        "duration": 229,
        "start_time": "2023-07-29T18:06:56.338Z"
      },
      {
        "duration": 168,
        "start_time": "2023-07-29T18:07:01.366Z"
      },
      {
        "duration": 206,
        "start_time": "2023-07-29T18:10:29.543Z"
      },
      {
        "duration": 230,
        "start_time": "2023-07-29T18:10:43.247Z"
      },
      {
        "duration": 479,
        "start_time": "2023-07-29T18:10:56.059Z"
      },
      {
        "duration": 244,
        "start_time": "2023-07-29T18:11:08.291Z"
      },
      {
        "duration": 194,
        "start_time": "2023-07-29T18:15:29.277Z"
      },
      {
        "duration": 174,
        "start_time": "2023-07-29T18:15:34.554Z"
      },
      {
        "duration": 223,
        "start_time": "2023-07-29T18:16:15.057Z"
      },
      {
        "duration": 40,
        "start_time": "2023-07-29T18:19:36.585Z"
      },
      {
        "duration": 12,
        "start_time": "2023-07-29T18:19:52.860Z"
      },
      {
        "duration": 9,
        "start_time": "2023-07-29T18:20:07.641Z"
      },
      {
        "duration": 216,
        "start_time": "2023-07-29T18:20:44.552Z"
      },
      {
        "duration": 221,
        "start_time": "2023-07-29T18:20:55.405Z"
      },
      {
        "duration": 203,
        "start_time": "2023-07-29T18:21:03.138Z"
      },
      {
        "duration": 203,
        "start_time": "2023-07-29T18:21:08.861Z"
      },
      {
        "duration": 267,
        "start_time": "2023-07-29T18:22:45.238Z"
      },
      {
        "duration": 142,
        "start_time": "2023-07-29T18:22:56.675Z"
      },
      {
        "duration": 225,
        "start_time": "2023-07-29T18:23:03.638Z"
      },
      {
        "duration": 289,
        "start_time": "2023-07-29T18:23:10.186Z"
      },
      {
        "duration": 291,
        "start_time": "2023-07-29T18:25:07.259Z"
      },
      {
        "duration": 199,
        "start_time": "2023-07-29T18:26:45.175Z"
      },
      {
        "duration": 217,
        "start_time": "2023-07-29T18:27:03.387Z"
      },
      {
        "duration": 195,
        "start_time": "2023-07-29T18:29:17.337Z"
      },
      {
        "duration": 232,
        "start_time": "2023-07-29T18:31:03.938Z"
      },
      {
        "duration": 15,
        "start_time": "2023-07-29T18:49:05.640Z"
      },
      {
        "duration": 11,
        "start_time": "2023-07-29T18:49:23.467Z"
      },
      {
        "duration": 18,
        "start_time": "2023-07-29T18:50:01.729Z"
      },
      {
        "duration": 831,
        "start_time": "2023-07-29T19:41:31.474Z"
      },
      {
        "duration": 92,
        "start_time": "2023-07-29T19:41:32.311Z"
      },
      {
        "duration": 15,
        "start_time": "2023-07-29T19:41:32.405Z"
      },
      {
        "duration": 15,
        "start_time": "2023-07-29T19:41:32.423Z"
      },
      {
        "duration": 8,
        "start_time": "2023-07-29T19:41:32.451Z"
      },
      {
        "duration": 19,
        "start_time": "2023-07-29T19:41:32.461Z"
      },
      {
        "duration": 42,
        "start_time": "2023-07-29T19:41:32.482Z"
      },
      {
        "duration": 35,
        "start_time": "2023-07-29T19:41:32.527Z"
      },
      {
        "duration": 7,
        "start_time": "2023-07-29T19:41:32.564Z"
      },
      {
        "duration": 11,
        "start_time": "2023-07-29T19:41:32.572Z"
      },
      {
        "duration": 24,
        "start_time": "2023-07-29T19:41:32.585Z"
      },
      {
        "duration": 24,
        "start_time": "2023-07-29T19:41:32.621Z"
      },
      {
        "duration": 14,
        "start_time": "2023-07-29T19:41:32.648Z"
      },
      {
        "duration": 6,
        "start_time": "2023-07-29T19:41:32.666Z"
      },
      {
        "duration": 18,
        "start_time": "2023-07-29T19:41:32.674Z"
      },
      {
        "duration": 19,
        "start_time": "2023-07-29T19:41:32.697Z"
      },
      {
        "duration": 13,
        "start_time": "2023-07-29T19:41:32.718Z"
      },
      {
        "duration": 8,
        "start_time": "2023-07-29T19:41:32.733Z"
      },
      {
        "duration": 21,
        "start_time": "2023-07-29T19:41:32.743Z"
      },
      {
        "duration": 7,
        "start_time": "2023-07-29T19:41:32.765Z"
      },
      {
        "duration": 210,
        "start_time": "2023-07-29T19:41:32.774Z"
      },
      {
        "duration": 228,
        "start_time": "2023-07-29T19:41:32.992Z"
      },
      {
        "duration": 150,
        "start_time": "2023-07-29T19:41:33.224Z"
      },
      {
        "duration": 128,
        "start_time": "2023-07-29T19:41:33.376Z"
      },
      {
        "duration": 322,
        "start_time": "2023-07-29T19:41:33.507Z"
      },
      {
        "duration": 25,
        "start_time": "2023-07-29T19:41:33.838Z"
      },
      {
        "duration": 94,
        "start_time": "2023-07-29T22:53:05.464Z"
      },
      {
        "duration": 744,
        "start_time": "2023-07-29T22:53:32.575Z"
      },
      {
        "duration": 92,
        "start_time": "2023-07-29T22:53:33.321Z"
      },
      {
        "duration": 19,
        "start_time": "2023-07-29T22:53:33.415Z"
      },
      {
        "duration": 76,
        "start_time": "2023-07-29T22:53:33.437Z"
      },
      {
        "duration": 24,
        "start_time": "2023-07-29T22:53:33.516Z"
      },
      {
        "duration": 79,
        "start_time": "2023-07-29T22:53:33.541Z"
      },
      {
        "duration": 51,
        "start_time": "2023-07-29T22:53:33.622Z"
      },
      {
        "duration": 49,
        "start_time": "2023-07-29T22:53:33.675Z"
      },
      {
        "duration": 110,
        "start_time": "2023-07-29T22:53:33.726Z"
      },
      {
        "duration": 0,
        "start_time": "2023-07-29T22:53:33.839Z"
      },
      {
        "duration": 0,
        "start_time": "2023-07-29T22:53:33.840Z"
      },
      {
        "duration": 0,
        "start_time": "2023-07-29T22:53:33.841Z"
      },
      {
        "duration": 0,
        "start_time": "2023-07-29T22:53:33.842Z"
      },
      {
        "duration": 0,
        "start_time": "2023-07-29T22:53:33.843Z"
      },
      {
        "duration": 0,
        "start_time": "2023-07-29T22:53:33.844Z"
      },
      {
        "duration": 0,
        "start_time": "2023-07-29T22:53:33.845Z"
      },
      {
        "duration": 0,
        "start_time": "2023-07-29T22:53:33.846Z"
      },
      {
        "duration": 0,
        "start_time": "2023-07-29T22:53:33.848Z"
      },
      {
        "duration": 0,
        "start_time": "2023-07-29T22:53:33.849Z"
      },
      {
        "duration": 0,
        "start_time": "2023-07-29T22:53:33.850Z"
      },
      {
        "duration": 0,
        "start_time": "2023-07-29T22:53:33.851Z"
      },
      {
        "duration": 0,
        "start_time": "2023-07-29T22:53:33.852Z"
      },
      {
        "duration": 0,
        "start_time": "2023-07-29T22:53:33.854Z"
      },
      {
        "duration": 0,
        "start_time": "2023-07-29T22:53:33.855Z"
      },
      {
        "duration": 0,
        "start_time": "2023-07-29T22:53:33.857Z"
      },
      {
        "duration": 0,
        "start_time": "2023-07-29T22:53:33.858Z"
      },
      {
        "duration": 10,
        "start_time": "2023-07-29T22:53:45.216Z"
      },
      {
        "duration": 7,
        "start_time": "2023-07-29T22:53:52.462Z"
      },
      {
        "duration": 827,
        "start_time": "2023-07-29T22:54:08.978Z"
      },
      {
        "duration": 97,
        "start_time": "2023-07-29T22:54:09.813Z"
      },
      {
        "duration": 15,
        "start_time": "2023-07-29T22:54:09.912Z"
      },
      {
        "duration": 9,
        "start_time": "2023-07-29T22:54:09.928Z"
      },
      {
        "duration": 7,
        "start_time": "2023-07-29T22:54:09.940Z"
      },
      {
        "duration": 11,
        "start_time": "2023-07-29T22:54:09.948Z"
      },
      {
        "duration": 10,
        "start_time": "2023-07-29T22:54:09.961Z"
      },
      {
        "duration": 44,
        "start_time": "2023-07-29T22:54:09.973Z"
      },
      {
        "duration": 96,
        "start_time": "2023-07-29T22:54:10.018Z"
      },
      {
        "duration": 0,
        "start_time": "2023-07-29T22:54:10.119Z"
      },
      {
        "duration": 0,
        "start_time": "2023-07-29T22:54:10.120Z"
      },
      {
        "duration": 0,
        "start_time": "2023-07-29T22:54:10.121Z"
      },
      {
        "duration": 0,
        "start_time": "2023-07-29T22:54:10.123Z"
      },
      {
        "duration": 0,
        "start_time": "2023-07-29T22:54:10.124Z"
      },
      {
        "duration": 0,
        "start_time": "2023-07-29T22:54:10.126Z"
      },
      {
        "duration": 0,
        "start_time": "2023-07-29T22:54:10.127Z"
      },
      {
        "duration": 0,
        "start_time": "2023-07-29T22:54:10.128Z"
      },
      {
        "duration": 0,
        "start_time": "2023-07-29T22:54:10.129Z"
      },
      {
        "duration": 0,
        "start_time": "2023-07-29T22:54:10.131Z"
      },
      {
        "duration": 0,
        "start_time": "2023-07-29T22:54:10.132Z"
      },
      {
        "duration": 0,
        "start_time": "2023-07-29T22:54:10.133Z"
      },
      {
        "duration": 0,
        "start_time": "2023-07-29T22:54:10.134Z"
      },
      {
        "duration": 0,
        "start_time": "2023-07-29T22:54:10.135Z"
      },
      {
        "duration": 0,
        "start_time": "2023-07-29T22:54:10.136Z"
      },
      {
        "duration": 0,
        "start_time": "2023-07-29T22:54:10.137Z"
      },
      {
        "duration": 0,
        "start_time": "2023-07-29T22:54:10.138Z"
      },
      {
        "duration": 8,
        "start_time": "2023-07-29T22:54:31.134Z"
      },
      {
        "duration": 7,
        "start_time": "2023-07-29T22:54:39.710Z"
      },
      {
        "duration": 90,
        "start_time": "2023-07-29T22:54:39.719Z"
      },
      {
        "duration": 11,
        "start_time": "2023-07-29T22:54:39.811Z"
      },
      {
        "duration": 11,
        "start_time": "2023-07-29T22:54:39.989Z"
      },
      {
        "duration": 8,
        "start_time": "2023-07-29T22:54:40.002Z"
      },
      {
        "duration": 33,
        "start_time": "2023-07-29T22:54:40.014Z"
      },
      {
        "duration": 27,
        "start_time": "2023-07-29T22:54:40.048Z"
      },
      {
        "duration": 28,
        "start_time": "2023-07-29T22:54:40.077Z"
      },
      {
        "duration": 8,
        "start_time": "2023-07-29T22:54:48.564Z"
      },
      {
        "duration": 13,
        "start_time": "2023-07-29T22:54:57.809Z"
      },
      {
        "duration": 11,
        "start_time": "2023-07-29T22:55:07.143Z"
      },
      {
        "duration": 10,
        "start_time": "2023-07-29T22:55:19.236Z"
      },
      {
        "duration": 12,
        "start_time": "2023-07-29T22:55:41.371Z"
      },
      {
        "duration": 9,
        "start_time": "2023-07-29T22:57:49.039Z"
      },
      {
        "duration": 736,
        "start_time": "2023-07-29T23:01:18.616Z"
      },
      {
        "duration": 93,
        "start_time": "2023-07-29T23:01:19.354Z"
      },
      {
        "duration": 13,
        "start_time": "2023-07-29T23:01:19.450Z"
      },
      {
        "duration": 172,
        "start_time": "2023-07-29T23:01:19.464Z"
      },
      {
        "duration": 85,
        "start_time": "2023-07-29T23:01:19.639Z"
      },
      {
        "duration": 14,
        "start_time": "2023-07-29T23:01:19.726Z"
      },
      {
        "duration": 38,
        "start_time": "2023-07-29T23:01:19.742Z"
      },
      {
        "duration": 13,
        "start_time": "2023-07-29T23:01:19.781Z"
      },
      {
        "duration": 28,
        "start_time": "2023-07-29T23:01:19.800Z"
      },
      {
        "duration": 28,
        "start_time": "2023-07-29T23:01:19.831Z"
      },
      {
        "duration": 35,
        "start_time": "2023-07-29T23:01:19.860Z"
      },
      {
        "duration": 17,
        "start_time": "2023-07-29T23:01:19.897Z"
      },
      {
        "duration": 13,
        "start_time": "2023-07-29T23:01:19.917Z"
      },
      {
        "duration": 10,
        "start_time": "2023-07-29T23:01:19.933Z"
      },
      {
        "duration": 33,
        "start_time": "2023-07-29T23:01:19.945Z"
      },
      {
        "duration": 23,
        "start_time": "2023-07-29T23:01:19.980Z"
      },
      {
        "duration": 22,
        "start_time": "2023-07-29T23:01:20.005Z"
      },
      {
        "duration": 74,
        "start_time": "2023-07-29T23:01:20.030Z"
      },
      {
        "duration": 54,
        "start_time": "2023-07-29T23:01:20.106Z"
      },
      {
        "duration": 71,
        "start_time": "2023-07-29T23:01:20.162Z"
      },
      {
        "duration": 220,
        "start_time": "2023-07-29T23:01:20.235Z"
      },
      {
        "duration": 210,
        "start_time": "2023-07-29T23:01:20.457Z"
      },
      {
        "duration": 156,
        "start_time": "2023-07-29T23:01:20.668Z"
      },
      {
        "duration": 112,
        "start_time": "2023-07-29T23:01:20.826Z"
      },
      {
        "duration": 282,
        "start_time": "2023-07-29T23:01:20.940Z"
      },
      {
        "duration": 16,
        "start_time": "2023-07-29T23:01:21.225Z"
      },
      {
        "duration": 101,
        "start_time": "2023-07-29T23:02:06.225Z"
      },
      {
        "duration": 6,
        "start_time": "2023-07-29T23:02:29.168Z"
      },
      {
        "duration": 10,
        "start_time": "2023-07-29T23:03:37.014Z"
      },
      {
        "duration": 5,
        "start_time": "2023-07-29T23:03:56.934Z"
      },
      {
        "duration": 9,
        "start_time": "2023-07-29T23:04:01.110Z"
      },
      {
        "duration": 7,
        "start_time": "2023-07-29T23:04:04.657Z"
      },
      {
        "duration": 5,
        "start_time": "2023-07-29T23:04:08.041Z"
      },
      {
        "duration": 12,
        "start_time": "2023-07-29T23:04:10.809Z"
      },
      {
        "duration": 10,
        "start_time": "2023-07-29T23:04:13.924Z"
      },
      {
        "duration": 11,
        "start_time": "2023-07-29T23:04:14.606Z"
      },
      {
        "duration": 8,
        "start_time": "2023-07-29T23:04:21.081Z"
      },
      {
        "duration": 6,
        "start_time": "2023-07-29T23:04:23.279Z"
      },
      {
        "duration": 5,
        "start_time": "2023-07-29T23:09:59.469Z"
      },
      {
        "duration": 13,
        "start_time": "2023-07-29T23:10:15.302Z"
      },
      {
        "duration": 6,
        "start_time": "2023-07-29T23:10:27.582Z"
      },
      {
        "duration": 7,
        "start_time": "2023-07-29T23:10:45.237Z"
      },
      {
        "duration": 6,
        "start_time": "2023-07-29T23:11:15.715Z"
      },
      {
        "duration": 5,
        "start_time": "2023-07-29T23:11:22.460Z"
      },
      {
        "duration": 3,
        "start_time": "2023-07-29T23:11:25.354Z"
      },
      {
        "duration": 4,
        "start_time": "2023-07-29T23:11:28.126Z"
      },
      {
        "duration": 5,
        "start_time": "2023-07-29T23:11:32.161Z"
      },
      {
        "duration": 7,
        "start_time": "2023-07-29T23:11:37.416Z"
      },
      {
        "duration": 5,
        "start_time": "2023-07-29T23:11:42.165Z"
      },
      {
        "duration": 239,
        "start_time": "2023-07-29T23:14:14.813Z"
      },
      {
        "duration": 242,
        "start_time": "2023-07-29T23:14:38.062Z"
      },
      {
        "duration": 212,
        "start_time": "2023-07-29T23:14:48.153Z"
      },
      {
        "duration": 56,
        "start_time": "2023-07-29T23:16:32.049Z"
      },
      {
        "duration": 682,
        "start_time": "2023-07-29T23:16:45.704Z"
      },
      {
        "duration": 76,
        "start_time": "2023-07-29T23:16:46.392Z"
      },
      {
        "duration": 13,
        "start_time": "2023-07-29T23:16:46.469Z"
      },
      {
        "duration": 36,
        "start_time": "2023-07-29T23:16:46.485Z"
      },
      {
        "duration": 14,
        "start_time": "2023-07-29T23:16:46.523Z"
      },
      {
        "duration": 30,
        "start_time": "2023-07-29T23:16:46.539Z"
      },
      {
        "duration": 51,
        "start_time": "2023-07-29T23:16:46.571Z"
      },
      {
        "duration": 18,
        "start_time": "2023-07-29T23:16:46.628Z"
      },
      {
        "duration": 31,
        "start_time": "2023-07-29T23:16:46.647Z"
      },
      {
        "duration": 28,
        "start_time": "2023-07-29T23:16:46.681Z"
      },
      {
        "duration": 8,
        "start_time": "2023-07-29T23:16:46.722Z"
      },
      {
        "duration": 5,
        "start_time": "2023-07-29T23:16:46.732Z"
      },
      {
        "duration": 6,
        "start_time": "2023-07-29T23:16:46.739Z"
      },
      {
        "duration": 8,
        "start_time": "2023-07-29T23:16:46.747Z"
      },
      {
        "duration": 6,
        "start_time": "2023-07-29T23:16:46.757Z"
      },
      {
        "duration": 8,
        "start_time": "2023-07-29T23:16:46.765Z"
      },
      {
        "duration": 29,
        "start_time": "2023-07-29T23:16:46.774Z"
      },
      {
        "duration": 6,
        "start_time": "2023-07-29T23:16:46.813Z"
      },
      {
        "duration": 12,
        "start_time": "2023-07-29T23:16:46.821Z"
      },
      {
        "duration": 6,
        "start_time": "2023-07-29T23:16:46.837Z"
      },
      {
        "duration": 185,
        "start_time": "2023-07-29T23:16:46.844Z"
      },
      {
        "duration": 207,
        "start_time": "2023-07-29T23:16:47.031Z"
      },
      {
        "duration": 142,
        "start_time": "2023-07-29T23:16:47.240Z"
      },
      {
        "duration": 129,
        "start_time": "2023-07-29T23:16:47.383Z"
      },
      {
        "duration": 11,
        "start_time": "2023-07-29T23:16:47.513Z"
      },
      {
        "duration": 5,
        "start_time": "2023-07-29T23:16:47.526Z"
      },
      {
        "duration": 282,
        "start_time": "2023-07-29T23:16:47.533Z"
      },
      {
        "duration": 5,
        "start_time": "2023-07-29T23:19:31.749Z"
      },
      {
        "duration": 73,
        "start_time": "2023-07-29T23:19:41.839Z"
      },
      {
        "duration": 140,
        "start_time": "2023-07-29T23:20:16.339Z"
      },
      {
        "duration": 162,
        "start_time": "2023-07-29T23:20:29.178Z"
      },
      {
        "duration": 163,
        "start_time": "2023-07-29T23:20:39.749Z"
      },
      {
        "duration": 164,
        "start_time": "2023-07-29T23:21:46.453Z"
      },
      {
        "duration": 144,
        "start_time": "2023-07-29T23:21:59.120Z"
      },
      {
        "duration": 10,
        "start_time": "2023-07-29T23:31:00.715Z"
      },
      {
        "duration": 14,
        "start_time": "2023-07-29T23:33:13.113Z"
      },
      {
        "duration": 159,
        "start_time": "2023-07-29T23:34:25.099Z"
      },
      {
        "duration": 157,
        "start_time": "2023-07-29T23:35:00.343Z"
      },
      {
        "duration": 150,
        "start_time": "2023-07-29T23:35:18.723Z"
      },
      {
        "duration": 144,
        "start_time": "2023-07-29T23:35:46.319Z"
      },
      {
        "duration": 162,
        "start_time": "2023-07-29T23:36:12.017Z"
      },
      {
        "duration": 251,
        "start_time": "2023-07-29T23:37:36.817Z"
      },
      {
        "duration": 182,
        "start_time": "2023-07-29T23:38:36.925Z"
      },
      {
        "duration": 25,
        "start_time": "2023-07-29T23:39:10.982Z"
      },
      {
        "duration": 123,
        "start_time": "2023-07-29T23:39:38.027Z"
      },
      {
        "duration": 8,
        "start_time": "2023-07-29T23:43:56.236Z"
      },
      {
        "duration": 9,
        "start_time": "2023-07-29T23:47:37.505Z"
      },
      {
        "duration": 7,
        "start_time": "2023-07-29T23:47:43.511Z"
      },
      {
        "duration": 9,
        "start_time": "2023-07-29T23:47:46.614Z"
      },
      {
        "duration": 4,
        "start_time": "2023-07-29T23:47:54.049Z"
      },
      {
        "duration": 5,
        "start_time": "2023-07-29T23:48:26.946Z"
      },
      {
        "duration": 46,
        "start_time": "2023-07-30T08:52:32.451Z"
      },
      {
        "duration": 852,
        "start_time": "2023-07-30T08:52:39.259Z"
      },
      {
        "duration": 204,
        "start_time": "2023-07-30T08:52:40.113Z"
      },
      {
        "duration": 12,
        "start_time": "2023-07-30T08:52:40.319Z"
      },
      {
        "duration": 19,
        "start_time": "2023-07-30T08:52:40.334Z"
      },
      {
        "duration": 35,
        "start_time": "2023-07-30T08:52:40.355Z"
      },
      {
        "duration": 27,
        "start_time": "2023-07-30T08:52:40.392Z"
      },
      {
        "duration": 34,
        "start_time": "2023-07-30T08:52:40.420Z"
      },
      {
        "duration": 16,
        "start_time": "2023-07-30T08:52:40.456Z"
      },
      {
        "duration": 29,
        "start_time": "2023-07-30T08:52:40.474Z"
      },
      {
        "duration": 12,
        "start_time": "2023-07-30T08:52:40.506Z"
      },
      {
        "duration": 7,
        "start_time": "2023-07-30T08:52:40.519Z"
      },
      {
        "duration": 7,
        "start_time": "2023-07-30T08:52:40.528Z"
      },
      {
        "duration": 9,
        "start_time": "2023-07-30T08:52:40.537Z"
      },
      {
        "duration": 26,
        "start_time": "2023-07-30T08:52:40.548Z"
      },
      {
        "duration": 15,
        "start_time": "2023-07-30T08:52:40.575Z"
      },
      {
        "duration": 21,
        "start_time": "2023-07-30T08:52:40.591Z"
      },
      {
        "duration": 15,
        "start_time": "2023-07-30T08:52:40.614Z"
      },
      {
        "duration": 10,
        "start_time": "2023-07-30T08:52:40.630Z"
      },
      {
        "duration": 7,
        "start_time": "2023-07-30T08:52:40.641Z"
      },
      {
        "duration": 23,
        "start_time": "2023-07-30T08:52:40.649Z"
      },
      {
        "duration": 172,
        "start_time": "2023-07-30T08:52:40.673Z"
      },
      {
        "duration": 175,
        "start_time": "2023-07-30T08:52:40.847Z"
      },
      {
        "duration": 125,
        "start_time": "2023-07-30T08:52:41.024Z"
      },
      {
        "duration": 104,
        "start_time": "2023-07-30T08:52:41.150Z"
      },
      {
        "duration": 4,
        "start_time": "2023-07-30T08:52:41.256Z"
      },
      {
        "duration": 208,
        "start_time": "2023-07-30T08:52:41.270Z"
      },
      {
        "duration": 212,
        "start_time": "2023-07-30T08:52:41.480Z"
      },
      {
        "duration": 7,
        "start_time": "2023-07-30T08:52:41.695Z"
      },
      {
        "duration": 137,
        "start_time": "2023-07-30T08:52:41.704Z"
      },
      {
        "duration": 161,
        "start_time": "2023-07-30T08:52:41.843Z"
      },
      {
        "duration": 8,
        "start_time": "2023-07-30T08:52:42.005Z"
      },
      {
        "duration": 40,
        "start_time": "2023-07-30T08:52:42.014Z"
      },
      {
        "duration": 8,
        "start_time": "2023-07-30T08:53:19.799Z"
      },
      {
        "duration": 8,
        "start_time": "2023-07-30T08:53:51.321Z"
      },
      {
        "duration": 8,
        "start_time": "2023-07-30T08:54:00.011Z"
      },
      {
        "duration": 6,
        "start_time": "2023-07-30T09:39:22.299Z"
      },
      {
        "duration": 13,
        "start_time": "2023-07-30T11:39:22.595Z"
      },
      {
        "duration": 14,
        "start_time": "2023-07-30T11:39:28.652Z"
      },
      {
        "duration": 24,
        "start_time": "2023-07-30T11:45:57.886Z"
      },
      {
        "duration": 32,
        "start_time": "2023-07-30T11:51:22.368Z"
      },
      {
        "duration": 7,
        "start_time": "2023-07-30T11:51:37.295Z"
      },
      {
        "duration": 34,
        "start_time": "2023-07-30T12:16:13.817Z"
      },
      {
        "duration": 21,
        "start_time": "2023-07-30T12:16:22.919Z"
      },
      {
        "duration": 83,
        "start_time": "2023-07-30T12:17:54.891Z"
      },
      {
        "duration": 22,
        "start_time": "2023-07-30T12:18:04.003Z"
      },
      {
        "duration": 33,
        "start_time": "2023-07-30T12:21:54.055Z"
      },
      {
        "duration": 23,
        "start_time": "2023-07-30T12:22:01.467Z"
      },
      {
        "duration": 21,
        "start_time": "2023-07-30T12:23:37.109Z"
      },
      {
        "duration": 7,
        "start_time": "2023-07-30T12:25:43.055Z"
      },
      {
        "duration": 33,
        "start_time": "2023-07-30T12:25:53.075Z"
      },
      {
        "duration": 24,
        "start_time": "2023-07-30T12:25:57.216Z"
      },
      {
        "duration": 27,
        "start_time": "2023-07-30T12:29:02.868Z"
      },
      {
        "duration": 32,
        "start_time": "2023-07-30T12:29:03.807Z"
      },
      {
        "duration": 18,
        "start_time": "2023-07-30T12:29:04.555Z"
      },
      {
        "duration": 21,
        "start_time": "2023-07-30T12:29:10.471Z"
      },
      {
        "duration": 18,
        "start_time": "2023-07-30T12:32:23.843Z"
      },
      {
        "duration": 19,
        "start_time": "2023-07-30T12:33:00.755Z"
      },
      {
        "duration": 19,
        "start_time": "2023-07-30T12:39:49.413Z"
      },
      {
        "duration": 24,
        "start_time": "2023-07-30T12:42:51.417Z"
      },
      {
        "duration": 6,
        "start_time": "2023-07-30T12:43:07.969Z"
      },
      {
        "duration": 6,
        "start_time": "2023-07-30T12:44:50.697Z"
      },
      {
        "duration": 130,
        "start_time": "2023-07-30T12:44:57.766Z"
      },
      {
        "duration": 6,
        "start_time": "2023-07-30T12:45:01.119Z"
      },
      {
        "duration": 119,
        "start_time": "2023-07-30T12:45:03.619Z"
      },
      {
        "duration": 132,
        "start_time": "2023-07-30T12:45:40.225Z"
      },
      {
        "duration": 179,
        "start_time": "2023-07-30T12:46:09.984Z"
      },
      {
        "duration": 172,
        "start_time": "2023-07-30T12:49:36.995Z"
      },
      {
        "duration": 202,
        "start_time": "2023-07-30T12:52:40.614Z"
      },
      {
        "duration": 192,
        "start_time": "2023-07-30T13:02:27.259Z"
      },
      {
        "duration": 235,
        "start_time": "2023-07-30T13:03:01.256Z"
      },
      {
        "duration": 299,
        "start_time": "2023-07-30T13:06:56.151Z"
      },
      {
        "duration": 205,
        "start_time": "2023-07-30T13:11:58.116Z"
      },
      {
        "duration": 229,
        "start_time": "2023-07-30T13:12:09.121Z"
      },
      {
        "duration": 209,
        "start_time": "2023-07-30T13:12:21.400Z"
      },
      {
        "duration": 19,
        "start_time": "2023-07-30T14:26:33.780Z"
      },
      {
        "duration": 21,
        "start_time": "2023-07-30T14:33:49.847Z"
      },
      {
        "duration": 1030,
        "start_time": "2023-07-30T14:44:13.776Z"
      },
      {
        "duration": 12,
        "start_time": "2023-07-30T14:51:25.955Z"
      },
      {
        "duration": 117,
        "start_time": "2023-07-30T14:51:37.144Z"
      },
      {
        "duration": 29,
        "start_time": "2023-07-30T14:54:33.384Z"
      },
      {
        "duration": 47,
        "start_time": "2023-07-30T14:55:10.462Z"
      },
      {
        "duration": 40,
        "start_time": "2023-07-30T14:55:24.171Z"
      },
      {
        "duration": 25,
        "start_time": "2023-07-30T14:57:28.263Z"
      },
      {
        "duration": 16,
        "start_time": "2023-07-30T15:00:57.753Z"
      },
      {
        "duration": 23,
        "start_time": "2023-07-30T15:02:27.501Z"
      },
      {
        "duration": 22,
        "start_time": "2023-07-30T15:24:12.449Z"
      },
      {
        "duration": 6,
        "start_time": "2023-07-30T15:26:44.348Z"
      },
      {
        "duration": 4,
        "start_time": "2023-07-30T15:28:56.388Z"
      },
      {
        "duration": 4,
        "start_time": "2023-07-30T15:29:26.344Z"
      },
      {
        "duration": 33,
        "start_time": "2023-07-30T15:29:30.344Z"
      },
      {
        "duration": 33,
        "start_time": "2023-07-30T16:03:21.083Z"
      },
      {
        "duration": 1256,
        "start_time": "2023-07-30T16:03:38.161Z"
      },
      {
        "duration": 1064,
        "start_time": "2023-07-30T16:04:10.549Z"
      },
      {
        "duration": 6,
        "start_time": "2023-07-30T16:06:21.285Z"
      },
      {
        "duration": 20,
        "start_time": "2023-07-30T16:06:48.079Z"
      },
      {
        "duration": 6,
        "start_time": "2023-07-30T16:08:20.362Z"
      },
      {
        "duration": 31,
        "start_time": "2023-07-30T16:12:28.801Z"
      },
      {
        "duration": 28,
        "start_time": "2023-07-30T17:01:49.319Z"
      },
      {
        "duration": 1534,
        "start_time": "2023-07-30T17:02:44.919Z"
      },
      {
        "duration": 26,
        "start_time": "2023-07-30T17:11:10.494Z"
      },
      {
        "duration": 1143,
        "start_time": "2023-07-30T17:11:39.610Z"
      },
      {
        "duration": 7,
        "start_time": "2023-07-30T17:19:08.540Z"
      },
      {
        "duration": 15,
        "start_time": "2023-07-30T19:44:49.442Z"
      },
      {
        "duration": 7,
        "start_time": "2023-07-30T19:46:55.644Z"
      },
      {
        "duration": 78,
        "start_time": "2023-07-30T19:53:17.399Z"
      },
      {
        "duration": 4,
        "start_time": "2023-07-30T19:54:21.788Z"
      },
      {
        "duration": 241,
        "start_time": "2023-07-30T19:57:01.650Z"
      },
      {
        "duration": 29,
        "start_time": "2023-07-30T19:57:12.152Z"
      },
      {
        "duration": 26,
        "start_time": "2023-07-30T20:00:51.144Z"
      },
      {
        "duration": 4,
        "start_time": "2023-07-30T20:17:53.891Z"
      },
      {
        "duration": 25,
        "start_time": "2023-07-30T20:29:03.165Z"
      },
      {
        "duration": 13,
        "start_time": "2023-07-30T20:36:28.084Z"
      },
      {
        "duration": 9,
        "start_time": "2023-07-30T20:36:54.194Z"
      },
      {
        "duration": 55,
        "start_time": "2023-07-31T15:13:05.384Z"
      },
      {
        "duration": 803,
        "start_time": "2023-07-31T15:13:11.959Z"
      },
      {
        "duration": 201,
        "start_time": "2023-07-31T15:13:12.763Z"
      },
      {
        "duration": 12,
        "start_time": "2023-07-31T15:13:12.965Z"
      },
      {
        "duration": 35,
        "start_time": "2023-07-31T15:13:12.979Z"
      },
      {
        "duration": 26,
        "start_time": "2023-07-31T15:13:13.015Z"
      },
      {
        "duration": 17,
        "start_time": "2023-07-31T15:13:13.042Z"
      },
      {
        "duration": 18,
        "start_time": "2023-07-31T15:13:13.061Z"
      },
      {
        "duration": 18,
        "start_time": "2023-07-31T15:13:13.081Z"
      },
      {
        "duration": 39,
        "start_time": "2023-07-31T15:13:13.100Z"
      },
      {
        "duration": 19,
        "start_time": "2023-07-31T15:13:13.141Z"
      },
      {
        "duration": 10,
        "start_time": "2023-07-31T15:13:13.161Z"
      },
      {
        "duration": 17,
        "start_time": "2023-07-31T15:13:13.172Z"
      },
      {
        "duration": 8,
        "start_time": "2023-07-31T15:13:13.190Z"
      },
      {
        "duration": 10,
        "start_time": "2023-07-31T15:13:13.199Z"
      },
      {
        "duration": 25,
        "start_time": "2023-07-31T15:13:13.210Z"
      },
      {
        "duration": 8,
        "start_time": "2023-07-31T15:13:13.236Z"
      },
      {
        "duration": 8,
        "start_time": "2023-07-31T15:13:13.245Z"
      },
      {
        "duration": 9,
        "start_time": "2023-07-31T15:13:13.254Z"
      },
      {
        "duration": 6,
        "start_time": "2023-07-31T15:13:13.264Z"
      },
      {
        "duration": 12,
        "start_time": "2023-07-31T15:13:13.271Z"
      },
      {
        "duration": 126,
        "start_time": "2023-07-31T15:13:13.284Z"
      },
      {
        "duration": 148,
        "start_time": "2023-07-31T15:13:13.411Z"
      },
      {
        "duration": 5,
        "start_time": "2023-07-31T15:13:13.561Z"
      },
      {
        "duration": 104,
        "start_time": "2023-07-31T15:13:13.567Z"
      },
      {
        "duration": 96,
        "start_time": "2023-07-31T15:13:13.673Z"
      },
      {
        "duration": 3,
        "start_time": "2023-07-31T15:13:13.771Z"
      },
      {
        "duration": 9,
        "start_time": "2023-07-31T15:13:13.775Z"
      },
      {
        "duration": 196,
        "start_time": "2023-07-31T15:13:13.787Z"
      },
      {
        "duration": 8,
        "start_time": "2023-07-31T15:13:13.984Z"
      },
      {
        "duration": 136,
        "start_time": "2023-07-31T15:13:13.993Z"
      },
      {
        "duration": 141,
        "start_time": "2023-07-31T15:13:14.131Z"
      },
      {
        "duration": 6,
        "start_time": "2023-07-31T15:13:14.274Z"
      },
      {
        "duration": 33,
        "start_time": "2023-07-31T15:13:14.282Z"
      },
      {
        "duration": 56,
        "start_time": "2023-07-31T15:13:14.316Z"
      },
      {
        "duration": 19,
        "start_time": "2023-07-31T15:13:14.373Z"
      },
      {
        "duration": 22,
        "start_time": "2023-07-31T15:13:14.394Z"
      },
      {
        "duration": 36,
        "start_time": "2023-07-31T15:13:14.418Z"
      },
      {
        "duration": 153,
        "start_time": "2023-07-31T15:13:14.455Z"
      },
      {
        "duration": 160,
        "start_time": "2023-07-31T15:13:14.610Z"
      },
      {
        "duration": 166,
        "start_time": "2023-07-31T15:13:14.772Z"
      },
      {
        "duration": 185,
        "start_time": "2023-07-31T15:13:14.940Z"
      },
      {
        "duration": 4,
        "start_time": "2023-07-31T15:13:15.130Z"
      },
      {
        "duration": 866,
        "start_time": "2023-07-31T15:13:15.135Z"
      },
      {
        "duration": 3,
        "start_time": "2023-07-31T15:13:16.002Z"
      },
      {
        "duration": 157,
        "start_time": "2023-07-31T15:13:16.022Z"
      },
      {
        "duration": 14,
        "start_time": "2023-07-31T15:13:16.181Z"
      },
      {
        "duration": 16,
        "start_time": "2023-07-31T15:31:13.117Z"
      },
      {
        "duration": 24,
        "start_time": "2023-07-31T15:31:36.861Z"
      },
      {
        "duration": 8,
        "start_time": "2023-07-31T15:35:25.689Z"
      },
      {
        "duration": 171,
        "start_time": "2023-08-01T11:42:53.777Z"
      },
      {
        "duration": 830,
        "start_time": "2023-08-01T11:43:05.668Z"
      },
      {
        "duration": 295,
        "start_time": "2023-08-01T11:43:06.500Z"
      },
      {
        "duration": 13,
        "start_time": "2023-08-01T11:43:06.797Z"
      },
      {
        "duration": 9,
        "start_time": "2023-08-01T11:43:06.812Z"
      },
      {
        "duration": 11,
        "start_time": "2023-08-01T11:43:06.823Z"
      },
      {
        "duration": 28,
        "start_time": "2023-08-01T11:43:06.835Z"
      },
      {
        "duration": 14,
        "start_time": "2023-08-01T11:43:06.864Z"
      },
      {
        "duration": 9,
        "start_time": "2023-08-01T11:43:06.879Z"
      },
      {
        "duration": 13,
        "start_time": "2023-08-01T11:43:06.890Z"
      },
      {
        "duration": 15,
        "start_time": "2023-08-01T11:43:06.905Z"
      },
      {
        "duration": 20,
        "start_time": "2023-08-01T11:43:06.921Z"
      },
      {
        "duration": 13,
        "start_time": "2023-08-01T11:43:06.942Z"
      },
      {
        "duration": 5,
        "start_time": "2023-08-01T11:43:06.956Z"
      },
      {
        "duration": 8,
        "start_time": "2023-08-01T11:43:06.963Z"
      },
      {
        "duration": 5,
        "start_time": "2023-08-01T11:43:06.972Z"
      },
      {
        "duration": 11,
        "start_time": "2023-08-01T11:43:06.978Z"
      },
      {
        "duration": 20,
        "start_time": "2023-08-01T11:43:06.990Z"
      },
      {
        "duration": 13,
        "start_time": "2023-08-01T11:43:07.011Z"
      },
      {
        "duration": 19,
        "start_time": "2023-08-01T11:43:07.025Z"
      },
      {
        "duration": 13,
        "start_time": "2023-08-01T11:43:07.045Z"
      },
      {
        "duration": 144,
        "start_time": "2023-08-01T11:43:07.060Z"
      },
      {
        "duration": 158,
        "start_time": "2023-08-01T11:43:07.206Z"
      },
      {
        "duration": 6,
        "start_time": "2023-08-01T11:43:07.373Z"
      },
      {
        "duration": 104,
        "start_time": "2023-08-01T11:43:07.380Z"
      },
      {
        "duration": 100,
        "start_time": "2023-08-01T11:43:07.485Z"
      },
      {
        "duration": 4,
        "start_time": "2023-08-01T11:43:07.587Z"
      },
      {
        "duration": 16,
        "start_time": "2023-08-01T11:43:07.592Z"
      },
      {
        "duration": 217,
        "start_time": "2023-08-01T11:43:07.612Z"
      },
      {
        "duration": 8,
        "start_time": "2023-08-01T11:43:07.830Z"
      },
      {
        "duration": 139,
        "start_time": "2023-08-01T11:43:07.839Z"
      },
      {
        "duration": 155,
        "start_time": "2023-08-01T11:43:07.979Z"
      },
      {
        "duration": 7,
        "start_time": "2023-08-01T11:43:08.136Z"
      },
      {
        "duration": 17,
        "start_time": "2023-08-01T11:43:08.144Z"
      },
      {
        "duration": 35,
        "start_time": "2023-08-01T11:43:08.162Z"
      },
      {
        "duration": 21,
        "start_time": "2023-08-01T11:43:08.198Z"
      },
      {
        "duration": 25,
        "start_time": "2023-08-01T11:43:08.220Z"
      },
      {
        "duration": 42,
        "start_time": "2023-08-01T11:43:08.246Z"
      },
      {
        "duration": 159,
        "start_time": "2023-08-01T11:43:08.289Z"
      },
      {
        "duration": 183,
        "start_time": "2023-08-01T11:43:08.449Z"
      },
      {
        "duration": 176,
        "start_time": "2023-08-01T11:43:08.634Z"
      },
      {
        "duration": 202,
        "start_time": "2023-08-01T11:43:08.811Z"
      },
      {
        "duration": 4,
        "start_time": "2023-08-01T11:43:09.014Z"
      },
      {
        "duration": 796,
        "start_time": "2023-08-01T11:43:09.019Z"
      },
      {
        "duration": 3,
        "start_time": "2023-08-01T11:43:09.817Z"
      },
      {
        "duration": 137,
        "start_time": "2023-08-01T11:43:09.821Z"
      },
      {
        "duration": 21,
        "start_time": "2023-08-01T11:43:09.960Z"
      },
      {
        "duration": 8,
        "start_time": "2023-08-01T11:43:09.982Z"
      },
      {
        "duration": 626,
        "start_time": "2023-08-01T11:50:55.679Z"
      },
      {
        "duration": 68,
        "start_time": "2023-08-01T11:50:56.307Z"
      },
      {
        "duration": 12,
        "start_time": "2023-08-01T11:50:56.378Z"
      },
      {
        "duration": 29,
        "start_time": "2023-08-01T11:50:56.392Z"
      },
      {
        "duration": 10,
        "start_time": "2023-08-01T11:50:56.422Z"
      },
      {
        "duration": 17,
        "start_time": "2023-08-01T11:50:56.433Z"
      },
      {
        "duration": 12,
        "start_time": "2023-08-01T11:50:56.451Z"
      },
      {
        "duration": 19,
        "start_time": "2023-08-01T11:50:56.465Z"
      },
      {
        "duration": 12,
        "start_time": "2023-08-01T11:50:56.485Z"
      },
      {
        "duration": 18,
        "start_time": "2023-08-01T11:50:56.499Z"
      },
      {
        "duration": 15,
        "start_time": "2023-08-01T11:50:56.519Z"
      },
      {
        "duration": 6,
        "start_time": "2023-08-01T11:50:56.535Z"
      },
      {
        "duration": 24,
        "start_time": "2023-08-01T11:50:56.542Z"
      },
      {
        "duration": 10,
        "start_time": "2023-08-01T11:50:56.567Z"
      },
      {
        "duration": 5,
        "start_time": "2023-08-01T11:50:56.578Z"
      },
      {
        "duration": 11,
        "start_time": "2023-08-01T11:50:56.585Z"
      },
      {
        "duration": 8,
        "start_time": "2023-08-01T11:50:56.597Z"
      },
      {
        "duration": 9,
        "start_time": "2023-08-01T11:50:56.607Z"
      },
      {
        "duration": 7,
        "start_time": "2023-08-01T11:50:56.618Z"
      },
      {
        "duration": 7,
        "start_time": "2023-08-01T11:50:56.626Z"
      },
      {
        "duration": 152,
        "start_time": "2023-08-01T11:50:56.635Z"
      },
      {
        "duration": 156,
        "start_time": "2023-08-01T11:50:56.789Z"
      },
      {
        "duration": 6,
        "start_time": "2023-08-01T11:50:56.947Z"
      },
      {
        "duration": 125,
        "start_time": "2023-08-01T11:50:56.955Z"
      },
      {
        "duration": 93,
        "start_time": "2023-08-01T11:50:57.081Z"
      },
      {
        "duration": 4,
        "start_time": "2023-08-01T11:50:57.176Z"
      },
      {
        "duration": 5,
        "start_time": "2023-08-01T11:50:57.181Z"
      },
      {
        "duration": 195,
        "start_time": "2023-08-01T11:50:57.189Z"
      },
      {
        "duration": 7,
        "start_time": "2023-08-01T11:50:57.386Z"
      },
      {
        "duration": 123,
        "start_time": "2023-08-01T11:50:57.394Z"
      },
      {
        "duration": 154,
        "start_time": "2023-08-01T11:50:57.519Z"
      },
      {
        "duration": 8,
        "start_time": "2023-08-01T11:50:57.675Z"
      },
      {
        "duration": 39,
        "start_time": "2023-08-01T11:50:57.684Z"
      },
      {
        "duration": 40,
        "start_time": "2023-08-01T11:50:57.725Z"
      },
      {
        "duration": 18,
        "start_time": "2023-08-01T11:50:57.767Z"
      },
      {
        "duration": 24,
        "start_time": "2023-08-01T11:50:57.787Z"
      },
      {
        "duration": 28,
        "start_time": "2023-08-01T11:50:57.812Z"
      },
      {
        "duration": 153,
        "start_time": "2023-08-01T11:50:57.841Z"
      },
      {
        "duration": 172,
        "start_time": "2023-08-01T11:50:57.995Z"
      },
      {
        "duration": 163,
        "start_time": "2023-08-01T11:50:58.169Z"
      },
      {
        "duration": 180,
        "start_time": "2023-08-01T11:50:58.334Z"
      },
      {
        "duration": 4,
        "start_time": "2023-08-01T11:50:58.515Z"
      },
      {
        "duration": 855,
        "start_time": "2023-08-01T11:50:58.520Z"
      },
      {
        "duration": 3,
        "start_time": "2023-08-01T11:50:59.376Z"
      },
      {
        "duration": 136,
        "start_time": "2023-08-01T11:50:59.380Z"
      },
      {
        "duration": 18,
        "start_time": "2023-08-01T11:50:59.517Z"
      },
      {
        "duration": 9,
        "start_time": "2023-08-01T11:50:59.536Z"
      },
      {
        "duration": 87,
        "start_time": "2023-08-01T11:50:59.546Z"
      },
      {
        "duration": 448,
        "start_time": "2023-08-01T11:53:44.988Z"
      },
      {
        "duration": 6,
        "start_time": "2023-08-01T11:54:13.813Z"
      },
      {
        "duration": 19,
        "start_time": "2023-08-01T12:03:29.925Z"
      },
      {
        "duration": 16,
        "start_time": "2023-08-01T12:04:40.538Z"
      },
      {
        "duration": 5,
        "start_time": "2023-08-01T12:05:04.534Z"
      },
      {
        "duration": 5,
        "start_time": "2023-08-01T12:38:15.967Z"
      },
      {
        "duration": 6,
        "start_time": "2023-08-01T12:42:35.469Z"
      },
      {
        "duration": 6,
        "start_time": "2023-08-01T12:42:51.744Z"
      },
      {
        "duration": 5,
        "start_time": "2023-08-01T12:58:37.807Z"
      },
      {
        "duration": 4,
        "start_time": "2023-08-01T12:58:49.686Z"
      },
      {
        "duration": 5,
        "start_time": "2023-08-01T13:01:13.150Z"
      },
      {
        "duration": 1132,
        "start_time": "2023-08-01T13:01:42.280Z"
      },
      {
        "duration": 66,
        "start_time": "2023-08-01T13:01:43.414Z"
      },
      {
        "duration": 11,
        "start_time": "2023-08-01T13:01:43.482Z"
      },
      {
        "duration": 40,
        "start_time": "2023-08-01T13:01:43.494Z"
      },
      {
        "duration": 49,
        "start_time": "2023-08-01T13:01:43.536Z"
      },
      {
        "duration": 33,
        "start_time": "2023-08-01T13:01:43.587Z"
      },
      {
        "duration": 14,
        "start_time": "2023-08-01T13:01:43.622Z"
      },
      {
        "duration": 17,
        "start_time": "2023-08-01T13:01:43.637Z"
      },
      {
        "duration": 56,
        "start_time": "2023-08-01T13:01:43.655Z"
      },
      {
        "duration": 20,
        "start_time": "2023-08-01T13:01:43.713Z"
      },
      {
        "duration": 9,
        "start_time": "2023-08-01T13:01:43.735Z"
      },
      {
        "duration": 10,
        "start_time": "2023-08-01T13:01:43.746Z"
      },
      {
        "duration": 11,
        "start_time": "2023-08-01T13:01:43.758Z"
      },
      {
        "duration": 11,
        "start_time": "2023-08-01T13:01:43.772Z"
      },
      {
        "duration": 14,
        "start_time": "2023-08-01T13:01:43.785Z"
      },
      {
        "duration": 9,
        "start_time": "2023-08-01T13:01:43.800Z"
      },
      {
        "duration": 14,
        "start_time": "2023-08-01T13:01:43.810Z"
      },
      {
        "duration": 6,
        "start_time": "2023-08-01T13:01:43.826Z"
      },
      {
        "duration": 68,
        "start_time": "2023-08-01T13:01:43.835Z"
      },
      {
        "duration": 27,
        "start_time": "2023-08-01T13:01:43.905Z"
      },
      {
        "duration": 152,
        "start_time": "2023-08-01T13:01:43.934Z"
      },
      {
        "duration": 166,
        "start_time": "2023-08-01T13:01:44.088Z"
      },
      {
        "duration": 6,
        "start_time": "2023-08-01T13:01:44.256Z"
      },
      {
        "duration": 132,
        "start_time": "2023-08-01T13:01:44.264Z"
      },
      {
        "duration": 111,
        "start_time": "2023-08-01T13:01:44.398Z"
      },
      {
        "duration": 4,
        "start_time": "2023-08-01T13:01:44.510Z"
      },
      {
        "duration": 16,
        "start_time": "2023-08-01T13:01:44.516Z"
      },
      {
        "duration": 171,
        "start_time": "2023-08-01T13:01:44.534Z"
      },
      {
        "duration": 8,
        "start_time": "2023-08-01T13:01:44.706Z"
      },
      {
        "duration": 128,
        "start_time": "2023-08-01T13:01:44.715Z"
      },
      {
        "duration": 171,
        "start_time": "2023-08-01T13:01:44.844Z"
      },
      {
        "duration": 8,
        "start_time": "2023-08-01T13:01:45.016Z"
      },
      {
        "duration": 61,
        "start_time": "2023-08-01T13:01:45.025Z"
      },
      {
        "duration": 72,
        "start_time": "2023-08-01T13:01:45.088Z"
      },
      {
        "duration": 20,
        "start_time": "2023-08-01T13:01:45.162Z"
      },
      {
        "duration": 35,
        "start_time": "2023-08-01T13:01:45.184Z"
      },
      {
        "duration": 24,
        "start_time": "2023-08-01T13:01:45.221Z"
      },
      {
        "duration": 39,
        "start_time": "2023-08-01T13:01:45.247Z"
      },
      {
        "duration": 17,
        "start_time": "2023-08-01T13:01:45.288Z"
      },
      {
        "duration": 182,
        "start_time": "2023-08-01T13:01:45.307Z"
      },
      {
        "duration": 181,
        "start_time": "2023-08-01T13:01:45.493Z"
      },
      {
        "duration": 245,
        "start_time": "2023-08-01T13:01:45.676Z"
      },
      {
        "duration": 191,
        "start_time": "2023-08-01T13:01:45.923Z"
      },
      {
        "duration": 4,
        "start_time": "2023-08-01T13:01:46.116Z"
      },
      {
        "duration": 798,
        "start_time": "2023-08-01T13:01:46.121Z"
      },
      {
        "duration": 3,
        "start_time": "2023-08-01T13:01:46.921Z"
      },
      {
        "duration": 139,
        "start_time": "2023-08-01T13:01:46.926Z"
      },
      {
        "duration": 23,
        "start_time": "2023-08-01T13:01:47.066Z"
      },
      {
        "duration": 8,
        "start_time": "2023-08-01T13:01:47.091Z"
      },
      {
        "duration": 35,
        "start_time": "2023-08-01T13:01:47.100Z"
      },
      {
        "duration": 16,
        "start_time": "2023-08-01T13:01:47.136Z"
      },
      {
        "duration": 16,
        "start_time": "2023-08-01T13:01:47.153Z"
      },
      {
        "duration": 6,
        "start_time": "2023-08-01T13:25:07.275Z"
      },
      {
        "duration": 6,
        "start_time": "2023-08-01T13:32:14.550Z"
      },
      {
        "duration": 6,
        "start_time": "2023-08-01T13:41:41.789Z"
      },
      {
        "duration": 8,
        "start_time": "2023-08-01T14:38:49.710Z"
      },
      {
        "duration": 9,
        "start_time": "2023-08-01T14:40:08.829Z"
      },
      {
        "duration": 6,
        "start_time": "2023-08-01T14:58:40.131Z"
      },
      {
        "duration": 11,
        "start_time": "2023-08-01T15:22:10.241Z"
      },
      {
        "duration": 8,
        "start_time": "2023-08-01T15:22:16.401Z"
      },
      {
        "duration": 258,
        "start_time": "2023-08-01T16:25:43.162Z"
      },
      {
        "duration": 275,
        "start_time": "2023-08-01T16:25:53.637Z"
      },
      {
        "duration": 1329,
        "start_time": "2023-08-01T18:46:23.311Z"
      },
      {
        "duration": 298,
        "start_time": "2023-08-01T18:46:24.643Z"
      },
      {
        "duration": 12,
        "start_time": "2023-08-01T18:46:24.943Z"
      },
      {
        "duration": 22,
        "start_time": "2023-08-01T18:46:24.957Z"
      },
      {
        "duration": 15,
        "start_time": "2023-08-01T18:46:24.980Z"
      },
      {
        "duration": 22,
        "start_time": "2023-08-01T18:46:24.996Z"
      },
      {
        "duration": 21,
        "start_time": "2023-08-01T18:46:25.020Z"
      },
      {
        "duration": 31,
        "start_time": "2023-08-01T18:46:25.042Z"
      },
      {
        "duration": 10,
        "start_time": "2023-08-01T18:46:25.076Z"
      },
      {
        "duration": 12,
        "start_time": "2023-08-01T18:46:25.089Z"
      },
      {
        "duration": 7,
        "start_time": "2023-08-01T18:46:25.102Z"
      },
      {
        "duration": 4,
        "start_time": "2023-08-01T18:46:25.110Z"
      },
      {
        "duration": 10,
        "start_time": "2023-08-01T18:46:25.115Z"
      },
      {
        "duration": 14,
        "start_time": "2023-08-01T18:46:25.126Z"
      },
      {
        "duration": 5,
        "start_time": "2023-08-01T18:46:25.142Z"
      },
      {
        "duration": 18,
        "start_time": "2023-08-01T18:46:25.160Z"
      },
      {
        "duration": 10,
        "start_time": "2023-08-01T18:46:25.179Z"
      },
      {
        "duration": 5,
        "start_time": "2023-08-01T18:46:25.190Z"
      },
      {
        "duration": 7,
        "start_time": "2023-08-01T18:46:25.196Z"
      },
      {
        "duration": 6,
        "start_time": "2023-08-01T18:46:25.204Z"
      },
      {
        "duration": 189,
        "start_time": "2023-08-01T18:46:25.211Z"
      },
      {
        "duration": 178,
        "start_time": "2023-08-01T18:46:25.401Z"
      },
      {
        "duration": 7,
        "start_time": "2023-08-01T18:46:25.581Z"
      },
      {
        "duration": 131,
        "start_time": "2023-08-01T18:46:25.589Z"
      },
      {
        "duration": 107,
        "start_time": "2023-08-01T18:46:25.722Z"
      },
      {
        "duration": 5,
        "start_time": "2023-08-01T18:46:25.830Z"
      },
      {
        "duration": 5,
        "start_time": "2023-08-01T18:46:25.837Z"
      },
      {
        "duration": 190,
        "start_time": "2023-08-01T18:46:25.845Z"
      },
      {
        "duration": 8,
        "start_time": "2023-08-01T18:46:26.037Z"
      },
      {
        "duration": 144,
        "start_time": "2023-08-01T18:46:26.047Z"
      },
      {
        "duration": 163,
        "start_time": "2023-08-01T18:46:26.192Z"
      },
      {
        "duration": 16,
        "start_time": "2023-08-01T18:46:26.359Z"
      },
      {
        "duration": 5,
        "start_time": "2023-08-01T18:46:26.377Z"
      },
      {
        "duration": 30,
        "start_time": "2023-08-01T18:46:26.383Z"
      },
      {
        "duration": 46,
        "start_time": "2023-08-01T18:46:26.415Z"
      },
      {
        "duration": 29,
        "start_time": "2023-08-01T18:46:26.470Z"
      },
      {
        "duration": 18,
        "start_time": "2023-08-01T18:46:26.500Z"
      },
      {
        "duration": 48,
        "start_time": "2023-08-01T18:46:26.520Z"
      },
      {
        "duration": 21,
        "start_time": "2023-08-01T18:46:26.572Z"
      },
      {
        "duration": 197,
        "start_time": "2023-08-01T18:46:26.594Z"
      },
      {
        "duration": 200,
        "start_time": "2023-08-01T18:46:26.793Z"
      },
      {
        "duration": 287,
        "start_time": "2023-08-01T18:46:26.994Z"
      },
      {
        "duration": 206,
        "start_time": "2023-08-01T18:46:27.282Z"
      },
      {
        "duration": 5,
        "start_time": "2023-08-01T18:46:27.489Z"
      },
      {
        "duration": 883,
        "start_time": "2023-08-01T18:46:27.495Z"
      },
      {
        "duration": 3,
        "start_time": "2023-08-01T18:46:28.380Z"
      },
      {
        "duration": 156,
        "start_time": "2023-08-01T18:46:28.385Z"
      },
      {
        "duration": 40,
        "start_time": "2023-08-01T18:46:28.543Z"
      },
      {
        "duration": 9,
        "start_time": "2023-08-01T18:46:28.585Z"
      },
      {
        "duration": 6,
        "start_time": "2023-08-01T18:46:28.596Z"
      },
      {
        "duration": 8,
        "start_time": "2023-08-01T18:46:28.604Z"
      },
      {
        "duration": 10,
        "start_time": "2023-08-01T18:46:28.613Z"
      },
      {
        "duration": 295,
        "start_time": "2023-08-01T18:46:28.625Z"
      },
      {
        "duration": 1691,
        "start_time": "2023-08-01T18:54:30.243Z"
      },
      {
        "duration": 112,
        "start_time": "2023-08-01T18:59:31.075Z"
      },
      {
        "duration": 261,
        "start_time": "2023-08-01T19:00:48.215Z"
      },
      {
        "duration": 383,
        "start_time": "2023-08-01T19:01:18.402Z"
      },
      {
        "duration": 14,
        "start_time": "2023-08-01T19:02:07.665Z"
      },
      {
        "duration": 565,
        "start_time": "2023-08-01T19:04:28.884Z"
      },
      {
        "duration": 413,
        "start_time": "2023-08-01T19:04:35.461Z"
      },
      {
        "duration": 409,
        "start_time": "2023-08-01T19:10:29.098Z"
      },
      {
        "duration": 269,
        "start_time": "2023-08-01T19:24:49.939Z"
      },
      {
        "duration": 349,
        "start_time": "2023-08-01T19:26:10.539Z"
      },
      {
        "duration": 137,
        "start_time": "2023-08-01T19:26:27.539Z"
      },
      {
        "duration": 28,
        "start_time": "2023-08-01T19:32:30.883Z"
      },
      {
        "duration": 32,
        "start_time": "2023-08-01T19:32:48.035Z"
      },
      {
        "duration": 20,
        "start_time": "2023-08-01T19:33:18.568Z"
      },
      {
        "duration": 17,
        "start_time": "2023-08-01T19:33:21.305Z"
      },
      {
        "duration": 9,
        "start_time": "2023-08-01T19:33:27.633Z"
      },
      {
        "duration": 240,
        "start_time": "2023-08-01T19:59:17.185Z"
      },
      {
        "duration": 1500,
        "start_time": "2023-08-01T20:00:11.436Z"
      },
      {
        "duration": 259,
        "start_time": "2023-08-01T20:00:23.659Z"
      },
      {
        "duration": 5,
        "start_time": "2023-08-01T20:32:07.109Z"
      },
      {
        "duration": 5,
        "start_time": "2023-08-01T20:32:52.687Z"
      },
      {
        "duration": 4,
        "start_time": "2023-08-01T20:35:03.274Z"
      },
      {
        "duration": 6,
        "start_time": "2023-08-01T20:41:20.914Z"
      },
      {
        "duration": 6,
        "start_time": "2023-08-01T20:41:30.734Z"
      },
      {
        "duration": 4,
        "start_time": "2023-08-01T20:41:42.673Z"
      },
      {
        "duration": 5,
        "start_time": "2023-08-01T20:44:02.789Z"
      },
      {
        "duration": 5,
        "start_time": "2023-08-01T20:44:21.553Z"
      },
      {
        "duration": 5,
        "start_time": "2023-08-01T20:44:35.122Z"
      },
      {
        "duration": 6,
        "start_time": "2023-08-01T20:44:45.242Z"
      },
      {
        "duration": 9,
        "start_time": "2023-08-01T20:44:50.264Z"
      },
      {
        "duration": 6,
        "start_time": "2023-08-01T20:44:56.455Z"
      },
      {
        "duration": 5,
        "start_time": "2023-08-01T20:45:00.123Z"
      },
      {
        "duration": 5,
        "start_time": "2023-08-01T20:45:04.588Z"
      },
      {
        "duration": 9,
        "start_time": "2023-08-01T20:45:10.664Z"
      },
      {
        "duration": 4,
        "start_time": "2023-08-01T20:45:15.041Z"
      },
      {
        "duration": 5,
        "start_time": "2023-08-01T20:45:20.292Z"
      },
      {
        "duration": 5,
        "start_time": "2023-08-01T20:45:26.311Z"
      },
      {
        "duration": 5,
        "start_time": "2023-08-01T20:45:31.787Z"
      },
      {
        "duration": 10,
        "start_time": "2023-08-01T20:52:35.357Z"
      },
      {
        "duration": 5,
        "start_time": "2023-08-01T20:52:45.135Z"
      },
      {
        "duration": 4,
        "start_time": "2023-08-01T20:52:50.648Z"
      },
      {
        "duration": 5,
        "start_time": "2023-08-01T20:52:55.116Z"
      },
      {
        "duration": 5,
        "start_time": "2023-08-01T20:53:02.516Z"
      },
      {
        "duration": 16,
        "start_time": "2023-08-01T20:53:57.855Z"
      },
      {
        "duration": 5,
        "start_time": "2023-08-01T20:54:02.903Z"
      },
      {
        "duration": 11,
        "start_time": "2023-08-01T20:58:24.072Z"
      },
      {
        "duration": 6,
        "start_time": "2023-08-01T20:58:34.305Z"
      },
      {
        "duration": 7,
        "start_time": "2023-08-01T21:01:15.196Z"
      },
      {
        "duration": 6,
        "start_time": "2023-08-01T21:01:49.685Z"
      },
      {
        "duration": 6,
        "start_time": "2023-08-01T21:02:06.517Z"
      },
      {
        "duration": 6,
        "start_time": "2023-08-01T21:03:10.862Z"
      },
      {
        "duration": 6,
        "start_time": "2023-08-01T21:10:12.199Z"
      },
      {
        "duration": 6,
        "start_time": "2023-08-01T21:10:19.357Z"
      },
      {
        "duration": 1787,
        "start_time": "2023-08-01T21:10:32.290Z"
      },
      {
        "duration": 1774,
        "start_time": "2023-08-01T21:12:32.796Z"
      },
      {
        "duration": 1793,
        "start_time": "2023-08-01T21:12:47.615Z"
      },
      {
        "duration": 1804,
        "start_time": "2023-08-01T21:13:05.014Z"
      },
      {
        "duration": 1672,
        "start_time": "2023-08-01T21:14:21.169Z"
      },
      {
        "duration": 240,
        "start_time": "2023-08-01T21:16:13.690Z"
      },
      {
        "duration": 386,
        "start_time": "2023-08-01T21:16:33.913Z"
      },
      {
        "duration": 113,
        "start_time": "2023-08-01T21:16:42.449Z"
      },
      {
        "duration": 378,
        "start_time": "2023-08-01T21:16:52.792Z"
      },
      {
        "duration": 1761,
        "start_time": "2023-08-01T21:17:12.056Z"
      },
      {
        "duration": 1771,
        "start_time": "2023-08-01T21:17:48.391Z"
      },
      {
        "duration": 1778,
        "start_time": "2023-08-01T21:17:55.361Z"
      },
      {
        "duration": 1833,
        "start_time": "2023-08-01T21:19:18.172Z"
      },
      {
        "duration": 1853,
        "start_time": "2023-08-01T21:19:34.555Z"
      },
      {
        "duration": 1729,
        "start_time": "2023-08-01T21:19:45.507Z"
      },
      {
        "duration": 1768,
        "start_time": "2023-08-01T21:20:24.256Z"
      },
      {
        "duration": 5,
        "start_time": "2023-08-01T21:20:39.830Z"
      },
      {
        "duration": 4,
        "start_time": "2023-08-01T21:20:52.754Z"
      },
      {
        "duration": 6,
        "start_time": "2023-08-01T21:21:00.504Z"
      },
      {
        "duration": 4,
        "start_time": "2023-08-01T21:21:06.987Z"
      },
      {
        "duration": 1890,
        "start_time": "2023-08-01T21:22:34.195Z"
      },
      {
        "duration": 1737,
        "start_time": "2023-08-01T21:30:10.522Z"
      },
      {
        "duration": 1797,
        "start_time": "2023-08-01T21:40:02.940Z"
      },
      {
        "duration": 1755,
        "start_time": "2023-08-01T21:40:34.526Z"
      },
      {
        "duration": 1752,
        "start_time": "2023-08-01T21:40:48.835Z"
      },
      {
        "duration": 1885,
        "start_time": "2023-08-01T21:40:59.996Z"
      },
      {
        "duration": 1739,
        "start_time": "2023-08-01T21:41:11.754Z"
      },
      {
        "duration": 1810,
        "start_time": "2023-08-01T21:41:21.210Z"
      },
      {
        "duration": 1748,
        "start_time": "2023-08-01T21:43:44.306Z"
      },
      {
        "duration": 1754,
        "start_time": "2023-08-01T21:43:54.311Z"
      },
      {
        "duration": 1938,
        "start_time": "2023-08-01T21:46:57.200Z"
      },
      {
        "duration": 1800,
        "start_time": "2023-08-01T21:47:16.413Z"
      },
      {
        "duration": 5,
        "start_time": "2023-08-01T21:47:30.983Z"
      },
      {
        "duration": 1324,
        "start_time": "2023-08-02T08:57:59.440Z"
      },
      {
        "duration": 285,
        "start_time": "2023-08-02T08:58:00.766Z"
      },
      {
        "duration": 15,
        "start_time": "2023-08-02T08:58:01.053Z"
      },
      {
        "duration": 33,
        "start_time": "2023-08-02T08:58:01.070Z"
      },
      {
        "duration": 54,
        "start_time": "2023-08-02T08:58:01.105Z"
      },
      {
        "duration": 48,
        "start_time": "2023-08-02T08:58:01.161Z"
      },
      {
        "duration": 38,
        "start_time": "2023-08-02T08:58:01.211Z"
      },
      {
        "duration": 40,
        "start_time": "2023-08-02T08:58:01.250Z"
      },
      {
        "duration": 31,
        "start_time": "2023-08-02T08:58:01.292Z"
      },
      {
        "duration": 47,
        "start_time": "2023-08-02T08:58:01.325Z"
      },
      {
        "duration": 23,
        "start_time": "2023-08-02T08:58:01.374Z"
      },
      {
        "duration": 13,
        "start_time": "2023-08-02T08:58:01.399Z"
      },
      {
        "duration": 23,
        "start_time": "2023-08-02T08:58:01.413Z"
      },
      {
        "duration": 26,
        "start_time": "2023-08-02T08:58:01.438Z"
      },
      {
        "duration": 37,
        "start_time": "2023-08-02T08:58:01.466Z"
      },
      {
        "duration": 28,
        "start_time": "2023-08-02T08:58:01.505Z"
      },
      {
        "duration": 29,
        "start_time": "2023-08-02T08:58:01.534Z"
      },
      {
        "duration": 14,
        "start_time": "2023-08-02T08:58:01.565Z"
      },
      {
        "duration": 20,
        "start_time": "2023-08-02T08:58:01.581Z"
      },
      {
        "duration": 13,
        "start_time": "2023-08-02T08:58:01.603Z"
      },
      {
        "duration": 172,
        "start_time": "2023-08-02T08:58:01.618Z"
      },
      {
        "duration": 176,
        "start_time": "2023-08-02T08:58:01.791Z"
      },
      {
        "duration": 6,
        "start_time": "2023-08-02T08:58:01.969Z"
      },
      {
        "duration": 145,
        "start_time": "2023-08-02T08:58:01.976Z"
      },
      {
        "duration": 103,
        "start_time": "2023-08-02T08:58:02.122Z"
      },
      {
        "duration": 5,
        "start_time": "2023-08-02T08:58:02.226Z"
      },
      {
        "duration": 42,
        "start_time": "2023-08-02T08:58:02.232Z"
      },
      {
        "duration": 204,
        "start_time": "2023-08-02T08:58:02.277Z"
      },
      {
        "duration": 7,
        "start_time": "2023-08-02T08:58:02.483Z"
      },
      {
        "duration": 180,
        "start_time": "2023-08-02T08:58:02.491Z"
      },
      {
        "duration": 145,
        "start_time": "2023-08-02T08:58:02.673Z"
      },
      {
        "duration": 7,
        "start_time": "2023-08-02T08:58:02.819Z"
      },
      {
        "duration": 8,
        "start_time": "2023-08-02T08:58:02.827Z"
      },
      {
        "duration": 41,
        "start_time": "2023-08-02T08:58:02.837Z"
      },
      {
        "duration": 19,
        "start_time": "2023-08-02T08:58:02.880Z"
      },
      {
        "duration": 26,
        "start_time": "2023-08-02T08:58:02.901Z"
      },
      {
        "duration": 38,
        "start_time": "2023-08-02T08:58:02.929Z"
      },
      {
        "duration": 29,
        "start_time": "2023-08-02T08:58:02.969Z"
      },
      {
        "duration": 19,
        "start_time": "2023-08-02T08:58:03.000Z"
      },
      {
        "duration": 201,
        "start_time": "2023-08-02T08:58:03.021Z"
      },
      {
        "duration": 186,
        "start_time": "2023-08-02T08:58:03.224Z"
      },
      {
        "duration": 257,
        "start_time": "2023-08-02T08:58:03.412Z"
      },
      {
        "duration": 197,
        "start_time": "2023-08-02T08:58:03.671Z"
      },
      {
        "duration": 3,
        "start_time": "2023-08-02T08:58:03.870Z"
      },
      {
        "duration": 880,
        "start_time": "2023-08-02T08:58:03.875Z"
      },
      {
        "duration": 4,
        "start_time": "2023-08-02T08:58:04.759Z"
      },
      {
        "duration": 140,
        "start_time": "2023-08-02T08:58:04.764Z"
      },
      {
        "duration": 19,
        "start_time": "2023-08-02T08:58:04.906Z"
      },
      {
        "duration": 9,
        "start_time": "2023-08-02T08:58:04.927Z"
      },
      {
        "duration": 24,
        "start_time": "2023-08-02T08:58:04.937Z"
      },
      {
        "duration": 16,
        "start_time": "2023-08-02T08:58:04.963Z"
      },
      {
        "duration": 8,
        "start_time": "2023-08-02T08:58:04.981Z"
      },
      {
        "duration": 99,
        "start_time": "2023-08-02T08:58:04.990Z"
      },
      {
        "duration": 0,
        "start_time": "2023-08-02T08:58:05.091Z"
      },
      {
        "duration": 122,
        "start_time": "2023-08-02T08:58:31.007Z"
      },
      {
        "duration": 12,
        "start_time": "2023-08-02T09:42:44.134Z"
      },
      {
        "duration": 6,
        "start_time": "2023-08-02T09:43:09.843Z"
      },
      {
        "duration": 6,
        "start_time": "2023-08-02T09:55:46.926Z"
      },
      {
        "duration": 34862,
        "start_time": "2023-08-02T10:14:11.395Z"
      },
      {
        "duration": 34702,
        "start_time": "2023-08-02T10:17:10.273Z"
      },
      {
        "duration": 35023,
        "start_time": "2023-08-02T10:18:50.917Z"
      },
      {
        "duration": 34965,
        "start_time": "2023-08-02T10:20:02.432Z"
      },
      {
        "duration": 141,
        "start_time": "2023-08-02T10:22:17.231Z"
      },
      {
        "duration": 35962,
        "start_time": "2023-08-02T10:22:37.686Z"
      },
      {
        "duration": 226,
        "start_time": "2023-08-02T10:25:42.885Z"
      },
      {
        "duration": 4,
        "start_time": "2023-08-02T10:27:27.381Z"
      },
      {
        "duration": 4,
        "start_time": "2023-08-02T10:27:33.800Z"
      },
      {
        "duration": 5,
        "start_time": "2023-08-02T10:27:44.670Z"
      },
      {
        "duration": 15,
        "start_time": "2023-08-02T10:28:43.691Z"
      },
      {
        "duration": 194,
        "start_time": "2023-08-02T10:29:04.623Z"
      },
      {
        "duration": 226,
        "start_time": "2023-08-02T10:29:23.025Z"
      },
      {
        "duration": 189,
        "start_time": "2023-08-02T10:29:34.637Z"
      },
      {
        "duration": 224,
        "start_time": "2023-08-02T10:29:56.431Z"
      },
      {
        "duration": 187,
        "start_time": "2023-08-02T10:30:05.077Z"
      },
      {
        "duration": 6,
        "start_time": "2023-08-02T10:30:25.968Z"
      },
      {
        "duration": 4,
        "start_time": "2023-08-02T10:30:33.299Z"
      },
      {
        "duration": 193,
        "start_time": "2023-08-02T10:30:56.833Z"
      },
      {
        "duration": 202,
        "start_time": "2023-08-02T10:31:04.285Z"
      },
      {
        "duration": 183,
        "start_time": "2023-08-02T10:31:12.280Z"
      },
      {
        "duration": 196,
        "start_time": "2023-08-02T10:31:34.523Z"
      },
      {
        "duration": 187,
        "start_time": "2023-08-02T10:31:47.531Z"
      },
      {
        "duration": 186,
        "start_time": "2023-08-02T10:31:51.687Z"
      },
      {
        "duration": 244,
        "start_time": "2023-08-02T10:32:14.043Z"
      },
      {
        "duration": 216,
        "start_time": "2023-08-02T10:32:21.199Z"
      },
      {
        "duration": 189,
        "start_time": "2023-08-02T10:35:33.303Z"
      },
      {
        "duration": 227,
        "start_time": "2023-08-02T10:39:14.055Z"
      },
      {
        "duration": 209,
        "start_time": "2023-08-02T10:39:31.419Z"
      },
      {
        "duration": 193,
        "start_time": "2023-08-02T10:39:45.384Z"
      },
      {
        "duration": 5,
        "start_time": "2023-08-02T11:58:49.106Z"
      },
      {
        "duration": 2064,
        "start_time": "2023-08-02T11:58:57.187Z"
      },
      {
        "duration": 293,
        "start_time": "2023-08-02T11:59:18.544Z"
      },
      {
        "duration": 1834,
        "start_time": "2023-08-02T11:59:21.814Z"
      },
      {
        "duration": 1185,
        "start_time": "2023-08-02T12:41:15.577Z"
      },
      {
        "duration": 79,
        "start_time": "2023-08-02T12:41:16.771Z"
      },
      {
        "duration": 16,
        "start_time": "2023-08-02T12:41:16.852Z"
      },
      {
        "duration": 12,
        "start_time": "2023-08-02T12:41:16.871Z"
      },
      {
        "duration": 10,
        "start_time": "2023-08-02T12:41:16.886Z"
      },
      {
        "duration": 11,
        "start_time": "2023-08-02T12:41:16.898Z"
      },
      {
        "duration": 52,
        "start_time": "2023-08-02T12:41:16.911Z"
      },
      {
        "duration": 25,
        "start_time": "2023-08-02T12:41:16.966Z"
      },
      {
        "duration": 8,
        "start_time": "2023-08-02T12:41:16.993Z"
      },
      {
        "duration": 12,
        "start_time": "2023-08-02T12:41:17.003Z"
      },
      {
        "duration": 9,
        "start_time": "2023-08-02T12:41:17.016Z"
      },
      {
        "duration": 35,
        "start_time": "2023-08-02T12:41:17.027Z"
      },
      {
        "duration": 17,
        "start_time": "2023-08-02T12:41:17.064Z"
      },
      {
        "duration": 11,
        "start_time": "2023-08-02T12:41:17.089Z"
      },
      {
        "duration": 7,
        "start_time": "2023-08-02T12:41:17.102Z"
      },
      {
        "duration": 15,
        "start_time": "2023-08-02T12:41:17.111Z"
      },
      {
        "duration": 12,
        "start_time": "2023-08-02T12:41:17.127Z"
      },
      {
        "duration": 25,
        "start_time": "2023-08-02T12:41:17.141Z"
      },
      {
        "duration": 11,
        "start_time": "2023-08-02T12:41:17.168Z"
      },
      {
        "duration": 10,
        "start_time": "2023-08-02T12:41:17.181Z"
      },
      {
        "duration": 177,
        "start_time": "2023-08-02T12:41:17.193Z"
      },
      {
        "duration": 194,
        "start_time": "2023-08-02T12:41:17.372Z"
      },
      {
        "duration": 7,
        "start_time": "2023-08-02T12:41:17.568Z"
      },
      {
        "duration": 153,
        "start_time": "2023-08-02T12:41:17.577Z"
      },
      {
        "duration": 137,
        "start_time": "2023-08-02T12:41:17.732Z"
      },
      {
        "duration": 5,
        "start_time": "2023-08-02T12:41:17.871Z"
      },
      {
        "duration": 14,
        "start_time": "2023-08-02T12:41:17.878Z"
      },
      {
        "duration": 215,
        "start_time": "2023-08-02T12:41:17.895Z"
      },
      {
        "duration": 11,
        "start_time": "2023-08-02T12:41:18.112Z"
      },
      {
        "duration": 179,
        "start_time": "2023-08-02T12:41:18.126Z"
      },
      {
        "duration": 187,
        "start_time": "2023-08-02T12:41:18.306Z"
      },
      {
        "duration": 10,
        "start_time": "2023-08-02T12:41:18.495Z"
      },
      {
        "duration": 5,
        "start_time": "2023-08-02T12:41:18.507Z"
      },
      {
        "duration": 74,
        "start_time": "2023-08-02T12:41:18.514Z"
      },
      {
        "duration": 38,
        "start_time": "2023-08-02T12:41:18.590Z"
      },
      {
        "duration": 66,
        "start_time": "2023-08-02T12:41:18.630Z"
      },
      {
        "duration": 20,
        "start_time": "2023-08-02T12:41:18.697Z"
      },
      {
        "duration": 57,
        "start_time": "2023-08-02T12:41:18.719Z"
      },
      {
        "duration": 39,
        "start_time": "2023-08-02T12:41:18.784Z"
      },
      {
        "duration": 229,
        "start_time": "2023-08-02T12:41:18.825Z"
      },
      {
        "duration": 234,
        "start_time": "2023-08-02T12:41:19.060Z"
      },
      {
        "duration": 288,
        "start_time": "2023-08-02T12:41:19.308Z"
      },
      {
        "duration": 228,
        "start_time": "2023-08-02T12:41:19.601Z"
      },
      {
        "duration": 4,
        "start_time": "2023-08-02T12:41:19.832Z"
      },
      {
        "duration": 1120,
        "start_time": "2023-08-02T12:41:19.838Z"
      },
      {
        "duration": 5,
        "start_time": "2023-08-02T12:41:20.960Z"
      },
      {
        "duration": 217,
        "start_time": "2023-08-02T12:41:20.967Z"
      },
      {
        "duration": 19,
        "start_time": "2023-08-02T12:41:21.193Z"
      },
      {
        "duration": 54,
        "start_time": "2023-08-02T12:41:21.214Z"
      },
      {
        "duration": 10,
        "start_time": "2023-08-02T12:41:21.273Z"
      },
      {
        "duration": 16,
        "start_time": "2023-08-02T12:41:21.286Z"
      },
      {
        "duration": 15,
        "start_time": "2023-08-02T12:41:21.304Z"
      },
      {
        "duration": 122,
        "start_time": "2023-08-02T12:41:21.322Z"
      },
      {
        "duration": 0,
        "start_time": "2023-08-02T12:41:21.445Z"
      },
      {
        "duration": 0,
        "start_time": "2023-08-02T12:41:21.447Z"
      },
      {
        "duration": 15,
        "start_time": "2023-08-02T12:41:48.574Z"
      },
      {
        "duration": 1230,
        "start_time": "2023-08-02T12:41:56.237Z"
      },
      {
        "duration": 75,
        "start_time": "2023-08-02T12:41:57.471Z"
      },
      {
        "duration": 20,
        "start_time": "2023-08-02T12:41:57.548Z"
      },
      {
        "duration": 12,
        "start_time": "2023-08-02T12:41:57.571Z"
      },
      {
        "duration": 10,
        "start_time": "2023-08-02T12:41:57.585Z"
      },
      {
        "duration": 15,
        "start_time": "2023-08-02T12:41:57.596Z"
      },
      {
        "duration": 15,
        "start_time": "2023-08-02T12:41:57.613Z"
      },
      {
        "duration": 34,
        "start_time": "2023-08-02T12:41:57.631Z"
      },
      {
        "duration": 10,
        "start_time": "2023-08-02T12:41:57.666Z"
      },
      {
        "duration": 16,
        "start_time": "2023-08-02T12:41:57.677Z"
      },
      {
        "duration": 6,
        "start_time": "2023-08-02T12:41:57.695Z"
      },
      {
        "duration": 5,
        "start_time": "2023-08-02T12:41:57.703Z"
      },
      {
        "duration": 6,
        "start_time": "2023-08-02T12:41:57.710Z"
      },
      {
        "duration": 14,
        "start_time": "2023-08-02T12:41:57.767Z"
      },
      {
        "duration": 8,
        "start_time": "2023-08-02T12:41:57.783Z"
      },
      {
        "duration": 8,
        "start_time": "2023-08-02T12:41:57.793Z"
      },
      {
        "duration": 12,
        "start_time": "2023-08-02T12:41:57.804Z"
      },
      {
        "duration": 6,
        "start_time": "2023-08-02T12:41:57.818Z"
      },
      {
        "duration": 41,
        "start_time": "2023-08-02T12:41:57.825Z"
      },
      {
        "duration": 17,
        "start_time": "2023-08-02T12:41:57.868Z"
      },
      {
        "duration": 181,
        "start_time": "2023-08-02T12:41:57.887Z"
      },
      {
        "duration": 188,
        "start_time": "2023-08-02T12:41:58.071Z"
      },
      {
        "duration": 15,
        "start_time": "2023-08-02T12:41:58.262Z"
      },
      {
        "duration": 137,
        "start_time": "2023-08-02T12:41:58.279Z"
      },
      {
        "duration": 111,
        "start_time": "2023-08-02T12:41:58.418Z"
      },
      {
        "duration": 7,
        "start_time": "2023-08-02T12:41:58.531Z"
      },
      {
        "duration": 27,
        "start_time": "2023-08-02T12:41:58.541Z"
      },
      {
        "duration": 203,
        "start_time": "2023-08-02T12:41:58.578Z"
      },
      {
        "duration": 13,
        "start_time": "2023-08-02T12:41:58.783Z"
      },
      {
        "duration": 150,
        "start_time": "2023-08-02T12:41:58.797Z"
      },
      {
        "duration": 191,
        "start_time": "2023-08-02T12:41:58.949Z"
      },
      {
        "duration": 28,
        "start_time": "2023-08-02T12:41:59.142Z"
      },
      {
        "duration": 13,
        "start_time": "2023-08-02T12:41:59.173Z"
      },
      {
        "duration": 38,
        "start_time": "2023-08-02T12:41:59.188Z"
      },
      {
        "duration": 50,
        "start_time": "2023-08-02T12:41:59.227Z"
      },
      {
        "duration": 36,
        "start_time": "2023-08-02T12:41:59.279Z"
      },
      {
        "duration": 48,
        "start_time": "2023-08-02T12:41:59.317Z"
      },
      {
        "duration": 54,
        "start_time": "2023-08-02T12:41:59.367Z"
      },
      {
        "duration": 45,
        "start_time": "2023-08-02T12:41:59.424Z"
      },
      {
        "duration": 211,
        "start_time": "2023-08-02T12:41:59.471Z"
      },
      {
        "duration": 220,
        "start_time": "2023-08-02T12:41:59.688Z"
      },
      {
        "duration": 334,
        "start_time": "2023-08-02T12:41:59.910Z"
      },
      {
        "duration": 278,
        "start_time": "2023-08-02T12:42:00.246Z"
      },
      {
        "duration": 5,
        "start_time": "2023-08-02T12:42:00.527Z"
      },
      {
        "duration": 967,
        "start_time": "2023-08-02T12:42:00.535Z"
      },
      {
        "duration": 4,
        "start_time": "2023-08-02T12:42:01.504Z"
      },
      {
        "duration": 202,
        "start_time": "2023-08-02T12:42:01.510Z"
      },
      {
        "duration": 19,
        "start_time": "2023-08-02T12:42:01.713Z"
      },
      {
        "duration": 61,
        "start_time": "2023-08-02T12:42:01.734Z"
      },
      {
        "duration": 32,
        "start_time": "2023-08-02T12:42:01.796Z"
      },
      {
        "duration": 41,
        "start_time": "2023-08-02T12:42:01.830Z"
      },
      {
        "duration": 41,
        "start_time": "2023-08-02T12:42:01.873Z"
      },
      {
        "duration": 149,
        "start_time": "2023-08-02T12:42:01.915Z"
      },
      {
        "duration": 0,
        "start_time": "2023-08-02T12:42:02.067Z"
      },
      {
        "duration": 0,
        "start_time": "2023-08-02T12:42:02.070Z"
      },
      {
        "duration": 7,
        "start_time": "2023-08-02T12:42:12.559Z"
      },
      {
        "duration": 65,
        "start_time": "2023-08-02T12:42:12.574Z"
      },
      {
        "duration": 9,
        "start_time": "2023-08-02T12:42:12.641Z"
      },
      {
        "duration": 17,
        "start_time": "2023-08-02T12:42:12.652Z"
      },
      {
        "duration": 8,
        "start_time": "2023-08-02T12:42:12.675Z"
      },
      {
        "duration": 13,
        "start_time": "2023-08-02T12:42:12.686Z"
      },
      {
        "duration": 12,
        "start_time": "2023-08-02T12:42:12.700Z"
      },
      {
        "duration": 10,
        "start_time": "2023-08-02T12:42:12.713Z"
      },
      {
        "duration": 51,
        "start_time": "2023-08-02T12:42:12.724Z"
      },
      {
        "duration": 12,
        "start_time": "2023-08-02T12:42:12.777Z"
      },
      {
        "duration": 6,
        "start_time": "2023-08-02T12:42:12.791Z"
      },
      {
        "duration": 25,
        "start_time": "2023-08-02T12:42:12.799Z"
      },
      {
        "duration": 10,
        "start_time": "2023-08-02T12:42:12.826Z"
      },
      {
        "duration": 29,
        "start_time": "2023-08-02T12:42:12.838Z"
      },
      {
        "duration": 7,
        "start_time": "2023-08-02T12:42:12.871Z"
      },
      {
        "duration": 13,
        "start_time": "2023-08-02T12:42:12.881Z"
      },
      {
        "duration": 11,
        "start_time": "2023-08-02T12:42:12.895Z"
      },
      {
        "duration": 5,
        "start_time": "2023-08-02T12:42:12.907Z"
      },
      {
        "duration": 8,
        "start_time": "2023-08-02T12:42:12.914Z"
      },
      {
        "duration": 8,
        "start_time": "2023-08-02T12:42:12.923Z"
      },
      {
        "duration": 173,
        "start_time": "2023-08-02T12:42:12.933Z"
      },
      {
        "duration": 191,
        "start_time": "2023-08-02T12:42:13.108Z"
      },
      {
        "duration": 6,
        "start_time": "2023-08-02T12:42:13.300Z"
      },
      {
        "duration": 119,
        "start_time": "2023-08-02T12:42:13.308Z"
      },
      {
        "duration": 105,
        "start_time": "2023-08-02T12:42:13.428Z"
      },
      {
        "duration": 5,
        "start_time": "2023-08-02T12:42:13.534Z"
      },
      {
        "duration": 24,
        "start_time": "2023-08-02T12:42:13.541Z"
      },
      {
        "duration": 157,
        "start_time": "2023-08-02T12:42:13.567Z"
      },
      {
        "duration": 9,
        "start_time": "2023-08-02T12:42:13.726Z"
      },
      {
        "duration": 173,
        "start_time": "2023-08-02T12:42:13.737Z"
      },
      {
        "duration": 190,
        "start_time": "2023-08-02T12:42:13.912Z"
      },
      {
        "duration": 10,
        "start_time": "2023-08-02T12:42:14.104Z"
      },
      {
        "duration": 8,
        "start_time": "2023-08-02T12:42:14.116Z"
      },
      {
        "duration": 63,
        "start_time": "2023-08-02T12:42:14.126Z"
      },
      {
        "duration": 26,
        "start_time": "2023-08-02T12:42:14.191Z"
      },
      {
        "duration": 62,
        "start_time": "2023-08-02T12:42:14.219Z"
      },
      {
        "duration": 146,
        "start_time": "2023-08-02T12:42:14.283Z"
      },
      {
        "duration": 46,
        "start_time": "2023-08-02T12:42:14.430Z"
      },
      {
        "duration": 17,
        "start_time": "2023-08-02T12:42:14.478Z"
      },
      {
        "duration": 187,
        "start_time": "2023-08-02T12:42:14.497Z"
      },
      {
        "duration": 211,
        "start_time": "2023-08-02T12:42:14.686Z"
      },
      {
        "duration": 202,
        "start_time": "2023-08-02T12:42:14.901Z"
      },
      {
        "duration": 215,
        "start_time": "2023-08-02T12:42:15.105Z"
      },
      {
        "duration": 5,
        "start_time": "2023-08-02T12:42:15.322Z"
      },
      {
        "duration": 973,
        "start_time": "2023-08-02T12:42:15.329Z"
      },
      {
        "duration": 5,
        "start_time": "2023-08-02T12:42:16.304Z"
      },
      {
        "duration": 175,
        "start_time": "2023-08-02T12:42:16.311Z"
      },
      {
        "duration": 21,
        "start_time": "2023-08-02T12:42:16.488Z"
      },
      {
        "duration": 10,
        "start_time": "2023-08-02T12:42:16.511Z"
      },
      {
        "duration": 10,
        "start_time": "2023-08-02T12:42:16.523Z"
      },
      {
        "duration": 13,
        "start_time": "2023-08-02T12:42:16.559Z"
      },
      {
        "duration": 13,
        "start_time": "2023-08-02T12:42:16.575Z"
      },
      {
        "duration": 10,
        "start_time": "2023-08-02T12:42:16.589Z"
      },
      {
        "duration": 0,
        "start_time": "2023-08-02T12:42:16.600Z"
      },
      {
        "duration": 0,
        "start_time": "2023-08-02T12:42:16.602Z"
      },
      {
        "duration": 8,
        "start_time": "2023-08-02T12:48:11.789Z"
      },
      {
        "duration": 3,
        "start_time": "2023-08-02T12:48:41.537Z"
      },
      {
        "duration": 9,
        "start_time": "2023-08-02T12:49:48.063Z"
      },
      {
        "duration": 3,
        "start_time": "2023-08-02T12:50:10.050Z"
      },
      {
        "duration": 4,
        "start_time": "2023-08-02T12:51:37.049Z"
      },
      {
        "duration": 1120,
        "start_time": "2023-08-02T13:09:42.107Z"
      },
      {
        "duration": 65,
        "start_time": "2023-08-02T13:09:43.230Z"
      },
      {
        "duration": 11,
        "start_time": "2023-08-02T13:09:43.297Z"
      },
      {
        "duration": 9,
        "start_time": "2023-08-02T13:09:43.309Z"
      },
      {
        "duration": 8,
        "start_time": "2023-08-02T13:09:43.320Z"
      },
      {
        "duration": 13,
        "start_time": "2023-08-02T13:09:43.329Z"
      },
      {
        "duration": 15,
        "start_time": "2023-08-02T13:09:43.344Z"
      },
      {
        "duration": 11,
        "start_time": "2023-08-02T13:09:43.361Z"
      },
      {
        "duration": 10,
        "start_time": "2023-08-02T13:09:43.374Z"
      },
      {
        "duration": 12,
        "start_time": "2023-08-02T13:09:43.385Z"
      },
      {
        "duration": 5,
        "start_time": "2023-08-02T13:09:43.399Z"
      },
      {
        "duration": 5,
        "start_time": "2023-08-02T13:09:43.406Z"
      },
      {
        "duration": 6,
        "start_time": "2023-08-02T13:09:43.412Z"
      },
      {
        "duration": 6,
        "start_time": "2023-08-02T13:09:43.459Z"
      },
      {
        "duration": 7,
        "start_time": "2023-08-02T13:09:43.466Z"
      },
      {
        "duration": 12,
        "start_time": "2023-08-02T13:09:43.475Z"
      },
      {
        "duration": 13,
        "start_time": "2023-08-02T13:09:43.488Z"
      },
      {
        "duration": 6,
        "start_time": "2023-08-02T13:09:43.503Z"
      },
      {
        "duration": 6,
        "start_time": "2023-08-02T13:09:43.510Z"
      },
      {
        "duration": 6,
        "start_time": "2023-08-02T13:09:43.517Z"
      },
      {
        "duration": 171,
        "start_time": "2023-08-02T13:09:43.525Z"
      },
      {
        "duration": 182,
        "start_time": "2023-08-02T13:09:43.697Z"
      },
      {
        "duration": 6,
        "start_time": "2023-08-02T13:09:43.880Z"
      },
      {
        "duration": 124,
        "start_time": "2023-08-02T13:09:43.887Z"
      },
      {
        "duration": 130,
        "start_time": "2023-08-02T13:09:44.013Z"
      },
      {
        "duration": 5,
        "start_time": "2023-08-02T13:09:44.145Z"
      },
      {
        "duration": 4,
        "start_time": "2023-08-02T13:09:44.159Z"
      },
      {
        "duration": 222,
        "start_time": "2023-08-02T13:09:44.165Z"
      },
      {
        "duration": 7,
        "start_time": "2023-08-02T13:09:44.388Z"
      },
      {
        "duration": 129,
        "start_time": "2023-08-02T13:09:44.397Z"
      },
      {
        "duration": 166,
        "start_time": "2023-08-02T13:09:44.528Z"
      },
      {
        "duration": 7,
        "start_time": "2023-08-02T13:09:44.696Z"
      },
      {
        "duration": 4,
        "start_time": "2023-08-02T13:09:44.705Z"
      },
      {
        "duration": 58,
        "start_time": "2023-08-02T13:09:44.711Z"
      },
      {
        "duration": 26,
        "start_time": "2023-08-02T13:09:44.771Z"
      },
      {
        "duration": 28,
        "start_time": "2023-08-02T13:09:44.798Z"
      },
      {
        "duration": 49,
        "start_time": "2023-08-02T13:09:44.829Z"
      },
      {
        "duration": 38,
        "start_time": "2023-08-02T13:09:44.879Z"
      },
      {
        "duration": 21,
        "start_time": "2023-08-02T13:09:44.919Z"
      },
      {
        "duration": 232,
        "start_time": "2023-08-02T13:09:44.942Z"
      },
      {
        "duration": 213,
        "start_time": "2023-08-02T13:09:45.178Z"
      },
      {
        "duration": 277,
        "start_time": "2023-08-02T13:09:45.393Z"
      },
      {
        "duration": 196,
        "start_time": "2023-08-02T13:09:45.671Z"
      },
      {
        "duration": 4,
        "start_time": "2023-08-02T13:09:45.869Z"
      },
      {
        "duration": 832,
        "start_time": "2023-08-02T13:09:45.875Z"
      },
      {
        "duration": 3,
        "start_time": "2023-08-02T13:09:46.711Z"
      },
      {
        "duration": 146,
        "start_time": "2023-08-02T13:09:46.716Z"
      },
      {
        "duration": 18,
        "start_time": "2023-08-02T13:09:46.864Z"
      },
      {
        "duration": 10,
        "start_time": "2023-08-02T13:09:46.884Z"
      },
      {
        "duration": 5,
        "start_time": "2023-08-02T13:09:46.895Z"
      },
      {
        "duration": 7,
        "start_time": "2023-08-02T13:09:46.902Z"
      },
      {
        "duration": 9,
        "start_time": "2023-08-02T13:09:46.910Z"
      },
      {
        "duration": 120,
        "start_time": "2023-08-02T13:09:46.921Z"
      },
      {
        "duration": 0,
        "start_time": "2023-08-02T13:09:47.043Z"
      },
      {
        "duration": 0,
        "start_time": "2023-08-02T13:09:47.044Z"
      },
      {
        "duration": 5,
        "start_time": "2023-08-02T13:10:19.373Z"
      },
      {
        "duration": 3,
        "start_time": "2023-08-02T13:10:55.639Z"
      },
      {
        "duration": 120,
        "start_time": "2023-08-02T13:10:55.644Z"
      },
      {
        "duration": 9,
        "start_time": "2023-08-02T13:10:55.766Z"
      },
      {
        "duration": 21,
        "start_time": "2023-08-02T13:10:55.777Z"
      },
      {
        "duration": 11,
        "start_time": "2023-08-02T13:10:55.800Z"
      },
      {
        "duration": 15,
        "start_time": "2023-08-02T13:10:55.813Z"
      },
      {
        "duration": 31,
        "start_time": "2023-08-02T13:10:55.830Z"
      },
      {
        "duration": 11,
        "start_time": "2023-08-02T13:10:55.863Z"
      },
      {
        "duration": 12,
        "start_time": "2023-08-02T13:10:55.876Z"
      },
      {
        "duration": 11,
        "start_time": "2023-08-02T13:10:55.890Z"
      },
      {
        "duration": 7,
        "start_time": "2023-08-02T13:10:55.903Z"
      },
      {
        "duration": 5,
        "start_time": "2023-08-02T13:10:55.912Z"
      },
      {
        "duration": 8,
        "start_time": "2023-08-02T13:10:55.918Z"
      },
      {
        "duration": 8,
        "start_time": "2023-08-02T13:10:55.962Z"
      },
      {
        "duration": 8,
        "start_time": "2023-08-02T13:10:55.972Z"
      },
      {
        "duration": 8,
        "start_time": "2023-08-02T13:10:55.982Z"
      },
      {
        "duration": 8,
        "start_time": "2023-08-02T13:10:55.992Z"
      },
      {
        "duration": 5,
        "start_time": "2023-08-02T13:10:56.002Z"
      },
      {
        "duration": 6,
        "start_time": "2023-08-02T13:10:56.008Z"
      },
      {
        "duration": 44,
        "start_time": "2023-08-02T13:10:56.016Z"
      },
      {
        "duration": 155,
        "start_time": "2023-08-02T13:10:56.062Z"
      },
      {
        "duration": 180,
        "start_time": "2023-08-02T13:10:56.219Z"
      },
      {
        "duration": 7,
        "start_time": "2023-08-02T13:10:56.402Z"
      },
      {
        "duration": 135,
        "start_time": "2023-08-02T13:10:56.411Z"
      },
      {
        "duration": 96,
        "start_time": "2023-08-02T13:10:56.548Z"
      },
      {
        "duration": 14,
        "start_time": "2023-08-02T13:10:56.646Z"
      },
      {
        "duration": 14,
        "start_time": "2023-08-02T13:10:56.661Z"
      },
      {
        "duration": 182,
        "start_time": "2023-08-02T13:10:56.677Z"
      },
      {
        "duration": 8,
        "start_time": "2023-08-02T13:10:56.860Z"
      },
      {
        "duration": 136,
        "start_time": "2023-08-02T13:10:56.870Z"
      },
      {
        "duration": 172,
        "start_time": "2023-08-02T13:10:57.007Z"
      },
      {
        "duration": 9,
        "start_time": "2023-08-02T13:10:57.182Z"
      },
      {
        "duration": 11,
        "start_time": "2023-08-02T13:10:57.193Z"
      },
      {
        "duration": 42,
        "start_time": "2023-08-02T13:10:57.206Z"
      },
      {
        "duration": 27,
        "start_time": "2023-08-02T13:10:57.260Z"
      },
      {
        "duration": 33,
        "start_time": "2023-08-02T13:10:57.289Z"
      },
      {
        "duration": 150,
        "start_time": "2023-08-02T13:10:57.323Z"
      },
      {
        "duration": 33,
        "start_time": "2023-08-02T13:10:57.475Z"
      },
      {
        "duration": 23,
        "start_time": "2023-08-02T13:10:57.510Z"
      },
      {
        "duration": 194,
        "start_time": "2023-08-02T13:10:57.534Z"
      },
      {
        "duration": 189,
        "start_time": "2023-08-02T13:10:57.732Z"
      },
      {
        "duration": 191,
        "start_time": "2023-08-02T13:10:57.923Z"
      },
      {
        "duration": 207,
        "start_time": "2023-08-02T13:10:58.116Z"
      },
      {
        "duration": 4,
        "start_time": "2023-08-02T13:10:58.325Z"
      },
      {
        "duration": 865,
        "start_time": "2023-08-02T13:10:58.330Z"
      },
      {
        "duration": 3,
        "start_time": "2023-08-02T13:10:59.197Z"
      },
      {
        "duration": 156,
        "start_time": "2023-08-02T13:10:59.203Z"
      },
      {
        "duration": 18,
        "start_time": "2023-08-02T13:10:59.361Z"
      },
      {
        "duration": 10,
        "start_time": "2023-08-02T13:10:59.381Z"
      },
      {
        "duration": 6,
        "start_time": "2023-08-02T13:10:59.392Z"
      },
      {
        "duration": 9,
        "start_time": "2023-08-02T13:10:59.400Z"
      },
      {
        "duration": 9,
        "start_time": "2023-08-02T13:10:59.410Z"
      },
      {
        "duration": 4,
        "start_time": "2023-08-02T13:10:59.421Z"
      },
      {
        "duration": 1777,
        "start_time": "2023-08-02T13:10:59.460Z"
      },
      {
        "duration": 204,
        "start_time": "2023-08-02T13:11:01.239Z"
      },
      {
        "duration": 1793,
        "start_time": "2023-08-02T13:13:06.942Z"
      },
      {
        "duration": 291,
        "start_time": "2023-08-02T13:16:40.737Z"
      },
      {
        "duration": 282,
        "start_time": "2023-08-02T13:16:51.546Z"
      },
      {
        "duration": 1712,
        "start_time": "2023-08-02T13:17:10.119Z"
      },
      {
        "duration": 185,
        "start_time": "2023-08-02T13:17:38.324Z"
      },
      {
        "duration": 3,
        "start_time": "2023-08-02T13:30:18.445Z"
      },
      {
        "duration": 65,
        "start_time": "2023-08-02T13:30:18.458Z"
      },
      {
        "duration": 9,
        "start_time": "2023-08-02T13:30:18.525Z"
      },
      {
        "duration": 43,
        "start_time": "2023-08-02T13:30:18.535Z"
      },
      {
        "duration": 20,
        "start_time": "2023-08-02T13:30:18.580Z"
      },
      {
        "duration": 17,
        "start_time": "2023-08-02T13:30:18.603Z"
      },
      {
        "duration": 20,
        "start_time": "2023-08-02T13:30:18.622Z"
      },
      {
        "duration": 15,
        "start_time": "2023-08-02T13:30:18.644Z"
      },
      {
        "duration": 15,
        "start_time": "2023-08-02T13:30:18.661Z"
      },
      {
        "duration": 23,
        "start_time": "2023-08-02T13:30:18.678Z"
      },
      {
        "duration": 6,
        "start_time": "2023-08-02T13:30:18.703Z"
      },
      {
        "duration": 10,
        "start_time": "2023-08-02T13:30:18.711Z"
      },
      {
        "duration": 11,
        "start_time": "2023-08-02T13:30:18.723Z"
      },
      {
        "duration": 18,
        "start_time": "2023-08-02T13:30:18.735Z"
      },
      {
        "duration": 49,
        "start_time": "2023-08-02T13:30:18.758Z"
      },
      {
        "duration": 8,
        "start_time": "2023-08-02T13:30:18.809Z"
      },
      {
        "duration": 20,
        "start_time": "2023-08-02T13:30:18.818Z"
      },
      {
        "duration": 43,
        "start_time": "2023-08-02T13:30:18.840Z"
      },
      {
        "duration": 24,
        "start_time": "2023-08-02T13:30:18.884Z"
      },
      {
        "duration": 34,
        "start_time": "2023-08-02T13:30:18.910Z"
      },
      {
        "duration": 171,
        "start_time": "2023-08-02T13:30:18.946Z"
      },
      {
        "duration": 185,
        "start_time": "2023-08-02T13:30:19.119Z"
      },
      {
        "duration": 6,
        "start_time": "2023-08-02T13:30:19.306Z"
      },
      {
        "duration": 139,
        "start_time": "2023-08-02T13:30:19.313Z"
      },
      {
        "duration": 108,
        "start_time": "2023-08-02T13:30:19.453Z"
      },
      {
        "duration": 5,
        "start_time": "2023-08-02T13:30:19.562Z"
      },
      {
        "duration": 13,
        "start_time": "2023-08-02T13:30:19.568Z"
      },
      {
        "duration": 187,
        "start_time": "2023-08-02T13:30:19.583Z"
      },
      {
        "duration": 9,
        "start_time": "2023-08-02T13:30:19.772Z"
      },
      {
        "duration": 351,
        "start_time": "2023-08-02T13:30:19.782Z"
      },
      {
        "duration": 182,
        "start_time": "2023-08-02T13:30:20.135Z"
      },
      {
        "duration": 7,
        "start_time": "2023-08-02T13:30:20.319Z"
      },
      {
        "duration": 4,
        "start_time": "2023-08-02T13:30:20.328Z"
      },
      {
        "duration": 45,
        "start_time": "2023-08-02T13:30:20.334Z"
      },
      {
        "duration": 21,
        "start_time": "2023-08-02T13:30:20.381Z"
      },
      {
        "duration": 27,
        "start_time": "2023-08-02T13:30:20.404Z"
      },
      {
        "duration": 41,
        "start_time": "2023-08-02T13:30:20.432Z"
      },
      {
        "duration": 32,
        "start_time": "2023-08-02T13:30:20.475Z"
      },
      {
        "duration": 19,
        "start_time": "2023-08-02T13:30:20.508Z"
      },
      {
        "duration": 191,
        "start_time": "2023-08-02T13:30:20.528Z"
      },
      {
        "duration": 198,
        "start_time": "2023-08-02T13:30:20.721Z"
      },
      {
        "duration": 199,
        "start_time": "2023-08-02T13:30:20.922Z"
      },
      {
        "duration": 207,
        "start_time": "2023-08-02T13:30:21.123Z"
      },
      {
        "duration": 5,
        "start_time": "2023-08-02T13:30:21.332Z"
      },
      {
        "duration": 831,
        "start_time": "2023-08-02T13:30:21.339Z"
      },
      {
        "duration": 3,
        "start_time": "2023-08-02T13:30:22.172Z"
      },
      {
        "duration": 177,
        "start_time": "2023-08-02T13:30:22.177Z"
      },
      {
        "duration": 19,
        "start_time": "2023-08-02T13:30:22.356Z"
      },
      {
        "duration": 11,
        "start_time": "2023-08-02T13:30:22.376Z"
      },
      {
        "duration": 21,
        "start_time": "2023-08-02T13:30:22.388Z"
      },
      {
        "duration": 10,
        "start_time": "2023-08-02T13:30:22.410Z"
      },
      {
        "duration": 12,
        "start_time": "2023-08-02T13:30:22.422Z"
      },
      {
        "duration": 13,
        "start_time": "2023-08-02T13:30:22.436Z"
      },
      {
        "duration": 1926,
        "start_time": "2023-08-02T13:30:22.460Z"
      },
      {
        "duration": 221,
        "start_time": "2023-08-02T13:30:24.389Z"
      },
      {
        "duration": 1838,
        "start_time": "2023-08-02T13:35:29.310Z"
      },
      {
        "duration": 1154,
        "start_time": "2023-08-02T14:34:44.869Z"
      },
      {
        "duration": 69,
        "start_time": "2023-08-02T14:34:46.024Z"
      },
      {
        "duration": 15,
        "start_time": "2023-08-02T14:34:46.094Z"
      },
      {
        "duration": 8,
        "start_time": "2023-08-02T14:34:46.111Z"
      },
      {
        "duration": 42,
        "start_time": "2023-08-02T14:34:46.121Z"
      },
      {
        "duration": 24,
        "start_time": "2023-08-02T14:34:46.164Z"
      },
      {
        "duration": 20,
        "start_time": "2023-08-02T14:34:46.190Z"
      },
      {
        "duration": 24,
        "start_time": "2023-08-02T14:34:46.212Z"
      },
      {
        "duration": 24,
        "start_time": "2023-08-02T14:34:46.238Z"
      },
      {
        "duration": 9,
        "start_time": "2023-08-02T14:34:46.264Z"
      },
      {
        "duration": 5,
        "start_time": "2023-08-02T14:34:46.274Z"
      },
      {
        "duration": 19,
        "start_time": "2023-08-02T14:34:46.280Z"
      },
      {
        "duration": 7,
        "start_time": "2023-08-02T14:34:46.300Z"
      },
      {
        "duration": 18,
        "start_time": "2023-08-02T14:34:46.308Z"
      },
      {
        "duration": 12,
        "start_time": "2023-08-02T14:34:46.328Z"
      },
      {
        "duration": 11,
        "start_time": "2023-08-02T14:34:46.342Z"
      },
      {
        "duration": 10,
        "start_time": "2023-08-02T14:34:46.355Z"
      },
      {
        "duration": 14,
        "start_time": "2023-08-02T14:34:46.366Z"
      },
      {
        "duration": 42,
        "start_time": "2023-08-02T14:34:46.382Z"
      },
      {
        "duration": 17,
        "start_time": "2023-08-02T14:34:46.426Z"
      },
      {
        "duration": 141,
        "start_time": "2023-08-02T14:34:46.444Z"
      },
      {
        "duration": 160,
        "start_time": "2023-08-02T14:34:46.587Z"
      },
      {
        "duration": 6,
        "start_time": "2023-08-02T14:34:46.748Z"
      },
      {
        "duration": 120,
        "start_time": "2023-08-02T14:34:46.756Z"
      },
      {
        "duration": 106,
        "start_time": "2023-08-02T14:34:46.878Z"
      },
      {
        "duration": 5,
        "start_time": "2023-08-02T14:34:46.986Z"
      },
      {
        "duration": 58,
        "start_time": "2023-08-02T14:34:46.992Z"
      },
      {
        "duration": 165,
        "start_time": "2023-08-02T14:34:47.054Z"
      },
      {
        "duration": 8,
        "start_time": "2023-08-02T14:34:47.221Z"
      },
      {
        "duration": 136,
        "start_time": "2023-08-02T14:34:47.230Z"
      },
      {
        "duration": 148,
        "start_time": "2023-08-02T14:34:47.368Z"
      },
      {
        "duration": 8,
        "start_time": "2023-08-02T14:34:47.518Z"
      },
      {
        "duration": 55,
        "start_time": "2023-08-02T14:34:47.528Z"
      },
      {
        "duration": 61,
        "start_time": "2023-08-02T14:34:47.585Z"
      },
      {
        "duration": 20,
        "start_time": "2023-08-02T14:34:47.648Z"
      },
      {
        "duration": 34,
        "start_time": "2023-08-02T14:34:47.669Z"
      },
      {
        "duration": 18,
        "start_time": "2023-08-02T14:34:47.704Z"
      },
      {
        "duration": 31,
        "start_time": "2023-08-02T14:34:47.723Z"
      },
      {
        "duration": 29,
        "start_time": "2023-08-02T14:34:47.756Z"
      },
      {
        "duration": 165,
        "start_time": "2023-08-02T14:34:47.786Z"
      },
      {
        "duration": 182,
        "start_time": "2023-08-02T14:34:47.953Z"
      },
      {
        "duration": 236,
        "start_time": "2023-08-02T14:34:48.137Z"
      },
      {
        "duration": 188,
        "start_time": "2023-08-02T14:34:48.374Z"
      },
      {
        "duration": 11,
        "start_time": "2023-08-02T14:34:48.563Z"
      },
      {
        "duration": 785,
        "start_time": "2023-08-02T14:34:48.576Z"
      },
      {
        "duration": 4,
        "start_time": "2023-08-02T14:34:49.363Z"
      },
      {
        "duration": 149,
        "start_time": "2023-08-02T14:34:49.374Z"
      },
      {
        "duration": 16,
        "start_time": "2023-08-02T14:34:49.525Z"
      },
      {
        "duration": 8,
        "start_time": "2023-08-02T14:34:49.542Z"
      },
      {
        "duration": 9,
        "start_time": "2023-08-02T14:34:49.551Z"
      },
      {
        "duration": 9,
        "start_time": "2023-08-02T14:34:49.575Z"
      },
      {
        "duration": 14,
        "start_time": "2023-08-02T14:34:49.586Z"
      },
      {
        "duration": 8,
        "start_time": "2023-08-02T14:34:49.602Z"
      },
      {
        "duration": 1722,
        "start_time": "2023-08-02T14:34:49.611Z"
      },
      {
        "duration": 168,
        "start_time": "2023-08-02T14:34:51.335Z"
      },
      {
        "duration": 7,
        "start_time": "2023-08-02T14:40:48.595Z"
      },
      {
        "duration": 1114,
        "start_time": "2023-08-02T14:45:19.495Z"
      },
      {
        "duration": 68,
        "start_time": "2023-08-02T14:45:20.611Z"
      },
      {
        "duration": 14,
        "start_time": "2023-08-02T14:45:20.680Z"
      },
      {
        "duration": 17,
        "start_time": "2023-08-02T14:45:20.696Z"
      },
      {
        "duration": 35,
        "start_time": "2023-08-02T14:45:20.714Z"
      },
      {
        "duration": 16,
        "start_time": "2023-08-02T14:45:20.751Z"
      },
      {
        "duration": 29,
        "start_time": "2023-08-02T14:45:20.768Z"
      },
      {
        "duration": 15,
        "start_time": "2023-08-02T14:45:20.799Z"
      },
      {
        "duration": 18,
        "start_time": "2023-08-02T14:45:20.816Z"
      },
      {
        "duration": 30,
        "start_time": "2023-08-02T14:45:20.837Z"
      },
      {
        "duration": 22,
        "start_time": "2023-08-02T14:45:20.869Z"
      },
      {
        "duration": 23,
        "start_time": "2023-08-02T14:45:20.893Z"
      },
      {
        "duration": 14,
        "start_time": "2023-08-02T14:45:20.918Z"
      },
      {
        "duration": 17,
        "start_time": "2023-08-02T14:45:20.933Z"
      },
      {
        "duration": 20,
        "start_time": "2023-08-02T14:45:20.952Z"
      },
      {
        "duration": 19,
        "start_time": "2023-08-02T14:45:20.974Z"
      },
      {
        "duration": 11,
        "start_time": "2023-08-02T14:45:20.995Z"
      },
      {
        "duration": 14,
        "start_time": "2023-08-02T14:45:21.008Z"
      },
      {
        "duration": 22,
        "start_time": "2023-08-02T14:45:21.024Z"
      },
      {
        "duration": 22,
        "start_time": "2023-08-02T14:45:21.048Z"
      },
      {
        "duration": 143,
        "start_time": "2023-08-02T14:45:21.071Z"
      },
      {
        "duration": 158,
        "start_time": "2023-08-02T14:45:21.216Z"
      },
      {
        "duration": 5,
        "start_time": "2023-08-02T14:45:21.376Z"
      },
      {
        "duration": 116,
        "start_time": "2023-08-02T14:45:21.383Z"
      },
      {
        "duration": 98,
        "start_time": "2023-08-02T14:45:21.500Z"
      },
      {
        "duration": 5,
        "start_time": "2023-08-02T14:45:21.599Z"
      },
      {
        "duration": 15,
        "start_time": "2023-08-02T14:45:21.605Z"
      },
      {
        "duration": 145,
        "start_time": "2023-08-02T14:45:21.624Z"
      },
      {
        "duration": 9,
        "start_time": "2023-08-02T14:45:21.771Z"
      },
      {
        "duration": 124,
        "start_time": "2023-08-02T14:45:21.781Z"
      },
      {
        "duration": 152,
        "start_time": "2023-08-02T14:45:21.906Z"
      },
      {
        "duration": 16,
        "start_time": "2023-08-02T14:45:22.060Z"
      },
      {
        "duration": 4,
        "start_time": "2023-08-02T14:45:22.077Z"
      },
      {
        "duration": 69,
        "start_time": "2023-08-02T14:45:22.083Z"
      },
      {
        "duration": 19,
        "start_time": "2023-08-02T14:45:22.153Z"
      },
      {
        "duration": 42,
        "start_time": "2023-08-02T14:45:22.173Z"
      },
      {
        "duration": 17,
        "start_time": "2023-08-02T14:45:22.217Z"
      },
      {
        "duration": 29,
        "start_time": "2023-08-02T14:45:22.236Z"
      },
      {
        "duration": 21,
        "start_time": "2023-08-02T14:45:22.267Z"
      },
      {
        "duration": 164,
        "start_time": "2023-08-02T14:45:22.289Z"
      },
      {
        "duration": 186,
        "start_time": "2023-08-02T14:45:22.454Z"
      },
      {
        "duration": 263,
        "start_time": "2023-08-02T14:45:22.641Z"
      },
      {
        "duration": 181,
        "start_time": "2023-08-02T14:45:22.905Z"
      },
      {
        "duration": 4,
        "start_time": "2023-08-02T14:45:23.087Z"
      },
      {
        "duration": 856,
        "start_time": "2023-08-02T14:45:23.092Z"
      },
      {
        "duration": 3,
        "start_time": "2023-08-02T14:45:23.949Z"
      },
      {
        "duration": 138,
        "start_time": "2023-08-02T14:45:23.954Z"
      },
      {
        "duration": 17,
        "start_time": "2023-08-02T14:45:24.093Z"
      },
      {
        "duration": 18,
        "start_time": "2023-08-02T14:45:24.111Z"
      },
      {
        "duration": 19,
        "start_time": "2023-08-02T14:45:24.130Z"
      },
      {
        "duration": 13,
        "start_time": "2023-08-02T14:45:24.151Z"
      },
      {
        "duration": 17,
        "start_time": "2023-08-02T14:45:24.165Z"
      },
      {
        "duration": 21,
        "start_time": "2023-08-02T14:45:24.183Z"
      },
      {
        "duration": 1566,
        "start_time": "2023-08-02T14:45:24.205Z"
      },
      {
        "duration": 164,
        "start_time": "2023-08-02T14:45:25.772Z"
      },
      {
        "duration": 148,
        "start_time": "2023-08-02T15:10:29.960Z"
      },
      {
        "duration": 149,
        "start_time": "2023-08-02T15:11:10.719Z"
      },
      {
        "duration": 130,
        "start_time": "2023-08-02T15:11:22.353Z"
      },
      {
        "duration": 136,
        "start_time": "2023-08-02T15:11:28.129Z"
      },
      {
        "duration": 136,
        "start_time": "2023-08-02T15:12:22.168Z"
      },
      {
        "duration": 150,
        "start_time": "2023-08-02T15:13:15.693Z"
      },
      {
        "duration": 173,
        "start_time": "2023-08-02T15:14:58.256Z"
      },
      {
        "duration": 162,
        "start_time": "2023-08-02T15:15:34.271Z"
      },
      {
        "duration": 163,
        "start_time": "2023-08-02T15:16:03.100Z"
      },
      {
        "duration": 354,
        "start_time": "2023-08-02T15:16:16.888Z"
      },
      {
        "duration": 166,
        "start_time": "2023-08-02T15:20:46.701Z"
      },
      {
        "duration": 13,
        "start_time": "2023-08-02T15:21:06.283Z"
      },
      {
        "duration": 5,
        "start_time": "2023-08-02T15:23:11.789Z"
      },
      {
        "duration": 19,
        "start_time": "2023-08-02T15:27:06.036Z"
      },
      {
        "duration": 8,
        "start_time": "2023-08-02T15:27:18.543Z"
      },
      {
        "duration": 10,
        "start_time": "2023-08-02T15:29:10.791Z"
      },
      {
        "duration": 139,
        "start_time": "2023-08-02T15:30:30.797Z"
      },
      {
        "duration": 177,
        "start_time": "2023-08-02T15:30:56.504Z"
      },
      {
        "duration": 129,
        "start_time": "2023-08-02T15:31:12.602Z"
      },
      {
        "duration": 138,
        "start_time": "2023-08-02T15:31:28.585Z"
      },
      {
        "duration": 204,
        "start_time": "2023-08-02T15:31:33.997Z"
      },
      {
        "duration": 158,
        "start_time": "2023-08-02T15:32:25.005Z"
      },
      {
        "duration": 187,
        "start_time": "2023-08-02T15:32:43.995Z"
      },
      {
        "duration": 186,
        "start_time": "2023-08-02T15:33:02.121Z"
      },
      {
        "duration": 169,
        "start_time": "2023-08-02T15:44:19.148Z"
      },
      {
        "duration": 240,
        "start_time": "2023-08-02T15:46:49.856Z"
      },
      {
        "duration": 120,
        "start_time": "2023-08-02T15:51:33.530Z"
      },
      {
        "duration": 127,
        "start_time": "2023-08-02T15:51:46.839Z"
      },
      {
        "duration": 130,
        "start_time": "2023-08-02T15:52:25.818Z"
      },
      {
        "duration": 198,
        "start_time": "2023-08-02T15:53:58.294Z"
      },
      {
        "duration": 281,
        "start_time": "2023-08-02T15:59:35.248Z"
      },
      {
        "duration": 2640,
        "start_time": "2023-08-02T16:01:33.784Z"
      },
      {
        "duration": 8,
        "start_time": "2023-08-02T16:01:42.433Z"
      },
      {
        "duration": 15,
        "start_time": "2023-08-02T16:06:42.552Z"
      },
      {
        "duration": 16,
        "start_time": "2023-08-02T16:06:57.038Z"
      },
      {
        "duration": 7,
        "start_time": "2023-08-02T16:18:39.412Z"
      },
      {
        "duration": 12,
        "start_time": "2023-08-02T16:18:52.638Z"
      },
      {
        "duration": 11,
        "start_time": "2023-08-02T16:18:59.646Z"
      },
      {
        "duration": 8,
        "start_time": "2023-08-02T16:19:02.973Z"
      },
      {
        "duration": 7,
        "start_time": "2023-08-02T16:22:35.538Z"
      },
      {
        "duration": 10,
        "start_time": "2023-08-02T16:22:53.835Z"
      },
      {
        "duration": 9,
        "start_time": "2023-08-02T16:23:08.212Z"
      },
      {
        "duration": 5,
        "start_time": "2023-08-02T16:23:29.657Z"
      },
      {
        "duration": 29,
        "start_time": "2023-08-02T16:31:41.044Z"
      },
      {
        "duration": 40,
        "start_time": "2023-08-02T16:31:56.081Z"
      },
      {
        "duration": 31,
        "start_time": "2023-08-02T16:32:00.308Z"
      },
      {
        "duration": 153,
        "start_time": "2023-08-02T16:39:45.796Z"
      },
      {
        "duration": 140,
        "start_time": "2023-08-02T16:39:55.712Z"
      },
      {
        "duration": 131,
        "start_time": "2023-08-02T16:43:42.120Z"
      },
      {
        "duration": 142,
        "start_time": "2023-08-02T16:43:57.742Z"
      },
      {
        "duration": 270,
        "start_time": "2023-08-02T16:44:01.855Z"
      },
      {
        "duration": 132,
        "start_time": "2023-08-02T16:46:52.304Z"
      },
      {
        "duration": 157,
        "start_time": "2023-08-02T16:47:03.934Z"
      },
      {
        "duration": 112,
        "start_time": "2023-08-02T16:47:10.092Z"
      },
      {
        "duration": 150,
        "start_time": "2023-08-02T16:47:19.159Z"
      },
      {
        "duration": 151,
        "start_time": "2023-08-02T16:47:32.354Z"
      },
      {
        "duration": 144,
        "start_time": "2023-08-02T16:49:23.663Z"
      },
      {
        "duration": 160,
        "start_time": "2023-08-02T16:50:02.334Z"
      },
      {
        "duration": 137,
        "start_time": "2023-08-02T16:50:08.101Z"
      },
      {
        "duration": 137,
        "start_time": "2023-08-02T16:51:28.847Z"
      },
      {
        "duration": 133,
        "start_time": "2023-08-02T16:52:40.142Z"
      },
      {
        "duration": 242,
        "start_time": "2023-08-02T16:52:59.574Z"
      },
      {
        "duration": 162,
        "start_time": "2023-08-02T17:02:39.175Z"
      },
      {
        "duration": 135,
        "start_time": "2023-08-02T17:02:58.284Z"
      },
      {
        "duration": 186,
        "start_time": "2023-08-02T17:03:05.975Z"
      },
      {
        "duration": 181,
        "start_time": "2023-08-02T17:09:58.832Z"
      },
      {
        "duration": 115,
        "start_time": "2023-08-02T17:18:21.941Z"
      },
      {
        "duration": 123,
        "start_time": "2023-08-02T17:20:37.534Z"
      },
      {
        "duration": 18,
        "start_time": "2023-08-02T17:34:14.421Z"
      },
      {
        "duration": 928,
        "start_time": "2023-08-02T17:44:13.972Z"
      },
      {
        "duration": 860,
        "start_time": "2023-08-02T17:46:15.913Z"
      },
      {
        "duration": 841,
        "start_time": "2023-08-02T17:48:39.928Z"
      },
      {
        "duration": 854,
        "start_time": "2023-08-02T17:48:56.006Z"
      },
      {
        "duration": 854,
        "start_time": "2023-08-02T17:51:46.217Z"
      },
      {
        "duration": 3,
        "start_time": "2023-08-02T17:52:45.470Z"
      },
      {
        "duration": 78,
        "start_time": "2023-08-02T17:52:45.476Z"
      },
      {
        "duration": 18,
        "start_time": "2023-08-02T17:52:45.556Z"
      },
      {
        "duration": 11,
        "start_time": "2023-08-02T17:52:45.576Z"
      },
      {
        "duration": 7,
        "start_time": "2023-08-02T17:52:45.589Z"
      },
      {
        "duration": 12,
        "start_time": "2023-08-02T17:52:45.598Z"
      },
      {
        "duration": 14,
        "start_time": "2023-08-02T17:52:45.612Z"
      },
      {
        "duration": 14,
        "start_time": "2023-08-02T17:52:45.665Z"
      },
      {
        "duration": 11,
        "start_time": "2023-08-02T17:52:45.681Z"
      },
      {
        "duration": 13,
        "start_time": "2023-08-02T17:52:45.694Z"
      },
      {
        "duration": 6,
        "start_time": "2023-08-02T17:52:45.709Z"
      },
      {
        "duration": 6,
        "start_time": "2023-08-02T17:52:45.717Z"
      },
      {
        "duration": 6,
        "start_time": "2023-08-02T17:52:45.727Z"
      },
      {
        "duration": 39,
        "start_time": "2023-08-02T17:52:45.734Z"
      },
      {
        "duration": 6,
        "start_time": "2023-08-02T17:52:45.775Z"
      },
      {
        "duration": 18,
        "start_time": "2023-08-02T17:52:45.782Z"
      },
      {
        "duration": 9,
        "start_time": "2023-08-02T17:52:45.802Z"
      },
      {
        "duration": 7,
        "start_time": "2023-08-02T17:52:45.812Z"
      },
      {
        "duration": 10,
        "start_time": "2023-08-02T17:52:45.821Z"
      },
      {
        "duration": 30,
        "start_time": "2023-08-02T17:52:45.833Z"
      },
      {
        "duration": 181,
        "start_time": "2023-08-02T17:52:45.869Z"
      },
      {
        "duration": 186,
        "start_time": "2023-08-02T17:52:46.052Z"
      },
      {
        "duration": 6,
        "start_time": "2023-08-02T17:52:46.240Z"
      },
      {
        "duration": 21,
        "start_time": "2023-08-02T17:52:46.247Z"
      },
      {
        "duration": 113,
        "start_time": "2023-08-02T17:52:46.270Z"
      },
      {
        "duration": 109,
        "start_time": "2023-08-02T17:52:46.384Z"
      },
      {
        "duration": 5,
        "start_time": "2023-08-02T17:52:46.494Z"
      },
      {
        "duration": 12,
        "start_time": "2023-08-02T17:52:46.500Z"
      },
      {
        "duration": 9,
        "start_time": "2023-08-02T17:52:46.513Z"
      },
      {
        "duration": 186,
        "start_time": "2023-08-02T17:52:46.523Z"
      },
      {
        "duration": 9,
        "start_time": "2023-08-02T17:52:46.711Z"
      },
      {
        "duration": 7,
        "start_time": "2023-08-02T17:52:46.721Z"
      },
      {
        "duration": 157,
        "start_time": "2023-08-02T17:52:46.729Z"
      },
      {
        "duration": 300,
        "start_time": "2023-08-02T17:52:46.889Z"
      },
      {
        "duration": 282,
        "start_time": "2023-08-02T17:52:47.191Z"
      },
      {
        "duration": 15,
        "start_time": "2023-08-02T17:52:47.475Z"
      },
      {
        "duration": 7,
        "start_time": "2023-08-02T17:52:47.493Z"
      },
      {
        "duration": 5,
        "start_time": "2023-08-02T17:52:47.502Z"
      },
      {
        "duration": 50,
        "start_time": "2023-08-02T17:52:47.509Z"
      },
      {
        "duration": 25,
        "start_time": "2023-08-02T17:52:47.562Z"
      },
      {
        "duration": 25,
        "start_time": "2023-08-02T17:52:47.589Z"
      },
      {
        "duration": 18,
        "start_time": "2023-08-02T17:52:47.616Z"
      },
      {
        "duration": 57,
        "start_time": "2023-08-02T17:52:47.636Z"
      },
      {
        "duration": 19,
        "start_time": "2023-08-02T17:52:47.695Z"
      },
      {
        "duration": 213,
        "start_time": "2023-08-02T17:52:47.715Z"
      },
      {
        "duration": 225,
        "start_time": "2023-08-02T17:52:47.930Z"
      },
      {
        "duration": 185,
        "start_time": "2023-08-02T17:52:48.162Z"
      },
      {
        "duration": 205,
        "start_time": "2023-08-02T17:52:48.349Z"
      },
      {
        "duration": 183,
        "start_time": "2023-08-02T17:52:48.555Z"
      },
      {
        "duration": 177,
        "start_time": "2023-08-02T17:52:48.740Z"
      },
      {
        "duration": 4,
        "start_time": "2023-08-02T17:52:48.919Z"
      },
      {
        "duration": 22,
        "start_time": "2023-08-02T17:52:48.924Z"
      },
      {
        "duration": 837,
        "start_time": "2023-08-02T17:54:19.369Z"
      },
      {
        "duration": 823,
        "start_time": "2023-08-02T17:55:49.381Z"
      },
      {
        "duration": 811,
        "start_time": "2023-08-02T17:56:25.367Z"
      },
      {
        "duration": 857,
        "start_time": "2023-08-02T17:57:06.770Z"
      },
      {
        "duration": 833,
        "start_time": "2023-08-02T17:58:21.405Z"
      },
      {
        "duration": 4,
        "start_time": "2023-08-02T18:13:32.513Z"
      },
      {
        "duration": 251,
        "start_time": "2023-08-02T18:13:45.234Z"
      },
      {
        "duration": 21,
        "start_time": "2023-08-02T18:13:50.687Z"
      },
      {
        "duration": 12,
        "start_time": "2023-08-02T18:15:37.304Z"
      },
      {
        "duration": 7,
        "start_time": "2023-08-02T18:15:50.296Z"
      },
      {
        "duration": 4,
        "start_time": "2023-08-02T18:17:10.617Z"
      },
      {
        "duration": 4,
        "start_time": "2023-08-02T18:17:13.687Z"
      },
      {
        "duration": 4,
        "start_time": "2023-08-02T18:17:20.989Z"
      },
      {
        "duration": 6,
        "start_time": "2023-08-02T18:17:24.126Z"
      },
      {
        "duration": 6,
        "start_time": "2023-08-02T18:17:34.224Z"
      },
      {
        "duration": 377,
        "start_time": "2023-08-02T18:53:09.040Z"
      },
      {
        "duration": 269,
        "start_time": "2023-08-02T18:53:49.544Z"
      },
      {
        "duration": 261,
        "start_time": "2023-08-02T18:54:07.746Z"
      },
      {
        "duration": 255,
        "start_time": "2023-08-02T18:54:21.328Z"
      },
      {
        "duration": 255,
        "start_time": "2023-08-02T18:54:54.728Z"
      },
      {
        "duration": 241,
        "start_time": "2023-08-02T18:55:41.578Z"
      },
      {
        "duration": 7,
        "start_time": "2023-08-02T18:56:15.898Z"
      },
      {
        "duration": 7,
        "start_time": "2023-08-02T18:56:18.249Z"
      },
      {
        "duration": 6,
        "start_time": "2023-08-02T18:58:16.576Z"
      },
      {
        "duration": 19,
        "start_time": "2023-08-02T18:58:17.424Z"
      },
      {
        "duration": 1111,
        "start_time": "2023-08-02T18:58:18.122Z"
      },
      {
        "duration": 3,
        "start_time": "2023-08-02T18:58:27.143Z"
      },
      {
        "duration": 242,
        "start_time": "2023-08-02T18:58:30.375Z"
      },
      {
        "duration": 27,
        "start_time": "2023-08-02T18:58:31.949Z"
      },
      {
        "duration": 13,
        "start_time": "2023-08-02T18:58:35.076Z"
      },
      {
        "duration": 6,
        "start_time": "2023-08-02T18:58:46.597Z"
      },
      {
        "duration": 6,
        "start_time": "2023-08-02T19:06:41.938Z"
      },
      {
        "duration": 6,
        "start_time": "2023-08-02T19:08:27.689Z"
      },
      {
        "duration": 5,
        "start_time": "2023-08-02T19:13:02.611Z"
      },
      {
        "duration": 6,
        "start_time": "2023-08-02T19:13:31.950Z"
      },
      {
        "duration": 5,
        "start_time": "2023-08-02T19:25:09.870Z"
      },
      {
        "duration": 8,
        "start_time": "2023-08-02T19:31:18.642Z"
      },
      {
        "duration": 5,
        "start_time": "2023-08-02T19:33:34.470Z"
      },
      {
        "duration": 5,
        "start_time": "2023-08-02T19:33:45.979Z"
      },
      {
        "duration": 114,
        "start_time": "2023-08-02T19:40:19.111Z"
      },
      {
        "duration": 5,
        "start_time": "2023-08-02T19:41:47.009Z"
      },
      {
        "duration": 4,
        "start_time": "2023-08-02T19:42:09.813Z"
      },
      {
        "duration": 5,
        "start_time": "2023-08-02T19:42:31.033Z"
      },
      {
        "duration": 1954,
        "start_time": "2023-08-02T19:43:23.768Z"
      },
      {
        "duration": 7,
        "start_time": "2023-08-02T19:43:41.462Z"
      },
      {
        "duration": 2293,
        "start_time": "2023-08-02T19:44:11.565Z"
      },
      {
        "duration": 202,
        "start_time": "2023-08-02T19:44:38.857Z"
      },
      {
        "duration": 11,
        "start_time": "2023-08-02T19:48:00.937Z"
      },
      {
        "duration": 1192,
        "start_time": "2023-08-02T19:48:13.081Z"
      },
      {
        "duration": 70,
        "start_time": "2023-08-02T19:48:14.276Z"
      },
      {
        "duration": 14,
        "start_time": "2023-08-02T19:48:14.347Z"
      },
      {
        "duration": 8,
        "start_time": "2023-08-02T19:48:14.363Z"
      },
      {
        "duration": 7,
        "start_time": "2023-08-02T19:48:14.373Z"
      },
      {
        "duration": 13,
        "start_time": "2023-08-02T19:48:14.381Z"
      },
      {
        "duration": 14,
        "start_time": "2023-08-02T19:48:14.396Z"
      },
      {
        "duration": 9,
        "start_time": "2023-08-02T19:48:14.411Z"
      },
      {
        "duration": 37,
        "start_time": "2023-08-02T19:48:14.422Z"
      },
      {
        "duration": 11,
        "start_time": "2023-08-02T19:48:14.461Z"
      },
      {
        "duration": 6,
        "start_time": "2023-08-02T19:48:14.474Z"
      },
      {
        "duration": 6,
        "start_time": "2023-08-02T19:48:14.482Z"
      },
      {
        "duration": 9,
        "start_time": "2023-08-02T19:48:14.493Z"
      },
      {
        "duration": 16,
        "start_time": "2023-08-02T19:48:14.504Z"
      },
      {
        "duration": 6,
        "start_time": "2023-08-02T19:48:14.522Z"
      },
      {
        "duration": 33,
        "start_time": "2023-08-02T19:48:14.529Z"
      },
      {
        "duration": 9,
        "start_time": "2023-08-02T19:48:14.564Z"
      },
      {
        "duration": 5,
        "start_time": "2023-08-02T19:48:14.575Z"
      },
      {
        "duration": 13,
        "start_time": "2023-08-02T19:48:14.582Z"
      },
      {
        "duration": 7,
        "start_time": "2023-08-02T19:48:14.597Z"
      },
      {
        "duration": 213,
        "start_time": "2023-08-02T19:48:14.605Z"
      },
      {
        "duration": 165,
        "start_time": "2023-08-02T19:48:14.819Z"
      },
      {
        "duration": 7,
        "start_time": "2023-08-02T19:48:14.985Z"
      },
      {
        "duration": 6,
        "start_time": "2023-08-02T19:48:14.993Z"
      },
      {
        "duration": 184,
        "start_time": "2023-08-02T19:48:15.000Z"
      },
      {
        "duration": 105,
        "start_time": "2023-08-02T19:48:15.186Z"
      },
      {
        "duration": 5,
        "start_time": "2023-08-02T19:48:15.293Z"
      },
      {
        "duration": 5,
        "start_time": "2023-08-02T19:48:15.303Z"
      },
      {
        "duration": 19,
        "start_time": "2023-08-02T19:48:15.309Z"
      },
      {
        "duration": 190,
        "start_time": "2023-08-02T19:48:15.331Z"
      },
      {
        "duration": 9,
        "start_time": "2023-08-02T19:48:15.523Z"
      },
      {
        "duration": 7,
        "start_time": "2023-08-02T19:48:15.534Z"
      },
      {
        "duration": 136,
        "start_time": "2023-08-02T19:48:15.558Z"
      },
      {
        "duration": 190,
        "start_time": "2023-08-02T19:48:15.696Z"
      },
      {
        "duration": 319,
        "start_time": "2023-08-02T19:48:15.888Z"
      },
      {
        "duration": 21,
        "start_time": "2023-08-02T19:48:16.208Z"
      },
      {
        "duration": 7,
        "start_time": "2023-08-02T19:48:16.231Z"
      },
      {
        "duration": 27,
        "start_time": "2023-08-02T19:48:16.239Z"
      },
      {
        "duration": 119,
        "start_time": "2023-08-02T19:48:16.268Z"
      },
      {
        "duration": 28,
        "start_time": "2023-08-02T19:48:16.389Z"
      },
      {
        "duration": 57,
        "start_time": "2023-08-02T19:48:16.419Z"
      },
      {
        "duration": 30,
        "start_time": "2023-08-02T19:48:16.478Z"
      },
      {
        "duration": 58,
        "start_time": "2023-08-02T19:48:16.510Z"
      },
      {
        "duration": 22,
        "start_time": "2023-08-02T19:48:16.570Z"
      },
      {
        "duration": 195,
        "start_time": "2023-08-02T19:48:16.594Z"
      },
      {
        "duration": 194,
        "start_time": "2023-08-02T19:48:16.792Z"
      },
      {
        "duration": 218,
        "start_time": "2023-08-02T19:48:16.988Z"
      },
      {
        "duration": 224,
        "start_time": "2023-08-02T19:48:17.209Z"
      },
      {
        "duration": 227,
        "start_time": "2023-08-02T19:48:17.435Z"
      },
      {
        "duration": 271,
        "start_time": "2023-08-02T19:48:17.665Z"
      },
      {
        "duration": 4,
        "start_time": "2023-08-02T19:48:17.938Z"
      },
      {
        "duration": 30,
        "start_time": "2023-08-02T19:48:17.943Z"
      },
      {
        "duration": 808,
        "start_time": "2023-08-02T19:48:17.975Z"
      },
      {
        "duration": 4,
        "start_time": "2023-08-02T19:48:18.785Z"
      },
      {
        "duration": 202,
        "start_time": "2023-08-02T19:48:18.791Z"
      },
      {
        "duration": 29,
        "start_time": "2023-08-02T19:48:18.994Z"
      },
      {
        "duration": 14,
        "start_time": "2023-08-02T19:48:19.025Z"
      },
      {
        "duration": 8,
        "start_time": "2023-08-02T19:48:19.058Z"
      },
      {
        "duration": 6,
        "start_time": "2023-08-02T19:48:19.068Z"
      },
      {
        "duration": 18,
        "start_time": "2023-08-02T19:48:19.076Z"
      },
      {
        "duration": 7,
        "start_time": "2023-08-02T19:48:19.097Z"
      },
      {
        "duration": 14,
        "start_time": "2023-08-02T19:48:19.106Z"
      },
      {
        "duration": 5,
        "start_time": "2023-08-02T19:48:19.121Z"
      },
      {
        "duration": 7,
        "start_time": "2023-08-02T19:48:19.164Z"
      },
      {
        "duration": 11,
        "start_time": "2023-08-02T19:48:19.173Z"
      },
      {
        "duration": 1792,
        "start_time": "2023-08-02T19:48:19.186Z"
      },
      {
        "duration": 215,
        "start_time": "2023-08-02T19:48:20.980Z"
      },
      {
        "duration": 3,
        "start_time": "2023-08-02T19:48:42.436Z"
      },
      {
        "duration": 69,
        "start_time": "2023-08-02T19:48:42.442Z"
      },
      {
        "duration": 9,
        "start_time": "2023-08-02T19:48:42.513Z"
      },
      {
        "duration": 20,
        "start_time": "2023-08-02T19:48:42.524Z"
      },
      {
        "duration": 8,
        "start_time": "2023-08-02T19:48:42.546Z"
      },
      {
        "duration": 13,
        "start_time": "2023-08-02T19:48:42.556Z"
      },
      {
        "duration": 12,
        "start_time": "2023-08-02T19:48:42.571Z"
      },
      {
        "duration": 13,
        "start_time": "2023-08-02T19:48:42.585Z"
      },
      {
        "duration": 14,
        "start_time": "2023-08-02T19:48:42.600Z"
      },
      {
        "duration": 173,
        "start_time": "2023-08-02T19:48:42.616Z"
      },
      {
        "duration": 7,
        "start_time": "2023-08-02T19:48:42.793Z"
      },
      {
        "duration": 18,
        "start_time": "2023-08-02T19:48:42.801Z"
      },
      {
        "duration": 12,
        "start_time": "2023-08-02T19:48:42.822Z"
      },
      {
        "duration": 6,
        "start_time": "2023-08-02T19:48:42.838Z"
      },
      {
        "duration": 7,
        "start_time": "2023-08-02T19:48:42.859Z"
      },
      {
        "duration": 7,
        "start_time": "2023-08-02T19:48:42.867Z"
      },
      {
        "duration": 9,
        "start_time": "2023-08-02T19:48:42.876Z"
      },
      {
        "duration": 6,
        "start_time": "2023-08-02T19:48:42.886Z"
      },
      {
        "duration": 9,
        "start_time": "2023-08-02T19:48:42.893Z"
      },
      {
        "duration": 7,
        "start_time": "2023-08-02T19:48:42.903Z"
      },
      {
        "duration": 185,
        "start_time": "2023-08-02T19:48:42.911Z"
      },
      {
        "duration": 174,
        "start_time": "2023-08-02T19:48:43.097Z"
      },
      {
        "duration": 6,
        "start_time": "2023-08-02T19:48:43.273Z"
      },
      {
        "duration": 10,
        "start_time": "2023-08-02T19:48:43.280Z"
      },
      {
        "duration": 114,
        "start_time": "2023-08-02T19:48:43.292Z"
      },
      {
        "duration": 99,
        "start_time": "2023-08-02T19:48:43.407Z"
      },
      {
        "duration": 4,
        "start_time": "2023-08-02T19:48:43.508Z"
      },
      {
        "duration": 6,
        "start_time": "2023-08-02T19:48:43.514Z"
      },
      {
        "duration": 12,
        "start_time": "2023-08-02T19:48:43.521Z"
      },
      {
        "duration": 181,
        "start_time": "2023-08-02T19:48:43.534Z"
      },
      {
        "duration": 9,
        "start_time": "2023-08-02T19:48:43.717Z"
      },
      {
        "duration": 7,
        "start_time": "2023-08-02T19:48:43.728Z"
      },
      {
        "duration": 149,
        "start_time": "2023-08-02T19:48:43.736Z"
      },
      {
        "duration": 226,
        "start_time": "2023-08-02T19:48:43.886Z"
      },
      {
        "duration": 355,
        "start_time": "2023-08-02T19:48:44.115Z"
      },
      {
        "duration": 14,
        "start_time": "2023-08-02T19:48:44.472Z"
      },
      {
        "duration": 10,
        "start_time": "2023-08-02T19:48:44.488Z"
      },
      {
        "duration": 7,
        "start_time": "2023-08-02T19:48:44.500Z"
      },
      {
        "duration": 31,
        "start_time": "2023-08-02T19:48:44.509Z"
      },
      {
        "duration": 38,
        "start_time": "2023-08-02T19:48:44.541Z"
      },
      {
        "duration": 28,
        "start_time": "2023-08-02T19:48:44.583Z"
      },
      {
        "duration": 20,
        "start_time": "2023-08-02T19:48:44.612Z"
      },
      {
        "duration": 72,
        "start_time": "2023-08-02T19:48:44.634Z"
      },
      {
        "duration": 23,
        "start_time": "2023-08-02T19:48:44.708Z"
      },
      {
        "duration": 204,
        "start_time": "2023-08-02T19:48:44.732Z"
      },
      {
        "duration": 199,
        "start_time": "2023-08-02T19:48:44.938Z"
      },
      {
        "duration": 296,
        "start_time": "2023-08-02T19:48:45.139Z"
      },
      {
        "duration": 204,
        "start_time": "2023-08-02T19:48:45.437Z"
      },
      {
        "duration": 223,
        "start_time": "2023-08-02T19:48:45.643Z"
      },
      {
        "duration": 217,
        "start_time": "2023-08-02T19:48:45.868Z"
      },
      {
        "duration": 4,
        "start_time": "2023-08-02T19:48:46.087Z"
      },
      {
        "duration": 25,
        "start_time": "2023-08-02T19:48:46.093Z"
      },
      {
        "duration": 785,
        "start_time": "2023-08-02T19:48:46.121Z"
      },
      {
        "duration": 3,
        "start_time": "2023-08-02T19:48:46.907Z"
      },
      {
        "duration": 194,
        "start_time": "2023-08-02T19:48:46.912Z"
      },
      {
        "duration": 27,
        "start_time": "2023-08-02T19:48:47.108Z"
      },
      {
        "duration": 28,
        "start_time": "2023-08-02T19:48:47.138Z"
      },
      {
        "duration": 7,
        "start_time": "2023-08-02T19:48:47.168Z"
      },
      {
        "duration": 33,
        "start_time": "2023-08-02T19:48:47.177Z"
      },
      {
        "duration": 15,
        "start_time": "2023-08-02T19:48:47.212Z"
      },
      {
        "duration": 12,
        "start_time": "2023-08-02T19:48:47.229Z"
      },
      {
        "duration": 24,
        "start_time": "2023-08-02T19:48:47.243Z"
      },
      {
        "duration": 37,
        "start_time": "2023-08-02T19:48:47.269Z"
      },
      {
        "duration": 9,
        "start_time": "2023-08-02T19:48:47.308Z"
      },
      {
        "duration": 14,
        "start_time": "2023-08-02T19:48:47.319Z"
      },
      {
        "duration": 1654,
        "start_time": "2023-08-02T19:48:47.335Z"
      },
      {
        "duration": 187,
        "start_time": "2023-08-02T19:48:48.992Z"
      },
      {
        "duration": 1270,
        "start_time": "2023-08-03T13:54:28.541Z"
      },
      {
        "duration": 120,
        "start_time": "2023-08-03T13:54:29.814Z"
      },
      {
        "duration": 15,
        "start_time": "2023-08-03T13:54:29.939Z"
      },
      {
        "duration": 11,
        "start_time": "2023-08-03T13:54:29.956Z"
      },
      {
        "duration": 15,
        "start_time": "2023-08-03T13:54:29.969Z"
      },
      {
        "duration": 33,
        "start_time": "2023-08-03T13:54:29.985Z"
      },
      {
        "duration": 65,
        "start_time": "2023-08-03T13:54:30.020Z"
      },
      {
        "duration": 17,
        "start_time": "2023-08-03T13:54:30.086Z"
      },
      {
        "duration": 44,
        "start_time": "2023-08-03T13:54:30.105Z"
      },
      {
        "duration": 29,
        "start_time": "2023-08-03T13:54:30.150Z"
      },
      {
        "duration": 15,
        "start_time": "2023-08-03T13:54:30.181Z"
      },
      {
        "duration": 17,
        "start_time": "2023-08-03T13:54:30.197Z"
      },
      {
        "duration": 27,
        "start_time": "2023-08-03T13:54:30.225Z"
      },
      {
        "duration": 19,
        "start_time": "2023-08-03T13:54:30.253Z"
      },
      {
        "duration": 29,
        "start_time": "2023-08-03T13:54:30.274Z"
      },
      {
        "duration": 54,
        "start_time": "2023-08-03T13:54:30.305Z"
      },
      {
        "duration": 42,
        "start_time": "2023-08-03T13:54:30.360Z"
      },
      {
        "duration": 52,
        "start_time": "2023-08-03T13:54:30.404Z"
      },
      {
        "duration": 23,
        "start_time": "2023-08-03T13:54:30.457Z"
      },
      {
        "duration": 19,
        "start_time": "2023-08-03T13:54:30.482Z"
      },
      {
        "duration": 248,
        "start_time": "2023-08-03T13:54:30.503Z"
      },
      {
        "duration": 198,
        "start_time": "2023-08-03T13:54:30.753Z"
      },
      {
        "duration": 6,
        "start_time": "2023-08-03T13:54:30.953Z"
      },
      {
        "duration": 82,
        "start_time": "2023-08-03T13:54:30.961Z"
      },
      {
        "duration": 186,
        "start_time": "2023-08-03T13:54:31.045Z"
      },
      {
        "duration": 108,
        "start_time": "2023-08-03T13:54:31.236Z"
      },
      {
        "duration": 7,
        "start_time": "2023-08-03T13:54:31.349Z"
      },
      {
        "duration": 105,
        "start_time": "2023-08-03T13:54:31.358Z"
      },
      {
        "duration": 45,
        "start_time": "2023-08-03T13:54:31.464Z"
      },
      {
        "duration": 240,
        "start_time": "2023-08-03T13:54:31.512Z"
      },
      {
        "duration": 10,
        "start_time": "2023-08-03T13:54:31.754Z"
      },
      {
        "duration": 16,
        "start_time": "2023-08-03T13:54:31.765Z"
      },
      {
        "duration": 178,
        "start_time": "2023-08-03T13:54:31.783Z"
      },
      {
        "duration": 227,
        "start_time": "2023-08-03T13:54:31.963Z"
      },
      {
        "duration": 350,
        "start_time": "2023-08-03T13:54:32.192Z"
      },
      {
        "duration": 16,
        "start_time": "2023-08-03T13:54:32.544Z"
      },
      {
        "duration": 7,
        "start_time": "2023-08-03T13:54:32.562Z"
      },
      {
        "duration": 26,
        "start_time": "2023-08-03T13:54:32.571Z"
      },
      {
        "duration": 166,
        "start_time": "2023-08-03T13:54:32.599Z"
      },
      {
        "duration": 23,
        "start_time": "2023-08-03T13:54:32.767Z"
      },
      {
        "duration": 53,
        "start_time": "2023-08-03T13:54:32.792Z"
      },
      {
        "duration": 18,
        "start_time": "2023-08-03T13:54:32.847Z"
      },
      {
        "duration": 53,
        "start_time": "2023-08-03T13:54:32.868Z"
      },
      {
        "duration": 32,
        "start_time": "2023-08-03T13:54:32.922Z"
      },
      {
        "duration": 220,
        "start_time": "2023-08-03T13:54:32.956Z"
      },
      {
        "duration": 197,
        "start_time": "2023-08-03T13:54:33.177Z"
      },
      {
        "duration": 207,
        "start_time": "2023-08-03T13:54:33.375Z"
      },
      {
        "duration": 206,
        "start_time": "2023-08-03T13:54:33.584Z"
      },
      {
        "duration": 250,
        "start_time": "2023-08-03T13:54:33.792Z"
      },
      {
        "duration": 227,
        "start_time": "2023-08-03T13:54:34.045Z"
      },
      {
        "duration": 4,
        "start_time": "2023-08-03T13:54:34.274Z"
      },
      {
        "duration": 32,
        "start_time": "2023-08-03T13:54:34.280Z"
      },
      {
        "duration": 1007,
        "start_time": "2023-08-03T13:54:34.324Z"
      },
      {
        "duration": 8,
        "start_time": "2023-08-03T13:54:35.332Z"
      },
      {
        "duration": 242,
        "start_time": "2023-08-03T13:54:35.341Z"
      },
      {
        "duration": 19,
        "start_time": "2023-08-03T13:54:35.584Z"
      },
      {
        "duration": 60,
        "start_time": "2023-08-03T13:54:35.611Z"
      },
      {
        "duration": 29,
        "start_time": "2023-08-03T13:54:35.673Z"
      },
      {
        "duration": 45,
        "start_time": "2023-08-03T13:54:35.704Z"
      },
      {
        "duration": 20,
        "start_time": "2023-08-03T13:54:35.751Z"
      },
      {
        "duration": 15,
        "start_time": "2023-08-03T13:54:35.774Z"
      },
      {
        "duration": 71,
        "start_time": "2023-08-03T13:54:35.791Z"
      },
      {
        "duration": 17,
        "start_time": "2023-08-03T13:54:35.865Z"
      },
      {
        "duration": 28,
        "start_time": "2023-08-03T13:54:35.884Z"
      },
      {
        "duration": 60,
        "start_time": "2023-08-03T13:54:35.918Z"
      },
      {
        "duration": 2177,
        "start_time": "2023-08-03T13:54:35.980Z"
      },
      {
        "duration": 232,
        "start_time": "2023-08-03T13:54:38.159Z"
      }
    ],
    "kernelspec": {
      "display_name": "Python 3 (ipykernel)",
      "language": "python",
      "name": "python3"
    },
    "language_info": {
      "codemirror_mode": {
        "name": "ipython",
        "version": 3
      },
      "file_extension": ".py",
      "mimetype": "text/x-python",
      "name": "python",
      "nbconvert_exporter": "python",
      "pygments_lexer": "ipython3",
      "version": "3.9.5"
    },
    "toc": {
      "base_numbering": 1,
      "nav_menu": {},
      "number_sections": true,
      "sideBar": true,
      "skip_h1_title": true,
      "title_cell": "Содержание",
      "title_sidebar": "Содержание",
      "toc_cell": true,
      "toc_position": {},
      "toc_section_display": true,
      "toc_window_display": false
    },
    "colab": {
      "provenance": []
    }
  },
  "nbformat": 4,
  "nbformat_minor": 5
}