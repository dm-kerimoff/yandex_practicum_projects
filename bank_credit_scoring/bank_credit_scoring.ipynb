{
  "cells": [
    {
      "cell_type": "markdown",
      "id": "b3910244",
      "metadata": {
        "deletable": false,
        "editable": false,
        "id": "b3910244"
      },
      "source": [
        "# Исследование надежности заемщиков\n"
      ]
    },
    {
      "cell_type": "markdown",
      "source": [
        "## Описание проекта\n",
        "\n",
        "Заказчик — кредитный отдел банка. Нужно разобраться, влияет ли семейное положение и количество детей клиента на факт погашения кредита в срок. Входные данные от банка — статистика о платёжеспособности клиентов.\n",
        "Результаты исследования будут учтены при построении модели кредитного скоринга — специальной системы, которая оценивает способность потенциального заёмщика вернуть кредит банку"
      ],
      "metadata": {
        "id": "Q10MRTHIO-67"
      },
      "id": "Q10MRTHIO-67"
    },
    {
      "cell_type": "markdown",
      "source": [
        "## Описание данных\n",
        "\n",
        "- *children* — количество детей в семье\n",
        "-*days_employed* — общий трудовой стаж в днях\n",
        "- *dob_years* — возраст клиента в годах\n",
        "- *education* — уровень образования клиента\n",
        "- *education_id* — идентификатор уровня образования\n",
        "- *family_status* — семейное положение\n",
        "- *family_status_id* — идентификатор семейного положения\n",
        "- *gender* — пол клиента\n",
        "- *income_type* — тип занятости\n",
        "- *debt* — имел ли задолженность по возврату кредитов\n",
        "- *total_income* — ежемесячный доход\n",
        "- *purpose* — цель получения кредита"
      ],
      "metadata": {
        "id": "gWE510qXPlvp"
      },
      "id": "gWE510qXPlvp"
    },
    {
      "cell_type": "markdown",
      "id": "d1de3470",
      "metadata": {
        "deletable": false,
        "editable": false,
        "id": "d1de3470"
      },
      "source": [
        "## Откройте таблицу и изучите общую информацию о данных"
      ]
    },
    {
      "cell_type": "markdown",
      "id": "43164393",
      "metadata": {
        "deletable": false,
        "editable": false,
        "id": "43164393"
      },
      "source": [
        "**Задание 1. Импортируйте библиотеку pandas. Считайте данные из csv-файла в датафрейм и сохраните в переменную `data`. Путь к файлу:**\n",
        "\n",
        "`/datasets/data.csv`"
      ]
    },
    {
      "cell_type": "code",
      "execution_count": 1,
      "id": "206bf463",
      "metadata": {
        "deletable": false,
        "id": "206bf463"
      },
      "outputs": [],
      "source": [
        "import pandas as pd\n",
        "\n",
        "try:\n",
        "    data = pd.read_csv('/datasets/data.csv')\n",
        "except:\n",
        "    data = pd.read_csv('https://code.s3.yandex.net/datasets/data.csv')\n",
        ""
      ]
    },
    {
      "cell_type": "markdown",
      "id": "3a684f08",
      "metadata": {
        "deletable": false,
        "editable": false,
        "id": "3a684f08"
      },
      "source": [
        "**Задание 2. Выведите первые 20 строчек датафрейма `data` на экран.**"
      ]
    },
    {
      "cell_type": "code",
      "execution_count": null,
      "id": "832b32ae",
      "metadata": {
        "deletable": false,
        "id": "832b32ae",
        "outputId": "1a8f3ef2-d323-4ec2-ddf7-89670b5944c4",
        "scrolled": true
      },
      "outputs": [
        {
          "data": {
            "text/html": [
              "<div>\n",
              "<style scoped>\n",
              "    .dataframe tbody tr th:only-of-type {\n",
              "        vertical-align: middle;\n",
              "    }\n",
              "\n",
              "    .dataframe tbody tr th {\n",
              "        vertical-align: top;\n",
              "    }\n",
              "\n",
              "    .dataframe thead th {\n",
              "        text-align: right;\n",
              "    }\n",
              "</style>\n",
              "<table border=\"1\" class=\"dataframe\">\n",
              "  <thead>\n",
              "    <tr style=\"text-align: right;\">\n",
              "      <th></th>\n",
              "      <th>children</th>\n",
              "      <th>days_employed</th>\n",
              "      <th>dob_years</th>\n",
              "      <th>education</th>\n",
              "      <th>education_id</th>\n",
              "      <th>family_status</th>\n",
              "      <th>family_status_id</th>\n",
              "      <th>gender</th>\n",
              "      <th>income_type</th>\n",
              "      <th>debt</th>\n",
              "      <th>total_income</th>\n",
              "      <th>purpose</th>\n",
              "    </tr>\n",
              "  </thead>\n",
              "  <tbody>\n",
              "    <tr>\n",
              "      <th>0</th>\n",
              "      <td>1</td>\n",
              "      <td>-8437.673028</td>\n",
              "      <td>42</td>\n",
              "      <td>высшее</td>\n",
              "      <td>0</td>\n",
              "      <td>женат / замужем</td>\n",
              "      <td>0</td>\n",
              "      <td>F</td>\n",
              "      <td>сотрудник</td>\n",
              "      <td>0</td>\n",
              "      <td>253875.639453</td>\n",
              "      <td>покупка жилья</td>\n",
              "    </tr>\n",
              "    <tr>\n",
              "      <th>1</th>\n",
              "      <td>1</td>\n",
              "      <td>-4024.803754</td>\n",
              "      <td>36</td>\n",
              "      <td>среднее</td>\n",
              "      <td>1</td>\n",
              "      <td>женат / замужем</td>\n",
              "      <td>0</td>\n",
              "      <td>F</td>\n",
              "      <td>сотрудник</td>\n",
              "      <td>0</td>\n",
              "      <td>112080.014102</td>\n",
              "      <td>приобретение автомобиля</td>\n",
              "    </tr>\n",
              "    <tr>\n",
              "      <th>2</th>\n",
              "      <td>0</td>\n",
              "      <td>-5623.422610</td>\n",
              "      <td>33</td>\n",
              "      <td>Среднее</td>\n",
              "      <td>1</td>\n",
              "      <td>женат / замужем</td>\n",
              "      <td>0</td>\n",
              "      <td>M</td>\n",
              "      <td>сотрудник</td>\n",
              "      <td>0</td>\n",
              "      <td>145885.952297</td>\n",
              "      <td>покупка жилья</td>\n",
              "    </tr>\n",
              "    <tr>\n",
              "      <th>3</th>\n",
              "      <td>3</td>\n",
              "      <td>-4124.747207</td>\n",
              "      <td>32</td>\n",
              "      <td>среднее</td>\n",
              "      <td>1</td>\n",
              "      <td>женат / замужем</td>\n",
              "      <td>0</td>\n",
              "      <td>M</td>\n",
              "      <td>сотрудник</td>\n",
              "      <td>0</td>\n",
              "      <td>267628.550329</td>\n",
              "      <td>дополнительное образование</td>\n",
              "    </tr>\n",
              "    <tr>\n",
              "      <th>4</th>\n",
              "      <td>0</td>\n",
              "      <td>340266.072047</td>\n",
              "      <td>53</td>\n",
              "      <td>среднее</td>\n",
              "      <td>1</td>\n",
              "      <td>гражданский брак</td>\n",
              "      <td>1</td>\n",
              "      <td>F</td>\n",
              "      <td>пенсионер</td>\n",
              "      <td>0</td>\n",
              "      <td>158616.077870</td>\n",
              "      <td>сыграть свадьбу</td>\n",
              "    </tr>\n",
              "    <tr>\n",
              "      <th>5</th>\n",
              "      <td>0</td>\n",
              "      <td>-926.185831</td>\n",
              "      <td>27</td>\n",
              "      <td>высшее</td>\n",
              "      <td>0</td>\n",
              "      <td>гражданский брак</td>\n",
              "      <td>1</td>\n",
              "      <td>M</td>\n",
              "      <td>компаньон</td>\n",
              "      <td>0</td>\n",
              "      <td>255763.565419</td>\n",
              "      <td>покупка жилья</td>\n",
              "    </tr>\n",
              "    <tr>\n",
              "      <th>6</th>\n",
              "      <td>0</td>\n",
              "      <td>-2879.202052</td>\n",
              "      <td>43</td>\n",
              "      <td>высшее</td>\n",
              "      <td>0</td>\n",
              "      <td>женат / замужем</td>\n",
              "      <td>0</td>\n",
              "      <td>F</td>\n",
              "      <td>компаньон</td>\n",
              "      <td>0</td>\n",
              "      <td>240525.971920</td>\n",
              "      <td>операции с жильем</td>\n",
              "    </tr>\n",
              "    <tr>\n",
              "      <th>7</th>\n",
              "      <td>0</td>\n",
              "      <td>-152.779569</td>\n",
              "      <td>50</td>\n",
              "      <td>СРЕДНЕЕ</td>\n",
              "      <td>1</td>\n",
              "      <td>женат / замужем</td>\n",
              "      <td>0</td>\n",
              "      <td>M</td>\n",
              "      <td>сотрудник</td>\n",
              "      <td>0</td>\n",
              "      <td>135823.934197</td>\n",
              "      <td>образование</td>\n",
              "    </tr>\n",
              "    <tr>\n",
              "      <th>8</th>\n",
              "      <td>2</td>\n",
              "      <td>-6929.865299</td>\n",
              "      <td>35</td>\n",
              "      <td>ВЫСШЕЕ</td>\n",
              "      <td>0</td>\n",
              "      <td>гражданский брак</td>\n",
              "      <td>1</td>\n",
              "      <td>F</td>\n",
              "      <td>сотрудник</td>\n",
              "      <td>0</td>\n",
              "      <td>95856.832424</td>\n",
              "      <td>на проведение свадьбы</td>\n",
              "    </tr>\n",
              "    <tr>\n",
              "      <th>9</th>\n",
              "      <td>0</td>\n",
              "      <td>-2188.756445</td>\n",
              "      <td>41</td>\n",
              "      <td>среднее</td>\n",
              "      <td>1</td>\n",
              "      <td>женат / замужем</td>\n",
              "      <td>0</td>\n",
              "      <td>M</td>\n",
              "      <td>сотрудник</td>\n",
              "      <td>0</td>\n",
              "      <td>144425.938277</td>\n",
              "      <td>покупка жилья для семьи</td>\n",
              "    </tr>\n",
              "    <tr>\n",
              "      <th>10</th>\n",
              "      <td>2</td>\n",
              "      <td>-4171.483647</td>\n",
              "      <td>36</td>\n",
              "      <td>высшее</td>\n",
              "      <td>0</td>\n",
              "      <td>женат / замужем</td>\n",
              "      <td>0</td>\n",
              "      <td>M</td>\n",
              "      <td>компаньон</td>\n",
              "      <td>0</td>\n",
              "      <td>113943.491460</td>\n",
              "      <td>покупка недвижимости</td>\n",
              "    </tr>\n",
              "    <tr>\n",
              "      <th>11</th>\n",
              "      <td>0</td>\n",
              "      <td>-792.701887</td>\n",
              "      <td>40</td>\n",
              "      <td>среднее</td>\n",
              "      <td>1</td>\n",
              "      <td>женат / замужем</td>\n",
              "      <td>0</td>\n",
              "      <td>F</td>\n",
              "      <td>сотрудник</td>\n",
              "      <td>0</td>\n",
              "      <td>77069.234271</td>\n",
              "      <td>покупка коммерческой недвижимости</td>\n",
              "    </tr>\n",
              "    <tr>\n",
              "      <th>12</th>\n",
              "      <td>0</td>\n",
              "      <td>NaN</td>\n",
              "      <td>65</td>\n",
              "      <td>среднее</td>\n",
              "      <td>1</td>\n",
              "      <td>гражданский брак</td>\n",
              "      <td>1</td>\n",
              "      <td>M</td>\n",
              "      <td>пенсионер</td>\n",
              "      <td>0</td>\n",
              "      <td>NaN</td>\n",
              "      <td>сыграть свадьбу</td>\n",
              "    </tr>\n",
              "    <tr>\n",
              "      <th>13</th>\n",
              "      <td>0</td>\n",
              "      <td>-1846.641941</td>\n",
              "      <td>54</td>\n",
              "      <td>неоконченное высшее</td>\n",
              "      <td>2</td>\n",
              "      <td>женат / замужем</td>\n",
              "      <td>0</td>\n",
              "      <td>F</td>\n",
              "      <td>сотрудник</td>\n",
              "      <td>0</td>\n",
              "      <td>130458.228857</td>\n",
              "      <td>приобретение автомобиля</td>\n",
              "    </tr>\n",
              "    <tr>\n",
              "      <th>14</th>\n",
              "      <td>0</td>\n",
              "      <td>-1844.956182</td>\n",
              "      <td>56</td>\n",
              "      <td>высшее</td>\n",
              "      <td>0</td>\n",
              "      <td>гражданский брак</td>\n",
              "      <td>1</td>\n",
              "      <td>F</td>\n",
              "      <td>компаньон</td>\n",
              "      <td>1</td>\n",
              "      <td>165127.911772</td>\n",
              "      <td>покупка жилой недвижимости</td>\n",
              "    </tr>\n",
              "    <tr>\n",
              "      <th>15</th>\n",
              "      <td>1</td>\n",
              "      <td>-972.364419</td>\n",
              "      <td>26</td>\n",
              "      <td>среднее</td>\n",
              "      <td>1</td>\n",
              "      <td>женат / замужем</td>\n",
              "      <td>0</td>\n",
              "      <td>F</td>\n",
              "      <td>сотрудник</td>\n",
              "      <td>0</td>\n",
              "      <td>116820.904450</td>\n",
              "      <td>строительство собственной недвижимости</td>\n",
              "    </tr>\n",
              "    <tr>\n",
              "      <th>16</th>\n",
              "      <td>0</td>\n",
              "      <td>-1719.934226</td>\n",
              "      <td>35</td>\n",
              "      <td>среднее</td>\n",
              "      <td>1</td>\n",
              "      <td>женат / замужем</td>\n",
              "      <td>0</td>\n",
              "      <td>F</td>\n",
              "      <td>сотрудник</td>\n",
              "      <td>0</td>\n",
              "      <td>289202.704229</td>\n",
              "      <td>недвижимость</td>\n",
              "    </tr>\n",
              "    <tr>\n",
              "      <th>17</th>\n",
              "      <td>0</td>\n",
              "      <td>-2369.999720</td>\n",
              "      <td>33</td>\n",
              "      <td>высшее</td>\n",
              "      <td>0</td>\n",
              "      <td>гражданский брак</td>\n",
              "      <td>1</td>\n",
              "      <td>M</td>\n",
              "      <td>сотрудник</td>\n",
              "      <td>0</td>\n",
              "      <td>90410.586745</td>\n",
              "      <td>строительство недвижимости</td>\n",
              "    </tr>\n",
              "    <tr>\n",
              "      <th>18</th>\n",
              "      <td>0</td>\n",
              "      <td>400281.136913</td>\n",
              "      <td>53</td>\n",
              "      <td>среднее</td>\n",
              "      <td>1</td>\n",
              "      <td>вдовец / вдова</td>\n",
              "      <td>2</td>\n",
              "      <td>F</td>\n",
              "      <td>пенсионер</td>\n",
              "      <td>0</td>\n",
              "      <td>56823.777243</td>\n",
              "      <td>на покупку подержанного автомобиля</td>\n",
              "    </tr>\n",
              "    <tr>\n",
              "      <th>19</th>\n",
              "      <td>0</td>\n",
              "      <td>-10038.818549</td>\n",
              "      <td>48</td>\n",
              "      <td>СРЕДНЕЕ</td>\n",
              "      <td>1</td>\n",
              "      <td>в разводе</td>\n",
              "      <td>3</td>\n",
              "      <td>F</td>\n",
              "      <td>сотрудник</td>\n",
              "      <td>0</td>\n",
              "      <td>242831.107982</td>\n",
              "      <td>на покупку своего автомобиля</td>\n",
              "    </tr>\n",
              "  </tbody>\n",
              "</table>\n",
              "</div>"
            ],
            "text/plain": [
              "    children  days_employed  dob_years            education  education_id  \\\n",
              "0          1   -8437.673028         42               высшее             0   \n",
              "1          1   -4024.803754         36              среднее             1   \n",
              "2          0   -5623.422610         33              Среднее             1   \n",
              "3          3   -4124.747207         32              среднее             1   \n",
              "4          0  340266.072047         53              среднее             1   \n",
              "5          0    -926.185831         27               высшее             0   \n",
              "6          0   -2879.202052         43               высшее             0   \n",
              "7          0    -152.779569         50              СРЕДНЕЕ             1   \n",
              "8          2   -6929.865299         35               ВЫСШЕЕ             0   \n",
              "9          0   -2188.756445         41              среднее             1   \n",
              "10         2   -4171.483647         36               высшее             0   \n",
              "11         0    -792.701887         40              среднее             1   \n",
              "12         0            NaN         65              среднее             1   \n",
              "13         0   -1846.641941         54  неоконченное высшее             2   \n",
              "14         0   -1844.956182         56               высшее             0   \n",
              "15         1    -972.364419         26              среднее             1   \n",
              "16         0   -1719.934226         35              среднее             1   \n",
              "17         0   -2369.999720         33               высшее             0   \n",
              "18         0  400281.136913         53              среднее             1   \n",
              "19         0  -10038.818549         48              СРЕДНЕЕ             1   \n",
              "\n",
              "       family_status  family_status_id gender income_type  debt  \\\n",
              "0    женат / замужем                 0      F   сотрудник     0   \n",
              "1    женат / замужем                 0      F   сотрудник     0   \n",
              "2    женат / замужем                 0      M   сотрудник     0   \n",
              "3    женат / замужем                 0      M   сотрудник     0   \n",
              "4   гражданский брак                 1      F   пенсионер     0   \n",
              "5   гражданский брак                 1      M   компаньон     0   \n",
              "6    женат / замужем                 0      F   компаньон     0   \n",
              "7    женат / замужем                 0      M   сотрудник     0   \n",
              "8   гражданский брак                 1      F   сотрудник     0   \n",
              "9    женат / замужем                 0      M   сотрудник     0   \n",
              "10   женат / замужем                 0      M   компаньон     0   \n",
              "11   женат / замужем                 0      F   сотрудник     0   \n",
              "12  гражданский брак                 1      M   пенсионер     0   \n",
              "13   женат / замужем                 0      F   сотрудник     0   \n",
              "14  гражданский брак                 1      F   компаньон     1   \n",
              "15   женат / замужем                 0      F   сотрудник     0   \n",
              "16   женат / замужем                 0      F   сотрудник     0   \n",
              "17  гражданский брак                 1      M   сотрудник     0   \n",
              "18    вдовец / вдова                 2      F   пенсионер     0   \n",
              "19         в разводе                 3      F   сотрудник     0   \n",
              "\n",
              "     total_income                                 purpose  \n",
              "0   253875.639453                           покупка жилья  \n",
              "1   112080.014102                 приобретение автомобиля  \n",
              "2   145885.952297                           покупка жилья  \n",
              "3   267628.550329              дополнительное образование  \n",
              "4   158616.077870                         сыграть свадьбу  \n",
              "5   255763.565419                           покупка жилья  \n",
              "6   240525.971920                       операции с жильем  \n",
              "7   135823.934197                             образование  \n",
              "8    95856.832424                   на проведение свадьбы  \n",
              "9   144425.938277                 покупка жилья для семьи  \n",
              "10  113943.491460                    покупка недвижимости  \n",
              "11   77069.234271       покупка коммерческой недвижимости  \n",
              "12            NaN                         сыграть свадьбу  \n",
              "13  130458.228857                 приобретение автомобиля  \n",
              "14  165127.911772              покупка жилой недвижимости  \n",
              "15  116820.904450  строительство собственной недвижимости  \n",
              "16  289202.704229                            недвижимость  \n",
              "17   90410.586745              строительство недвижимости  \n",
              "18   56823.777243      на покупку подержанного автомобиля  \n",
              "19  242831.107982            на покупку своего автомобиля  "
            ]
          },
          "execution_count": 2,
          "metadata": {},
          "output_type": "execute_result"
        }
      ],
      "source": [
        "data.head(20)"
      ]
    },
    {
      "cell_type": "markdown",
      "id": "942437e5",
      "metadata": {
        "deletable": false,
        "editable": false,
        "id": "942437e5"
      },
      "source": [
        "**Задание 3. Выведите основную информацию о датафрейме с помощью метода `info()`.**"
      ]
    },
    {
      "cell_type": "code",
      "execution_count": null,
      "id": "d035f05c",
      "metadata": {
        "deletable": false,
        "id": "d035f05c",
        "outputId": "15376089-8dad-46c9-b520-c05248d43158"
      },
      "outputs": [
        {
          "name": "stdout",
          "output_type": "stream",
          "text": [
            "<class 'pandas.core.frame.DataFrame'>\n",
            "RangeIndex: 21525 entries, 0 to 21524\n",
            "Data columns (total 12 columns):\n",
            " #   Column            Non-Null Count  Dtype  \n",
            "---  ------            --------------  -----  \n",
            " 0   children          21525 non-null  int64  \n",
            " 1   days_employed     19351 non-null  float64\n",
            " 2   dob_years         21525 non-null  int64  \n",
            " 3   education         21525 non-null  object \n",
            " 4   education_id      21525 non-null  int64  \n",
            " 5   family_status     21525 non-null  object \n",
            " 6   family_status_id  21525 non-null  int64  \n",
            " 7   gender            21525 non-null  object \n",
            " 8   income_type       21525 non-null  object \n",
            " 9   debt              21525 non-null  int64  \n",
            " 10  total_income      19351 non-null  float64\n",
            " 11  purpose           21525 non-null  object \n",
            "dtypes: float64(2), int64(5), object(5)\n",
            "memory usage: 2.0+ MB\n"
          ]
        }
      ],
      "source": [
        "data.info()"
      ]
    },
    {
      "cell_type": "markdown",
      "id": "c84adb5f",
      "metadata": {
        "deletable": false,
        "editable": false,
        "id": "c84adb5f"
      },
      "source": [
        "## Предобработка данных"
      ]
    },
    {
      "cell_type": "markdown",
      "id": "c9a2bbd1",
      "metadata": {
        "deletable": false,
        "editable": false,
        "id": "c9a2bbd1"
      },
      "source": [
        "### Удаление пропусков"
      ]
    },
    {
      "cell_type": "markdown",
      "id": "27b61f13",
      "metadata": {
        "deletable": false,
        "editable": false,
        "id": "27b61f13"
      },
      "source": [
        "**Задание 4. Выведите количество пропущенных значений для каждого столбца. Используйте комбинацию двух методов.**"
      ]
    },
    {
      "cell_type": "code",
      "execution_count": null,
      "id": "9924bbfe",
      "metadata": {
        "deletable": false,
        "id": "9924bbfe",
        "outputId": "81f4d817-781c-465c-ed15-91ce4446810d"
      },
      "outputs": [
        {
          "data": {
            "text/plain": [
              "children               0\n",
              "days_employed       2174\n",
              "dob_years              0\n",
              "education              0\n",
              "education_id           0\n",
              "family_status          0\n",
              "family_status_id       0\n",
              "gender                 0\n",
              "income_type            0\n",
              "debt                   0\n",
              "total_income        2174\n",
              "purpose                0\n",
              "dtype: int64"
            ]
          },
          "execution_count": 4,
          "metadata": {},
          "output_type": "execute_result"
        }
      ],
      "source": [
        "data.isna().sum()"
      ]
    },
    {
      "cell_type": "markdown",
      "id": "cef37635",
      "metadata": {
        "deletable": false,
        "editable": false,
        "id": "cef37635"
      },
      "source": [
        "**Задание 5. В двух столбцах есть пропущенные значения. Один из них — `days_employed`. Пропуски в этом столбце вы обработаете на следующем этапе. Другой столбец с пропущенными значениями — `total_income` — хранит данные о доходах. На сумму дохода сильнее всего влияет тип занятости, поэтому заполнить пропуски в этом столбце нужно медианным значением по каждому типу из столбца `income_type`. Например, у человека с типом занятости `сотрудник` пропуск в столбце `total_income` должен быть заполнен медианным доходом среди всех записей с тем же типом.**"
      ]
    },
    {
      "cell_type": "code",
      "execution_count": null,
      "id": "0e73df04",
      "metadata": {
        "deletable": false,
        "id": "0e73df04"
      },
      "outputs": [],
      "source": [
        "for t in data['income_type'].unique():\n",
        "    data.loc[(data['income_type'] == t) & (data['total_income'].isna()), 'total_income'] = \\\n",
        "    data.loc[(data['income_type'] == t), 'total_income'].median()"
      ]
    },
    {
      "cell_type": "markdown",
      "id": "a75d896f",
      "metadata": {
        "deletable": false,
        "editable": false,
        "id": "a75d896f"
      },
      "source": [
        "### Обработка аномальных значений"
      ]
    },
    {
      "cell_type": "markdown",
      "id": "7c09d059",
      "metadata": {
        "deletable": false,
        "editable": false,
        "id": "7c09d059"
      },
      "source": [
        "**Задание 6. В данных могут встречаться артефакты (аномалии) — значения, которые не отражают действительность и появились по какой-то ошибке. таким артефактом будет отрицательное количество дней трудового стажа в столбце `days_employed`. Для реальных данных это нормально. Обработайте значения в этом столбце: замените все отрицательные значения положительными с помощью метода `abs()`.**"
      ]
    },
    {
      "cell_type": "code",
      "execution_count": null,
      "id": "264a2ecf",
      "metadata": {
        "deletable": false,
        "id": "264a2ecf"
      },
      "outputs": [],
      "source": [
        "data['days_employed'] = data['days_employed'].abs()"
      ]
    },
    {
      "cell_type": "markdown",
      "id": "4148e3e8",
      "metadata": {
        "deletable": false,
        "editable": false,
        "id": "4148e3e8"
      },
      "source": [
        "**Задание 7. Для каждого типа занятости выведите медианное значение трудового стажа `days_employed` в днях.**"
      ]
    },
    {
      "cell_type": "code",
      "execution_count": null,
      "id": "fd2d17d2",
      "metadata": {
        "deletable": false,
        "id": "fd2d17d2",
        "outputId": "801ef80e-522b-4668-f34e-565af7432bcf"
      },
      "outputs": [
        {
          "data": {
            "text/plain": [
              "income_type\n",
              "безработный        366413.652744\n",
              "в декрете            3296.759962\n",
              "госслужащий          2689.368353\n",
              "компаньон            1547.382223\n",
              "пенсионер          365213.306266\n",
              "предприниматель       520.848083\n",
              "сотрудник            1574.202821\n",
              "студент               578.751554\n",
              "Name: days_employed, dtype: float64"
            ]
          },
          "execution_count": 7,
          "metadata": {},
          "output_type": "execute_result"
        }
      ],
      "source": [
        "data.groupby('income_type')['days_employed'].agg('median')"
      ]
    },
    {
      "cell_type": "markdown",
      "id": "2e992832",
      "metadata": {
        "deletable": false,
        "editable": false,
        "id": "2e992832"
      },
      "source": [
        "У двух типов (безработные и пенсионеры) получатся аномально большие значения. Исправить такие значения сложно, поэтому оставьте их как есть. Тем более этот столбец не понадобится вам для исследования."
      ]
    },
    {
      "cell_type": "markdown",
      "id": "4f195293",
      "metadata": {
        "deletable": false,
        "editable": false,
        "id": "4f195293"
      },
      "source": [
        "**Задание 8. Выведите перечень уникальных значений столбца `children`.**"
      ]
    },
    {
      "cell_type": "code",
      "execution_count": null,
      "id": "b83b121b",
      "metadata": {
        "deletable": false,
        "id": "b83b121b",
        "outputId": "6975b15c-7f95-4697-d16d-a0c79b657b03"
      },
      "outputs": [
        {
          "data": {
            "text/plain": [
              "array([ 1,  0,  3,  2, -1,  4, 20,  5])"
            ]
          },
          "execution_count": 8,
          "metadata": {},
          "output_type": "execute_result"
        }
      ],
      "source": [
        "data['children'].unique()"
      ]
    },
    {
      "cell_type": "markdown",
      "id": "6d3166dd",
      "metadata": {
        "deletable": false,
        "editable": false,
        "id": "6d3166dd"
      },
      "source": [
        "**Задание 9. В столбце `children` есть два аномальных значения. Удалите строки, в которых встречаются такие аномальные значения из датафрейма `data`.**"
      ]
    },
    {
      "cell_type": "code",
      "execution_count": null,
      "id": "73d94339",
      "metadata": {
        "deletable": false,
        "id": "73d94339"
      },
      "outputs": [],
      "source": [
        "data = data[(data['children'] != -1) & (data['children'] != 20)]"
      ]
    },
    {
      "cell_type": "markdown",
      "id": "1a7ea297",
      "metadata": {
        "deletable": false,
        "editable": false,
        "id": "1a7ea297"
      },
      "source": [
        "**Задание 10. Ещё раз выведите перечень уникальных значений столбца `children`, чтобы убедиться, что артефакты удалены.**"
      ]
    },
    {
      "cell_type": "code",
      "execution_count": null,
      "id": "130eb343",
      "metadata": {
        "deletable": false,
        "id": "130eb343",
        "outputId": "b2097101-d49d-44d9-901b-32a65c9463d1"
      },
      "outputs": [
        {
          "data": {
            "text/plain": [
              "array([1, 0, 3, 2, 4, 5])"
            ]
          },
          "execution_count": 10,
          "metadata": {},
          "output_type": "execute_result"
        }
      ],
      "source": [
        "data['children'].unique()"
      ]
    },
    {
      "cell_type": "markdown",
      "id": "9166192a",
      "metadata": {
        "deletable": false,
        "editable": false,
        "id": "9166192a"
      },
      "source": [
        "### Удаление пропусков (продолжение)"
      ]
    },
    {
      "cell_type": "markdown",
      "id": "3a253998",
      "metadata": {
        "deletable": false,
        "editable": false,
        "id": "3a253998"
      },
      "source": [
        "**Задание 11. Заполните пропуски в столбце `days_employed` медианными значениями по каждого типа занятости `income_type`.**"
      ]
    },
    {
      "cell_type": "code",
      "execution_count": null,
      "id": "8ee7c372",
      "metadata": {
        "deletable": false,
        "id": "8ee7c372"
      },
      "outputs": [],
      "source": [
        "for t in data['income_type'].unique():\n",
        "    data.loc[(data['income_type'] == t) & (data['days_employed'].isna()), 'days_employed'] = \\\n",
        "    data.loc[(data['income_type'] == t), 'days_employed'].median()"
      ]
    },
    {
      "cell_type": "markdown",
      "id": "93a699c4",
      "metadata": {
        "deletable": false,
        "editable": false,
        "id": "93a699c4"
      },
      "source": [
        "**Задание 12. Убедитесь, что все пропуски заполнены. Проверьте себя и ещё раз выведите количество пропущенных значений для каждого столбца с помощью двух методов.**"
      ]
    },
    {
      "cell_type": "code",
      "execution_count": null,
      "id": "260fc6df",
      "metadata": {
        "deletable": false,
        "id": "260fc6df",
        "outputId": "8da1e4e1-358e-4e87-98c9-f261bce0a7b2"
      },
      "outputs": [
        {
          "data": {
            "text/plain": [
              "children            0\n",
              "days_employed       0\n",
              "dob_years           0\n",
              "education           0\n",
              "education_id        0\n",
              "family_status       0\n",
              "family_status_id    0\n",
              "gender              0\n",
              "income_type         0\n",
              "debt                0\n",
              "total_income        0\n",
              "purpose             0\n",
              "dtype: int64"
            ]
          },
          "execution_count": 12,
          "metadata": {},
          "output_type": "execute_result"
        }
      ],
      "source": [
        "data.isna().sum()"
      ]
    },
    {
      "cell_type": "markdown",
      "id": "1c03ef2c",
      "metadata": {
        "deletable": false,
        "editable": false,
        "id": "1c03ef2c"
      },
      "source": [
        "### Изменение типов данных"
      ]
    },
    {
      "cell_type": "markdown",
      "id": "10e68ab4",
      "metadata": {
        "deletable": false,
        "editable": false,
        "id": "10e68ab4"
      },
      "source": [
        "**Задание 13. Замените вещественный тип данных в столбце `total_income` на целочисленный с помощью метода `astype()`.**"
      ]
    },
    {
      "cell_type": "code",
      "execution_count": null,
      "id": "6b9d3379",
      "metadata": {
        "deletable": false,
        "id": "6b9d3379"
      },
      "outputs": [],
      "source": [
        "data['total_income'] = data['total_income'].astype(int)"
      ]
    },
    {
      "cell_type": "markdown",
      "id": "6f1e7fed",
      "metadata": {
        "deletable": false,
        "editable": false,
        "id": "6f1e7fed"
      },
      "source": [
        "### Обработка дубликатов"
      ]
    },
    {
      "cell_type": "markdown",
      "id": "580bdb6e",
      "metadata": {
        "deletable": false,
        "editable": false,
        "id": "580bdb6e"
      },
      "source": [
        "**Задание 14. Обработайте неявные дубликаты в столбце `education`. В этом столбце есть одни и те же значения, но записанные по-разному: с использованием заглавных и строчных букв. Приведите их к нижнему регистру. Проверьте остальные столбцы.**"
      ]
    },
    {
      "cell_type": "code",
      "execution_count": null,
      "id": "031ccc45",
      "metadata": {
        "deletable": false,
        "id": "031ccc45"
      },
      "outputs": [],
      "source": [
        "data['education'] = data['education'].str.lower()"
      ]
    },
    {
      "cell_type": "markdown",
      "id": "f78b46ba",
      "metadata": {
        "deletable": false,
        "editable": false,
        "id": "f78b46ba"
      },
      "source": [
        "**Задание 15. Выведите на экран количество строк-дубликатов в данных. Если такие строки присутствуют, удалите их.**"
      ]
    },
    {
      "cell_type": "code",
      "execution_count": null,
      "id": "67c64488",
      "metadata": {
        "deletable": false,
        "id": "67c64488",
        "outputId": "9684deba-1934-42d1-99e1-cda61740f822"
      },
      "outputs": [
        {
          "data": {
            "text/plain": [
              "71"
            ]
          },
          "execution_count": 15,
          "metadata": {},
          "output_type": "execute_result"
        }
      ],
      "source": [
        "data.duplicated().sum()"
      ]
    },
    {
      "cell_type": "code",
      "execution_count": null,
      "id": "7d819ce8",
      "metadata": {
        "deletable": false,
        "id": "7d819ce8"
      },
      "outputs": [],
      "source": [
        "data = data.drop_duplicates()"
      ]
    },
    {
      "cell_type": "markdown",
      "id": "bab745f1",
      "metadata": {
        "deletable": false,
        "editable": false,
        "id": "bab745f1"
      },
      "source": [
        "### Категоризация данных"
      ]
    },
    {
      "cell_type": "markdown",
      "id": "5f6607f5",
      "metadata": {
        "deletable": false,
        "editable": false,
        "id": "5f6607f5"
      },
      "source": [
        "**Задание 16. На основании диапазонов, указанных ниже, создайте в датафрейме `data` столбец `total_income_category` с категориями:**\n",
        "\n",
        "- 0–30000 — `'E'`;\n",
        "- 30001–50000 — `'D'`;\n",
        "- 50001–200000 — `'C'`;\n",
        "- 200001–1000000 — `'B'`;\n",
        "- 1000001 и выше — `'A'`.\n",
        "\n",
        "\n",
        "**Например, кредитополучателю с доходом 25000 нужно назначить категорию `'E'`, а клиенту, получающему 235000, — `'B'`. Используйте собственную функцию с именем `categorize_income()` и метод `apply()`.**"
      ]
    },
    {
      "cell_type": "code",
      "execution_count": null,
      "id": "4973d09b",
      "metadata": {
        "deletable": false,
        "id": "4973d09b"
      },
      "outputs": [],
      "source": [
        "def categorize_income(income):\n",
        "    try:\n",
        "        if 0 <= income <= 30000:\n",
        "            return 'E'\n",
        "        elif 30001 <= income <= 50000:\n",
        "            return 'D'\n",
        "        elif 50001 <= income <= 200000:\n",
        "            return 'C'\n",
        "        elif 200001 <= income <= 1000000:\n",
        "            return 'B'\n",
        "        elif income >= 1000001:\n",
        "            return 'A'\n",
        "    except:\n",
        "        pass"
      ]
    },
    {
      "cell_type": "code",
      "execution_count": null,
      "id": "544459dd",
      "metadata": {
        "deletable": false,
        "id": "544459dd"
      },
      "outputs": [],
      "source": [
        "data['total_income_category'] = data['total_income'].apply(categorize_income)"
      ]
    },
    {
      "cell_type": "markdown",
      "id": "5405cd1c",
      "metadata": {
        "deletable": false,
        "editable": false,
        "id": "5405cd1c"
      },
      "source": [
        "**Задание 17. Выведите на экран перечень уникальных целей взятия кредита из столбца `purpose`.**"
      ]
    },
    {
      "cell_type": "code",
      "execution_count": null,
      "id": "59cce17e",
      "metadata": {
        "deletable": false,
        "id": "59cce17e",
        "outputId": "673c12d9-7d7e-4ae0-9812-c622c89dd244"
      },
      "outputs": [
        {
          "data": {
            "text/plain": [
              "array(['покупка жилья', 'приобретение автомобиля',\n",
              "       'дополнительное образование', 'сыграть свадьбу',\n",
              "       'операции с жильем', 'образование', 'на проведение свадьбы',\n",
              "       'покупка жилья для семьи', 'покупка недвижимости',\n",
              "       'покупка коммерческой недвижимости', 'покупка жилой недвижимости',\n",
              "       'строительство собственной недвижимости', 'недвижимость',\n",
              "       'строительство недвижимости', 'на покупку подержанного автомобиля',\n",
              "       'на покупку своего автомобиля',\n",
              "       'операции с коммерческой недвижимостью',\n",
              "       'строительство жилой недвижимости', 'жилье',\n",
              "       'операции со своей недвижимостью', 'автомобили',\n",
              "       'заняться образованием', 'сделка с подержанным автомобилем',\n",
              "       'получение образования', 'автомобиль', 'свадьба',\n",
              "       'получение дополнительного образования', 'покупка своего жилья',\n",
              "       'операции с недвижимостью', 'получение высшего образования',\n",
              "       'свой автомобиль', 'сделка с автомобилем',\n",
              "       'профильное образование', 'высшее образование',\n",
              "       'покупка жилья для сдачи', 'на покупку автомобиля', 'ремонт жилью',\n",
              "       'заняться высшим образованием'], dtype=object)"
            ]
          },
          "execution_count": 19,
          "metadata": {},
          "output_type": "execute_result"
        }
      ],
      "source": [
        "data['purpose'].unique()"
      ]
    },
    {
      "cell_type": "markdown",
      "id": "9ce8555c",
      "metadata": {
        "deletable": false,
        "editable": false,
        "id": "9ce8555c"
      },
      "source": [
        "**Задание 18. Создайте функцию, которая на основании данных из столбца `purpose` сформирует новый столбец `purpose_category`, в который войдут следующие категории:**\n",
        "\n",
        "- `'операции с автомобилем'`,\n",
        "- `'операции с недвижимостью'`,\n",
        "- `'проведение свадьбы'`,\n",
        "- `'получение образования'`.\n",
        "\n",
        "**Например, если в столбце `purpose` находится подстрока `'на покупку автомобиля'`, то в столбце `purpose_category` должна появиться строка `'операции с автомобилем'`.**\n",
        "\n",
        "**Используйте собственную функцию с именем `categorize_purpose()` и метод `apply()`. Изучите данные в столбце `purpose` и определите, какие подстроки помогут вам правильно определить категорию.**"
      ]
    },
    {
      "cell_type": "code",
      "execution_count": null,
      "id": "62e4d532",
      "metadata": {
        "deletable": false,
        "id": "62e4d532"
      },
      "outputs": [],
      "source": [
        "def categorize_purpose(row):\n",
        "    try:\n",
        "        if 'автом' in row:\n",
        "            return 'операции с автомобилем'\n",
        "        elif 'жил' in row or 'недвиж' in row:\n",
        "            return 'операции с недвижимостью'\n",
        "        elif 'свад' in row:\n",
        "            return 'проведение свадьбы'\n",
        "        elif 'образов' in row:\n",
        "            return 'получение образования'\n",
        "    except:\n",
        "        return 'нет категории'"
      ]
    },
    {
      "cell_type": "code",
      "execution_count": null,
      "id": "17dd22bc",
      "metadata": {
        "deletable": false,
        "id": "17dd22bc"
      },
      "outputs": [],
      "source": [
        "data['purpose_category'] = data['purpose'].apply(categorize_purpose)"
      ]
    },
    {
      "cell_type": "markdown",
      "id": "23a6bdc5",
      "metadata": {
        "deletable": false,
        "editable": false,
        "id": "23a6bdc5"
      },
      "source": [
        "### Шаг 3. Исследуйте данные и ответьте на вопросы"
      ]
    },
    {
      "cell_type": "markdown",
      "id": "6ba25727",
      "metadata": {
        "deletable": false,
        "editable": false,
        "id": "6ba25727"
      },
      "source": [
        "#### 3.1 Есть ли зависимость между количеством детей и возвратом кредита в срок?"
      ]
    },
    {
      "cell_type": "markdown",
      "id": "699b42c1",
      "metadata": {
        "id": "699b42c1"
      },
      "source": [
        "**Рассчитаем долю невозврата кредитов для каждой категории (children)**"
      ]
    },
    {
      "cell_type": "code",
      "execution_count": null,
      "id": "d6f89687",
      "metadata": {
        "id": "d6f89687"
      },
      "outputs": [],
      "source": [
        "# Построим сводную таблицу, сгруппировав данные по количеству детей\n",
        "data_pivot = data.pivot_table(index='children', values='debt', aggfunc=['count','sum','mean'])\n",
        "data_pivot = data_pivot.reset_index()"
      ]
    },
    {
      "cell_type": "code",
      "execution_count": null,
      "id": "81f0f29c",
      "metadata": {
        "id": "81f0f29c"
      },
      "outputs": [],
      "source": [
        "# Переименуем столбцы для более читабельного вида\n",
        "data_pivot.columns = ['children', 'total_loans', 'overdue_loans', 'share_of_overdue_loans']"
      ]
    },
    {
      "cell_type": "code",
      "execution_count": null,
      "id": "8f7218f4",
      "metadata": {
        "deletable": false,
        "id": "8f7218f4",
        "outputId": "3dd2245f-2ce2-439b-f376-8c2a51adf084"
      },
      "outputs": [
        {
          "data": {
            "text/html": [
              "<div>\n",
              "<style scoped>\n",
              "    .dataframe tbody tr th:only-of-type {\n",
              "        vertical-align: middle;\n",
              "    }\n",
              "\n",
              "    .dataframe tbody tr th {\n",
              "        vertical-align: top;\n",
              "    }\n",
              "\n",
              "    .dataframe thead th {\n",
              "        text-align: right;\n",
              "    }\n",
              "</style>\n",
              "<table border=\"1\" class=\"dataframe\">\n",
              "  <thead>\n",
              "    <tr style=\"text-align: right;\">\n",
              "      <th></th>\n",
              "      <th>children</th>\n",
              "      <th>total_loans</th>\n",
              "      <th>overdue_loans</th>\n",
              "      <th>share_of_overdue_loans</th>\n",
              "    </tr>\n",
              "  </thead>\n",
              "  <tbody>\n",
              "    <tr>\n",
              "      <th>0</th>\n",
              "      <td>0</td>\n",
              "      <td>14091</td>\n",
              "      <td>1063</td>\n",
              "      <td>0.075438</td>\n",
              "    </tr>\n",
              "    <tr>\n",
              "      <th>1</th>\n",
              "      <td>1</td>\n",
              "      <td>4808</td>\n",
              "      <td>444</td>\n",
              "      <td>0.092346</td>\n",
              "    </tr>\n",
              "    <tr>\n",
              "      <th>2</th>\n",
              "      <td>2</td>\n",
              "      <td>2052</td>\n",
              "      <td>194</td>\n",
              "      <td>0.094542</td>\n",
              "    </tr>\n",
              "    <tr>\n",
              "      <th>3</th>\n",
              "      <td>3</td>\n",
              "      <td>330</td>\n",
              "      <td>27</td>\n",
              "      <td>0.081818</td>\n",
              "    </tr>\n",
              "    <tr>\n",
              "      <th>4</th>\n",
              "      <td>4</td>\n",
              "      <td>41</td>\n",
              "      <td>4</td>\n",
              "      <td>0.097561</td>\n",
              "    </tr>\n",
              "    <tr>\n",
              "      <th>5</th>\n",
              "      <td>5</td>\n",
              "      <td>9</td>\n",
              "      <td>0</td>\n",
              "      <td>0.000000</td>\n",
              "    </tr>\n",
              "  </tbody>\n",
              "</table>\n",
              "</div>"
            ],
            "text/plain": [
              "   children  total_loans  overdue_loans  share_of_overdue_loans\n",
              "0         0        14091           1063                0.075438\n",
              "1         1         4808            444                0.092346\n",
              "2         2         2052            194                0.094542\n",
              "3         3          330             27                0.081818\n",
              "4         4           41              4                0.097561\n",
              "5         5            9              0                0.000000"
            ]
          },
          "execution_count": 24,
          "metadata": {},
          "output_type": "execute_result"
        }
      ],
      "source": [
        "data_pivot # Ваш код будет здесь. Вы можете создавать новые ячейки."
      ]
    },
    {
      "cell_type": "markdown",
      "id": "b8b08dae",
      "metadata": {
        "deletable": false,
        "id": "b8b08dae"
      },
      "source": [
        "**Вывод:**\n",
        "Благодаря сводной таблице отчётливо видно, что\n",
        "- Многодетные заёмщики не стремятся к долговым обязательствам и реже берут кредиты, чем заёмщики без детей\n",
        "- Максимальный процент невозврата кредитов у клиентов с 4 детьми - 9.75%\n",
        "- Количество невозвратов кредитов у клиентов с 1 и 2 ребёнком практически сопоставим\n",
        "- В среднем процент просроченных должников колеблется от 7% до 10% для каждой категории `children`.\n",
        "\n",
        "Прямой и однозначной зависимости между количеством детей и возвратом кредита в срок **не наблюдается**. Но если проигнорировать категории людей с 3 и 5 детьми, то можно отметить, что чем больше детей в семье, тем больше трудностей с возвратом кредита. Это довольно логичная тенденциция, т.к увеличивается финансовая нагрузка на семью, что может влиять на способность справляться с долговыми обязательствами."
      ]
    },
    {
      "cell_type": "markdown",
      "id": "a737fe83",
      "metadata": {
        "deletable": false,
        "editable": false,
        "id": "a737fe83"
      },
      "source": [
        "#### 3.2 Есть ли зависимость между семейным положением и возвратом кредита в срок?"
      ]
    },
    {
      "cell_type": "markdown",
      "id": "10e9c175",
      "metadata": {
        "id": "10e9c175"
      },
      "source": [
        "**Рассчитаем долю невозврата кредитов для каждой категории (family)**"
      ]
    },
    {
      "cell_type": "code",
      "execution_count": null,
      "id": "513d1fea",
      "metadata": {
        "deletable": false,
        "id": "513d1fea"
      },
      "outputs": [],
      "source": [
        "family_pivot = data.pivot_table(index='family_status', values='debt', aggfunc=['count','sum','mean'])\n",
        "family_pivot = family_pivot.reset_index()"
      ]
    },
    {
      "cell_type": "code",
      "execution_count": null,
      "id": "03c61b10",
      "metadata": {
        "id": "03c61b10"
      },
      "outputs": [],
      "source": [
        "# Переименуем столбцы для более читабельного вида\n",
        "family_pivot.columns = ['family_status', 'total_loans', 'overdue_loans', 'share_of_overdue_loans']"
      ]
    },
    {
      "cell_type": "code",
      "execution_count": null,
      "id": "f8547163",
      "metadata": {
        "id": "f8547163",
        "outputId": "0289870c-dbac-49cb-b3be-527bd87587de"
      },
      "outputs": [
        {
          "data": {
            "text/html": [
              "<div>\n",
              "<style scoped>\n",
              "    .dataframe tbody tr th:only-of-type {\n",
              "        vertical-align: middle;\n",
              "    }\n",
              "\n",
              "    .dataframe tbody tr th {\n",
              "        vertical-align: top;\n",
              "    }\n",
              "\n",
              "    .dataframe thead th {\n",
              "        text-align: right;\n",
              "    }\n",
              "</style>\n",
              "<table border=\"1\" class=\"dataframe\">\n",
              "  <thead>\n",
              "    <tr style=\"text-align: right;\">\n",
              "      <th></th>\n",
              "      <th>family_status</th>\n",
              "      <th>total_loans</th>\n",
              "      <th>overdue_loans</th>\n",
              "      <th>share_of_overdue_loans</th>\n",
              "    </tr>\n",
              "  </thead>\n",
              "  <tbody>\n",
              "    <tr>\n",
              "      <th>0</th>\n",
              "      <td>Не женат / не замужем</td>\n",
              "      <td>2796</td>\n",
              "      <td>273</td>\n",
              "      <td>0.097639</td>\n",
              "    </tr>\n",
              "    <tr>\n",
              "      <th>1</th>\n",
              "      <td>в разводе</td>\n",
              "      <td>1189</td>\n",
              "      <td>84</td>\n",
              "      <td>0.070648</td>\n",
              "    </tr>\n",
              "    <tr>\n",
              "      <th>2</th>\n",
              "      <td>вдовец / вдова</td>\n",
              "      <td>951</td>\n",
              "      <td>63</td>\n",
              "      <td>0.066246</td>\n",
              "    </tr>\n",
              "    <tr>\n",
              "      <th>3</th>\n",
              "      <td>гражданский брак</td>\n",
              "      <td>4134</td>\n",
              "      <td>385</td>\n",
              "      <td>0.093130</td>\n",
              "    </tr>\n",
              "    <tr>\n",
              "      <th>4</th>\n",
              "      <td>женат / замужем</td>\n",
              "      <td>12261</td>\n",
              "      <td>927</td>\n",
              "      <td>0.075606</td>\n",
              "    </tr>\n",
              "  </tbody>\n",
              "</table>\n",
              "</div>"
            ],
            "text/plain": [
              "           family_status  total_loans  overdue_loans  share_of_overdue_loans\n",
              "0  Не женат / не замужем         2796            273                0.097639\n",
              "1              в разводе         1189             84                0.070648\n",
              "2         вдовец / вдова          951             63                0.066246\n",
              "3       гражданский брак         4134            385                0.093130\n",
              "4        женат / замужем        12261            927                0.075606"
            ]
          },
          "execution_count": 27,
          "metadata": {},
          "output_type": "execute_result"
        }
      ],
      "source": [
        "family_pivot"
      ]
    },
    {
      "cell_type": "markdown",
      "id": "09939acf",
      "metadata": {
        "deletable": false,
        "id": "09939acf"
      },
      "source": [
        "**Вывод:**\n",
        "Благодаря сводной таблице видно, что\n",
        "- Максимальный процент невозврата долга у клиентов со статусом \"Не женат/ не замужем\" - 9.7%;\n",
        "- Приблизительно высокий показатель(9.3%) у клиентов, живущих в гражданском браке;\n",
        "- У клиентов со статусом \"вдовец / вдова\" процент невозврата минимален - 6.6%. Такие клиенты берут кредиты реже остальных (всег 951 человек)\n",
        "\n",
        "Косвенная зависимость **прослеживается**.\n",
        "По мере становления человека на его жизненном пути наблюдается рост ответственности.\n",
        "Наиболее безответственно к погашению кредитов относятся холостые люди и люди в гражданском браке. Более ответственны семейные люди, т.к есть ответственность за благополучие семьи и её устойчивость.\n",
        "Наиболее ответственна категория \"вдовец\\вдова\", что вполне объяснимо, т.к потеря партнёра вынуждает подходить к финансам критически важно для сохранения стабильности."
      ]
    },
    {
      "cell_type": "markdown",
      "id": "0bfc68d9",
      "metadata": {
        "deletable": false,
        "editable": false,
        "id": "0bfc68d9"
      },
      "source": [
        "#### 3.3 Есть ли зависимость между уровнем дохода и возвратом кредита в срок?"
      ]
    },
    {
      "cell_type": "code",
      "execution_count": null,
      "id": "c4fd7bc2",
      "metadata": {
        "deletable": false,
        "id": "c4fd7bc2"
      },
      "outputs": [],
      "source": [
        "# Построим сводную таблицу, сгруппировав данные по уровню дохода\n",
        "income_pivot = data.pivot_table(index='total_income_category', values='debt', aggfunc=['count','sum','mean'])\n",
        "income_pivot = income_pivot.reset_index()"
      ]
    },
    {
      "cell_type": "code",
      "execution_count": null,
      "id": "2eb08de7",
      "metadata": {
        "id": "2eb08de7"
      },
      "outputs": [],
      "source": [
        "# Переименуем столбцы для более читабельного вида\n",
        "income_pivot.columns = ['total_income_category', 'total_loans', 'overdue_loans', 'share_of_overdue_loans']"
      ]
    },
    {
      "cell_type": "code",
      "execution_count": null,
      "id": "6aa02e8a",
      "metadata": {
        "id": "6aa02e8a",
        "outputId": "82756904-3465-4b9e-ad47-f2dcc573ff32"
      },
      "outputs": [
        {
          "data": {
            "text/html": [
              "<div>\n",
              "<style scoped>\n",
              "    .dataframe tbody tr th:only-of-type {\n",
              "        vertical-align: middle;\n",
              "    }\n",
              "\n",
              "    .dataframe tbody tr th {\n",
              "        vertical-align: top;\n",
              "    }\n",
              "\n",
              "    .dataframe thead th {\n",
              "        text-align: right;\n",
              "    }\n",
              "</style>\n",
              "<table border=\"1\" class=\"dataframe\">\n",
              "  <thead>\n",
              "    <tr style=\"text-align: right;\">\n",
              "      <th></th>\n",
              "      <th>total_income_category</th>\n",
              "      <th>total_loans</th>\n",
              "      <th>overdue_loans</th>\n",
              "      <th>share_of_overdue_loans</th>\n",
              "    </tr>\n",
              "  </thead>\n",
              "  <tbody>\n",
              "    <tr>\n",
              "      <th>0</th>\n",
              "      <td>A</td>\n",
              "      <td>25</td>\n",
              "      <td>2</td>\n",
              "      <td>0.080000</td>\n",
              "    </tr>\n",
              "    <tr>\n",
              "      <th>1</th>\n",
              "      <td>B</td>\n",
              "      <td>5014</td>\n",
              "      <td>354</td>\n",
              "      <td>0.070602</td>\n",
              "    </tr>\n",
              "    <tr>\n",
              "      <th>2</th>\n",
              "      <td>C</td>\n",
              "      <td>15921</td>\n",
              "      <td>1353</td>\n",
              "      <td>0.084982</td>\n",
              "    </tr>\n",
              "    <tr>\n",
              "      <th>3</th>\n",
              "      <td>D</td>\n",
              "      <td>349</td>\n",
              "      <td>21</td>\n",
              "      <td>0.060172</td>\n",
              "    </tr>\n",
              "    <tr>\n",
              "      <th>4</th>\n",
              "      <td>E</td>\n",
              "      <td>22</td>\n",
              "      <td>2</td>\n",
              "      <td>0.090909</td>\n",
              "    </tr>\n",
              "  </tbody>\n",
              "</table>\n",
              "</div>"
            ],
            "text/plain": [
              "  total_income_category  total_loans  overdue_loans  share_of_overdue_loans\n",
              "0                     A           25              2                0.080000\n",
              "1                     B         5014            354                0.070602\n",
              "2                     C        15921           1353                0.084982\n",
              "3                     D          349             21                0.060172\n",
              "4                     E           22              2                0.090909"
            ]
          },
          "execution_count": 30,
          "metadata": {},
          "output_type": "execute_result"
        }
      ],
      "source": [
        "income_pivot"
      ]
    },
    {
      "cell_type": "markdown",
      "id": "158ee2f7",
      "metadata": {
        "deletable": false,
        "id": "158ee2f7"
      },
      "source": [
        "**Вывод:**\n",
        "Благодаря сводной таблице видно, что\n",
        "- Максимальный процент невозврата долга у клиентов с уровнем дохода категории E (0–30000) - 9.09%;\n",
        "- Самый низкий % невозврата у клиентов с уровнем дохода категории D (30 001–50 000) - 6.01%.\n",
        "- У клиентов с уровнем дохода категории A (выше 1 000 001) и C (50 001–200 000) приблизительно одинаковый % не возврата (8 и 8,49 соответственно).\n",
        "\n",
        "**Вывод**:\n",
        "Ощутимой зависимости между уровнем дохода и возвратом кредита в срок **явно не прослеживается**, что довольно необычно, т.к более обеспеченные люди не должны иметь проблем с возвратом долгов.\n",
        "Возможно, в таблице имеют место ошибки в данных при указании дохода клиента. Не исключено, что значения дохода могли указываться в разных валютах, либо за разные промежутки времени, что могло исказить данные о категориях клиентов."
      ]
    },
    {
      "cell_type": "markdown",
      "id": "337c71e4",
      "metadata": {
        "deletable": false,
        "editable": false,
        "id": "337c71e4"
      },
      "source": [
        "#### 3.4 Как разные цели кредита влияют на его возврат в срок?"
      ]
    },
    {
      "cell_type": "code",
      "execution_count": null,
      "id": "032524d7",
      "metadata": {
        "deletable": false,
        "id": "032524d7"
      },
      "outputs": [],
      "source": [
        "# Построим сводную таблицу, сгруппировав данные по цели кредита\n",
        "purpose_pivot = data.pivot_table(index='purpose_category', values='debt', aggfunc=['count','sum','mean'])\n",
        "purpose_pivot = purpose_pivot.reset_index()"
      ]
    },
    {
      "cell_type": "code",
      "execution_count": null,
      "id": "a383660d",
      "metadata": {
        "id": "a383660d"
      },
      "outputs": [],
      "source": [
        "# Переименуем столбцы для более читабельного вида\n",
        "purpose_pivot.columns = ['purpose_category', 'total_loans', 'overdue_loans', 'share_of_overdue_loans']"
      ]
    },
    {
      "cell_type": "code",
      "execution_count": null,
      "id": "e38b2165",
      "metadata": {
        "id": "e38b2165",
        "outputId": "4e16ff9a-8d29-4f17-8ca9-f2b4dcb15458"
      },
      "outputs": [
        {
          "data": {
            "text/html": [
              "<div>\n",
              "<style scoped>\n",
              "    .dataframe tbody tr th:only-of-type {\n",
              "        vertical-align: middle;\n",
              "    }\n",
              "\n",
              "    .dataframe tbody tr th {\n",
              "        vertical-align: top;\n",
              "    }\n",
              "\n",
              "    .dataframe thead th {\n",
              "        text-align: right;\n",
              "    }\n",
              "</style>\n",
              "<table border=\"1\" class=\"dataframe\">\n",
              "  <thead>\n",
              "    <tr style=\"text-align: right;\">\n",
              "      <th></th>\n",
              "      <th>purpose_category</th>\n",
              "      <th>total_loans</th>\n",
              "      <th>overdue_loans</th>\n",
              "      <th>share_of_overdue_loans</th>\n",
              "    </tr>\n",
              "  </thead>\n",
              "  <tbody>\n",
              "    <tr>\n",
              "      <th>0</th>\n",
              "      <td>операции с автомобилем</td>\n",
              "      <td>4279</td>\n",
              "      <td>400</td>\n",
              "      <td>0.093480</td>\n",
              "    </tr>\n",
              "    <tr>\n",
              "      <th>1</th>\n",
              "      <td>операции с недвижимостью</td>\n",
              "      <td>10751</td>\n",
              "      <td>780</td>\n",
              "      <td>0.072551</td>\n",
              "    </tr>\n",
              "    <tr>\n",
              "      <th>2</th>\n",
              "      <td>получение образования</td>\n",
              "      <td>3988</td>\n",
              "      <td>369</td>\n",
              "      <td>0.092528</td>\n",
              "    </tr>\n",
              "    <tr>\n",
              "      <th>3</th>\n",
              "      <td>проведение свадьбы</td>\n",
              "      <td>2313</td>\n",
              "      <td>183</td>\n",
              "      <td>0.079118</td>\n",
              "    </tr>\n",
              "  </tbody>\n",
              "</table>\n",
              "</div>"
            ],
            "text/plain": [
              "           purpose_category  total_loans  overdue_loans  \\\n",
              "0    операции с автомобилем         4279            400   \n",
              "1  операции с недвижимостью        10751            780   \n",
              "2     получение образования         3988            369   \n",
              "3        проведение свадьбы         2313            183   \n",
              "\n",
              "   share_of_overdue_loans  \n",
              "0                0.093480  \n",
              "1                0.072551  \n",
              "2                0.092528  \n",
              "3                0.079118  "
            ]
          },
          "execution_count": 33,
          "metadata": {},
          "output_type": "execute_result"
        }
      ],
      "source": [
        "purpose_pivot"
      ]
    },
    {
      "cell_type": "markdown",
      "id": "20cbb234",
      "metadata": {
        "deletable": false,
        "id": "20cbb234"
      },
      "source": [
        "**Вывод:**\n",
        "Благодаря сводной таблице можно сделать вывод о том, что\n",
        "- Максимальный процент невозврата кредита с целью операций с автомобилем(9.3%) и для получения образования(9.2%)\n",
        "- Минимальный процент невозврата кредита для операций с недвижимостью - 7.2%\n",
        "- Количество клиентов, берущих кредит для операций с недвижимостью больше чем все суммарное количество клиентов, берущих кредит под остальные цели."
      ]
    },
    {
      "cell_type": "markdown",
      "id": "406a6417",
      "metadata": {
        "id": "406a6417"
      },
      "source": [
        "**Построим также сводную таблицу по типам категории дохода и целям кредита**"
      ]
    },
    {
      "cell_type": "code",
      "execution_count": null,
      "id": "45105328",
      "metadata": {
        "id": "45105328"
      },
      "outputs": [],
      "source": [
        "purpose_income_pivot = data.pivot_table(index=['purpose_category','total_income_category'], values='debt', aggfunc=['count', 'sum', 'mean']).reset_index()\n",
        "purpose_income_pivot.columns = ['purpose_category','total_income_category', 'total_loans', 'overdue_loans', 'share_of_overdue_loans']\n",
        "purpose_income_pivot = purpose_income_pivot.sort_values(by=['purpose_category','share_of_overdue_loans'], ascending=[False,False])"
      ]
    },
    {
      "cell_type": "code",
      "execution_count": null,
      "id": "9d0099d5",
      "metadata": {
        "scrolled": true,
        "id": "9d0099d5",
        "outputId": "8c67eb1e-e10e-4ed2-cfa8-fc5faa41c200"
      },
      "outputs": [
        {
          "data": {
            "text/html": [
              "<div>\n",
              "<style scoped>\n",
              "    .dataframe tbody tr th:only-of-type {\n",
              "        vertical-align: middle;\n",
              "    }\n",
              "\n",
              "    .dataframe tbody tr th {\n",
              "        vertical-align: top;\n",
              "    }\n",
              "\n",
              "    .dataframe thead th {\n",
              "        text-align: right;\n",
              "    }\n",
              "</style>\n",
              "<table border=\"1\" class=\"dataframe\">\n",
              "  <thead>\n",
              "    <tr style=\"text-align: right;\">\n",
              "      <th></th>\n",
              "      <th>purpose_category</th>\n",
              "      <th>total_income_category</th>\n",
              "      <th>total_loans</th>\n",
              "      <th>overdue_loans</th>\n",
              "      <th>share_of_overdue_loans</th>\n",
              "    </tr>\n",
              "  </thead>\n",
              "  <tbody>\n",
              "    <tr>\n",
              "      <th>18</th>\n",
              "      <td>проведение свадьбы</td>\n",
              "      <td>D</td>\n",
              "      <td>34</td>\n",
              "      <td>3</td>\n",
              "      <td>0.088235</td>\n",
              "    </tr>\n",
              "    <tr>\n",
              "      <th>17</th>\n",
              "      <td>проведение свадьбы</td>\n",
              "      <td>C</td>\n",
              "      <td>1729</td>\n",
              "      <td>152</td>\n",
              "      <td>0.087912</td>\n",
              "    </tr>\n",
              "    <tr>\n",
              "      <th>16</th>\n",
              "      <td>проведение свадьбы</td>\n",
              "      <td>B</td>\n",
              "      <td>544</td>\n",
              "      <td>28</td>\n",
              "      <td>0.051471</td>\n",
              "    </tr>\n",
              "    <tr>\n",
              "      <th>15</th>\n",
              "      <td>проведение свадьбы</td>\n",
              "      <td>A</td>\n",
              "      <td>2</td>\n",
              "      <td>0</td>\n",
              "      <td>0.000000</td>\n",
              "    </tr>\n",
              "    <tr>\n",
              "      <th>19</th>\n",
              "      <td>проведение свадьбы</td>\n",
              "      <td>E</td>\n",
              "      <td>4</td>\n",
              "      <td>0</td>\n",
              "      <td>0.000000</td>\n",
              "    </tr>\n",
              "    <tr>\n",
              "      <th>10</th>\n",
              "      <td>получение образования</td>\n",
              "      <td>A</td>\n",
              "      <td>4</td>\n",
              "      <td>1</td>\n",
              "      <td>0.250000</td>\n",
              "    </tr>\n",
              "    <tr>\n",
              "      <th>12</th>\n",
              "      <td>получение образования</td>\n",
              "      <td>C</td>\n",
              "      <td>3014</td>\n",
              "      <td>297</td>\n",
              "      <td>0.098540</td>\n",
              "    </tr>\n",
              "    <tr>\n",
              "      <th>11</th>\n",
              "      <td>получение образования</td>\n",
              "      <td>B</td>\n",
              "      <td>890</td>\n",
              "      <td>69</td>\n",
              "      <td>0.077528</td>\n",
              "    </tr>\n",
              "    <tr>\n",
              "      <th>13</th>\n",
              "      <td>получение образования</td>\n",
              "      <td>D</td>\n",
              "      <td>75</td>\n",
              "      <td>2</td>\n",
              "      <td>0.026667</td>\n",
              "    </tr>\n",
              "    <tr>\n",
              "      <th>14</th>\n",
              "      <td>получение образования</td>\n",
              "      <td>E</td>\n",
              "      <td>5</td>\n",
              "      <td>0</td>\n",
              "      <td>0.000000</td>\n",
              "    </tr>\n",
              "    <tr>\n",
              "      <th>9</th>\n",
              "      <td>операции с недвижимостью</td>\n",
              "      <td>E</td>\n",
              "      <td>11</td>\n",
              "      <td>2</td>\n",
              "      <td>0.181818</td>\n",
              "    </tr>\n",
              "    <tr>\n",
              "      <th>7</th>\n",
              "      <td>операции с недвижимостью</td>\n",
              "      <td>C</td>\n",
              "      <td>7997</td>\n",
              "      <td>599</td>\n",
              "      <td>0.074903</td>\n",
              "    </tr>\n",
              "    <tr>\n",
              "      <th>6</th>\n",
              "      <td>операции с недвижимостью</td>\n",
              "      <td>B</td>\n",
              "      <td>2558</td>\n",
              "      <td>172</td>\n",
              "      <td>0.067240</td>\n",
              "    </tr>\n",
              "    <tr>\n",
              "      <th>5</th>\n",
              "      <td>операции с недвижимостью</td>\n",
              "      <td>A</td>\n",
              "      <td>17</td>\n",
              "      <td>1</td>\n",
              "      <td>0.058824</td>\n",
              "    </tr>\n",
              "    <tr>\n",
              "      <th>8</th>\n",
              "      <td>операции с недвижимостью</td>\n",
              "      <td>D</td>\n",
              "      <td>168</td>\n",
              "      <td>6</td>\n",
              "      <td>0.035714</td>\n",
              "    </tr>\n",
              "    <tr>\n",
              "      <th>3</th>\n",
              "      <td>операции с автомобилем</td>\n",
              "      <td>D</td>\n",
              "      <td>72</td>\n",
              "      <td>10</td>\n",
              "      <td>0.138889</td>\n",
              "    </tr>\n",
              "    <tr>\n",
              "      <th>2</th>\n",
              "      <td>операции с автомобилем</td>\n",
              "      <td>C</td>\n",
              "      <td>3181</td>\n",
              "      <td>305</td>\n",
              "      <td>0.095882</td>\n",
              "    </tr>\n",
              "    <tr>\n",
              "      <th>1</th>\n",
              "      <td>операции с автомобилем</td>\n",
              "      <td>B</td>\n",
              "      <td>1022</td>\n",
              "      <td>85</td>\n",
              "      <td>0.083170</td>\n",
              "    </tr>\n",
              "    <tr>\n",
              "      <th>0</th>\n",
              "      <td>операции с автомобилем</td>\n",
              "      <td>A</td>\n",
              "      <td>2</td>\n",
              "      <td>0</td>\n",
              "      <td>0.000000</td>\n",
              "    </tr>\n",
              "    <tr>\n",
              "      <th>4</th>\n",
              "      <td>операции с автомобилем</td>\n",
              "      <td>E</td>\n",
              "      <td>2</td>\n",
              "      <td>0</td>\n",
              "      <td>0.000000</td>\n",
              "    </tr>\n",
              "  </tbody>\n",
              "</table>\n",
              "</div>"
            ],
            "text/plain": [
              "            purpose_category total_income_category  total_loans  \\\n",
              "18        проведение свадьбы                     D           34   \n",
              "17        проведение свадьбы                     C         1729   \n",
              "16        проведение свадьбы                     B          544   \n",
              "15        проведение свадьбы                     A            2   \n",
              "19        проведение свадьбы                     E            4   \n",
              "10     получение образования                     A            4   \n",
              "12     получение образования                     C         3014   \n",
              "11     получение образования                     B          890   \n",
              "13     получение образования                     D           75   \n",
              "14     получение образования                     E            5   \n",
              "9   операции с недвижимостью                     E           11   \n",
              "7   операции с недвижимостью                     C         7997   \n",
              "6   операции с недвижимостью                     B         2558   \n",
              "5   операции с недвижимостью                     A           17   \n",
              "8   операции с недвижимостью                     D          168   \n",
              "3     операции с автомобилем                     D           72   \n",
              "2     операции с автомобилем                     C         3181   \n",
              "1     операции с автомобилем                     B         1022   \n",
              "0     операции с автомобилем                     A            2   \n",
              "4     операции с автомобилем                     E            2   \n",
              "\n",
              "    overdue_loans  share_of_overdue_loans  \n",
              "18              3                0.088235  \n",
              "17            152                0.087912  \n",
              "16             28                0.051471  \n",
              "15              0                0.000000  \n",
              "19              0                0.000000  \n",
              "10              1                0.250000  \n",
              "12            297                0.098540  \n",
              "11             69                0.077528  \n",
              "13              2                0.026667  \n",
              "14              0                0.000000  \n",
              "9               2                0.181818  \n",
              "7             599                0.074903  \n",
              "6             172                0.067240  \n",
              "5               1                0.058824  \n",
              "8               6                0.035714  \n",
              "3              10                0.138889  \n",
              "2             305                0.095882  \n",
              "1              85                0.083170  \n",
              "0               0                0.000000  \n",
              "4               0                0.000000  "
            ]
          },
          "execution_count": 35,
          "metadata": {},
          "output_type": "execute_result"
        }
      ],
      "source": [
        "purpose_income_pivot"
      ]
    },
    {
      "cell_type": "markdown",
      "id": "a2960fa7",
      "metadata": {
        "id": "a2960fa7"
      },
      "source": [
        "\n",
        "**Вывод**:\n",
        "\n",
        "Автокредиты и кредиты на образование являются одними из самых популярных кредитов по количеству, так и  с точки зрения невозврата банку. Также выяснилось, что наиболее неплатежеспособная категория людей - категория С(50001 - 200000)\n",
        "Меньше всего задержек на кредиты, связанные с недвижимостью, что вполне объяснимо так как жильё является одной из самой важной жизненной потребностью для человека, требующее осознанного отношения.\n",
        "\n",
        "В самой малообеспеченной группе Е кредитов на порядок меньше, чем у остальных категорий, что вполне объяснимо, т.к получить кредит при низком доходе затруднительно.\n"
      ]
    },
    {
      "cell_type": "markdown",
      "id": "b269396a",
      "metadata": {
        "deletable": false,
        "editable": false,
        "id": "b269396a"
      },
      "source": [
        "#### 3.5 Приведите возможные причины появления пропусков в исходных данных."
      ]
    },
    {
      "cell_type": "markdown",
      "id": "bd31332c",
      "metadata": {
        "deletable": false,
        "id": "bd31332c"
      },
      "source": [
        "**Ответ:**\n",
        "Вообще, пропуски в данных появляются разными путями. Например, когда клиент не указал о себе какие-нибудь сведения или автоматизированная система сбора информации дала сбой. Иногда пропуски оставляют умышленно, рассчитывая на автозаполнение спецсимволами.\n",
        "Если ограничиваться данным датасетом и данной задачей, можно предположить, что:\n",
        "- Пропуски в столбце `total_income` могли взяться из-за сбоя в автоматизированной системе информации, либо из-за нежелания клиента сообщать свой доход;\n",
        "- Пропуски в столбце `days_employed` могли появиться из-за того, что некоторые заёмщики могли быть безработными\n",
        "\n",
        "Существует несколько причин отсутствия данных в датасетах, в том числе:<br>\n",
        "- Человеческий фактор: Ошибки ввода данных, не желание отвечать на определенные вопросы.\n",
        "- Технические проблемы: Возможны сбои с оборудованием или программным обеспечением для сбора данных. Отсутствующие данные могут быть удалены в процессе обработки или очистки данных.\n",
        "- Организационные: Конфиденциальность, могут отсутствовать данные, идентифицирующие отдельных лиц или компании."
      ]
    },
    {
      "cell_type": "markdown",
      "id": "a3814ba8",
      "metadata": {
        "deletable": false,
        "editable": false,
        "id": "a3814ba8"
      },
      "source": [
        "#### 3.6 Объясните, почему заполнить пропуски медианным значением — лучшее решение для количественных переменных."
      ]
    },
    {
      "cell_type": "markdown",
      "id": "73bf7e2d",
      "metadata": {
        "deletable": false,
        "id": "73bf7e2d"
      },
      "source": [
        "**Ответ:**\n",
        "Пропуски в количественных переменных лучше заполнять именно медианным значением,а не средним арифметическим, потому что среднее арифметическое выборки часто некорректно характеризует данные, например, когда некоторые значения резко выделяются среди большинства. Поэтому медиана - это лучшее решение для количественных переменных при заполнении пропусков."
      ]
    },
    {
      "cell_type": "markdown",
      "id": "99800fb3",
      "metadata": {
        "deletable": false,
        "editable": false,
        "id": "99800fb3"
      },
      "source": [
        "### Шаг 4: Общий вывод."
      ]
    },
    {
      "cell_type": "markdown",
      "id": "f8bba414",
      "metadata": {
        "deletable": false,
        "id": "f8bba414"
      },
      "source": [
        "В ходе проектной работы сперва было получено базовое представление о данных, осуществлена предобработка данных,а именно:\n",
        "\n",
        "- обработка пропущенных значений;\n",
        "- аномальных значений(отрицательные значения столбца `days_employed`;\n",
        "- обработка неявных дубликатов в столбце `education`;\n",
        "- удаление дубликатов;\n",
        "- преобразование типов данных столбцов к удобным для вычисления и анализа;\n",
        "- категоризация - объединение данных столбцов `total_income` и `purpose` по категориям и создание новых столбцов\n",
        "\n",
        "Цели получния кредитов были разбиты на укрупненные категории.\n",
        "Были проанализованы зависимости между данными о заемщике и возвратом кредита в срок\n",
        "\n",
        "Были получены следующие выводы:\n",
        "- На погашение кредита в срок не влияет ни семейное положение, ни уровень дохода. Имеет место быть связь с количеством детей и с возрастом заемщиков.\n",
        "- Чаще всего возвращают в срок кредиты на собственное жилье, а больше всего задержек по кредитам на автомобили и образование.\n",
        "- Максимальный процент невозврата долга у клиентов со статусом \"Не женат/ не замужем\" - 9.7% и клиенты, живущие в гражданском браке, а также клиенты с 4 детьми. Данные категории клиентов представляют наибольший риск невозврата средств банку.\n",
        "- Надежнее выдавать кредиты клиентам с семейным положением \"вдова/вдовец\", данная категория с большей вероятностью сможет погасить долги. Также вызовет наибольшее доверие клиент, взявший кредит в банке для совершения операций с недвижимостью"
      ]
    }
  ],
  "metadata": {
    "ExecuteTimeLog": [
      {
        "duration": 1294,
        "start_time": "2023-06-15T05:59:27.850Z"
      },
      {
        "duration": 31,
        "start_time": "2023-06-15T05:59:42.025Z"
      },
      {
        "duration": 15,
        "start_time": "2023-06-15T05:59:50.775Z"
      },
      {
        "duration": 9,
        "start_time": "2023-06-15T06:00:20.967Z"
      },
      {
        "duration": 29,
        "start_time": "2023-06-15T06:01:58.352Z"
      },
      {
        "duration": 10,
        "start_time": "2023-06-15T06:02:43.231Z"
      },
      {
        "duration": 17,
        "start_time": "2023-06-15T06:03:22.020Z"
      },
      {
        "duration": 4,
        "start_time": "2023-06-15T06:03:50.292Z"
      },
      {
        "duration": 7,
        "start_time": "2023-06-15T06:03:59.635Z"
      },
      {
        "duration": 5,
        "start_time": "2023-06-15T06:04:08.149Z"
      },
      {
        "duration": 29,
        "start_time": "2023-06-15T06:04:18.651Z"
      },
      {
        "duration": 9,
        "start_time": "2023-06-15T06:04:20.953Z"
      },
      {
        "duration": 7,
        "start_time": "2023-06-15T06:04:48.227Z"
      },
      {
        "duration": 14,
        "start_time": "2023-06-15T06:04:52.235Z"
      },
      {
        "duration": 27,
        "start_time": "2023-06-15T06:05:03.139Z"
      },
      {
        "duration": 35,
        "start_time": "2023-06-15T06:05:06.038Z"
      },
      {
        "duration": 4,
        "start_time": "2023-06-15T06:05:12.471Z"
      },
      {
        "duration": 19,
        "start_time": "2023-06-15T06:05:16.498Z"
      },
      {
        "duration": 10,
        "start_time": "2023-06-15T06:05:19.326Z"
      },
      {
        "duration": 3,
        "start_time": "2023-06-15T06:05:25.862Z"
      },
      {
        "duration": 13,
        "start_time": "2023-06-15T06:10:56.957Z"
      },
      {
        "duration": 6,
        "start_time": "2023-06-15T06:15:15.589Z"
      },
      {
        "duration": 4,
        "start_time": "2023-06-15T06:15:59.773Z"
      },
      {
        "duration": 6,
        "start_time": "2023-06-15T06:17:54.349Z"
      },
      {
        "duration": 16,
        "start_time": "2023-06-15T06:20:07.022Z"
      },
      {
        "duration": 6,
        "start_time": "2023-06-15T06:20:26.173Z"
      },
      {
        "duration": 14,
        "start_time": "2023-06-15T06:21:21.951Z"
      },
      {
        "duration": 7,
        "start_time": "2023-06-15T06:22:01.347Z"
      },
      {
        "duration": 27,
        "start_time": "2023-06-15T06:22:26.109Z"
      },
      {
        "duration": 5,
        "start_time": "2023-06-15T06:39:07.292Z"
      },
      {
        "duration": 18,
        "start_time": "2023-06-15T06:54:46.526Z"
      },
      {
        "duration": 24,
        "start_time": "2023-06-15T06:55:01.182Z"
      },
      {
        "duration": 119,
        "start_time": "2023-06-15T06:55:23.577Z"
      },
      {
        "duration": 23,
        "start_time": "2023-06-15T06:55:33.513Z"
      },
      {
        "duration": 5,
        "start_time": "2023-06-15T06:58:03.859Z"
      },
      {
        "duration": 20,
        "start_time": "2023-06-15T06:58:26.470Z"
      },
      {
        "duration": 29,
        "start_time": "2023-06-15T06:58:34.586Z"
      },
      {
        "duration": 5,
        "start_time": "2023-06-15T06:59:05.848Z"
      },
      {
        "duration": 474,
        "start_time": "2023-06-15T07:00:33.531Z"
      },
      {
        "duration": 35,
        "start_time": "2023-06-15T07:00:34.007Z"
      },
      {
        "duration": 16,
        "start_time": "2023-06-15T07:00:34.044Z"
      },
      {
        "duration": 54,
        "start_time": "2023-06-15T07:00:34.063Z"
      },
      {
        "duration": 34,
        "start_time": "2023-06-15T07:00:34.121Z"
      },
      {
        "duration": 4,
        "start_time": "2023-06-15T07:00:34.156Z"
      },
      {
        "duration": 66,
        "start_time": "2023-06-15T07:00:34.162Z"
      },
      {
        "duration": 13,
        "start_time": "2023-06-15T07:00:34.230Z"
      },
      {
        "duration": 40,
        "start_time": "2023-06-15T07:00:34.245Z"
      },
      {
        "duration": 50,
        "start_time": "2023-06-15T07:00:34.289Z"
      },
      {
        "duration": 123,
        "start_time": "2023-06-15T07:00:34.340Z"
      },
      {
        "duration": 18,
        "start_time": "2023-06-15T07:00:34.464Z"
      },
      {
        "duration": 91,
        "start_time": "2023-06-15T07:00:34.484Z"
      },
      {
        "duration": 59,
        "start_time": "2023-06-15T07:00:34.577Z"
      },
      {
        "duration": 60,
        "start_time": "2023-06-15T07:00:34.637Z"
      },
      {
        "duration": 41,
        "start_time": "2023-06-15T07:00:34.703Z"
      },
      {
        "duration": 12,
        "start_time": "2023-06-15T07:00:34.746Z"
      },
      {
        "duration": 28,
        "start_time": "2023-06-15T07:00:34.761Z"
      },
      {
        "duration": 39,
        "start_time": "2023-06-15T07:00:34.791Z"
      },
      {
        "duration": 5,
        "start_time": "2023-06-15T07:00:34.833Z"
      },
      {
        "duration": 54,
        "start_time": "2023-06-15T07:00:34.840Z"
      },
      {
        "duration": 67,
        "start_time": "2023-06-15T07:00:34.896Z"
      },
      {
        "duration": 6,
        "start_time": "2023-06-15T07:00:34.965Z"
      },
      {
        "duration": 67,
        "start_time": "2023-06-15T07:00:34.973Z"
      },
      {
        "duration": 42,
        "start_time": "2023-06-15T07:00:35.043Z"
      },
      {
        "duration": 46,
        "start_time": "2023-06-15T07:00:35.087Z"
      },
      {
        "duration": 24,
        "start_time": "2023-06-15T07:00:35.135Z"
      },
      {
        "duration": 35,
        "start_time": "2023-06-15T07:00:53.830Z"
      },
      {
        "duration": 6,
        "start_time": "2023-06-15T07:01:14.086Z"
      },
      {
        "duration": 5,
        "start_time": "2023-06-15T07:04:11.343Z"
      },
      {
        "duration": 39,
        "start_time": "2023-06-15T07:04:30.425Z"
      },
      {
        "duration": 6,
        "start_time": "2023-06-15T07:04:39.525Z"
      },
      {
        "duration": 36,
        "start_time": "2023-06-15T07:04:50.652Z"
      },
      {
        "duration": 440,
        "start_time": "2023-06-15T07:05:15.945Z"
      },
      {
        "duration": 27,
        "start_time": "2023-06-15T07:05:16.387Z"
      },
      {
        "duration": 32,
        "start_time": "2023-06-15T07:05:16.415Z"
      },
      {
        "duration": 8,
        "start_time": "2023-06-15T07:05:16.449Z"
      },
      {
        "duration": 55,
        "start_time": "2023-06-15T07:05:16.458Z"
      },
      {
        "duration": 3,
        "start_time": "2023-06-15T07:05:16.520Z"
      },
      {
        "duration": 20,
        "start_time": "2023-06-15T07:05:16.525Z"
      },
      {
        "duration": 10,
        "start_time": "2023-06-15T07:05:16.547Z"
      },
      {
        "duration": 16,
        "start_time": "2023-06-15T07:05:16.560Z"
      },
      {
        "duration": 48,
        "start_time": "2023-06-15T07:05:16.582Z"
      },
      {
        "duration": 46,
        "start_time": "2023-06-15T07:05:16.632Z"
      },
      {
        "duration": 12,
        "start_time": "2023-06-15T07:05:16.680Z"
      },
      {
        "duration": 27,
        "start_time": "2023-06-15T07:05:16.694Z"
      },
      {
        "duration": 38,
        "start_time": "2023-06-15T07:05:16.726Z"
      },
      {
        "duration": 19,
        "start_time": "2023-06-15T07:05:16.766Z"
      },
      {
        "duration": 20,
        "start_time": "2023-06-15T07:05:16.786Z"
      },
      {
        "duration": 26,
        "start_time": "2023-06-15T07:05:16.807Z"
      },
      {
        "duration": 24,
        "start_time": "2023-06-15T07:05:16.834Z"
      },
      {
        "duration": 8,
        "start_time": "2023-06-15T07:05:16.860Z"
      },
      {
        "duration": 9,
        "start_time": "2023-06-15T07:05:16.870Z"
      },
      {
        "duration": 12,
        "start_time": "2023-06-15T07:05:16.881Z"
      },
      {
        "duration": 46,
        "start_time": "2023-06-15T07:05:16.894Z"
      },
      {
        "duration": 6,
        "start_time": "2023-06-15T07:05:16.942Z"
      },
      {
        "duration": 15,
        "start_time": "2023-06-15T07:05:16.949Z"
      },
      {
        "duration": 25,
        "start_time": "2023-06-15T07:05:16.966Z"
      },
      {
        "duration": 20,
        "start_time": "2023-06-15T07:05:16.993Z"
      },
      {
        "duration": 12,
        "start_time": "2023-06-15T07:05:17.019Z"
      },
      {
        "duration": 5,
        "start_time": "2023-06-15T07:05:31.919Z"
      },
      {
        "duration": 3,
        "start_time": "2023-06-15T07:05:59.741Z"
      },
      {
        "duration": 14,
        "start_time": "2023-06-15T07:06:22.243Z"
      },
      {
        "duration": 452,
        "start_time": "2023-06-15T07:07:39.885Z"
      },
      {
        "duration": 27,
        "start_time": "2023-06-15T07:07:40.339Z"
      },
      {
        "duration": 18,
        "start_time": "2023-06-15T07:07:40.368Z"
      },
      {
        "duration": 24,
        "start_time": "2023-06-15T07:07:40.389Z"
      },
      {
        "duration": 67,
        "start_time": "2023-06-15T07:07:40.415Z"
      },
      {
        "duration": 4,
        "start_time": "2023-06-15T07:07:40.484Z"
      },
      {
        "duration": 45,
        "start_time": "2023-06-15T07:07:40.490Z"
      },
      {
        "duration": 15,
        "start_time": "2023-06-15T07:07:40.537Z"
      },
      {
        "duration": 16,
        "start_time": "2023-06-15T07:07:40.554Z"
      },
      {
        "duration": 5,
        "start_time": "2023-06-15T07:07:40.574Z"
      },
      {
        "duration": 54,
        "start_time": "2023-06-15T07:07:40.580Z"
      },
      {
        "duration": 10,
        "start_time": "2023-06-15T07:07:40.642Z"
      },
      {
        "duration": 10,
        "start_time": "2023-06-15T07:07:40.653Z"
      },
      {
        "duration": 48,
        "start_time": "2023-06-15T07:07:40.665Z"
      },
      {
        "duration": 29,
        "start_time": "2023-06-15T07:07:40.714Z"
      },
      {
        "duration": 23,
        "start_time": "2023-06-15T07:07:40.745Z"
      },
      {
        "duration": 6,
        "start_time": "2023-06-15T07:07:40.769Z"
      },
      {
        "duration": 15,
        "start_time": "2023-06-15T07:07:40.776Z"
      },
      {
        "duration": 37,
        "start_time": "2023-06-15T07:07:40.792Z"
      },
      {
        "duration": 18,
        "start_time": "2023-06-15T07:07:40.835Z"
      },
      {
        "duration": 15,
        "start_time": "2023-06-15T07:07:40.854Z"
      },
      {
        "duration": 57,
        "start_time": "2023-06-15T07:07:40.871Z"
      },
      {
        "duration": 33,
        "start_time": "2023-06-15T07:07:40.930Z"
      },
      {
        "duration": 56,
        "start_time": "2023-06-15T07:07:40.965Z"
      },
      {
        "duration": 36,
        "start_time": "2023-06-15T07:07:41.022Z"
      },
      {
        "duration": 15,
        "start_time": "2023-06-15T07:07:41.060Z"
      },
      {
        "duration": 18,
        "start_time": "2023-06-15T07:07:41.076Z"
      },
      {
        "duration": 46,
        "start_time": "2023-06-15T07:07:41.096Z"
      },
      {
        "duration": 3,
        "start_time": "2023-06-15T07:10:50.885Z"
      },
      {
        "duration": 7,
        "start_time": "2023-06-15T07:11:31.459Z"
      },
      {
        "duration": 612,
        "start_time": "2023-06-15T07:30:56.805Z"
      },
      {
        "duration": 39,
        "start_time": "2023-06-15T07:30:57.422Z"
      },
      {
        "duration": 48,
        "start_time": "2023-06-15T07:30:57.463Z"
      },
      {
        "duration": 49,
        "start_time": "2023-06-15T07:30:57.538Z"
      },
      {
        "duration": 127,
        "start_time": "2023-06-15T07:30:57.590Z"
      },
      {
        "duration": 6,
        "start_time": "2023-06-15T07:30:57.719Z"
      },
      {
        "duration": 47,
        "start_time": "2023-06-15T07:30:57.727Z"
      },
      {
        "duration": 17,
        "start_time": "2023-06-15T07:30:57.776Z"
      },
      {
        "duration": 83,
        "start_time": "2023-06-15T07:30:57.795Z"
      },
      {
        "duration": 33,
        "start_time": "2023-06-15T07:30:57.880Z"
      },
      {
        "duration": 125,
        "start_time": "2023-06-15T07:30:57.924Z"
      },
      {
        "duration": 34,
        "start_time": "2023-06-15T07:30:58.052Z"
      },
      {
        "duration": 21,
        "start_time": "2023-06-15T07:30:58.088Z"
      },
      {
        "duration": 70,
        "start_time": "2023-06-15T07:30:58.119Z"
      },
      {
        "duration": 79,
        "start_time": "2023-06-15T07:30:58.193Z"
      },
      {
        "duration": 51,
        "start_time": "2023-06-15T07:30:58.274Z"
      },
      {
        "duration": 56,
        "start_time": "2023-06-15T07:30:58.327Z"
      },
      {
        "duration": 72,
        "start_time": "2023-06-15T07:30:58.385Z"
      },
      {
        "duration": 38,
        "start_time": "2023-06-15T07:30:58.458Z"
      },
      {
        "duration": 92,
        "start_time": "2023-06-15T07:30:58.498Z"
      },
      {
        "duration": 89,
        "start_time": "2023-06-15T07:30:58.592Z"
      },
      {
        "duration": 99,
        "start_time": "2023-06-15T07:30:58.683Z"
      },
      {
        "duration": 11,
        "start_time": "2023-06-15T07:30:58.784Z"
      },
      {
        "duration": 57,
        "start_time": "2023-06-15T07:30:58.796Z"
      },
      {
        "duration": 22,
        "start_time": "2023-06-15T07:30:58.855Z"
      },
      {
        "duration": 44,
        "start_time": "2023-06-15T07:30:58.879Z"
      },
      {
        "duration": 70,
        "start_time": "2023-06-15T07:30:58.925Z"
      },
      {
        "duration": 68,
        "start_time": "2023-06-15T07:30:58.997Z"
      },
      {
        "duration": 4,
        "start_time": "2023-06-15T07:41:47.173Z"
      },
      {
        "duration": 8,
        "start_time": "2023-06-15T08:05:44.854Z"
      },
      {
        "duration": 14,
        "start_time": "2023-06-15T08:09:47.673Z"
      },
      {
        "duration": 70,
        "start_time": "2023-06-15T08:13:39.906Z"
      },
      {
        "duration": 1142,
        "start_time": "2023-06-15T08:14:44.597Z"
      },
      {
        "duration": 21,
        "start_time": "2023-06-15T08:14:45.759Z"
      },
      {
        "duration": 109,
        "start_time": "2023-06-15T08:14:45.781Z"
      },
      {
        "duration": 100,
        "start_time": "2023-06-15T08:14:45.891Z"
      },
      {
        "duration": 95,
        "start_time": "2023-06-15T08:14:45.993Z"
      },
      {
        "duration": 19,
        "start_time": "2023-06-15T08:14:46.090Z"
      },
      {
        "duration": 40,
        "start_time": "2023-06-15T08:14:46.125Z"
      },
      {
        "duration": 8,
        "start_time": "2023-06-15T08:14:46.167Z"
      },
      {
        "duration": 74,
        "start_time": "2023-06-15T08:14:46.177Z"
      },
      {
        "duration": 32,
        "start_time": "2023-06-15T08:14:46.252Z"
      },
      {
        "duration": 88,
        "start_time": "2023-06-15T08:14:46.286Z"
      },
      {
        "duration": 8,
        "start_time": "2023-06-15T08:14:46.375Z"
      },
      {
        "duration": 9,
        "start_time": "2023-06-15T08:14:46.384Z"
      },
      {
        "duration": 75,
        "start_time": "2023-06-15T08:14:46.396Z"
      },
      {
        "duration": 75,
        "start_time": "2023-06-15T08:14:46.472Z"
      },
      {
        "duration": 19,
        "start_time": "2023-06-15T08:14:46.550Z"
      },
      {
        "duration": 3,
        "start_time": "2023-06-15T08:14:46.571Z"
      },
      {
        "duration": 22,
        "start_time": "2023-06-15T08:14:46.575Z"
      },
      {
        "duration": 77,
        "start_time": "2023-06-15T08:14:46.598Z"
      },
      {
        "duration": 8,
        "start_time": "2023-06-15T08:14:46.676Z"
      },
      {
        "duration": 47,
        "start_time": "2023-06-15T08:14:46.686Z"
      },
      {
        "duration": 59,
        "start_time": "2023-06-15T08:14:46.753Z"
      },
      {
        "duration": 10,
        "start_time": "2023-06-15T08:14:46.825Z"
      },
      {
        "duration": 34,
        "start_time": "2023-06-15T08:14:46.845Z"
      },
      {
        "duration": 46,
        "start_time": "2023-06-15T08:14:46.881Z"
      },
      {
        "duration": 54,
        "start_time": "2023-06-15T08:14:46.930Z"
      },
      {
        "duration": 77,
        "start_time": "2023-06-15T08:14:46.986Z"
      },
      {
        "duration": 18,
        "start_time": "2023-06-15T08:14:47.067Z"
      },
      {
        "duration": 81,
        "start_time": "2023-06-15T08:14:47.086Z"
      },
      {
        "duration": 2551,
        "start_time": "2023-06-15T08:18:55.730Z"
      },
      {
        "duration": 30,
        "start_time": "2023-06-15T08:18:58.283Z"
      },
      {
        "duration": 64,
        "start_time": "2023-06-15T08:18:58.314Z"
      },
      {
        "duration": 9,
        "start_time": "2023-06-15T08:18:58.379Z"
      },
      {
        "duration": 120,
        "start_time": "2023-06-15T08:18:58.389Z"
      },
      {
        "duration": 5,
        "start_time": "2023-06-15T08:18:58.512Z"
      },
      {
        "duration": 61,
        "start_time": "2023-06-15T08:18:58.518Z"
      },
      {
        "duration": 15,
        "start_time": "2023-06-15T08:18:58.581Z"
      },
      {
        "duration": 79,
        "start_time": "2023-06-15T08:18:58.597Z"
      },
      {
        "duration": 10,
        "start_time": "2023-06-15T08:18:58.678Z"
      },
      {
        "duration": 105,
        "start_time": "2023-06-15T08:18:58.690Z"
      },
      {
        "duration": 28,
        "start_time": "2023-06-15T08:18:58.796Z"
      },
      {
        "duration": 57,
        "start_time": "2023-06-15T08:18:58.826Z"
      },
      {
        "duration": 35,
        "start_time": "2023-06-15T08:18:58.886Z"
      },
      {
        "duration": 69,
        "start_time": "2023-06-15T08:18:58.929Z"
      },
      {
        "duration": 47,
        "start_time": "2023-06-15T08:18:59.009Z"
      },
      {
        "duration": 15,
        "start_time": "2023-06-15T08:18:59.058Z"
      },
      {
        "duration": 75,
        "start_time": "2023-06-15T08:18:59.074Z"
      },
      {
        "duration": 23,
        "start_time": "2023-06-15T08:18:59.158Z"
      },
      {
        "duration": 55,
        "start_time": "2023-06-15T08:18:59.182Z"
      },
      {
        "duration": 84,
        "start_time": "2023-06-15T08:18:59.245Z"
      },
      {
        "duration": 65,
        "start_time": "2023-06-15T08:18:59.337Z"
      },
      {
        "duration": 43,
        "start_time": "2023-06-15T08:18:59.417Z"
      },
      {
        "duration": 24,
        "start_time": "2023-06-15T08:18:59.462Z"
      },
      {
        "duration": 51,
        "start_time": "2023-06-15T08:18:59.487Z"
      },
      {
        "duration": 23,
        "start_time": "2023-06-15T08:18:59.549Z"
      },
      {
        "duration": 52,
        "start_time": "2023-06-15T08:18:59.573Z"
      },
      {
        "duration": 15,
        "start_time": "2023-06-15T08:18:59.626Z"
      },
      {
        "duration": 31,
        "start_time": "2023-06-15T08:18:59.642Z"
      },
      {
        "duration": 142,
        "start_time": "2023-06-15T08:25:34.730Z"
      },
      {
        "duration": 34,
        "start_time": "2023-06-15T08:48:42.116Z"
      },
      {
        "duration": 3,
        "start_time": "2023-06-15T08:48:43.656Z"
      },
      {
        "duration": 11,
        "start_time": "2023-06-15T08:48:44.217Z"
      },
      {
        "duration": 41,
        "start_time": "2023-06-15T08:59:42.076Z"
      },
      {
        "duration": 6,
        "start_time": "2023-06-15T08:59:42.650Z"
      },
      {
        "duration": 10,
        "start_time": "2023-06-15T08:59:45.557Z"
      },
      {
        "duration": 476,
        "start_time": "2023-06-15T19:31:52.743Z"
      },
      {
        "duration": 28,
        "start_time": "2023-06-15T19:31:53.221Z"
      },
      {
        "duration": 21,
        "start_time": "2023-06-15T19:31:53.255Z"
      },
      {
        "duration": 38,
        "start_time": "2023-06-15T19:31:53.278Z"
      },
      {
        "duration": 76,
        "start_time": "2023-06-15T19:31:53.318Z"
      },
      {
        "duration": 6,
        "start_time": "2023-06-15T19:31:53.395Z"
      },
      {
        "duration": 52,
        "start_time": "2023-06-15T19:31:53.402Z"
      },
      {
        "duration": 16,
        "start_time": "2023-06-15T19:31:53.456Z"
      },
      {
        "duration": 22,
        "start_time": "2023-06-15T19:31:53.474Z"
      },
      {
        "duration": 54,
        "start_time": "2023-06-15T19:31:53.498Z"
      },
      {
        "duration": 38,
        "start_time": "2023-06-15T19:31:53.554Z"
      },
      {
        "duration": 20,
        "start_time": "2023-06-15T19:31:53.594Z"
      },
      {
        "duration": 61,
        "start_time": "2023-06-15T19:31:53.615Z"
      },
      {
        "duration": 37,
        "start_time": "2023-06-15T19:31:53.678Z"
      },
      {
        "duration": 52,
        "start_time": "2023-06-15T19:31:53.721Z"
      },
      {
        "duration": 41,
        "start_time": "2023-06-15T19:31:53.774Z"
      },
      {
        "duration": 36,
        "start_time": "2023-06-15T19:31:53.817Z"
      },
      {
        "duration": 81,
        "start_time": "2023-06-15T19:31:53.854Z"
      },
      {
        "duration": 20,
        "start_time": "2023-06-15T19:31:53.938Z"
      },
      {
        "duration": 20,
        "start_time": "2023-06-15T19:31:53.960Z"
      },
      {
        "duration": 70,
        "start_time": "2023-06-15T19:31:53.981Z"
      },
      {
        "duration": 26,
        "start_time": "2023-06-15T19:31:54.052Z"
      },
      {
        "duration": 2,
        "start_time": "2023-06-15T19:31:54.080Z"
      },
      {
        "duration": 69,
        "start_time": "2023-06-15T19:31:54.083Z"
      },
      {
        "duration": 23,
        "start_time": "2023-06-15T19:31:54.154Z"
      },
      {
        "duration": 7,
        "start_time": "2023-06-15T19:31:54.178Z"
      },
      {
        "duration": 69,
        "start_time": "2023-06-15T19:31:54.186Z"
      },
      {
        "duration": 19,
        "start_time": "2023-06-15T19:31:54.258Z"
      },
      {
        "duration": 3,
        "start_time": "2023-06-15T19:31:54.278Z"
      },
      {
        "duration": 9,
        "start_time": "2023-06-15T19:31:54.282Z"
      },
      {
        "duration": 56,
        "start_time": "2023-06-15T19:31:54.292Z"
      },
      {
        "duration": 9,
        "start_time": "2023-06-15T19:31:54.350Z"
      },
      {
        "duration": 10,
        "start_time": "2023-06-15T19:31:54.360Z"
      },
      {
        "duration": 462,
        "start_time": "2023-06-15T19:40:23.830Z"
      },
      {
        "duration": 42,
        "start_time": "2023-06-15T19:40:24.294Z"
      },
      {
        "duration": 16,
        "start_time": "2023-06-15T19:40:24.338Z"
      },
      {
        "duration": 16,
        "start_time": "2023-06-15T19:40:24.356Z"
      },
      {
        "duration": 63,
        "start_time": "2023-06-15T19:40:24.373Z"
      },
      {
        "duration": 10,
        "start_time": "2023-06-15T19:40:24.438Z"
      },
      {
        "duration": 26,
        "start_time": "2023-06-15T19:40:24.449Z"
      },
      {
        "duration": 14,
        "start_time": "2023-06-15T19:40:24.476Z"
      },
      {
        "duration": 43,
        "start_time": "2023-06-15T19:40:24.491Z"
      },
      {
        "duration": 13,
        "start_time": "2023-06-15T19:40:24.539Z"
      },
      {
        "duration": 81,
        "start_time": "2023-06-15T19:40:24.554Z"
      },
      {
        "duration": 11,
        "start_time": "2023-06-15T19:40:24.637Z"
      },
      {
        "duration": 15,
        "start_time": "2023-06-15T19:40:24.649Z"
      },
      {
        "duration": 26,
        "start_time": "2023-06-15T19:40:24.665Z"
      },
      {
        "duration": 64,
        "start_time": "2023-06-15T19:40:24.693Z"
      },
      {
        "duration": 21,
        "start_time": "2023-06-15T19:40:24.759Z"
      },
      {
        "duration": 4,
        "start_time": "2023-06-15T19:40:24.782Z"
      },
      {
        "duration": 37,
        "start_time": "2023-06-15T19:40:24.787Z"
      },
      {
        "duration": 18,
        "start_time": "2023-06-15T19:40:24.828Z"
      },
      {
        "duration": 4,
        "start_time": "2023-06-15T19:40:24.848Z"
      },
      {
        "duration": 40,
        "start_time": "2023-06-15T19:40:24.854Z"
      },
      {
        "duration": 52,
        "start_time": "2023-06-15T19:40:24.896Z"
      },
      {
        "duration": 4,
        "start_time": "2023-06-15T19:40:24.949Z"
      },
      {
        "duration": 9,
        "start_time": "2023-06-15T19:40:24.954Z"
      },
      {
        "duration": 53,
        "start_time": "2023-06-15T19:40:24.964Z"
      },
      {
        "duration": 2,
        "start_time": "2023-06-15T19:40:25.032Z"
      },
      {
        "duration": 11,
        "start_time": "2023-06-15T19:40:25.036Z"
      },
      {
        "duration": 28,
        "start_time": "2023-06-15T19:40:25.049Z"
      },
      {
        "duration": 3,
        "start_time": "2023-06-15T19:40:25.079Z"
      },
      {
        "duration": 26,
        "start_time": "2023-06-15T19:40:25.083Z"
      },
      {
        "duration": 62,
        "start_time": "2023-06-15T19:40:25.110Z"
      },
      {
        "duration": 3,
        "start_time": "2023-06-15T19:40:25.174Z"
      },
      {
        "duration": 15,
        "start_time": "2023-06-15T19:40:25.178Z"
      },
      {
        "duration": 507,
        "start_time": "2023-06-15T19:54:44.216Z"
      },
      {
        "duration": 23,
        "start_time": "2023-06-15T19:54:44.725Z"
      },
      {
        "duration": 19,
        "start_time": "2023-06-15T19:54:44.750Z"
      },
      {
        "duration": 17,
        "start_time": "2023-06-15T19:54:44.771Z"
      },
      {
        "duration": 72,
        "start_time": "2023-06-15T19:54:44.791Z"
      },
      {
        "duration": 4,
        "start_time": "2023-06-15T19:54:44.866Z"
      },
      {
        "duration": 11,
        "start_time": "2023-06-15T19:54:44.872Z"
      },
      {
        "duration": 5,
        "start_time": "2023-06-15T19:54:44.884Z"
      },
      {
        "duration": 8,
        "start_time": "2023-06-15T19:54:44.892Z"
      },
      {
        "duration": 6,
        "start_time": "2023-06-15T19:54:44.902Z"
      },
      {
        "duration": 85,
        "start_time": "2023-06-15T19:54:44.910Z"
      },
      {
        "duration": 15,
        "start_time": "2023-06-15T19:54:44.997Z"
      },
      {
        "duration": 38,
        "start_time": "2023-06-15T19:54:45.014Z"
      },
      {
        "duration": 37,
        "start_time": "2023-06-15T19:54:45.056Z"
      },
      {
        "duration": 29,
        "start_time": "2023-06-15T19:54:45.095Z"
      },
      {
        "duration": 25,
        "start_time": "2023-06-15T19:54:45.126Z"
      },
      {
        "duration": 4,
        "start_time": "2023-06-15T19:54:45.152Z"
      },
      {
        "duration": 23,
        "start_time": "2023-06-15T19:54:45.158Z"
      },
      {
        "duration": 14,
        "start_time": "2023-06-15T19:54:45.183Z"
      },
      {
        "duration": 5,
        "start_time": "2023-06-15T19:54:45.199Z"
      },
      {
        "duration": 15,
        "start_time": "2023-06-15T19:54:45.205Z"
      },
      {
        "duration": 33,
        "start_time": "2023-06-15T19:54:45.221Z"
      },
      {
        "duration": 4,
        "start_time": "2023-06-15T19:54:45.256Z"
      },
      {
        "duration": 31,
        "start_time": "2023-06-15T19:54:45.262Z"
      },
      {
        "duration": 38,
        "start_time": "2023-06-15T19:54:45.295Z"
      },
      {
        "duration": 4,
        "start_time": "2023-06-15T19:54:45.335Z"
      },
      {
        "duration": 18,
        "start_time": "2023-06-15T19:54:45.341Z"
      },
      {
        "duration": 50,
        "start_time": "2023-06-15T19:54:45.361Z"
      },
      {
        "duration": 11,
        "start_time": "2023-06-15T19:54:45.413Z"
      },
      {
        "duration": 55,
        "start_time": "2023-06-15T19:54:45.425Z"
      },
      {
        "duration": 45,
        "start_time": "2023-06-15T19:54:45.483Z"
      },
      {
        "duration": 20,
        "start_time": "2023-06-15T19:54:45.529Z"
      },
      {
        "duration": 39,
        "start_time": "2023-06-15T19:54:45.550Z"
      },
      {
        "duration": 698,
        "start_time": "2023-06-17T07:57:35.720Z"
      },
      {
        "duration": 29,
        "start_time": "2023-06-17T07:57:36.420Z"
      },
      {
        "duration": 19,
        "start_time": "2023-06-17T07:57:36.451Z"
      },
      {
        "duration": 10,
        "start_time": "2023-06-17T07:57:36.472Z"
      },
      {
        "duration": 58,
        "start_time": "2023-06-17T07:57:36.483Z"
      },
      {
        "duration": 4,
        "start_time": "2023-06-17T07:57:36.543Z"
      },
      {
        "duration": 29,
        "start_time": "2023-06-17T07:57:36.548Z"
      },
      {
        "duration": 15,
        "start_time": "2023-06-17T07:57:36.579Z"
      },
      {
        "duration": 19,
        "start_time": "2023-06-17T07:57:36.596Z"
      },
      {
        "duration": 13,
        "start_time": "2023-06-17T07:57:36.619Z"
      },
      {
        "duration": 43,
        "start_time": "2023-06-17T07:57:36.633Z"
      },
      {
        "duration": 8,
        "start_time": "2023-06-17T07:57:36.678Z"
      },
      {
        "duration": 22,
        "start_time": "2023-06-17T07:57:36.687Z"
      },
      {
        "duration": 28,
        "start_time": "2023-06-17T07:57:36.710Z"
      },
      {
        "duration": 37,
        "start_time": "2023-06-17T07:57:36.739Z"
      },
      {
        "duration": 14,
        "start_time": "2023-06-17T07:57:36.777Z"
      },
      {
        "duration": 22,
        "start_time": "2023-06-17T07:57:36.793Z"
      },
      {
        "duration": 17,
        "start_time": "2023-06-17T07:57:36.817Z"
      },
      {
        "duration": 24,
        "start_time": "2023-06-17T07:57:36.835Z"
      },
      {
        "duration": 4,
        "start_time": "2023-06-17T07:57:36.860Z"
      },
      {
        "duration": 37,
        "start_time": "2023-06-17T07:57:36.865Z"
      },
      {
        "duration": 36,
        "start_time": "2023-06-17T07:57:36.903Z"
      },
      {
        "duration": 3,
        "start_time": "2023-06-17T07:57:36.940Z"
      },
      {
        "duration": 31,
        "start_time": "2023-06-17T07:57:36.944Z"
      },
      {
        "duration": 48,
        "start_time": "2023-06-17T07:57:36.976Z"
      },
      {
        "duration": 12,
        "start_time": "2023-06-17T07:57:37.025Z"
      },
      {
        "duration": 40,
        "start_time": "2023-06-17T07:57:37.039Z"
      },
      {
        "duration": 33,
        "start_time": "2023-06-17T07:57:37.081Z"
      },
      {
        "duration": 17,
        "start_time": "2023-06-17T07:57:37.115Z"
      },
      {
        "duration": 31,
        "start_time": "2023-06-17T07:57:37.133Z"
      },
      {
        "duration": 38,
        "start_time": "2023-06-17T07:57:37.165Z"
      },
      {
        "duration": 19,
        "start_time": "2023-06-17T07:57:37.204Z"
      },
      {
        "duration": 17,
        "start_time": "2023-06-17T07:57:37.224Z"
      },
      {
        "duration": 48,
        "start_time": "2023-06-17T12:13:05.080Z"
      },
      {
        "duration": 1060,
        "start_time": "2023-06-17T12:13:12.632Z"
      },
      {
        "duration": 22,
        "start_time": "2023-06-17T12:13:13.694Z"
      },
      {
        "duration": 15,
        "start_time": "2023-06-17T12:13:13.717Z"
      },
      {
        "duration": 14,
        "start_time": "2023-06-17T12:13:13.736Z"
      },
      {
        "duration": 61,
        "start_time": "2023-06-17T12:13:13.753Z"
      },
      {
        "duration": 4,
        "start_time": "2023-06-17T12:13:13.816Z"
      },
      {
        "duration": 23,
        "start_time": "2023-06-17T12:13:13.823Z"
      },
      {
        "duration": 16,
        "start_time": "2023-06-17T12:13:13.848Z"
      },
      {
        "duration": 51,
        "start_time": "2023-06-17T12:13:13.867Z"
      },
      {
        "duration": 7,
        "start_time": "2023-06-17T12:13:13.922Z"
      },
      {
        "duration": 68,
        "start_time": "2023-06-17T12:13:13.930Z"
      },
      {
        "duration": 14,
        "start_time": "2023-06-17T12:13:14.000Z"
      },
      {
        "duration": 4,
        "start_time": "2023-06-17T12:13:14.017Z"
      },
      {
        "duration": 19,
        "start_time": "2023-06-17T12:13:14.023Z"
      },
      {
        "duration": 38,
        "start_time": "2023-06-17T12:13:14.045Z"
      },
      {
        "duration": 24,
        "start_time": "2023-06-17T12:13:14.086Z"
      },
      {
        "duration": 3,
        "start_time": "2023-06-17T12:13:14.112Z"
      },
      {
        "duration": 17,
        "start_time": "2023-06-17T12:13:14.118Z"
      },
      {
        "duration": 8,
        "start_time": "2023-06-17T12:13:14.138Z"
      },
      {
        "duration": 30,
        "start_time": "2023-06-17T12:13:14.148Z"
      },
      {
        "duration": 17,
        "start_time": "2023-06-17T12:13:14.180Z"
      },
      {
        "duration": 36,
        "start_time": "2023-06-17T12:13:14.199Z"
      },
      {
        "duration": 3,
        "start_time": "2023-06-17T12:13:14.237Z"
      },
      {
        "duration": 18,
        "start_time": "2023-06-17T12:13:14.242Z"
      },
      {
        "duration": 32,
        "start_time": "2023-06-17T12:13:14.261Z"
      },
      {
        "duration": 3,
        "start_time": "2023-06-17T12:13:14.294Z"
      },
      {
        "duration": 17,
        "start_time": "2023-06-17T12:13:14.298Z"
      },
      {
        "duration": 29,
        "start_time": "2023-06-17T12:13:14.319Z"
      },
      {
        "duration": 3,
        "start_time": "2023-06-17T12:13:14.350Z"
      },
      {
        "duration": 22,
        "start_time": "2023-06-17T12:13:14.354Z"
      },
      {
        "duration": 39,
        "start_time": "2023-06-17T12:13:14.378Z"
      },
      {
        "duration": 3,
        "start_time": "2023-06-17T12:13:14.420Z"
      },
      {
        "duration": 26,
        "start_time": "2023-06-17T12:13:14.424Z"
      },
      {
        "duration": 110,
        "start_time": "2023-06-17T12:13:14.452Z"
      },
      {
        "duration": 20,
        "start_time": "2023-06-17T12:13:47.700Z"
      },
      {
        "duration": 16,
        "start_time": "2023-06-17T12:14:44.039Z"
      },
      {
        "duration": 10,
        "start_time": "2023-06-17T12:14:53.257Z"
      },
      {
        "duration": 31,
        "start_time": "2023-06-17T12:16:07.593Z"
      },
      {
        "duration": 12,
        "start_time": "2023-06-17T12:16:58.993Z"
      },
      {
        "duration": 31,
        "start_time": "2023-06-17T12:17:37.874Z"
      },
      {
        "duration": 9,
        "start_time": "2023-06-17T12:17:40.247Z"
      },
      {
        "duration": 37,
        "start_time": "2023-06-17T12:17:51.089Z"
      },
      {
        "duration": 13,
        "start_time": "2023-06-17T12:17:52.990Z"
      },
      {
        "duration": 455,
        "start_time": "2023-06-17T12:18:10.028Z"
      },
      {
        "duration": 21,
        "start_time": "2023-06-17T12:18:10.486Z"
      },
      {
        "duration": 14,
        "start_time": "2023-06-17T12:18:10.508Z"
      },
      {
        "duration": 10,
        "start_time": "2023-06-17T12:18:10.524Z"
      },
      {
        "duration": 52,
        "start_time": "2023-06-17T12:18:10.536Z"
      },
      {
        "duration": 3,
        "start_time": "2023-06-17T12:18:10.590Z"
      },
      {
        "duration": 13,
        "start_time": "2023-06-17T12:18:10.595Z"
      },
      {
        "duration": 6,
        "start_time": "2023-06-17T12:18:10.609Z"
      },
      {
        "duration": 10,
        "start_time": "2023-06-17T12:18:10.616Z"
      },
      {
        "duration": 4,
        "start_time": "2023-06-17T12:18:10.629Z"
      },
      {
        "duration": 51,
        "start_time": "2023-06-17T12:18:10.634Z"
      },
      {
        "duration": 9,
        "start_time": "2023-06-17T12:18:10.687Z"
      },
      {
        "duration": 15,
        "start_time": "2023-06-17T12:18:10.698Z"
      },
      {
        "duration": 18,
        "start_time": "2023-06-17T12:18:10.714Z"
      },
      {
        "duration": 23,
        "start_time": "2023-06-17T12:18:10.733Z"
      },
      {
        "duration": 29,
        "start_time": "2023-06-17T12:18:10.758Z"
      },
      {
        "duration": 3,
        "start_time": "2023-06-17T12:18:10.789Z"
      },
      {
        "duration": 24,
        "start_time": "2023-06-17T12:18:10.793Z"
      },
      {
        "duration": 13,
        "start_time": "2023-06-17T12:18:10.819Z"
      },
      {
        "duration": 7,
        "start_time": "2023-06-17T12:18:10.833Z"
      },
      {
        "duration": 11,
        "start_time": "2023-06-17T12:18:10.841Z"
      },
      {
        "duration": 25,
        "start_time": "2023-06-17T12:18:10.854Z"
      },
      {
        "duration": 2,
        "start_time": "2023-06-17T12:18:10.881Z"
      },
      {
        "duration": 14,
        "start_time": "2023-06-17T12:18:10.885Z"
      },
      {
        "duration": 32,
        "start_time": "2023-06-17T12:18:10.901Z"
      },
      {
        "duration": 3,
        "start_time": "2023-06-17T12:18:10.935Z"
      },
      {
        "duration": 15,
        "start_time": "2023-06-17T12:18:10.940Z"
      },
      {
        "duration": 37,
        "start_time": "2023-06-17T12:18:10.958Z"
      },
      {
        "duration": 3,
        "start_time": "2023-06-17T12:18:10.996Z"
      },
      {
        "duration": 12,
        "start_time": "2023-06-17T12:18:11.000Z"
      },
      {
        "duration": 28,
        "start_time": "2023-06-17T12:18:11.014Z"
      },
      {
        "duration": 3,
        "start_time": "2023-06-17T12:18:11.043Z"
      },
      {
        "duration": 28,
        "start_time": "2023-06-17T12:18:11.048Z"
      },
      {
        "duration": 35,
        "start_time": "2023-06-17T12:18:11.078Z"
      },
      {
        "duration": 17,
        "start_time": "2023-06-17T12:18:11.116Z"
      },
      {
        "duration": 11,
        "start_time": "2023-06-17T12:18:16.893Z"
      },
      {
        "duration": 11,
        "start_time": "2023-06-17T12:19:50.376Z"
      },
      {
        "duration": 11,
        "start_time": "2023-06-17T12:19:52.252Z"
      },
      {
        "duration": 517,
        "start_time": "2023-06-17T12:20:28.250Z"
      },
      {
        "duration": 30,
        "start_time": "2023-06-17T12:20:28.769Z"
      },
      {
        "duration": 21,
        "start_time": "2023-06-17T12:20:28.800Z"
      },
      {
        "duration": 17,
        "start_time": "2023-06-17T12:20:28.825Z"
      },
      {
        "duration": 75,
        "start_time": "2023-06-17T12:20:28.844Z"
      },
      {
        "duration": 4,
        "start_time": "2023-06-17T12:20:28.921Z"
      },
      {
        "duration": 15,
        "start_time": "2023-06-17T12:20:28.927Z"
      },
      {
        "duration": 20,
        "start_time": "2023-06-17T12:20:28.944Z"
      },
      {
        "duration": 32,
        "start_time": "2023-06-17T12:20:28.966Z"
      },
      {
        "duration": 5,
        "start_time": "2023-06-17T12:20:29.002Z"
      },
      {
        "duration": 48,
        "start_time": "2023-06-17T12:20:29.009Z"
      },
      {
        "duration": 10,
        "start_time": "2023-06-17T12:20:29.059Z"
      },
      {
        "duration": 8,
        "start_time": "2023-06-17T12:20:29.070Z"
      },
      {
        "duration": 19,
        "start_time": "2023-06-17T12:20:29.088Z"
      },
      {
        "duration": 24,
        "start_time": "2023-06-17T12:20:29.108Z"
      },
      {
        "duration": 18,
        "start_time": "2023-06-17T12:20:29.133Z"
      },
      {
        "duration": 4,
        "start_time": "2023-06-17T12:20:29.153Z"
      },
      {
        "duration": 19,
        "start_time": "2023-06-17T12:20:29.159Z"
      },
      {
        "duration": 22,
        "start_time": "2023-06-17T12:20:29.179Z"
      },
      {
        "duration": 18,
        "start_time": "2023-06-17T12:20:29.203Z"
      },
      {
        "duration": 24,
        "start_time": "2023-06-17T12:20:29.223Z"
      },
      {
        "duration": 34,
        "start_time": "2023-06-17T12:20:29.249Z"
      },
      {
        "duration": 4,
        "start_time": "2023-06-17T12:20:29.284Z"
      },
      {
        "duration": 18,
        "start_time": "2023-06-17T12:20:29.289Z"
      },
      {
        "duration": 28,
        "start_time": "2023-06-17T12:20:29.309Z"
      },
      {
        "duration": 4,
        "start_time": "2023-06-17T12:20:29.338Z"
      },
      {
        "duration": 17,
        "start_time": "2023-06-17T12:20:29.343Z"
      },
      {
        "duration": 39,
        "start_time": "2023-06-17T12:20:29.375Z"
      },
      {
        "duration": 3,
        "start_time": "2023-06-17T12:20:29.415Z"
      },
      {
        "duration": 16,
        "start_time": "2023-06-17T12:20:29.419Z"
      },
      {
        "duration": 29,
        "start_time": "2023-06-17T12:20:29.437Z"
      },
      {
        "duration": 2,
        "start_time": "2023-06-17T12:20:29.468Z"
      },
      {
        "duration": 26,
        "start_time": "2023-06-17T12:20:29.472Z"
      },
      {
        "duration": 89,
        "start_time": "2023-06-17T12:20:47.673Z"
      },
      {
        "duration": 33,
        "start_time": "2023-06-17T12:21:10.813Z"
      },
      {
        "duration": 16,
        "start_time": "2023-06-17T12:21:13.174Z"
      },
      {
        "duration": 49,
        "start_time": "2023-06-17T12:27:16.575Z"
      },
      {
        "duration": 396,
        "start_time": "2023-06-17T12:28:45.659Z"
      },
      {
        "duration": 36,
        "start_time": "2023-06-17T12:28:59.657Z"
      },
      {
        "duration": 347,
        "start_time": "2023-06-17T12:29:08.499Z"
      },
      {
        "duration": 4,
        "start_time": "2023-06-17T12:31:09.128Z"
      },
      {
        "duration": 12,
        "start_time": "2023-06-17T12:31:13.308Z"
      },
      {
        "duration": 11,
        "start_time": "2023-06-17T12:31:24.049Z"
      },
      {
        "duration": 513,
        "start_time": "2023-06-17T12:31:29.672Z"
      },
      {
        "duration": 34,
        "start_time": "2023-06-17T12:31:30.191Z"
      },
      {
        "duration": 40,
        "start_time": "2023-06-17T12:31:30.227Z"
      },
      {
        "duration": 46,
        "start_time": "2023-06-17T12:31:30.270Z"
      },
      {
        "duration": 80,
        "start_time": "2023-06-17T12:31:30.319Z"
      },
      {
        "duration": 10,
        "start_time": "2023-06-17T12:31:30.400Z"
      },
      {
        "duration": 89,
        "start_time": "2023-06-17T12:31:30.411Z"
      },
      {
        "duration": 66,
        "start_time": "2023-06-17T12:31:30.502Z"
      },
      {
        "duration": 44,
        "start_time": "2023-06-17T12:31:30.570Z"
      },
      {
        "duration": 48,
        "start_time": "2023-06-17T12:31:30.616Z"
      },
      {
        "duration": 129,
        "start_time": "2023-06-17T12:31:30.665Z"
      },
      {
        "duration": 21,
        "start_time": "2023-06-17T12:31:30.796Z"
      },
      {
        "duration": 82,
        "start_time": "2023-06-17T12:31:30.819Z"
      },
      {
        "duration": 100,
        "start_time": "2023-06-17T12:31:30.904Z"
      },
      {
        "duration": 78,
        "start_time": "2023-06-17T12:31:31.006Z"
      },
      {
        "duration": 71,
        "start_time": "2023-06-17T12:31:31.089Z"
      },
      {
        "duration": 48,
        "start_time": "2023-06-17T12:31:31.161Z"
      },
      {
        "duration": 55,
        "start_time": "2023-06-17T12:31:31.211Z"
      },
      {
        "duration": 77,
        "start_time": "2023-06-17T12:31:31.268Z"
      },
      {
        "duration": 18,
        "start_time": "2023-06-17T12:31:31.347Z"
      },
      {
        "duration": 79,
        "start_time": "2023-06-17T12:31:31.367Z"
      },
      {
        "duration": 85,
        "start_time": "2023-06-17T12:31:31.448Z"
      },
      {
        "duration": 27,
        "start_time": "2023-06-17T12:31:31.535Z"
      },
      {
        "duration": 56,
        "start_time": "2023-06-17T12:31:31.564Z"
      },
      {
        "duration": 73,
        "start_time": "2023-06-17T12:31:31.621Z"
      },
      {
        "duration": 12,
        "start_time": "2023-06-17T12:31:31.701Z"
      },
      {
        "duration": 43,
        "start_time": "2023-06-17T12:31:31.715Z"
      },
      {
        "duration": 130,
        "start_time": "2023-06-17T12:31:31.760Z"
      },
      {
        "duration": 42,
        "start_time": "2023-06-17T12:31:31.892Z"
      },
      {
        "duration": 25,
        "start_time": "2023-06-17T12:31:31.936Z"
      },
      {
        "duration": 60,
        "start_time": "2023-06-17T12:31:31.963Z"
      },
      {
        "duration": 43,
        "start_time": "2023-06-17T12:31:32.025Z"
      },
      {
        "duration": 40,
        "start_time": "2023-06-17T12:31:32.069Z"
      },
      {
        "duration": 38,
        "start_time": "2023-06-17T12:31:32.111Z"
      },
      {
        "duration": 3,
        "start_time": "2023-06-17T12:31:32.151Z"
      },
      {
        "duration": 28,
        "start_time": "2023-06-17T12:31:32.156Z"
      },
      {
        "duration": 5,
        "start_time": "2023-06-17T12:32:07.703Z"
      },
      {
        "duration": 20,
        "start_time": "2023-06-17T12:32:16.974Z"
      },
      {
        "duration": 4,
        "start_time": "2023-06-17T12:33:21.015Z"
      },
      {
        "duration": 28,
        "start_time": "2023-06-17T12:33:22.271Z"
      },
      {
        "duration": 588,
        "start_time": "2023-06-17T12:33:41.954Z"
      },
      {
        "duration": 22,
        "start_time": "2023-06-17T12:33:42.544Z"
      },
      {
        "duration": 25,
        "start_time": "2023-06-17T12:33:42.569Z"
      },
      {
        "duration": 17,
        "start_time": "2023-06-17T12:33:42.599Z"
      },
      {
        "duration": 41,
        "start_time": "2023-06-17T12:33:42.617Z"
      },
      {
        "duration": 4,
        "start_time": "2023-06-17T12:33:42.660Z"
      },
      {
        "duration": 22,
        "start_time": "2023-06-17T12:33:42.666Z"
      },
      {
        "duration": 14,
        "start_time": "2023-06-17T12:33:42.690Z"
      },
      {
        "duration": 9,
        "start_time": "2023-06-17T12:33:42.707Z"
      },
      {
        "duration": 8,
        "start_time": "2023-06-17T12:33:42.718Z"
      },
      {
        "duration": 37,
        "start_time": "2023-06-17T12:33:42.727Z"
      },
      {
        "duration": 23,
        "start_time": "2023-06-17T12:33:42.766Z"
      },
      {
        "duration": 10,
        "start_time": "2023-06-17T12:33:42.791Z"
      },
      {
        "duration": 19,
        "start_time": "2023-06-17T12:33:42.803Z"
      },
      {
        "duration": 21,
        "start_time": "2023-06-17T12:33:42.824Z"
      },
      {
        "duration": 41,
        "start_time": "2023-06-17T12:33:42.847Z"
      },
      {
        "duration": 4,
        "start_time": "2023-06-17T12:33:42.889Z"
      },
      {
        "duration": 27,
        "start_time": "2023-06-17T12:33:42.897Z"
      },
      {
        "duration": 14,
        "start_time": "2023-06-17T12:33:42.926Z"
      },
      {
        "duration": 8,
        "start_time": "2023-06-17T12:33:42.942Z"
      },
      {
        "duration": 31,
        "start_time": "2023-06-17T12:33:42.952Z"
      },
      {
        "duration": 42,
        "start_time": "2023-06-17T12:33:42.985Z"
      },
      {
        "duration": 4,
        "start_time": "2023-06-17T12:33:43.029Z"
      },
      {
        "duration": 21,
        "start_time": "2023-06-17T12:33:43.035Z"
      },
      {
        "duration": 71,
        "start_time": "2023-06-17T12:33:43.059Z"
      },
      {
        "duration": 4,
        "start_time": "2023-06-17T12:33:43.132Z"
      },
      {
        "duration": 13,
        "start_time": "2023-06-17T12:33:43.138Z"
      },
      {
        "duration": 39,
        "start_time": "2023-06-17T12:33:43.155Z"
      },
      {
        "duration": 8,
        "start_time": "2023-06-17T12:33:43.197Z"
      },
      {
        "duration": 15,
        "start_time": "2023-06-17T12:33:43.207Z"
      },
      {
        "duration": 37,
        "start_time": "2023-06-17T12:33:43.224Z"
      },
      {
        "duration": 4,
        "start_time": "2023-06-17T12:33:43.263Z"
      },
      {
        "duration": 29,
        "start_time": "2023-06-17T12:33:43.269Z"
      },
      {
        "duration": 37,
        "start_time": "2023-06-17T12:34:14.493Z"
      },
      {
        "duration": 17,
        "start_time": "2023-06-17T12:34:26.803Z"
      },
      {
        "duration": 3,
        "start_time": "2023-06-17T12:37:26.806Z"
      },
      {
        "duration": 10,
        "start_time": "2023-06-17T12:37:29.397Z"
      },
      {
        "duration": 103,
        "start_time": "2023-06-17T12:39:21.493Z"
      },
      {
        "duration": 41,
        "start_time": "2023-06-17T12:39:40.419Z"
      },
      {
        "duration": 42,
        "start_time": "2023-06-17T12:39:53.689Z"
      },
      {
        "duration": 38,
        "start_time": "2023-06-17T12:40:30.442Z"
      },
      {
        "duration": 4,
        "start_time": "2023-06-17T12:40:36.518Z"
      },
      {
        "duration": 11,
        "start_time": "2023-06-17T12:40:38.108Z"
      },
      {
        "duration": 6,
        "start_time": "2023-06-17T12:41:16.723Z"
      },
      {
        "duration": 12,
        "start_time": "2023-06-17T12:41:17.093Z"
      },
      {
        "duration": 6,
        "start_time": "2023-06-17T12:43:12.758Z"
      },
      {
        "duration": 22,
        "start_time": "2023-06-17T12:43:16.689Z"
      },
      {
        "duration": 10,
        "start_time": "2023-06-17T13:12:10.098Z"
      },
      {
        "duration": 656,
        "start_time": "2023-06-17T13:12:43.102Z"
      },
      {
        "duration": 46,
        "start_time": "2023-06-17T13:12:43.761Z"
      },
      {
        "duration": 51,
        "start_time": "2023-06-17T13:12:43.810Z"
      },
      {
        "duration": 15,
        "start_time": "2023-06-17T13:12:43.864Z"
      },
      {
        "duration": 131,
        "start_time": "2023-06-17T13:12:43.884Z"
      },
      {
        "duration": 18,
        "start_time": "2023-06-17T13:12:44.019Z"
      },
      {
        "duration": 26,
        "start_time": "2023-06-17T13:12:44.039Z"
      },
      {
        "duration": 10,
        "start_time": "2023-06-17T13:12:44.068Z"
      },
      {
        "duration": 59,
        "start_time": "2023-06-17T13:12:44.080Z"
      },
      {
        "duration": 8,
        "start_time": "2023-06-17T13:12:44.142Z"
      },
      {
        "duration": 65,
        "start_time": "2023-06-17T13:12:44.153Z"
      },
      {
        "duration": 18,
        "start_time": "2023-06-17T13:12:44.222Z"
      },
      {
        "duration": 13,
        "start_time": "2023-06-17T13:12:44.242Z"
      },
      {
        "duration": 19,
        "start_time": "2023-06-17T13:12:44.259Z"
      },
      {
        "duration": 73,
        "start_time": "2023-06-17T13:12:44.279Z"
      },
      {
        "duration": 32,
        "start_time": "2023-06-17T13:12:44.355Z"
      },
      {
        "duration": 23,
        "start_time": "2023-06-17T13:12:44.389Z"
      },
      {
        "duration": 24,
        "start_time": "2023-06-17T13:12:44.420Z"
      },
      {
        "duration": 20,
        "start_time": "2023-06-17T13:12:44.446Z"
      },
      {
        "duration": 52,
        "start_time": "2023-06-17T13:12:44.468Z"
      },
      {
        "duration": 43,
        "start_time": "2023-06-17T13:12:44.522Z"
      },
      {
        "duration": 79,
        "start_time": "2023-06-17T13:12:44.568Z"
      },
      {
        "duration": 3,
        "start_time": "2023-06-17T13:12:44.651Z"
      },
      {
        "duration": 52,
        "start_time": "2023-06-17T13:12:44.656Z"
      },
      {
        "duration": 48,
        "start_time": "2023-06-17T13:12:44.713Z"
      },
      {
        "duration": 58,
        "start_time": "2023-06-17T13:12:44.765Z"
      },
      {
        "duration": 21,
        "start_time": "2023-06-17T13:12:44.825Z"
      },
      {
        "duration": 50,
        "start_time": "2023-06-17T13:12:44.848Z"
      },
      {
        "duration": 38,
        "start_time": "2023-06-17T13:12:44.900Z"
      },
      {
        "duration": 18,
        "start_time": "2023-06-17T13:12:44.942Z"
      },
      {
        "duration": 122,
        "start_time": "2023-06-17T13:12:44.962Z"
      },
      {
        "duration": 36,
        "start_time": "2023-06-17T13:12:45.089Z"
      },
      {
        "duration": 44,
        "start_time": "2023-06-17T13:12:45.128Z"
      },
      {
        "duration": 100,
        "start_time": "2023-06-17T13:12:45.175Z"
      },
      {
        "duration": 54,
        "start_time": "2023-06-17T13:12:45.278Z"
      },
      {
        "duration": 437,
        "start_time": "2023-06-17T23:10:29.388Z"
      },
      {
        "duration": 23,
        "start_time": "2023-06-17T23:10:29.827Z"
      },
      {
        "duration": 25,
        "start_time": "2023-06-17T23:10:29.852Z"
      },
      {
        "duration": 8,
        "start_time": "2023-06-17T23:10:29.879Z"
      },
      {
        "duration": 32,
        "start_time": "2023-06-17T23:10:29.889Z"
      },
      {
        "duration": 3,
        "start_time": "2023-06-17T23:10:29.923Z"
      },
      {
        "duration": 11,
        "start_time": "2023-06-17T23:10:29.928Z"
      },
      {
        "duration": 4,
        "start_time": "2023-06-17T23:10:29.958Z"
      },
      {
        "duration": 14,
        "start_time": "2023-06-17T23:10:29.963Z"
      },
      {
        "duration": 10,
        "start_time": "2023-06-17T23:10:29.978Z"
      },
      {
        "duration": 47,
        "start_time": "2023-06-17T23:10:29.990Z"
      },
      {
        "duration": 9,
        "start_time": "2023-06-17T23:10:30.039Z"
      },
      {
        "duration": 13,
        "start_time": "2023-06-17T23:10:30.049Z"
      },
      {
        "duration": 37,
        "start_time": "2023-06-17T23:10:30.064Z"
      },
      {
        "duration": 33,
        "start_time": "2023-06-17T23:10:30.103Z"
      },
      {
        "duration": 16,
        "start_time": "2023-06-17T23:10:30.137Z"
      },
      {
        "duration": 3,
        "start_time": "2023-06-17T23:10:30.155Z"
      },
      {
        "duration": 14,
        "start_time": "2023-06-17T23:10:30.159Z"
      },
      {
        "duration": 17,
        "start_time": "2023-06-17T23:10:30.174Z"
      },
      {
        "duration": 4,
        "start_time": "2023-06-17T23:10:30.193Z"
      },
      {
        "duration": 20,
        "start_time": "2023-06-17T23:10:30.199Z"
      },
      {
        "duration": 28,
        "start_time": "2023-06-17T23:10:30.221Z"
      },
      {
        "duration": 3,
        "start_time": "2023-06-17T23:10:30.251Z"
      },
      {
        "duration": 23,
        "start_time": "2023-06-17T23:10:30.256Z"
      },
      {
        "duration": 27,
        "start_time": "2023-06-17T23:10:30.281Z"
      },
      {
        "duration": 3,
        "start_time": "2023-06-17T23:10:30.310Z"
      },
      {
        "duration": 19,
        "start_time": "2023-06-17T23:10:30.314Z"
      },
      {
        "duration": 28,
        "start_time": "2023-06-17T23:10:30.335Z"
      },
      {
        "duration": 31,
        "start_time": "2023-06-17T23:10:30.364Z"
      },
      {
        "duration": 29,
        "start_time": "2023-06-17T23:10:30.397Z"
      },
      {
        "duration": 52,
        "start_time": "2023-06-17T23:10:30.428Z"
      },
      {
        "duration": 8,
        "start_time": "2023-06-17T23:10:30.482Z"
      },
      {
        "duration": 20,
        "start_time": "2023-06-17T23:10:30.492Z"
      },
      {
        "duration": 76,
        "start_time": "2023-06-17T23:10:30.513Z"
      },
      {
        "duration": 9,
        "start_time": "2023-06-17T23:10:30.591Z"
      }
    ],
    "colab": {
      "provenance": []
    },
    "kernelspec": {
      "display_name": "Python 3 (ipykernel)",
      "language": "python",
      "name": "python3"
    },
    "language_info": {
      "codemirror_mode": {
        "name": "ipython",
        "version": 3
      },
      "file_extension": ".py",
      "mimetype": "text/x-python",
      "name": "python",
      "nbconvert_exporter": "python",
      "pygments_lexer": "ipython3",
      "version": "3.9.5"
    },
    "toc": {
      "base_numbering": 1,
      "nav_menu": {
        "height": "332px",
        "width": "729px"
      },
      "number_sections": true,
      "sideBar": true,
      "skip_h1_title": true,
      "title_cell": "Table of Contents",
      "title_sidebar": "Contents",
      "toc_cell": false,
      "toc_position": {
        "height": "calc(100% - 180px)",
        "left": "10px",
        "top": "150px",
        "width": "183.932px"
      },
      "toc_section_display": true,
      "toc_window_display": false
    }
  },
  "nbformat": 4,
  "nbformat_minor": 5
}